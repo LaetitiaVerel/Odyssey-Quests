{
  "nbformat": 4,
  "nbformat_minor": 0,
  "metadata": {
    "colab": {
      "name": "Laëtitia VEREL Plotly - Interactive figures.ipynb",
      "provenance": [],
      "collapsed_sections": [
        "YT8V5rYmxFPp",
        "40A8tOTo2UDb",
        "W3lAl94o7TJ8",
        "z5vHg5DX8EHe",
        "JPZTKjbP9pzK",
        "aOJPxA96BPDx",
        "6nANYxrUDOF_",
        "PatCi-HlEIV4",
        "xM2Od8FgFl2T",
        "iYN51tAZGPGI"
      ],
      "include_colab_link": true
    },
    "kernelspec": {
      "name": "python3",
      "display_name": "Python 3"
    }
  },
  "cells": [
    {
      "cell_type": "markdown",
      "metadata": {
        "id": "view-in-github",
        "colab_type": "text"
      },
      "source": [
        "<a href=\"https://colab.research.google.com/github/LaetitiaVerel/Odyssey-Quests/blob/master/Plotly%20Interactive%20figures.ipynb\" target=\"_parent\"><img src=\"https://colab.research.google.com/assets/colab-badge.svg\" alt=\"Open In Colab\"/></a>"
      ]
    },
    {
      "cell_type": "markdown",
      "metadata": {
        "id": "qXQwzrfmw_Uf"
      },
      "source": [
        "# Execute the code below"
      ]
    },
    {
      "cell_type": "code",
      "metadata": {
        "id": "gRgAnNobzf_H"
      },
      "source": [
        "import plotly.express as px\n",
        "import pandas as pd\n",
        "import numpy as np\n",
        "link = \"https://raw.githubusercontent.com/murpi/wilddata/master/quests/weather2019.csv\"\n",
        "df_weather = pd.read_csv(link)"
      ],
      "execution_count": null,
      "outputs": []
    },
    {
      "cell_type": "markdown",
      "metadata": {
        "id": "YT8V5rYmxFPp"
      },
      "source": [
        "## You have now a DataFrame with lots of weather data"
      ]
    },
    {
      "cell_type": "code",
      "metadata": {
        "id": "KoUPLmHxz1us",
        "colab": {
          "base_uri": "https://localhost:8080/",
          "height": 311
        },
        "outputId": "199eabd2-0f5b-433c-b8d1-304ac0862c8f"
      },
      "source": [
        "df_weather.describe()"
      ],
      "execution_count": null,
      "outputs": [
        {
          "output_type": "execute_result",
          "data": {
            "text/html": [
              "<div>\n",
              "<style scoped>\n",
              "    .dataframe tbody tr th:only-of-type {\n",
              "        vertical-align: middle;\n",
              "    }\n",
              "\n",
              "    .dataframe tbody tr th {\n",
              "        vertical-align: top;\n",
              "    }\n",
              "\n",
              "    .dataframe thead th {\n",
              "        text-align: right;\n",
              "    }\n",
              "</style>\n",
              "<table border=\"1\" class=\"dataframe\">\n",
              "  <thead>\n",
              "    <tr style=\"text-align: right;\">\n",
              "      <th></th>\n",
              "      <th>MAX_TEMPERATURE_C</th>\n",
              "      <th>MIN_TEMPERATURE_C</th>\n",
              "      <th>WINDSPEED_MAX_KMH</th>\n",
              "      <th>TEMPERATURE_MORNING_C</th>\n",
              "      <th>TEMPERATURE_NOON_C</th>\n",
              "      <th>TEMPERATURE_EVENING_C</th>\n",
              "      <th>PRECIP_TOTAL_DAY_MM</th>\n",
              "      <th>HUMIDITY_MAX_PERCENT</th>\n",
              "      <th>VISIBILITY_AVG_KM</th>\n",
              "      <th>PRESSURE_MAX_MB</th>\n",
              "      <th>CLOUDCOVER_AVG_PERCENT</th>\n",
              "      <th>HEATINDEX_MAX_C</th>\n",
              "      <th>DEWPOINT_MAX_C</th>\n",
              "      <th>WINDTEMP_MAX_C</th>\n",
              "      <th>WEATHER_CODE_MORNING</th>\n",
              "      <th>WEATHER_CODE_NOON</th>\n",
              "      <th>WEATHER_CODE_EVENING</th>\n",
              "      <th>TOTAL_SNOW_MM</th>\n",
              "      <th>UV_INDEX</th>\n",
              "      <th>SUNHOUR</th>\n",
              "      <th>MONTH</th>\n",
              "      <th>DAY</th>\n",
              "    </tr>\n",
              "  </thead>\n",
              "  <tbody>\n",
              "    <tr>\n",
              "      <th>count</th>\n",
              "      <td>365.000000</td>\n",
              "      <td>365.000000</td>\n",
              "      <td>365.000000</td>\n",
              "      <td>365.000000</td>\n",
              "      <td>365.000000</td>\n",
              "      <td>365.000000</td>\n",
              "      <td>365.000000</td>\n",
              "      <td>365.000000</td>\n",
              "      <td>365.000000</td>\n",
              "      <td>365.000000</td>\n",
              "      <td>365.000000</td>\n",
              "      <td>365.000000</td>\n",
              "      <td>365.000000</td>\n",
              "      <td>365.000000</td>\n",
              "      <td>365.000000</td>\n",
              "      <td>365.000000</td>\n",
              "      <td>365.000000</td>\n",
              "      <td>365.0</td>\n",
              "      <td>365.000000</td>\n",
              "      <td>365.000000</td>\n",
              "      <td>365.000000</td>\n",
              "      <td>365.000000</td>\n",
              "    </tr>\n",
              "    <tr>\n",
              "      <th>mean</th>\n",
              "      <td>16.810959</td>\n",
              "      <td>9.095890</td>\n",
              "      <td>19.624658</td>\n",
              "      <td>10.106849</td>\n",
              "      <td>15.487671</td>\n",
              "      <td>14.958904</td>\n",
              "      <td>3.015890</td>\n",
              "      <td>80.095890</td>\n",
              "      <td>9.428767</td>\n",
              "      <td>1019.038356</td>\n",
              "      <td>50.130137</td>\n",
              "      <td>17.142466</td>\n",
              "      <td>10.945205</td>\n",
              "      <td>10.989041</td>\n",
              "      <td>168.512329</td>\n",
              "      <td>164.419178</td>\n",
              "      <td>181.638356</td>\n",
              "      <td>0.0</td>\n",
              "      <td>1.380822</td>\n",
              "      <td>9.315890</td>\n",
              "      <td>6.526027</td>\n",
              "      <td>15.720548</td>\n",
              "    </tr>\n",
              "    <tr>\n",
              "      <th>std</th>\n",
              "      <td>6.712698</td>\n",
              "      <td>4.814026</td>\n",
              "      <td>8.151987</td>\n",
              "      <td>5.128254</td>\n",
              "      <td>6.565644</td>\n",
              "      <td>6.789290</td>\n",
              "      <td>5.697129</td>\n",
              "      <td>10.413649</td>\n",
              "      <td>2.221039</td>\n",
              "      <td>9.114272</td>\n",
              "      <td>27.397286</td>\n",
              "      <td>7.114563</td>\n",
              "      <td>4.190159</td>\n",
              "      <td>6.980341</td>\n",
              "      <td>77.739513</td>\n",
              "      <td>78.205120</td>\n",
              "      <td>86.458436</td>\n",
              "      <td>0.0</td>\n",
              "      <td>1.279665</td>\n",
              "      <td>3.608357</td>\n",
              "      <td>3.452584</td>\n",
              "      <td>8.808321</td>\n",
              "    </tr>\n",
              "    <tr>\n",
              "      <th>min</th>\n",
              "      <td>5.000000</td>\n",
              "      <td>-1.000000</td>\n",
              "      <td>3.000000</td>\n",
              "      <td>-1.000000</td>\n",
              "      <td>0.000000</td>\n",
              "      <td>0.000000</td>\n",
              "      <td>0.000000</td>\n",
              "      <td>41.000000</td>\n",
              "      <td>5.000000</td>\n",
              "      <td>987.000000</td>\n",
              "      <td>0.000000</td>\n",
              "      <td>5.000000</td>\n",
              "      <td>1.000000</td>\n",
              "      <td>-4.000000</td>\n",
              "      <td>113.000000</td>\n",
              "      <td>113.000000</td>\n",
              "      <td>113.000000</td>\n",
              "      <td>0.0</td>\n",
              "      <td>1.000000</td>\n",
              "      <td>3.300000</td>\n",
              "      <td>1.000000</td>\n",
              "      <td>1.000000</td>\n",
              "    </tr>\n",
              "    <tr>\n",
              "      <th>25%</th>\n",
              "      <td>11.000000</td>\n",
              "      <td>5.000000</td>\n",
              "      <td>14.000000</td>\n",
              "      <td>6.000000</td>\n",
              "      <td>11.000000</td>\n",
              "      <td>10.000000</td>\n",
              "      <td>0.000000</td>\n",
              "      <td>75.000000</td>\n",
              "      <td>8.250000</td>\n",
              "      <td>1014.000000</td>\n",
              "      <td>27.375000</td>\n",
              "      <td>12.000000</td>\n",
              "      <td>8.000000</td>\n",
              "      <td>5.000000</td>\n",
              "      <td>116.000000</td>\n",
              "      <td>116.000000</td>\n",
              "      <td>116.000000</td>\n",
              "      <td>0.0</td>\n",
              "      <td>1.000000</td>\n",
              "      <td>6.500000</td>\n",
              "      <td>4.000000</td>\n",
              "      <td>8.000000</td>\n",
              "    </tr>\n",
              "    <tr>\n",
              "      <th>50%</th>\n",
              "      <td>16.000000</td>\n",
              "      <td>9.000000</td>\n",
              "      <td>18.000000</td>\n",
              "      <td>10.000000</td>\n",
              "      <td>15.000000</td>\n",
              "      <td>14.000000</td>\n",
              "      <td>0.700000</td>\n",
              "      <td>82.000000</td>\n",
              "      <td>9.500000</td>\n",
              "      <td>1020.000000</td>\n",
              "      <td>54.125000</td>\n",
              "      <td>16.000000</td>\n",
              "      <td>11.000000</td>\n",
              "      <td>10.000000</td>\n",
              "      <td>122.000000</td>\n",
              "      <td>119.000000</td>\n",
              "      <td>122.000000</td>\n",
              "      <td>0.0</td>\n",
              "      <td>1.000000</td>\n",
              "      <td>9.300000</td>\n",
              "      <td>7.000000</td>\n",
              "      <td>16.000000</td>\n",
              "    </tr>\n",
              "    <tr>\n",
              "      <th>75%</th>\n",
              "      <td>21.000000</td>\n",
              "      <td>13.000000</td>\n",
              "      <td>25.000000</td>\n",
              "      <td>14.000000</td>\n",
              "      <td>20.000000</td>\n",
              "      <td>19.000000</td>\n",
              "      <td>3.800000</td>\n",
              "      <td>88.000000</td>\n",
              "      <td>10.000000</td>\n",
              "      <td>1024.000000</td>\n",
              "      <td>71.750000</td>\n",
              "      <td>23.000000</td>\n",
              "      <td>14.000000</td>\n",
              "      <td>17.000000</td>\n",
              "      <td>176.000000</td>\n",
              "      <td>176.000000</td>\n",
              "      <td>176.000000</td>\n",
              "      <td>0.0</td>\n",
              "      <td>1.000000</td>\n",
              "      <td>11.600000</td>\n",
              "      <td>10.000000</td>\n",
              "      <td>23.000000</td>\n",
              "    </tr>\n",
              "    <tr>\n",
              "      <th>max</th>\n",
              "      <td>39.000000</td>\n",
              "      <td>25.000000</td>\n",
              "      <td>46.000000</td>\n",
              "      <td>25.000000</td>\n",
              "      <td>36.000000</td>\n",
              "      <td>37.000000</td>\n",
              "      <td>47.600000</td>\n",
              "      <td>98.000000</td>\n",
              "      <td>20.000000</td>\n",
              "      <td>1040.000000</td>\n",
              "      <td>99.875000</td>\n",
              "      <td>41.000000</td>\n",
              "      <td>25.000000</td>\n",
              "      <td>29.000000</td>\n",
              "      <td>386.000000</td>\n",
              "      <td>353.000000</td>\n",
              "      <td>389.000000</td>\n",
              "      <td>0.0</td>\n",
              "      <td>7.000000</td>\n",
              "      <td>16.000000</td>\n",
              "      <td>12.000000</td>\n",
              "      <td>31.000000</td>\n",
              "    </tr>\n",
              "  </tbody>\n",
              "</table>\n",
              "</div>"
            ],
            "text/plain": [
              "       MAX_TEMPERATURE_C  MIN_TEMPERATURE_C  ...       MONTH         DAY\n",
              "count         365.000000         365.000000  ...  365.000000  365.000000\n",
              "mean           16.810959           9.095890  ...    6.526027   15.720548\n",
              "std             6.712698           4.814026  ...    3.452584    8.808321\n",
              "min             5.000000          -1.000000  ...    1.000000    1.000000\n",
              "25%            11.000000           5.000000  ...    4.000000    8.000000\n",
              "50%            16.000000           9.000000  ...    7.000000   16.000000\n",
              "75%            21.000000          13.000000  ...   10.000000   23.000000\n",
              "max            39.000000          25.000000  ...   12.000000   31.000000\n",
              "\n",
              "[8 rows x 22 columns]"
            ]
          },
          "metadata": {
            "tags": []
          },
          "execution_count": 3
        }
      ]
    },
    {
      "cell_type": "markdown",
      "metadata": {
        "id": "LDcCOwCSxQyZ"
      },
      "source": [
        "# Now, complete the following tasks :\n",
        "# Let's go for the show : interactive charts !"
      ]
    },
    {
      "cell_type": "markdown",
      "metadata": {
        "id": "40A8tOTo2UDb"
      },
      "source": [
        "## Scatterplot - Add color, title and legend\n",
        "Need some help ? Go [there for colors](https://plotly.com/python/discrete-color/#directly-mapping-colors-to-data-values) or[ there for labels](https://plotly.com/python/text-and-annotations/)"
      ]
    },
    {
      "cell_type": "code",
      "metadata": {
        "id": "Gnwa5lTXz4O2",
        "colab": {
          "base_uri": "https://localhost:8080/",
          "height": 542
        },
        "outputId": "e2990bbd-5e86-47e0-bb20-41a0bcbb5827"
      },
      "source": [
        "# Let's draw a simple scatterplot. You know scatterplot, you did a lot with Matplotlib and Seaborn.\n",
        "# Yes, but here, it's interactive scatterplot. \n",
        "# Try to draw a rectangle to zoom on the chart, move your mouse over the chart to display values, it's pretty impresive !\n",
        "\n",
        "fig = px.scatter(data_frame = df_weather, x = \"DATE\", y = \"MAX_TEMPERATURE_C\", color = \"OPINION\",\n",
        "                 color_discrete_map={\n",
        "                \"very bad\": \"maroon\",\n",
        "                \"bad\": \"red\",\n",
        "                \"not good not bad\": \"goldenrod\",\n",
        "                \"good\": \"blue\",\n",
        "                \"very good\": \"green\"})\n",
        "\n",
        "fig.update_layout(\n",
        "    title = \"Opinion\",\n",
        "    xaxis_title = \"Date\",\n",
        "    yaxis_title = \"Max Temperature\")\n",
        "\n",
        "fig.show() # This time, it's no more plt.show(), we're well on Plotly\n",
        "\n",
        "# Now, you have to add different colors by Opinion, add a main center title, axis title, \n",
        "# and change the color with readable values (green when the opinions are pretty good, et red otherwise)\n",
        "\n",
        "\n"
      ],
      "execution_count": null,
      "outputs": [
        {
          "output_type": "display_data",
          "data": {
            "text/html": [
              "<html>\n",
              "<head><meta charset=\"utf-8\" /></head>\n",
              "<body>\n",
              "    <div>\n",
              "            <script src=\"https://cdnjs.cloudflare.com/ajax/libs/mathjax/2.7.5/MathJax.js?config=TeX-AMS-MML_SVG\"></script><script type=\"text/javascript\">if (window.MathJax) {MathJax.Hub.Config({SVG: {font: \"STIX-Web\"}});}</script>\n",
              "                <script type=\"text/javascript\">window.PlotlyConfig = {MathJaxConfig: 'local'};</script>\n",
              "        <script src=\"https://cdn.plot.ly/plotly-latest.min.js\"></script>    \n",
              "            <div id=\"71e373e1-f4fd-42d9-8c9c-14a58683db10\" class=\"plotly-graph-div\" style=\"height:525px; width:100%;\"></div>\n",
              "            <script type=\"text/javascript\">\n",
              "                \n",
              "                    window.PLOTLYENV=window.PLOTLYENV || {};\n",
              "                    \n",
              "                if (document.getElementById(\"71e373e1-f4fd-42d9-8c9c-14a58683db10\")) {\n",
              "                    Plotly.newPlot(\n",
              "                        '71e373e1-f4fd-42d9-8c9c-14a58683db10',\n",
              "                        [{\"hoverlabel\": {\"namelength\": 0}, \"hovertemplate\": \"OPINION=very bad<br>DATE=%{x}<br>MAX_TEMPERATURE_C=%{y}\", \"legendgroup\": \"OPINION=very bad\", \"marker\": {\"color\": \"maroon\", \"symbol\": \"circle\"}, \"mode\": \"markers\", \"name\": \"OPINION=very bad\", \"showlegend\": true, \"type\": \"scatter\", \"x\": [\"2019-01-01\", \"2019-01-02\", \"2019-01-03\", \"2019-01-04\", \"2019-01-05\", \"2019-01-06\", \"2019-01-07\", \"2019-01-09\", \"2019-01-10\", \"2019-01-11\", \"2019-01-12\", \"2019-01-15\", \"2019-01-16\", \"2019-01-17\", \"2019-01-18\", \"2019-01-20\", \"2019-01-21\", \"2019-01-22\", \"2019-01-23\", \"2019-01-24\", \"2019-01-27\", \"2019-01-28\", \"2019-01-29\", \"2019-01-30\", \"2019-01-31\", \"2019-02-02\", \"2019-02-03\", \"2019-02-04\", \"2019-02-05\", \"2019-02-10\", \"2019-02-11\", \"2019-02-12\", \"2019-02-13\", \"2019-02-18\", \"2019-02-19\", \"2019-03-06\", \"2019-03-08\", \"2019-03-11\", \"2019-03-12\", \"2019-03-17\", \"2019-03-18\", \"2019-03-19\", \"2019-03-25\", \"2019-03-26\", \"2019-04-03\", \"2019-04-04\", \"2019-04-05\", \"2019-04-06\", \"2019-04-08\", \"2019-04-13\", \"2019-04-14\", \"2019-04-24\", \"2019-05-04\", \"2019-05-05\", \"2019-05-08\", \"2019-06-07\", \"2019-07-26\", \"2019-09-24\", \"2019-10-07\", \"2019-11-03\", \"2019-11-07\", \"2019-11-08\", \"2019-11-09\", \"2019-11-10\", \"2019-11-13\", \"2019-11-14\", \"2019-11-15\", \"2019-11-16\", \"2019-11-17\", \"2019-11-18\", \"2019-11-19\", \"2019-11-20\", \"2019-11-21\", \"2019-11-22\", \"2019-11-24\", \"2019-12-01\", \"2019-12-02\", \"2019-12-03\", \"2019-12-04\", \"2019-12-05\", \"2019-12-06\", \"2019-12-10\", \"2019-12-11\", \"2019-12-12\", \"2019-12-13\", \"2019-12-15\", \"2019-12-16\", \"2019-12-19\", \"2019-12-20\", \"2019-12-21\", \"2019-12-22\", \"2019-12-23\", \"2019-12-24\", \"2019-12-26\", \"2019-12-28\", \"2019-12-29\", \"2019-12-30\", \"2019-12-31\"], \"xaxis\": \"x\", \"y\": [9, 8, 6, 5, 6, 5, 10, 7, 7, 10, 9, 9, 8, 9, 7, 7, 7, 8, 7, 7, 8, 8, 9, 7, 8, 7, 8, 7, 10, 11, 10, 12, 10, 12, 12, 12, 12, 11, 11, 11, 11, 12, 12, 12, 10, 10, 10, 10, 12, 12, 9, 14, 11, 12, 15, 15, 22, 20, 14, 14, 11, 11, 10, 11, 9, 11, 8, 9, 8, 10, 9, 7, 11, 10, 12, 7, 7, 7, 8, 7, 11, 11, 9, 12, 10, 10, 11, 13, 12, 11, 10, 10, 14, 12, 11, 9, 12, 10], \"yaxis\": \"y\"}, {\"hoverlabel\": {\"namelength\": 0}, \"hovertemplate\": \"OPINION=bad<br>DATE=%{x}<br>MAX_TEMPERATURE_C=%{y}\", \"legendgroup\": \"OPINION=bad\", \"marker\": {\"color\": \"red\", \"symbol\": \"circle\"}, \"mode\": \"markers\", \"name\": \"OPINION=bad\", \"showlegend\": true, \"type\": \"scatter\", \"x\": [\"2019-01-08\", \"2019-01-13\", \"2019-01-14\", \"2019-01-19\", \"2019-01-25\", \"2019-01-26\", \"2019-02-01\", \"2019-02-06\", \"2019-02-07\", \"2019-02-08\", \"2019-02-09\", \"2019-02-28\", \"2019-03-03\", \"2019-03-04\", \"2019-03-07\", \"2019-03-09\", \"2019-03-10\", \"2019-03-13\", \"2019-03-14\", \"2019-03-15\", \"2019-03-16\", \"2019-04-02\", \"2019-04-07\", \"2019-04-23\", \"2019-04-25\", \"2019-04-27\", \"2019-04-28\", \"2019-04-29\", \"2019-05-02\", \"2019-05-03\", \"2019-05-09\", \"2019-05-10\", \"2019-05-18\", \"2019-05-19\", \"2019-05-20\", \"2019-05-26\", \"2019-05-27\", \"2019-06-04\", \"2019-06-11\", \"2019-06-12\", \"2019-06-24\", \"2019-07-06\", \"2019-07-12\", \"2019-07-30\", \"2019-08-06\", \"2019-08-12\", \"2019-08-14\", \"2019-08-17\", \"2019-08-28\", \"2019-09-22\", \"2019-09-25\", \"2019-09-26\", \"2019-09-27\", \"2019-09-28\", \"2019-09-29\", \"2019-09-30\", \"2019-10-01\", \"2019-10-02\", \"2019-10-04\", \"2019-10-05\", \"2019-10-08\", \"2019-10-13\", \"2019-10-14\", \"2019-10-15\", \"2019-10-16\", \"2019-10-18\", \"2019-10-19\", \"2019-10-20\", \"2019-10-23\", \"2019-10-24\", \"2019-10-27\", \"2019-10-28\", \"2019-10-29\", \"2019-10-30\", \"2019-10-31\", \"2019-11-01\", \"2019-11-02\", \"2019-11-04\", \"2019-11-05\", \"2019-11-11\", \"2019-11-12\", \"2019-11-23\", \"2019-11-25\", \"2019-11-26\", \"2019-11-27\", \"2019-11-28\", \"2019-11-30\", \"2019-12-07\", \"2019-12-08\", \"2019-12-09\", \"2019-12-14\", \"2019-12-17\", \"2019-12-18\", \"2019-12-25\"], \"xaxis\": \"x\", \"y\": [10, 10, 10, 11, 11, 10, 9, 12, 11, 11, 12, 13, 14, 11, 11, 13, 12, 10, 11, 13, 11, 12, 14, 18, 13, 13, 12, 16, 15, 15, 15, 15, 14, 17, 18, 17, 19, 19, 15, 16, 23, 31, 26, 21, 23, 22, 20, 19, 24, 21, 17, 19, 19, 19, 20, 21, 19, 19, 17, 18, 18, 20, 20, 16, 16, 16, 16, 15, 15, 14, 15, 12, 14, 17, 16, 17, 14, 13, 12, 11, 11, 12, 13, 14, 13, 13, 9, 13, 13, 11, 12, 12, 12, 11], \"yaxis\": \"y\"}, {\"hoverlabel\": {\"namelength\": 0}, \"hovertemplate\": \"OPINION=not good not bad<br>DATE=%{x}<br>MAX_TEMPERATURE_C=%{y}\", \"legendgroup\": \"OPINION=not good not bad\", \"marker\": {\"color\": \"goldenrod\", \"symbol\": \"circle\"}, \"mode\": \"markers\", \"name\": \"OPINION=not good not bad\", \"showlegend\": true, \"type\": \"scatter\", \"x\": [\"2019-02-14\", \"2019-02-15\", \"2019-02-16\", \"2019-02-17\", \"2019-02-20\", \"2019-02-21\", \"2019-02-22\", \"2019-02-24\", \"2019-02-25\", \"2019-03-01\", \"2019-03-02\", \"2019-03-05\", \"2019-03-20\", \"2019-03-21\", \"2019-03-23\", \"2019-03-24\", \"2019-03-27\", \"2019-03-28\", \"2019-03-29\", \"2019-03-30\", \"2019-04-09\", \"2019-04-10\", \"2019-04-11\", \"2019-04-12\", \"2019-04-15\", \"2019-04-16\", \"2019-04-22\", \"2019-04-26\", \"2019-05-01\", \"2019-05-06\", \"2019-05-07\", \"2019-05-11\", \"2019-05-12\", \"2019-05-13\", \"2019-05-16\", \"2019-05-17\", \"2019-05-25\", \"2019-05-28\", \"2019-05-29\", \"2019-05-30\", \"2019-06-05\", \"2019-06-08\", \"2019-06-09\", \"2019-06-10\", \"2019-06-13\", \"2019-06-15\", \"2019-06-19\", \"2019-06-27\", \"2019-06-28\", \"2019-07-18\", \"2019-07-19\", \"2019-07-20\", \"2019-07-23\", \"2019-07-27\", \"2019-08-05\", \"2019-08-08\", \"2019-08-10\", \"2019-08-13\", \"2019-08-15\", \"2019-08-18\", \"2019-08-19\", \"2019-08-21\", \"2019-08-29\", \"2019-08-30\", \"2019-09-09\", \"2019-09-23\", \"2019-10-09\", \"2019-10-10\", \"2019-10-11\", \"2019-10-17\", \"2019-10-21\", \"2019-10-22\", \"2019-10-25\", \"2019-11-06\", \"2019-11-29\", \"2019-12-27\"], \"xaxis\": \"x\", \"y\": [13, 15, 14, 15, 13, 17, 17, 14, 15, 14, 13, 13, 13, 15, 17, 13, 13, 14, 16, 17, 16, 14, 14, 14, 14, 15, 19, 14, 17, 15, 14, 16, 16, 16, 17, 17, 19, 15, 15, 20, 16, 18, 16, 17, 18, 18, 20, 34, 34, 22, 26, 25, 39, 23, 25, 28, 23, 22, 22, 21, 21, 26, 25, 30, 17, 20, 16, 18, 20, 17, 16, 16, 18, 13, 13, 13], \"yaxis\": \"y\"}, {\"hoverlabel\": {\"namelength\": 0}, \"hovertemplate\": \"OPINION=good<br>DATE=%{x}<br>MAX_TEMPERATURE_C=%{y}\", \"legendgroup\": \"OPINION=good\", \"marker\": {\"color\": \"blue\", \"symbol\": \"circle\"}, \"mode\": \"markers\", \"name\": \"OPINION=good\", \"showlegend\": true, \"type\": \"scatter\", \"x\": [\"2019-02-23\", \"2019-02-26\", \"2019-02-27\", \"2019-03-22\", \"2019-03-31\", \"2019-04-01\", \"2019-04-17\", \"2019-04-18\", \"2019-04-19\", \"2019-04-20\", \"2019-04-21\", \"2019-04-30\", \"2019-05-14\", \"2019-05-15\", \"2019-05-21\", \"2019-05-22\", \"2019-05-23\", \"2019-05-24\", \"2019-05-31\", \"2019-06-02\", \"2019-06-03\", \"2019-06-06\", \"2019-06-14\", \"2019-06-16\", \"2019-06-17\", \"2019-06-18\", \"2019-06-20\", \"2019-06-21\", \"2019-06-22\", \"2019-06-23\", \"2019-06-25\", \"2019-06-26\", \"2019-06-29\", \"2019-06-30\", \"2019-07-01\", \"2019-07-02\", \"2019-07-03\", \"2019-07-04\", \"2019-07-05\", \"2019-07-07\", \"2019-07-08\", \"2019-07-09\", \"2019-07-10\", \"2019-07-11\", \"2019-07-13\", \"2019-07-14\", \"2019-07-15\", \"2019-07-16\", \"2019-07-21\", \"2019-07-24\", \"2019-07-25\", \"2019-07-28\", \"2019-07-29\", \"2019-07-31\", \"2019-08-01\", \"2019-08-03\", \"2019-08-04\", \"2019-08-07\", \"2019-08-09\", \"2019-08-11\", \"2019-08-16\", \"2019-08-20\", \"2019-08-22\", \"2019-08-23\", \"2019-08-24\", \"2019-08-25\", \"2019-08-26\", \"2019-08-27\", \"2019-08-31\", \"2019-09-01\", \"2019-09-02\", \"2019-09-03\", \"2019-09-04\", \"2019-09-05\", \"2019-09-06\", \"2019-09-07\", \"2019-09-08\", \"2019-09-10\", \"2019-09-11\", \"2019-09-12\", \"2019-09-13\", \"2019-09-14\", \"2019-09-15\", \"2019-09-16\", \"2019-09-17\", \"2019-09-18\", \"2019-09-19\", \"2019-09-20\", \"2019-09-21\", \"2019-10-03\", \"2019-10-06\", \"2019-10-12\", \"2019-10-26\"], \"xaxis\": \"x\", \"y\": [18, 19, 20, 18, 19, 18, 19, 21, 24, 21, 21, 18, 18, 18, 20, 21, 21, 20, 25, 23, 20, 18, 19, 19, 25, 28, 20, 20, 23, 27, 26, 31, 32, 26, 24, 25, 26, 28, 30, 28, 27, 25, 28, 26, 27, 26, 26, 29, 26, 33, 32, 23, 24, 23, 27, 29, 26, 25, 23, 23, 22, 23, 28, 30, 33, 30, 33, 29, 23, 23, 24, 26, 20, 19, 23, 22, 21, 22, 22, 24, 28, 29, 31, 21, 27, 23, 23, 27, 28, 19, 18, 21, 19], \"yaxis\": \"y\"}, {\"hoverlabel\": {\"namelength\": 0}, \"hovertemplate\": \"OPINION=very good<br>DATE=%{x}<br>MAX_TEMPERATURE_C=%{y}\", \"legendgroup\": \"OPINION=very good\", \"marker\": {\"color\": \"green\", \"symbol\": \"circle\"}, \"mode\": \"markers\", \"name\": \"OPINION=very good\", \"showlegend\": true, \"type\": \"scatter\", \"x\": [\"2019-06-01\", \"2019-07-17\", \"2019-07-22\", \"2019-08-02\"], \"xaxis\": \"x\", \"y\": [29, 27, 33, 29], \"yaxis\": \"y\"}],\n",
              "                        {\"legend\": {\"tracegroupgap\": 0}, \"margin\": {\"t\": 60}, \"template\": {\"data\": {\"bar\": [{\"error_x\": {\"color\": \"#2a3f5f\"}, \"error_y\": {\"color\": \"#2a3f5f\"}, \"marker\": {\"line\": {\"color\": \"#E5ECF6\", \"width\": 0.5}}, \"type\": \"bar\"}], \"barpolar\": [{\"marker\": {\"line\": {\"color\": \"#E5ECF6\", \"width\": 0.5}}, \"type\": \"barpolar\"}], \"carpet\": [{\"aaxis\": {\"endlinecolor\": \"#2a3f5f\", \"gridcolor\": \"white\", \"linecolor\": \"white\", \"minorgridcolor\": \"white\", \"startlinecolor\": \"#2a3f5f\"}, \"baxis\": {\"endlinecolor\": \"#2a3f5f\", \"gridcolor\": \"white\", \"linecolor\": \"white\", \"minorgridcolor\": \"white\", \"startlinecolor\": \"#2a3f5f\"}, \"type\": \"carpet\"}], \"choropleth\": [{\"colorbar\": {\"outlinewidth\": 0, \"ticks\": \"\"}, \"type\": \"choropleth\"}], \"contour\": [{\"colorbar\": {\"outlinewidth\": 0, \"ticks\": \"\"}, \"colorscale\": [[0.0, \"#0d0887\"], [0.1111111111111111, \"#46039f\"], [0.2222222222222222, \"#7201a8\"], [0.3333333333333333, \"#9c179e\"], [0.4444444444444444, \"#bd3786\"], [0.5555555555555556, \"#d8576b\"], [0.6666666666666666, \"#ed7953\"], [0.7777777777777778, \"#fb9f3a\"], [0.8888888888888888, \"#fdca26\"], [1.0, \"#f0f921\"]], \"type\": \"contour\"}], \"contourcarpet\": [{\"colorbar\": {\"outlinewidth\": 0, \"ticks\": \"\"}, \"type\": \"contourcarpet\"}], \"heatmap\": [{\"colorbar\": {\"outlinewidth\": 0, \"ticks\": \"\"}, \"colorscale\": [[0.0, \"#0d0887\"], [0.1111111111111111, \"#46039f\"], [0.2222222222222222, \"#7201a8\"], [0.3333333333333333, \"#9c179e\"], [0.4444444444444444, \"#bd3786\"], [0.5555555555555556, \"#d8576b\"], [0.6666666666666666, \"#ed7953\"], [0.7777777777777778, \"#fb9f3a\"], [0.8888888888888888, \"#fdca26\"], [1.0, \"#f0f921\"]], \"type\": \"heatmap\"}], \"heatmapgl\": [{\"colorbar\": {\"outlinewidth\": 0, \"ticks\": \"\"}, \"colorscale\": [[0.0, \"#0d0887\"], [0.1111111111111111, \"#46039f\"], [0.2222222222222222, \"#7201a8\"], [0.3333333333333333, \"#9c179e\"], [0.4444444444444444, \"#bd3786\"], [0.5555555555555556, \"#d8576b\"], [0.6666666666666666, \"#ed7953\"], [0.7777777777777778, \"#fb9f3a\"], [0.8888888888888888, \"#fdca26\"], [1.0, \"#f0f921\"]], \"type\": \"heatmapgl\"}], \"histogram\": [{\"marker\": {\"colorbar\": {\"outlinewidth\": 0, \"ticks\": \"\"}}, \"type\": \"histogram\"}], \"histogram2d\": [{\"colorbar\": {\"outlinewidth\": 0, \"ticks\": \"\"}, \"colorscale\": [[0.0, \"#0d0887\"], [0.1111111111111111, \"#46039f\"], [0.2222222222222222, \"#7201a8\"], [0.3333333333333333, \"#9c179e\"], [0.4444444444444444, \"#bd3786\"], [0.5555555555555556, \"#d8576b\"], [0.6666666666666666, \"#ed7953\"], [0.7777777777777778, \"#fb9f3a\"], [0.8888888888888888, \"#fdca26\"], [1.0, \"#f0f921\"]], \"type\": \"histogram2d\"}], \"histogram2dcontour\": [{\"colorbar\": {\"outlinewidth\": 0, \"ticks\": \"\"}, \"colorscale\": [[0.0, \"#0d0887\"], [0.1111111111111111, \"#46039f\"], [0.2222222222222222, \"#7201a8\"], [0.3333333333333333, \"#9c179e\"], [0.4444444444444444, \"#bd3786\"], [0.5555555555555556, \"#d8576b\"], [0.6666666666666666, \"#ed7953\"], [0.7777777777777778, \"#fb9f3a\"], [0.8888888888888888, \"#fdca26\"], [1.0, \"#f0f921\"]], \"type\": \"histogram2dcontour\"}], \"mesh3d\": [{\"colorbar\": {\"outlinewidth\": 0, \"ticks\": \"\"}, \"type\": \"mesh3d\"}], \"parcoords\": [{\"line\": {\"colorbar\": {\"outlinewidth\": 0, \"ticks\": \"\"}}, \"type\": \"parcoords\"}], \"pie\": [{\"automargin\": true, \"type\": \"pie\"}], \"scatter\": [{\"marker\": {\"colorbar\": {\"outlinewidth\": 0, \"ticks\": \"\"}}, \"type\": \"scatter\"}], \"scatter3d\": [{\"line\": {\"colorbar\": {\"outlinewidth\": 0, \"ticks\": \"\"}}, \"marker\": {\"colorbar\": {\"outlinewidth\": 0, \"ticks\": \"\"}}, \"type\": \"scatter3d\"}], \"scattercarpet\": [{\"marker\": {\"colorbar\": {\"outlinewidth\": 0, \"ticks\": \"\"}}, \"type\": \"scattercarpet\"}], \"scattergeo\": [{\"marker\": {\"colorbar\": {\"outlinewidth\": 0, \"ticks\": \"\"}}, \"type\": \"scattergeo\"}], \"scattergl\": [{\"marker\": {\"colorbar\": {\"outlinewidth\": 0, \"ticks\": \"\"}}, \"type\": \"scattergl\"}], \"scattermapbox\": [{\"marker\": {\"colorbar\": {\"outlinewidth\": 0, \"ticks\": \"\"}}, \"type\": \"scattermapbox\"}], \"scatterpolar\": [{\"marker\": {\"colorbar\": {\"outlinewidth\": 0, \"ticks\": \"\"}}, \"type\": \"scatterpolar\"}], \"scatterpolargl\": [{\"marker\": {\"colorbar\": {\"outlinewidth\": 0, \"ticks\": \"\"}}, \"type\": \"scatterpolargl\"}], \"scatterternary\": [{\"marker\": {\"colorbar\": {\"outlinewidth\": 0, \"ticks\": \"\"}}, \"type\": \"scatterternary\"}], \"surface\": [{\"colorbar\": {\"outlinewidth\": 0, \"ticks\": \"\"}, \"colorscale\": [[0.0, \"#0d0887\"], [0.1111111111111111, \"#46039f\"], [0.2222222222222222, \"#7201a8\"], [0.3333333333333333, \"#9c179e\"], [0.4444444444444444, \"#bd3786\"], [0.5555555555555556, \"#d8576b\"], [0.6666666666666666, \"#ed7953\"], [0.7777777777777778, \"#fb9f3a\"], [0.8888888888888888, \"#fdca26\"], [1.0, \"#f0f921\"]], \"type\": \"surface\"}], \"table\": [{\"cells\": {\"fill\": {\"color\": \"#EBF0F8\"}, \"line\": {\"color\": \"white\"}}, \"header\": {\"fill\": {\"color\": \"#C8D4E3\"}, \"line\": {\"color\": \"white\"}}, \"type\": \"table\"}]}, \"layout\": {\"annotationdefaults\": {\"arrowcolor\": \"#2a3f5f\", \"arrowhead\": 0, \"arrowwidth\": 1}, \"coloraxis\": {\"colorbar\": {\"outlinewidth\": 0, \"ticks\": \"\"}}, \"colorscale\": {\"diverging\": [[0, \"#8e0152\"], [0.1, \"#c51b7d\"], [0.2, \"#de77ae\"], [0.3, \"#f1b6da\"], [0.4, \"#fde0ef\"], [0.5, \"#f7f7f7\"], [0.6, \"#e6f5d0\"], [0.7, \"#b8e186\"], [0.8, \"#7fbc41\"], [0.9, \"#4d9221\"], [1, \"#276419\"]], \"sequential\": [[0.0, \"#0d0887\"], [0.1111111111111111, \"#46039f\"], [0.2222222222222222, \"#7201a8\"], [0.3333333333333333, \"#9c179e\"], [0.4444444444444444, \"#bd3786\"], [0.5555555555555556, \"#d8576b\"], [0.6666666666666666, \"#ed7953\"], [0.7777777777777778, \"#fb9f3a\"], [0.8888888888888888, \"#fdca26\"], [1.0, \"#f0f921\"]], \"sequentialminus\": [[0.0, \"#0d0887\"], [0.1111111111111111, \"#46039f\"], [0.2222222222222222, \"#7201a8\"], [0.3333333333333333, \"#9c179e\"], [0.4444444444444444, \"#bd3786\"], [0.5555555555555556, \"#d8576b\"], [0.6666666666666666, \"#ed7953\"], [0.7777777777777778, \"#fb9f3a\"], [0.8888888888888888, \"#fdca26\"], [1.0, \"#f0f921\"]]}, \"colorway\": [\"#636efa\", \"#EF553B\", \"#00cc96\", \"#ab63fa\", \"#FFA15A\", \"#19d3f3\", \"#FF6692\", \"#B6E880\", \"#FF97FF\", \"#FECB52\"], \"font\": {\"color\": \"#2a3f5f\"}, \"geo\": {\"bgcolor\": \"white\", \"lakecolor\": \"white\", \"landcolor\": \"#E5ECF6\", \"showlakes\": true, \"showland\": true, \"subunitcolor\": \"white\"}, \"hoverlabel\": {\"align\": \"left\"}, \"hovermode\": \"closest\", \"mapbox\": {\"style\": \"light\"}, \"paper_bgcolor\": \"white\", \"plot_bgcolor\": \"#E5ECF6\", \"polar\": {\"angularaxis\": {\"gridcolor\": \"white\", \"linecolor\": \"white\", \"ticks\": \"\"}, \"bgcolor\": \"#E5ECF6\", \"radialaxis\": {\"gridcolor\": \"white\", \"linecolor\": \"white\", \"ticks\": \"\"}}, \"scene\": {\"xaxis\": {\"backgroundcolor\": \"#E5ECF6\", \"gridcolor\": \"white\", \"gridwidth\": 2, \"linecolor\": \"white\", \"showbackground\": true, \"ticks\": \"\", \"zerolinecolor\": \"white\"}, \"yaxis\": {\"backgroundcolor\": \"#E5ECF6\", \"gridcolor\": \"white\", \"gridwidth\": 2, \"linecolor\": \"white\", \"showbackground\": true, \"ticks\": \"\", \"zerolinecolor\": \"white\"}, \"zaxis\": {\"backgroundcolor\": \"#E5ECF6\", \"gridcolor\": \"white\", \"gridwidth\": 2, \"linecolor\": \"white\", \"showbackground\": true, \"ticks\": \"\", \"zerolinecolor\": \"white\"}}, \"shapedefaults\": {\"line\": {\"color\": \"#2a3f5f\"}}, \"ternary\": {\"aaxis\": {\"gridcolor\": \"white\", \"linecolor\": \"white\", \"ticks\": \"\"}, \"baxis\": {\"gridcolor\": \"white\", \"linecolor\": \"white\", \"ticks\": \"\"}, \"bgcolor\": \"#E5ECF6\", \"caxis\": {\"gridcolor\": \"white\", \"linecolor\": \"white\", \"ticks\": \"\"}}, \"title\": {\"x\": 0.05}, \"xaxis\": {\"automargin\": true, \"gridcolor\": \"white\", \"linecolor\": \"white\", \"ticks\": \"\", \"title\": {\"standoff\": 15}, \"zerolinecolor\": \"white\", \"zerolinewidth\": 2}, \"yaxis\": {\"automargin\": true, \"gridcolor\": \"white\", \"linecolor\": \"white\", \"ticks\": \"\", \"title\": {\"standoff\": 15}, \"zerolinecolor\": \"white\", \"zerolinewidth\": 2}}}, \"title\": {\"text\": \"Opinion\"}, \"xaxis\": {\"anchor\": \"y\", \"domain\": [0.0, 1.0], \"title\": {\"text\": \"Date\"}}, \"yaxis\": {\"anchor\": \"x\", \"domain\": [0.0, 1.0], \"title\": {\"text\": \"Max Temperature\"}}},\n",
              "                        {\"responsive\": true}\n",
              "                    ).then(function(){\n",
              "                            \n",
              "var gd = document.getElementById('71e373e1-f4fd-42d9-8c9c-14a58683db10');\n",
              "var x = new MutationObserver(function (mutations, observer) {{\n",
              "        var display = window.getComputedStyle(gd).display;\n",
              "        if (!display || display === 'none') {{\n",
              "            console.log([gd, 'removed!']);\n",
              "            Plotly.purge(gd);\n",
              "            observer.disconnect();\n",
              "        }}\n",
              "}});\n",
              "\n",
              "// Listen for the removal of the full notebook cells\n",
              "var notebookContainer = gd.closest('#notebook-container');\n",
              "if (notebookContainer) {{\n",
              "    x.observe(notebookContainer, {childList: true});\n",
              "}}\n",
              "\n",
              "// Listen for the clearing of the current output cell\n",
              "var outputEl = gd.closest('.output');\n",
              "if (outputEl) {{\n",
              "    x.observe(outputEl, {childList: true});\n",
              "}}\n",
              "\n",
              "                        })\n",
              "                };\n",
              "                \n",
              "            </script>\n",
              "        </div>\n",
              "</body>\n",
              "</html>"
            ]
          },
          "metadata": {
            "tags": []
          }
        }
      ]
    },
    {
      "cell_type": "markdown",
      "metadata": {
        "id": "W3lAl94o7TJ8"
      },
      "source": [
        "## Pair Plots\n",
        "\n",
        "With Plotly, the name of pairplots is \"scatter matrix\"."
      ]
    },
    {
      "cell_type": "code",
      "metadata": {
        "id": "KUIOMYVF1TJF",
        "colab": {
          "base_uri": "https://localhost:8080/",
          "height": 542
        },
        "outputId": "ce2dd57f-0e35-48d3-d672-247cdb24c3c5"
      },
      "source": [
        "# OK, it's up to you to draw a Pair Plot on the 4 last axis of your DataFrame.\n",
        "# Do you notice that qualitative values are correctly represented ?\n",
        "\n",
        "pair_plots = px.scatter_matrix(data_frame = df_weather.iloc[:, -4:])\n",
        "\n",
        "pair_plots.show()"
      ],
      "execution_count": null,
      "outputs": [
        {
          "output_type": "display_data",
          "data": {
            "text/html": [
              "<html>\n",
              "<head><meta charset=\"utf-8\" /></head>\n",
              "<body>\n",
              "    <div>\n",
              "            <script src=\"https://cdnjs.cloudflare.com/ajax/libs/mathjax/2.7.5/MathJax.js?config=TeX-AMS-MML_SVG\"></script><script type=\"text/javascript\">if (window.MathJax) {MathJax.Hub.Config({SVG: {font: \"STIX-Web\"}});}</script>\n",
              "                <script type=\"text/javascript\">window.PlotlyConfig = {MathJaxConfig: 'local'};</script>\n",
              "        <script src=\"https://cdn.plot.ly/plotly-latest.min.js\"></script>    \n",
              "            <div id=\"aaaee3b9-d4d4-44f0-bcc9-845685204cb7\" class=\"plotly-graph-div\" style=\"height:525px; width:100%;\"></div>\n",
              "            <script type=\"text/javascript\">\n",
              "                \n",
              "                    window.PLOTLYENV=window.PLOTLYENV || {};\n",
              "                    \n",
              "                if (document.getElementById(\"aaaee3b9-d4d4-44f0-bcc9-845685204cb7\")) {\n",
              "                    Plotly.newPlot(\n",
              "                        'aaaee3b9-d4d4-44f0-bcc9-845685204cb7',\n",
              "                        [{\"dimensions\": [{\"axis\": {\"matches\": true}, \"label\": \"SUNHOUR\", \"values\": [5.1, 8.7, 8.7, 5.1, 8.7, 3.3, 5.1, 3.3, 3.3, 8.7, 5.1, 6.9, 3.3, 3.3, 8.7, 3.4, 8.7, 8.7, 3.4, 5.2, 8.7, 3.4, 5.2, 5.2, 3.4, 3.5, 8.2, 6.5, 4.8, 6.5, 4.9, 4.9, 9.8, 9.8, 4.9, 4.9, 5.0, 6.6, 5.0, 6.6, 8.3, 8.3, 10.1, 10.1, 10.2, 10.2, 8.4, 10.2, 6.8, 5.2, 10.0, 10.4, 10.4, 10.8, 8.5, 10.9, 10.9, 11.0, 5.5, 10.1, 10.1, 5.6, 8.6, 10.1, 5.6, 8.7, 10.2, 5.9, 7.3, 10.2, 7.3, 11.6, 5.9, 6.0, 6.0, 11.6, 8.8, 7.4, 7.4, 11.6, 11.6, 11.6, 10.2, 8.9, 11.6, 11.6, 10.3, 9.0, 10.3, 10.3, 9.0, 6.5, 7.8, 7.8, 6.5, 6.5, 7.8, 9.1, 10.3, 7.9, 11.6, 11.6, 11.6, 7.9, 9.1, 11.6, 10.4, 11.6, 11.6, 9.3, 9.3, 9.3, 8.2, 7.0, 9.3, 13.4, 10.2, 9.1, 10.2, 14.5, 12.4, 12.4, 11.3, 11.3, 13.4, 11.4, 10.3, 11.4, 9.3, 9.3, 11.4, 14.5, 14.5, 14.5, 14.5, 10.4, 11.5, 9.5, 10.5, 9.5, 12.5, 11.5, 13.5, 13.5, 11.5, 9.6, 12.5, 11.5, 10.6, 11.6, 14.5, 14.5, 13.5, 12.6, 9.7, 9.7, 11.6, 9.7, 13.7, 13.8, 14.7, 13.8, 12.9, 14.7, 15.9, 13.8, 14.7, 16.0, 16.0, 12.9, 16.0, 14.7, 16.0, 16.0, 12.9, 16.0, 16.0, 15.9, 15.9, 15.9, 15.6, 15.9, 15.9, 15.9, 15.9, 15.9, 14.6, 15.9, 15.8, 15.8, 15.8, 15.8, 13.7, 15.8, 14.5, 14.5, 13.5, 14.5, 10.5, 13.5, 11.5, 14.5, 14.5, 14.5, 14.5, 13.5, 9.4, 10.4, 14.5, 13.5, 10.4, 13.5, 14.5, 14.5, 14.5, 14.5, 11.4, 9.3, 12.4, 14.5, 11.3, 11.3, 12.4, 9.2, 13.4, 7.1, 9.3, 11.6, 7.1, 9.3, 10.5, 11.6, 9.3, 11.6, 11.6, 10.4, 11.6, 10.4, 10.4, 9.1, 9.1, 10.4, 11.6, 11.6, 11.6, 11.6, 7.8, 9.1, 11.6, 10.3, 11.6, 7.8, 11.6, 11.6, 10.3, 11.6, 11.6, 11.6, 11.6, 11.6, 11.6, 11.6, 11.6, 10.3, 7.6, 6.2, 7.6, 6.0, 6.0, 8.8, 5.8, 7.2, 5.7, 5.7, 5.7, 11.4, 7.1, 5.6, 11.3, 5.6, 7.1, 7.1, 8.6, 10.1, 11.1, 8.6, 7.0, 8.5, 5.5, 7.0, 8.5, 5.4, 5.4, 10.0, 10.7, 5.3, 5.3, 6.9, 10.6, 3.8, 3.8, 3.8, 5.4, 3.8, 3.8, 3.7, 3.7, 5.4, 3.7, 7.0, 3.7, 7.0, 3.5, 5.2, 5.2, 5.2, 5.2, 7.0, 7.0, 3.5, 8.7, 8.7, 6.9, 5.2, 3.4, 3.4, 6.9, 5.2, 3.4, 3.4, 3.4, 3.3, 6.9, 3.3, 3.3, 8.7, 8.7, 6.9, 8.7, 3.3, 3.3, 3.3, 5.1, 3.3, 8.7, 3.3, 3.3, 3.3, 6.9, 3.3, 3.3, 5.1, 3.3, 5.1, 6.9, 5.1, 6.9, 8.7, 8.7, 5.1, 8.7, 6.9, 8.7, 8.7, 8.7]}, {\"axis\": {\"matches\": true}, \"label\": \"OPINION\", \"values\": [\"very bad\", \"very bad\", \"very bad\", \"very bad\", \"very bad\", \"very bad\", \"very bad\", \"bad\", \"very bad\", \"very bad\", \"very bad\", \"very bad\", \"bad\", \"bad\", \"very bad\", \"very bad\", \"very bad\", \"very bad\", \"bad\", \"very bad\", \"very bad\", \"very bad\", \"very bad\", \"very bad\", \"bad\", \"bad\", \"very bad\", \"very bad\", \"very bad\", \"very bad\", \"very bad\", \"bad\", \"very bad\", \"very bad\", \"very bad\", \"very bad\", \"bad\", \"bad\", \"bad\", \"bad\", \"very bad\", \"very bad\", \"very bad\", \"very bad\", \"not good not bad\", \"not good not bad\", \"not good not bad\", \"not good not bad\", \"very bad\", \"very bad\", \"not good not bad\", \"not good not bad\", \"not good not bad\", \"good\", \"not good not bad\", \"not good not bad\", \"good\", \"good\", \"bad\", \"not good not bad\", \"not good not bad\", \"bad\", \"bad\", \"not good not bad\", \"very bad\", \"bad\", \"very bad\", \"bad\", \"bad\", \"very bad\", \"very bad\", \"bad\", \"bad\", \"bad\", \"bad\", \"very bad\", \"very bad\", \"very bad\", \"not good not bad\", \"not good not bad\", \"good\", \"not good not bad\", \"not good not bad\", \"very bad\", \"very bad\", \"not good not bad\", \"not good not bad\", \"not good not bad\", \"not good not bad\", \"good\", \"good\", \"bad\", \"very bad\", \"very bad\", \"very bad\", \"very bad\", \"bad\", \"very bad\", \"not good not bad\", \"not good not bad\", \"not good not bad\", \"not good not bad\", \"very bad\", \"very bad\", \"not good not bad\", \"not good not bad\", \"good\", \"good\", \"good\", \"good\", \"good\", \"not good not bad\", \"bad\", \"very bad\", \"bad\", \"not good not bad\", \"bad\", \"bad\", \"bad\", \"good\", \"not good not bad\", \"bad\", \"bad\", \"very bad\", \"very bad\", \"not good not bad\", \"not good not bad\", \"very bad\", \"bad\", \"bad\", \"not good not bad\", \"not good not bad\", \"not good not bad\", \"good\", \"good\", \"not good not bad\", \"not good not bad\", \"bad\", \"bad\", \"bad\", \"good\", \"good\", \"good\", \"good\", \"not good not bad\", \"bad\", \"bad\", \"not good not bad\", \"not good not bad\", \"not good not bad\", \"good\", \"very good\", \"good\", \"good\", \"bad\", \"not good not bad\", \"good\", \"very bad\", \"not good not bad\", \"not good not bad\", \"not good not bad\", \"bad\", \"bad\", \"not good not bad\", \"good\", \"not good not bad\", \"good\", \"good\", \"good\", \"not good not bad\", \"good\", \"good\", \"good\", \"good\", \"bad\", \"good\", \"good\", \"not good not bad\", \"not good not bad\", \"good\", \"good\", \"good\", \"good\", \"good\", \"good\", \"good\", \"bad\", \"good\", \"good\", \"good\", \"good\", \"good\", \"bad\", \"good\", \"good\", \"good\", \"good\", \"very good\", \"not good not bad\", \"not good not bad\", \"not good not bad\", \"good\", \"very good\", \"not good not bad\", \"good\", \"good\", \"very bad\", \"not good not bad\", \"good\", \"good\", \"bad\", \"good\", \"good\", \"very good\", \"good\", \"good\", \"not good not bad\", \"bad\", \"good\", \"not good not bad\", \"good\", \"not good not bad\", \"good\", \"bad\", \"not good not bad\", \"bad\", \"not good not bad\", \"good\", \"bad\", \"not good not bad\", \"not good not bad\", \"good\", \"not good not bad\", \"good\", \"good\", \"good\", \"good\", \"good\", \"good\", \"bad\", \"not good not bad\", \"not good not bad\", \"good\", \"good\", \"good\", \"good\", \"good\", \"good\", \"good\", \"good\", \"good\", \"not good not bad\", \"good\", \"good\", \"good\", \"good\", \"good\", \"good\", \"good\", \"good\", \"good\", \"good\", \"good\", \"good\", \"bad\", \"not good not bad\", \"very bad\", \"bad\", \"bad\", \"bad\", \"bad\", \"bad\", \"bad\", \"bad\", \"bad\", \"good\", \"bad\", \"bad\", \"good\", \"very bad\", \"bad\", \"not good not bad\", \"not good not bad\", \"not good not bad\", \"good\", \"bad\", \"bad\", \"bad\", \"bad\", \"not good not bad\", \"bad\", \"bad\", \"bad\", \"not good not bad\", \"not good not bad\", \"bad\", \"bad\", \"not good not bad\", \"good\", \"bad\", \"bad\", \"bad\", \"bad\", \"bad\", \"bad\", \"bad\", \"very bad\", \"bad\", \"bad\", \"not good not bad\", \"very bad\", \"very bad\", \"very bad\", \"very bad\", \"bad\", \"bad\", \"very bad\", \"very bad\", \"very bad\", \"very bad\", \"very bad\", \"very bad\", \"very bad\", \"very bad\", \"very bad\", \"very bad\", \"bad\", \"very bad\", \"bad\", \"bad\", \"bad\", \"bad\", \"not good not bad\", \"bad\", \"very bad\", \"very bad\", \"very bad\", \"very bad\", \"very bad\", \"very bad\", \"bad\", \"bad\", \"bad\", \"very bad\", \"very bad\", \"very bad\", \"very bad\", \"bad\", \"very bad\", \"very bad\", \"bad\", \"bad\", \"very bad\", \"very bad\", \"very bad\", \"very bad\", \"very bad\", \"very bad\", \"bad\", \"very bad\", \"not good not bad\", \"very bad\", \"very bad\", \"very bad\", \"very bad\"]}, {\"axis\": {\"matches\": true}, \"label\": \"MONTH\", \"values\": [1, 1, 1, 1, 1, 1, 1, 1, 1, 1, 1, 1, 1, 1, 1, 1, 1, 1, 1, 1, 1, 1, 1, 1, 1, 1, 1, 1, 1, 1, 1, 2, 2, 2, 2, 2, 2, 2, 2, 2, 2, 2, 2, 2, 2, 2, 2, 2, 2, 2, 2, 2, 2, 2, 2, 2, 2, 2, 2, 3, 3, 3, 3, 3, 3, 3, 3, 3, 3, 3, 3, 3, 3, 3, 3, 3, 3, 3, 3, 3, 3, 3, 3, 3, 3, 3, 3, 3, 3, 3, 4, 4, 4, 4, 4, 4, 4, 4, 4, 4, 4, 4, 4, 4, 4, 4, 4, 4, 4, 4, 4, 4, 4, 4, 4, 4, 4, 4, 4, 4, 5, 5, 5, 5, 5, 5, 5, 5, 5, 5, 5, 5, 5, 5, 5, 5, 5, 5, 5, 5, 5, 5, 5, 5, 5, 5, 5, 5, 5, 5, 5, 6, 6, 6, 6, 6, 6, 6, 6, 6, 6, 6, 6, 6, 6, 6, 6, 6, 6, 6, 6, 6, 6, 6, 6, 6, 6, 6, 6, 6, 6, 7, 7, 7, 7, 7, 7, 7, 7, 7, 7, 7, 7, 7, 7, 7, 7, 7, 7, 7, 7, 7, 7, 7, 7, 7, 7, 7, 7, 7, 7, 7, 8, 8, 8, 8, 8, 8, 8, 8, 8, 8, 8, 8, 8, 8, 8, 8, 8, 8, 8, 8, 8, 8, 8, 8, 8, 8, 8, 8, 8, 8, 8, 9, 9, 9, 9, 9, 9, 9, 9, 9, 9, 9, 9, 9, 9, 9, 9, 9, 9, 9, 9, 9, 9, 9, 9, 9, 9, 9, 9, 9, 9, 10, 10, 10, 10, 10, 10, 10, 10, 10, 10, 10, 10, 10, 10, 10, 10, 10, 10, 10, 10, 10, 10, 10, 10, 10, 10, 10, 10, 10, 10, 10, 11, 11, 11, 11, 11, 11, 11, 11, 11, 11, 11, 11, 11, 11, 11, 11, 11, 11, 11, 11, 11, 11, 11, 11, 11, 11, 11, 11, 11, 11, 12, 12, 12, 12, 12, 12, 12, 12, 12, 12, 12, 12, 12, 12, 12, 12, 12, 12, 12, 12, 12, 12, 12, 12, 12, 12, 12, 12, 12, 12, 12]}, {\"axis\": {\"matches\": true}, \"label\": \"DAY\", \"values\": [1, 2, 3, 4, 5, 6, 7, 8, 9, 10, 11, 12, 13, 14, 15, 16, 17, 18, 19, 20, 21, 22, 23, 24, 25, 26, 27, 28, 29, 30, 31, 1, 2, 3, 4, 5, 6, 7, 8, 9, 10, 11, 12, 13, 14, 15, 16, 17, 18, 19, 20, 21, 22, 23, 24, 25, 26, 27, 28, 1, 2, 3, 4, 5, 6, 7, 8, 9, 10, 11, 12, 13, 14, 15, 16, 17, 18, 19, 20, 21, 22, 23, 24, 25, 26, 27, 28, 29, 30, 31, 1, 2, 3, 4, 5, 6, 7, 8, 9, 10, 11, 12, 13, 14, 15, 16, 17, 18, 19, 20, 21, 22, 23, 24, 25, 26, 27, 28, 29, 30, 1, 2, 3, 4, 5, 6, 7, 8, 9, 10, 11, 12, 13, 14, 15, 16, 17, 18, 19, 20, 21, 22, 23, 24, 25, 26, 27, 28, 29, 30, 31, 1, 2, 3, 4, 5, 6, 7, 8, 9, 10, 11, 12, 13, 14, 15, 16, 17, 18, 19, 20, 21, 22, 23, 24, 25, 26, 27, 28, 29, 30, 1, 2, 3, 4, 5, 6, 7, 8, 9, 10, 11, 12, 13, 14, 15, 16, 17, 18, 19, 20, 21, 22, 23, 24, 25, 26, 27, 28, 29, 30, 31, 1, 2, 3, 4, 5, 6, 7, 8, 9, 10, 11, 12, 13, 14, 15, 16, 17, 18, 19, 20, 21, 22, 23, 24, 25, 26, 27, 28, 29, 30, 31, 1, 2, 3, 4, 5, 6, 7, 8, 9, 10, 11, 12, 13, 14, 15, 16, 17, 18, 19, 20, 21, 22, 23, 24, 25, 26, 27, 28, 29, 30, 1, 2, 3, 4, 5, 6, 7, 8, 9, 10, 11, 12, 13, 14, 15, 16, 17, 18, 19, 20, 21, 22, 23, 24, 25, 26, 27, 28, 29, 30, 31, 1, 2, 3, 4, 5, 6, 7, 8, 9, 10, 11, 12, 13, 14, 15, 16, 17, 18, 19, 20, 21, 22, 23, 24, 25, 26, 27, 28, 29, 30, 1, 2, 3, 4, 5, 6, 7, 8, 9, 10, 11, 12, 13, 14, 15, 16, 17, 18, 19, 20, 21, 22, 23, 24, 25, 26, 27, 28, 29, 30, 31]}], \"hoverlabel\": {\"namelength\": 0}, \"hovertemplate\": \"%{xaxis.title.text}=%{x}<br>%{yaxis.title.text}=%{y}\", \"legendgroup\": \"\", \"marker\": {\"color\": \"#636efa\", \"symbol\": \"circle\"}, \"name\": \"\", \"showlegend\": false, \"type\": \"splom\"}],\n",
              "                        {\"dragmode\": \"select\", \"legend\": {\"tracegroupgap\": 0}, \"margin\": {\"t\": 60}, \"template\": {\"data\": {\"bar\": [{\"error_x\": {\"color\": \"#2a3f5f\"}, \"error_y\": {\"color\": \"#2a3f5f\"}, \"marker\": {\"line\": {\"color\": \"#E5ECF6\", \"width\": 0.5}}, \"type\": \"bar\"}], \"barpolar\": [{\"marker\": {\"line\": {\"color\": \"#E5ECF6\", \"width\": 0.5}}, \"type\": \"barpolar\"}], \"carpet\": [{\"aaxis\": {\"endlinecolor\": \"#2a3f5f\", \"gridcolor\": \"white\", \"linecolor\": \"white\", \"minorgridcolor\": \"white\", \"startlinecolor\": \"#2a3f5f\"}, \"baxis\": {\"endlinecolor\": \"#2a3f5f\", \"gridcolor\": \"white\", \"linecolor\": \"white\", \"minorgridcolor\": \"white\", \"startlinecolor\": \"#2a3f5f\"}, \"type\": \"carpet\"}], \"choropleth\": [{\"colorbar\": {\"outlinewidth\": 0, \"ticks\": \"\"}, \"type\": \"choropleth\"}], \"contour\": [{\"colorbar\": {\"outlinewidth\": 0, \"ticks\": \"\"}, \"colorscale\": [[0.0, \"#0d0887\"], [0.1111111111111111, \"#46039f\"], [0.2222222222222222, \"#7201a8\"], [0.3333333333333333, \"#9c179e\"], [0.4444444444444444, \"#bd3786\"], [0.5555555555555556, \"#d8576b\"], [0.6666666666666666, \"#ed7953\"], [0.7777777777777778, \"#fb9f3a\"], [0.8888888888888888, \"#fdca26\"], [1.0, \"#f0f921\"]], \"type\": \"contour\"}], \"contourcarpet\": [{\"colorbar\": {\"outlinewidth\": 0, \"ticks\": \"\"}, \"type\": \"contourcarpet\"}], \"heatmap\": [{\"colorbar\": {\"outlinewidth\": 0, \"ticks\": \"\"}, \"colorscale\": [[0.0, \"#0d0887\"], [0.1111111111111111, \"#46039f\"], [0.2222222222222222, \"#7201a8\"], [0.3333333333333333, \"#9c179e\"], [0.4444444444444444, \"#bd3786\"], [0.5555555555555556, \"#d8576b\"], [0.6666666666666666, \"#ed7953\"], [0.7777777777777778, \"#fb9f3a\"], [0.8888888888888888, \"#fdca26\"], [1.0, \"#f0f921\"]], \"type\": \"heatmap\"}], \"heatmapgl\": [{\"colorbar\": {\"outlinewidth\": 0, \"ticks\": \"\"}, \"colorscale\": [[0.0, \"#0d0887\"], [0.1111111111111111, \"#46039f\"], [0.2222222222222222, \"#7201a8\"], [0.3333333333333333, \"#9c179e\"], [0.4444444444444444, \"#bd3786\"], [0.5555555555555556, \"#d8576b\"], [0.6666666666666666, \"#ed7953\"], [0.7777777777777778, \"#fb9f3a\"], [0.8888888888888888, \"#fdca26\"], [1.0, \"#f0f921\"]], \"type\": \"heatmapgl\"}], \"histogram\": [{\"marker\": {\"colorbar\": {\"outlinewidth\": 0, \"ticks\": \"\"}}, \"type\": \"histogram\"}], \"histogram2d\": [{\"colorbar\": {\"outlinewidth\": 0, \"ticks\": \"\"}, \"colorscale\": [[0.0, \"#0d0887\"], [0.1111111111111111, \"#46039f\"], [0.2222222222222222, \"#7201a8\"], [0.3333333333333333, \"#9c179e\"], [0.4444444444444444, \"#bd3786\"], [0.5555555555555556, \"#d8576b\"], [0.6666666666666666, \"#ed7953\"], [0.7777777777777778, \"#fb9f3a\"], [0.8888888888888888, \"#fdca26\"], [1.0, \"#f0f921\"]], \"type\": \"histogram2d\"}], \"histogram2dcontour\": [{\"colorbar\": {\"outlinewidth\": 0, \"ticks\": \"\"}, \"colorscale\": [[0.0, \"#0d0887\"], [0.1111111111111111, \"#46039f\"], [0.2222222222222222, \"#7201a8\"], [0.3333333333333333, \"#9c179e\"], [0.4444444444444444, \"#bd3786\"], [0.5555555555555556, \"#d8576b\"], [0.6666666666666666, \"#ed7953\"], [0.7777777777777778, \"#fb9f3a\"], [0.8888888888888888, \"#fdca26\"], [1.0, \"#f0f921\"]], \"type\": \"histogram2dcontour\"}], \"mesh3d\": [{\"colorbar\": {\"outlinewidth\": 0, \"ticks\": \"\"}, \"type\": \"mesh3d\"}], \"parcoords\": [{\"line\": {\"colorbar\": {\"outlinewidth\": 0, \"ticks\": \"\"}}, \"type\": \"parcoords\"}], \"pie\": [{\"automargin\": true, \"type\": \"pie\"}], \"scatter\": [{\"marker\": {\"colorbar\": {\"outlinewidth\": 0, \"ticks\": \"\"}}, \"type\": \"scatter\"}], \"scatter3d\": [{\"line\": {\"colorbar\": {\"outlinewidth\": 0, \"ticks\": \"\"}}, \"marker\": {\"colorbar\": {\"outlinewidth\": 0, \"ticks\": \"\"}}, \"type\": \"scatter3d\"}], \"scattercarpet\": [{\"marker\": {\"colorbar\": {\"outlinewidth\": 0, \"ticks\": \"\"}}, \"type\": \"scattercarpet\"}], \"scattergeo\": [{\"marker\": {\"colorbar\": {\"outlinewidth\": 0, \"ticks\": \"\"}}, \"type\": \"scattergeo\"}], \"scattergl\": [{\"marker\": {\"colorbar\": {\"outlinewidth\": 0, \"ticks\": \"\"}}, \"type\": \"scattergl\"}], \"scattermapbox\": [{\"marker\": {\"colorbar\": {\"outlinewidth\": 0, \"ticks\": \"\"}}, \"type\": \"scattermapbox\"}], \"scatterpolar\": [{\"marker\": {\"colorbar\": {\"outlinewidth\": 0, \"ticks\": \"\"}}, \"type\": \"scatterpolar\"}], \"scatterpolargl\": [{\"marker\": {\"colorbar\": {\"outlinewidth\": 0, \"ticks\": \"\"}}, \"type\": \"scatterpolargl\"}], \"scatterternary\": [{\"marker\": {\"colorbar\": {\"outlinewidth\": 0, \"ticks\": \"\"}}, \"type\": \"scatterternary\"}], \"surface\": [{\"colorbar\": {\"outlinewidth\": 0, \"ticks\": \"\"}, \"colorscale\": [[0.0, \"#0d0887\"], [0.1111111111111111, \"#46039f\"], [0.2222222222222222, \"#7201a8\"], [0.3333333333333333, \"#9c179e\"], [0.4444444444444444, \"#bd3786\"], [0.5555555555555556, \"#d8576b\"], [0.6666666666666666, \"#ed7953\"], [0.7777777777777778, \"#fb9f3a\"], [0.8888888888888888, \"#fdca26\"], [1.0, \"#f0f921\"]], \"type\": \"surface\"}], \"table\": [{\"cells\": {\"fill\": {\"color\": \"#EBF0F8\"}, \"line\": {\"color\": \"white\"}}, \"header\": {\"fill\": {\"color\": \"#C8D4E3\"}, \"line\": {\"color\": \"white\"}}, \"type\": \"table\"}]}, \"layout\": {\"annotationdefaults\": {\"arrowcolor\": \"#2a3f5f\", \"arrowhead\": 0, \"arrowwidth\": 1}, \"coloraxis\": {\"colorbar\": {\"outlinewidth\": 0, \"ticks\": \"\"}}, \"colorscale\": {\"diverging\": [[0, \"#8e0152\"], [0.1, \"#c51b7d\"], [0.2, \"#de77ae\"], [0.3, \"#f1b6da\"], [0.4, \"#fde0ef\"], [0.5, \"#f7f7f7\"], [0.6, \"#e6f5d0\"], [0.7, \"#b8e186\"], [0.8, \"#7fbc41\"], [0.9, \"#4d9221\"], [1, \"#276419\"]], \"sequential\": [[0.0, \"#0d0887\"], [0.1111111111111111, \"#46039f\"], [0.2222222222222222, \"#7201a8\"], [0.3333333333333333, \"#9c179e\"], [0.4444444444444444, \"#bd3786\"], [0.5555555555555556, \"#d8576b\"], [0.6666666666666666, \"#ed7953\"], [0.7777777777777778, \"#fb9f3a\"], [0.8888888888888888, \"#fdca26\"], [1.0, \"#f0f921\"]], \"sequentialminus\": [[0.0, \"#0d0887\"], [0.1111111111111111, \"#46039f\"], [0.2222222222222222, \"#7201a8\"], [0.3333333333333333, \"#9c179e\"], [0.4444444444444444, \"#bd3786\"], [0.5555555555555556, \"#d8576b\"], [0.6666666666666666, \"#ed7953\"], [0.7777777777777778, \"#fb9f3a\"], [0.8888888888888888, \"#fdca26\"], [1.0, \"#f0f921\"]]}, \"colorway\": [\"#636efa\", \"#EF553B\", \"#00cc96\", \"#ab63fa\", \"#FFA15A\", \"#19d3f3\", \"#FF6692\", \"#B6E880\", \"#FF97FF\", \"#FECB52\"], \"font\": {\"color\": \"#2a3f5f\"}, \"geo\": {\"bgcolor\": \"white\", \"lakecolor\": \"white\", \"landcolor\": \"#E5ECF6\", \"showlakes\": true, \"showland\": true, \"subunitcolor\": \"white\"}, \"hoverlabel\": {\"align\": \"left\"}, \"hovermode\": \"closest\", \"mapbox\": {\"style\": \"light\"}, \"paper_bgcolor\": \"white\", \"plot_bgcolor\": \"#E5ECF6\", \"polar\": {\"angularaxis\": {\"gridcolor\": \"white\", \"linecolor\": \"white\", \"ticks\": \"\"}, \"bgcolor\": \"#E5ECF6\", \"radialaxis\": {\"gridcolor\": \"white\", \"linecolor\": \"white\", \"ticks\": \"\"}}, \"scene\": {\"xaxis\": {\"backgroundcolor\": \"#E5ECF6\", \"gridcolor\": \"white\", \"gridwidth\": 2, \"linecolor\": \"white\", \"showbackground\": true, \"ticks\": \"\", \"zerolinecolor\": \"white\"}, \"yaxis\": {\"backgroundcolor\": \"#E5ECF6\", \"gridcolor\": \"white\", \"gridwidth\": 2, \"linecolor\": \"white\", \"showbackground\": true, \"ticks\": \"\", \"zerolinecolor\": \"white\"}, \"zaxis\": {\"backgroundcolor\": \"#E5ECF6\", \"gridcolor\": \"white\", \"gridwidth\": 2, \"linecolor\": \"white\", \"showbackground\": true, \"ticks\": \"\", \"zerolinecolor\": \"white\"}}, \"shapedefaults\": {\"line\": {\"color\": \"#2a3f5f\"}}, \"ternary\": {\"aaxis\": {\"gridcolor\": \"white\", \"linecolor\": \"white\", \"ticks\": \"\"}, \"baxis\": {\"gridcolor\": \"white\", \"linecolor\": \"white\", \"ticks\": \"\"}, \"bgcolor\": \"#E5ECF6\", \"caxis\": {\"gridcolor\": \"white\", \"linecolor\": \"white\", \"ticks\": \"\"}}, \"title\": {\"x\": 0.05}, \"xaxis\": {\"automargin\": true, \"gridcolor\": \"white\", \"linecolor\": \"white\", \"ticks\": \"\", \"title\": {\"standoff\": 15}, \"zerolinecolor\": \"white\", \"zerolinewidth\": 2}, \"yaxis\": {\"automargin\": true, \"gridcolor\": \"white\", \"linecolor\": \"white\", \"ticks\": \"\", \"title\": {\"standoff\": 15}, \"zerolinecolor\": \"white\", \"zerolinewidth\": 2}}}},\n",
              "                        {\"responsive\": true}\n",
              "                    ).then(function(){\n",
              "                            \n",
              "var gd = document.getElementById('aaaee3b9-d4d4-44f0-bcc9-845685204cb7');\n",
              "var x = new MutationObserver(function (mutations, observer) {{\n",
              "        var display = window.getComputedStyle(gd).display;\n",
              "        if (!display || display === 'none') {{\n",
              "            console.log([gd, 'removed!']);\n",
              "            Plotly.purge(gd);\n",
              "            observer.disconnect();\n",
              "        }}\n",
              "}});\n",
              "\n",
              "// Listen for the removal of the full notebook cells\n",
              "var notebookContainer = gd.closest('#notebook-container');\n",
              "if (notebookContainer) {{\n",
              "    x.observe(notebookContainer, {childList: true});\n",
              "}}\n",
              "\n",
              "// Listen for the clearing of the current output cell\n",
              "var outputEl = gd.closest('.output');\n",
              "if (outputEl) {{\n",
              "    x.observe(outputEl, {childList: true});\n",
              "}}\n",
              "\n",
              "                        })\n",
              "                };\n",
              "                \n",
              "            </script>\n",
              "        </div>\n",
              "</body>\n",
              "</html>"
            ]
          },
          "metadata": {
            "tags": []
          }
        }
      ]
    },
    {
      "cell_type": "markdown",
      "metadata": {
        "id": "z5vHg5DX8EHe"
      },
      "source": [
        "## Bubble chart"
      ]
    },
    {
      "cell_type": "code",
      "metadata": {
        "id": "ODi0oHWm1ffU",
        "colab": {
          "base_uri": "https://localhost:8080/",
          "height": 542
        },
        "outputId": "af2071fa-0403-4382-efa4-3f88b922a597"
      },
      "source": [
        "# A bubble chart is a scatter plot with different sizes of dots.\n",
        "# You know how to do scatterplot ? So maybe you can search a \"size\" argument...\n",
        "# Now, draw a bubble chart with Date on X-axis, Max Temperature on Y-axis, and Precipitation (rain quantity) for the size.\n",
        "# Don't forget to add title and axis title.\n",
        "\n",
        "Bubble_chart = px.scatter(data_frame = df_weather, x = \"DATE\", y = \"MAX_TEMPERATURE_C\", size = \"PRECIP_TOTAL_DAY_MM\", color = \"PRECIP_TOTAL_DAY_MM\")\n",
        "\n",
        "Bubble_chart.update_layout(title = \"Scatterplot Bubbe\", xaxis_title = \"Date\", yaxis_title = \"Max Temperature\")\n",
        "\n",
        "Bubble_chart.show()\n",
        "# which period is the rainiest ? \n",
        "# In March 2019"
      ],
      "execution_count": null,
      "outputs": [
        {
          "output_type": "display_data",
          "data": {
            "text/html": [
              "<html>\n",
              "<head><meta charset=\"utf-8\" /></head>\n",
              "<body>\n",
              "    <div>\n",
              "            <script src=\"https://cdnjs.cloudflare.com/ajax/libs/mathjax/2.7.5/MathJax.js?config=TeX-AMS-MML_SVG\"></script><script type=\"text/javascript\">if (window.MathJax) {MathJax.Hub.Config({SVG: {font: \"STIX-Web\"}});}</script>\n",
              "                <script type=\"text/javascript\">window.PlotlyConfig = {MathJaxConfig: 'local'};</script>\n",
              "        <script src=\"https://cdn.plot.ly/plotly-latest.min.js\"></script>    \n",
              "            <div id=\"de61e4b3-1395-478f-ae87-5eaa81735cc6\" class=\"plotly-graph-div\" style=\"height:525px; width:100%;\"></div>\n",
              "            <script type=\"text/javascript\">\n",
              "                \n",
              "                    window.PLOTLYENV=window.PLOTLYENV || {};\n",
              "                    \n",
              "                if (document.getElementById(\"de61e4b3-1395-478f-ae87-5eaa81735cc6\")) {\n",
              "                    Plotly.newPlot(\n",
              "                        'de61e4b3-1395-478f-ae87-5eaa81735cc6',\n",
              "                        [{\"hoverlabel\": {\"namelength\": 0}, \"hovertemplate\": \"DATE=%{x}<br>MAX_TEMPERATURE_C=%{y}<br>PRECIP_TOTAL_DAY_MM=%{marker.color}\", \"legendgroup\": \"\", \"marker\": {\"color\": [0.2, 0.0, 0.0, 0.0, 0.0, 0.0, 0.0, 0.2, 0.0, 0.1, 0.2, 0.0, 0.1, 0.1, 0.0, 1.3, 1.2, 0.1, 4.4, 0.2, 0.0, 9.8, 1.3, 2.4, 4.6, 2.1, 5.9, 2.6, 15.1, 2.0, 4.3, 7.3, 1.0, 0.0, 18.6, 0.8, 9.4, 4.0, 1.6, 6.3, 29.1, 0.1, 0.0, 0.0, 0.0, 0.0, 0.0, 0.0, 0.9, 2.5, 0.0, 0.0, 0.0, 0.0, 0.0, 0.0, 0.0, 0.0, 0.9, 0.0, 4.9, 5.4, 11.1, 1.1, 47.6, 3.4, 0.2, 5.3, 1.2, 0.1, 4.2, 0.9, 0.5, 1.1, 0.5, 5.0, 1.1, 1.0, 0.6, 0.1, 0.0, 0.0, 0.1, 0.1, 0.0, 0.0, 0.0, 0.1, 2.5, 5.3, 2.0, 1.8, 5.2, 1.1, 10.1, 6.1, 3.0, 1.6, 0.8, 1.9, 0.1, 0.0, 0.0, 2.3, 6.2, 12.3, 0.0, 0.0, 0.0, 1.6, 7.8, 6.0, 2.7, 18.9, 4.4, 2.0, 1.4, 0.4, 0.0, 0.0, 6.0, 0.4, 0.5, 0.6, 0.3, 0.0, 1.2, 17.8, 4.4, 1.7, 2.0, 0.0, 0.0, 0.0, 0.0, 0.0, 4.6, 6.0, 3.6, 7.0, 0.8, 1.8, 7.5, 1.6, 0.5, 0.5, 1.4, 1.2, 0.2, 0.0, 0.0, 0.0, 0.0, 0.5, 6.3, 1.5, 2.7, 27.3, 3.4, 4.0, 2.7, 3.4, 5.1, 2.3, 0.0, 0.6, 0.3, 0.0, 0.0, 0.9, 0.0, 0.5, 0.0, 0.0, 14.1, 0.9, 0.0, 0.0, 0.0, 0.0, 0.7, 1.0, 0.0, 0.0, 0.0, 0.6, 7.5, 1.7, 0.0, 0.0, 0.0, 0.0, 0.2, 0.0, 0.0, 0.0, 0.0, 0.0, 0.0, 0.0, 2.1, 0.0, 0.0, 0.0, 0.0, 0.8, 16.3, 2.8, 0.0, 1.2, 6.1, 0.3, 0.0, 0.0, 0.0, 0.0, 0.1, 4.4, 0.1, 0.0, 5.5, 0.2, 1.1, 2.4, 0.0, 0.8, 0.7, 0.0, 7.3, 9.9, 0.5, 0.0, 0.0, 0.0, 0.0, 0.0, 0.0, 0.0, 0.2, 0.0, 0.0, 0.0, 0.0, 0.0, 0.0, 0.0, 0.3, 0.0, 0.0, 0.2, 0.0, 8.4, 7.6, 0.0, 0.0, 0.0, 0.0, 0.0, 0.0, 0.0, 0.0, 0.0, 0.0, 0.2, 6.9, 1.4, 24.1, 2.0, 0.5, 1.3, 1.1, 5.3, 0.8, 5.7, 0.2, 0.3, 1.1, 0.4, 1.5, 4.3, 3.9, 2.6, 0.5, 0.0, 0.0, 1.6, 2.7, 1.2, 13.1, 1.3, 5.3, 7.7, 1.2, 1.1, 1.5, 9.9, 9.5, 0.8, 0.0, 4.6, 1.7, 2.3, 3.2, 8.9, 14.5, 11.0, 30.0, 4.2, 8.0, 1.1, 11.4, 3.2, 10.1, 2.1, 3.8, 1.8, 4.8, 11.2, 2.3, 10.3, 0.0, 0.0, 0.0, 0.0, 16.0, 8.5, 3.8, 2.7, 8.6, 9.7, 3.8, 1.9, 0.1, 13.7, 0.0, 0.0, 0.0, 0.0, 0.0, 0.3, 0.4, 9.1, 0.6, 0.9, 5.9, 18.2, 2.2, 4.8, 5.0, 16.1, 2.6, 0.0, 31.0, 35.1, 16.4, 3.0, 9.0, 16.7, 0.0, 0.2, 0.0, 0.0, 0.0, 0.0, 0.1], \"coloraxis\": \"coloraxis\", \"size\": [0.2, 0.0, 0.0, 0.0, 0.0, 0.0, 0.0, 0.2, 0.0, 0.1, 0.2, 0.0, 0.1, 0.1, 0.0, 1.3, 1.2, 0.1, 4.4, 0.2, 0.0, 9.8, 1.3, 2.4, 4.6, 2.1, 5.9, 2.6, 15.1, 2.0, 4.3, 7.3, 1.0, 0.0, 18.6, 0.8, 9.4, 4.0, 1.6, 6.3, 29.1, 0.1, 0.0, 0.0, 0.0, 0.0, 0.0, 0.0, 0.9, 2.5, 0.0, 0.0, 0.0, 0.0, 0.0, 0.0, 0.0, 0.0, 0.9, 0.0, 4.9, 5.4, 11.1, 1.1, 47.6, 3.4, 0.2, 5.3, 1.2, 0.1, 4.2, 0.9, 0.5, 1.1, 0.5, 5.0, 1.1, 1.0, 0.6, 0.1, 0.0, 0.0, 0.1, 0.1, 0.0, 0.0, 0.0, 0.1, 2.5, 5.3, 2.0, 1.8, 5.2, 1.1, 10.1, 6.1, 3.0, 1.6, 0.8, 1.9, 0.1, 0.0, 0.0, 2.3, 6.2, 12.3, 0.0, 0.0, 0.0, 1.6, 7.8, 6.0, 2.7, 18.9, 4.4, 2.0, 1.4, 0.4, 0.0, 0.0, 6.0, 0.4, 0.5, 0.6, 0.3, 0.0, 1.2, 17.8, 4.4, 1.7, 2.0, 0.0, 0.0, 0.0, 0.0, 0.0, 4.6, 6.0, 3.6, 7.0, 0.8, 1.8, 7.5, 1.6, 0.5, 0.5, 1.4, 1.2, 0.2, 0.0, 0.0, 0.0, 0.0, 0.5, 6.3, 1.5, 2.7, 27.3, 3.4, 4.0, 2.7, 3.4, 5.1, 2.3, 0.0, 0.6, 0.3, 0.0, 0.0, 0.9, 0.0, 0.5, 0.0, 0.0, 14.1, 0.9, 0.0, 0.0, 0.0, 0.0, 0.7, 1.0, 0.0, 0.0, 0.0, 0.6, 7.5, 1.7, 0.0, 0.0, 0.0, 0.0, 0.2, 0.0, 0.0, 0.0, 0.0, 0.0, 0.0, 0.0, 2.1, 0.0, 0.0, 0.0, 0.0, 0.8, 16.3, 2.8, 0.0, 1.2, 6.1, 0.3, 0.0, 0.0, 0.0, 0.0, 0.1, 4.4, 0.1, 0.0, 5.5, 0.2, 1.1, 2.4, 0.0, 0.8, 0.7, 0.0, 7.3, 9.9, 0.5, 0.0, 0.0, 0.0, 0.0, 0.0, 0.0, 0.0, 0.2, 0.0, 0.0, 0.0, 0.0, 0.0, 0.0, 0.0, 0.3, 0.0, 0.0, 0.2, 0.0, 8.4, 7.6, 0.0, 0.0, 0.0, 0.0, 0.0, 0.0, 0.0, 0.0, 0.0, 0.0, 0.2, 6.9, 1.4, 24.1, 2.0, 0.5, 1.3, 1.1, 5.3, 0.8, 5.7, 0.2, 0.3, 1.1, 0.4, 1.5, 4.3, 3.9, 2.6, 0.5, 0.0, 0.0, 1.6, 2.7, 1.2, 13.1, 1.3, 5.3, 7.7, 1.2, 1.1, 1.5, 9.9, 9.5, 0.8, 0.0, 4.6, 1.7, 2.3, 3.2, 8.9, 14.5, 11.0, 30.0, 4.2, 8.0, 1.1, 11.4, 3.2, 10.1, 2.1, 3.8, 1.8, 4.8, 11.2, 2.3, 10.3, 0.0, 0.0, 0.0, 0.0, 16.0, 8.5, 3.8, 2.7, 8.6, 9.7, 3.8, 1.9, 0.1, 13.7, 0.0, 0.0, 0.0, 0.0, 0.0, 0.3, 0.4, 9.1, 0.6, 0.9, 5.9, 18.2, 2.2, 4.8, 5.0, 16.1, 2.6, 0.0, 31.0, 35.1, 16.4, 3.0, 9.0, 16.7, 0.0, 0.2, 0.0, 0.0, 0.0, 0.0, 0.1], \"sizemode\": \"area\", \"sizeref\": 0.11900000000000001, \"symbol\": \"circle\"}, \"mode\": \"markers\", \"name\": \"\", \"showlegend\": false, \"type\": \"scatter\", \"x\": [\"2019-01-01\", \"2019-01-02\", \"2019-01-03\", \"2019-01-04\", \"2019-01-05\", \"2019-01-06\", \"2019-01-07\", \"2019-01-08\", \"2019-01-09\", \"2019-01-10\", \"2019-01-11\", \"2019-01-12\", \"2019-01-13\", \"2019-01-14\", \"2019-01-15\", \"2019-01-16\", \"2019-01-17\", \"2019-01-18\", \"2019-01-19\", \"2019-01-20\", \"2019-01-21\", \"2019-01-22\", \"2019-01-23\", \"2019-01-24\", \"2019-01-25\", \"2019-01-26\", \"2019-01-27\", \"2019-01-28\", \"2019-01-29\", \"2019-01-30\", \"2019-01-31\", \"2019-02-01\", \"2019-02-02\", \"2019-02-03\", \"2019-02-04\", \"2019-02-05\", \"2019-02-06\", \"2019-02-07\", \"2019-02-08\", \"2019-02-09\", \"2019-02-10\", \"2019-02-11\", \"2019-02-12\", \"2019-02-13\", \"2019-02-14\", \"2019-02-15\", \"2019-02-16\", \"2019-02-17\", \"2019-02-18\", \"2019-02-19\", \"2019-02-20\", \"2019-02-21\", \"2019-02-22\", \"2019-02-23\", \"2019-02-24\", \"2019-02-25\", \"2019-02-26\", \"2019-02-27\", \"2019-02-28\", \"2019-03-01\", \"2019-03-02\", \"2019-03-03\", \"2019-03-04\", \"2019-03-05\", \"2019-03-06\", \"2019-03-07\", \"2019-03-08\", \"2019-03-09\", \"2019-03-10\", \"2019-03-11\", \"2019-03-12\", \"2019-03-13\", \"2019-03-14\", \"2019-03-15\", \"2019-03-16\", \"2019-03-17\", \"2019-03-18\", \"2019-03-19\", \"2019-03-20\", \"2019-03-21\", \"2019-03-22\", \"2019-03-23\", \"2019-03-24\", \"2019-03-25\", \"2019-03-26\", \"2019-03-27\", \"2019-03-28\", \"2019-03-29\", \"2019-03-30\", \"2019-03-31\", \"2019-04-01\", \"2019-04-02\", \"2019-04-03\", \"2019-04-04\", \"2019-04-05\", \"2019-04-06\", \"2019-04-07\", \"2019-04-08\", \"2019-04-09\", \"2019-04-10\", \"2019-04-11\", \"2019-04-12\", \"2019-04-13\", \"2019-04-14\", \"2019-04-15\", \"2019-04-16\", \"2019-04-17\", \"2019-04-18\", \"2019-04-19\", \"2019-04-20\", \"2019-04-21\", \"2019-04-22\", \"2019-04-23\", \"2019-04-24\", \"2019-04-25\", \"2019-04-26\", \"2019-04-27\", \"2019-04-28\", \"2019-04-29\", \"2019-04-30\", \"2019-05-01\", \"2019-05-02\", \"2019-05-03\", \"2019-05-04\", \"2019-05-05\", \"2019-05-06\", \"2019-05-07\", \"2019-05-08\", \"2019-05-09\", \"2019-05-10\", \"2019-05-11\", \"2019-05-12\", \"2019-05-13\", \"2019-05-14\", \"2019-05-15\", \"2019-05-16\", \"2019-05-17\", \"2019-05-18\", \"2019-05-19\", \"2019-05-20\", \"2019-05-21\", \"2019-05-22\", \"2019-05-23\", \"2019-05-24\", \"2019-05-25\", \"2019-05-26\", \"2019-05-27\", \"2019-05-28\", \"2019-05-29\", \"2019-05-30\", \"2019-05-31\", \"2019-06-01\", \"2019-06-02\", \"2019-06-03\", \"2019-06-04\", \"2019-06-05\", \"2019-06-06\", \"2019-06-07\", \"2019-06-08\", \"2019-06-09\", \"2019-06-10\", \"2019-06-11\", \"2019-06-12\", \"2019-06-13\", \"2019-06-14\", \"2019-06-15\", \"2019-06-16\", \"2019-06-17\", \"2019-06-18\", \"2019-06-19\", \"2019-06-20\", \"2019-06-21\", \"2019-06-22\", \"2019-06-23\", \"2019-06-24\", \"2019-06-25\", \"2019-06-26\", \"2019-06-27\", \"2019-06-28\", \"2019-06-29\", \"2019-06-30\", \"2019-07-01\", \"2019-07-02\", \"2019-07-03\", \"2019-07-04\", \"2019-07-05\", \"2019-07-06\", \"2019-07-07\", \"2019-07-08\", \"2019-07-09\", \"2019-07-10\", \"2019-07-11\", \"2019-07-12\", \"2019-07-13\", \"2019-07-14\", \"2019-07-15\", \"2019-07-16\", \"2019-07-17\", \"2019-07-18\", \"2019-07-19\", \"2019-07-20\", \"2019-07-21\", \"2019-07-22\", \"2019-07-23\", \"2019-07-24\", \"2019-07-25\", \"2019-07-26\", \"2019-07-27\", \"2019-07-28\", \"2019-07-29\", \"2019-07-30\", \"2019-07-31\", \"2019-08-01\", \"2019-08-02\", \"2019-08-03\", \"2019-08-04\", \"2019-08-05\", \"2019-08-06\", \"2019-08-07\", \"2019-08-08\", \"2019-08-09\", \"2019-08-10\", \"2019-08-11\", \"2019-08-12\", \"2019-08-13\", \"2019-08-14\", \"2019-08-15\", \"2019-08-16\", \"2019-08-17\", \"2019-08-18\", \"2019-08-19\", \"2019-08-20\", \"2019-08-21\", \"2019-08-22\", \"2019-08-23\", \"2019-08-24\", \"2019-08-25\", \"2019-08-26\", \"2019-08-27\", \"2019-08-28\", \"2019-08-29\", \"2019-08-30\", \"2019-08-31\", \"2019-09-01\", \"2019-09-02\", \"2019-09-03\", \"2019-09-04\", \"2019-09-05\", \"2019-09-06\", \"2019-09-07\", \"2019-09-08\", \"2019-09-09\", \"2019-09-10\", \"2019-09-11\", \"2019-09-12\", \"2019-09-13\", \"2019-09-14\", \"2019-09-15\", \"2019-09-16\", \"2019-09-17\", \"2019-09-18\", \"2019-09-19\", \"2019-09-20\", \"2019-09-21\", \"2019-09-22\", \"2019-09-23\", \"2019-09-24\", \"2019-09-25\", \"2019-09-26\", \"2019-09-27\", \"2019-09-28\", \"2019-09-29\", \"2019-09-30\", \"2019-10-01\", \"2019-10-02\", \"2019-10-03\", \"2019-10-04\", \"2019-10-05\", \"2019-10-06\", \"2019-10-07\", \"2019-10-08\", \"2019-10-09\", \"2019-10-10\", \"2019-10-11\", \"2019-10-12\", \"2019-10-13\", \"2019-10-14\", \"2019-10-15\", \"2019-10-16\", \"2019-10-17\", \"2019-10-18\", \"2019-10-19\", \"2019-10-20\", \"2019-10-21\", \"2019-10-22\", \"2019-10-23\", \"2019-10-24\", \"2019-10-25\", \"2019-10-26\", \"2019-10-27\", \"2019-10-28\", \"2019-10-29\", \"2019-10-30\", \"2019-10-31\", \"2019-11-01\", \"2019-11-02\", \"2019-11-03\", \"2019-11-04\", \"2019-11-05\", \"2019-11-06\", \"2019-11-07\", \"2019-11-08\", \"2019-11-09\", \"2019-11-10\", \"2019-11-11\", \"2019-11-12\", \"2019-11-13\", \"2019-11-14\", \"2019-11-15\", \"2019-11-16\", \"2019-11-17\", \"2019-11-18\", \"2019-11-19\", \"2019-11-20\", \"2019-11-21\", \"2019-11-22\", \"2019-11-23\", \"2019-11-24\", \"2019-11-25\", \"2019-11-26\", \"2019-11-27\", \"2019-11-28\", \"2019-11-29\", \"2019-11-30\", \"2019-12-01\", \"2019-12-02\", \"2019-12-03\", \"2019-12-04\", \"2019-12-05\", \"2019-12-06\", \"2019-12-07\", \"2019-12-08\", \"2019-12-09\", \"2019-12-10\", \"2019-12-11\", \"2019-12-12\", \"2019-12-13\", \"2019-12-14\", \"2019-12-15\", \"2019-12-16\", \"2019-12-17\", \"2019-12-18\", \"2019-12-19\", \"2019-12-20\", \"2019-12-21\", \"2019-12-22\", \"2019-12-23\", \"2019-12-24\", \"2019-12-25\", \"2019-12-26\", \"2019-12-27\", \"2019-12-28\", \"2019-12-29\", \"2019-12-30\", \"2019-12-31\"], \"xaxis\": \"x\", \"y\": [9, 8, 6, 5, 6, 5, 10, 10, 7, 7, 10, 9, 10, 10, 9, 8, 9, 7, 11, 7, 7, 8, 7, 7, 11, 10, 8, 8, 9, 7, 8, 9, 7, 8, 7, 10, 12, 11, 11, 12, 11, 10, 12, 10, 13, 15, 14, 15, 12, 12, 13, 17, 17, 18, 14, 15, 19, 20, 13, 14, 13, 14, 11, 13, 12, 11, 12, 13, 12, 11, 11, 10, 11, 13, 11, 11, 11, 12, 13, 15, 18, 17, 13, 12, 12, 13, 14, 16, 17, 19, 18, 12, 10, 10, 10, 10, 14, 12, 16, 14, 14, 14, 12, 9, 14, 15, 19, 21, 24, 21, 21, 19, 18, 14, 13, 14, 13, 12, 16, 18, 17, 15, 15, 11, 12, 15, 14, 15, 15, 15, 16, 16, 16, 18, 18, 17, 17, 14, 17, 18, 20, 21, 21, 20, 19, 17, 19, 15, 15, 20, 25, 29, 23, 20, 19, 16, 18, 15, 18, 16, 17, 15, 16, 18, 19, 18, 19, 25, 28, 20, 20, 20, 23, 27, 23, 26, 31, 34, 34, 32, 26, 24, 25, 26, 28, 30, 31, 28, 27, 25, 28, 26, 26, 27, 26, 26, 29, 27, 22, 26, 25, 26, 33, 39, 33, 32, 22, 23, 23, 24, 21, 23, 27, 29, 29, 26, 25, 23, 25, 28, 23, 23, 23, 22, 22, 20, 22, 22, 19, 21, 21, 23, 26, 28, 30, 33, 30, 33, 29, 24, 25, 30, 23, 23, 24, 26, 20, 19, 23, 22, 21, 17, 22, 22, 24, 28, 29, 31, 21, 27, 23, 23, 27, 28, 21, 20, 20, 17, 19, 19, 19, 20, 21, 19, 19, 19, 17, 18, 18, 14, 18, 16, 18, 20, 21, 20, 20, 16, 16, 17, 16, 16, 15, 16, 16, 15, 14, 18, 19, 15, 12, 14, 17, 16, 17, 14, 14, 13, 12, 13, 11, 11, 10, 11, 11, 11, 9, 11, 8, 9, 8, 10, 9, 7, 11, 10, 12, 12, 13, 14, 13, 13, 13, 9, 7, 7, 7, 8, 7, 11, 13, 13, 11, 11, 9, 12, 10, 12, 10, 11, 12, 12, 13, 12, 11, 10, 10, 14, 11, 12, 13, 11, 9, 12, 10], \"yaxis\": \"y\"}],\n",
              "                        {\"coloraxis\": {\"colorbar\": {\"title\": {\"text\": \"PRECIP_TOTAL_DAY_MM\"}}, \"colorscale\": [[0.0, \"#0d0887\"], [0.1111111111111111, \"#46039f\"], [0.2222222222222222, \"#7201a8\"], [0.3333333333333333, \"#9c179e\"], [0.4444444444444444, \"#bd3786\"], [0.5555555555555556, \"#d8576b\"], [0.6666666666666666, \"#ed7953\"], [0.7777777777777778, \"#fb9f3a\"], [0.8888888888888888, \"#fdca26\"], [1.0, \"#f0f921\"]]}, \"legend\": {\"itemsizing\": \"constant\", \"tracegroupgap\": 0}, \"margin\": {\"t\": 60}, \"template\": {\"data\": {\"bar\": [{\"error_x\": {\"color\": \"#2a3f5f\"}, \"error_y\": {\"color\": \"#2a3f5f\"}, \"marker\": {\"line\": {\"color\": \"#E5ECF6\", \"width\": 0.5}}, \"type\": \"bar\"}], \"barpolar\": [{\"marker\": {\"line\": {\"color\": \"#E5ECF6\", \"width\": 0.5}}, \"type\": \"barpolar\"}], \"carpet\": [{\"aaxis\": {\"endlinecolor\": \"#2a3f5f\", \"gridcolor\": \"white\", \"linecolor\": \"white\", \"minorgridcolor\": \"white\", \"startlinecolor\": \"#2a3f5f\"}, \"baxis\": {\"endlinecolor\": \"#2a3f5f\", \"gridcolor\": \"white\", \"linecolor\": \"white\", \"minorgridcolor\": \"white\", \"startlinecolor\": \"#2a3f5f\"}, \"type\": \"carpet\"}], \"choropleth\": [{\"colorbar\": {\"outlinewidth\": 0, \"ticks\": \"\"}, \"type\": \"choropleth\"}], \"contour\": [{\"colorbar\": {\"outlinewidth\": 0, \"ticks\": \"\"}, \"colorscale\": [[0.0, \"#0d0887\"], [0.1111111111111111, \"#46039f\"], [0.2222222222222222, \"#7201a8\"], [0.3333333333333333, \"#9c179e\"], [0.4444444444444444, \"#bd3786\"], [0.5555555555555556, \"#d8576b\"], [0.6666666666666666, \"#ed7953\"], [0.7777777777777778, \"#fb9f3a\"], [0.8888888888888888, \"#fdca26\"], [1.0, \"#f0f921\"]], \"type\": \"contour\"}], \"contourcarpet\": [{\"colorbar\": {\"outlinewidth\": 0, \"ticks\": \"\"}, \"type\": \"contourcarpet\"}], \"heatmap\": [{\"colorbar\": {\"outlinewidth\": 0, \"ticks\": \"\"}, \"colorscale\": [[0.0, \"#0d0887\"], [0.1111111111111111, \"#46039f\"], [0.2222222222222222, \"#7201a8\"], [0.3333333333333333, \"#9c179e\"], [0.4444444444444444, \"#bd3786\"], [0.5555555555555556, \"#d8576b\"], [0.6666666666666666, \"#ed7953\"], [0.7777777777777778, \"#fb9f3a\"], [0.8888888888888888, \"#fdca26\"], [1.0, \"#f0f921\"]], \"type\": \"heatmap\"}], \"heatmapgl\": [{\"colorbar\": {\"outlinewidth\": 0, \"ticks\": \"\"}, \"colorscale\": [[0.0, \"#0d0887\"], [0.1111111111111111, \"#46039f\"], [0.2222222222222222, \"#7201a8\"], [0.3333333333333333, \"#9c179e\"], [0.4444444444444444, \"#bd3786\"], [0.5555555555555556, \"#d8576b\"], [0.6666666666666666, \"#ed7953\"], [0.7777777777777778, \"#fb9f3a\"], [0.8888888888888888, \"#fdca26\"], [1.0, \"#f0f921\"]], \"type\": \"heatmapgl\"}], \"histogram\": [{\"marker\": {\"colorbar\": {\"outlinewidth\": 0, \"ticks\": \"\"}}, \"type\": \"histogram\"}], \"histogram2d\": [{\"colorbar\": {\"outlinewidth\": 0, \"ticks\": \"\"}, \"colorscale\": [[0.0, \"#0d0887\"], [0.1111111111111111, \"#46039f\"], [0.2222222222222222, \"#7201a8\"], [0.3333333333333333, \"#9c179e\"], [0.4444444444444444, \"#bd3786\"], [0.5555555555555556, \"#d8576b\"], [0.6666666666666666, \"#ed7953\"], [0.7777777777777778, \"#fb9f3a\"], [0.8888888888888888, \"#fdca26\"], [1.0, \"#f0f921\"]], \"type\": \"histogram2d\"}], \"histogram2dcontour\": [{\"colorbar\": {\"outlinewidth\": 0, \"ticks\": \"\"}, \"colorscale\": [[0.0, \"#0d0887\"], [0.1111111111111111, \"#46039f\"], [0.2222222222222222, \"#7201a8\"], [0.3333333333333333, \"#9c179e\"], [0.4444444444444444, \"#bd3786\"], [0.5555555555555556, \"#d8576b\"], [0.6666666666666666, \"#ed7953\"], [0.7777777777777778, \"#fb9f3a\"], [0.8888888888888888, \"#fdca26\"], [1.0, \"#f0f921\"]], \"type\": \"histogram2dcontour\"}], \"mesh3d\": [{\"colorbar\": {\"outlinewidth\": 0, \"ticks\": \"\"}, \"type\": \"mesh3d\"}], \"parcoords\": [{\"line\": {\"colorbar\": {\"outlinewidth\": 0, \"ticks\": \"\"}}, \"type\": \"parcoords\"}], \"pie\": [{\"automargin\": true, \"type\": \"pie\"}], \"scatter\": [{\"marker\": {\"colorbar\": {\"outlinewidth\": 0, \"ticks\": \"\"}}, \"type\": \"scatter\"}], \"scatter3d\": [{\"line\": {\"colorbar\": {\"outlinewidth\": 0, \"ticks\": \"\"}}, \"marker\": {\"colorbar\": {\"outlinewidth\": 0, \"ticks\": \"\"}}, \"type\": \"scatter3d\"}], \"scattercarpet\": [{\"marker\": {\"colorbar\": {\"outlinewidth\": 0, \"ticks\": \"\"}}, \"type\": \"scattercarpet\"}], \"scattergeo\": [{\"marker\": {\"colorbar\": {\"outlinewidth\": 0, \"ticks\": \"\"}}, \"type\": \"scattergeo\"}], \"scattergl\": [{\"marker\": {\"colorbar\": {\"outlinewidth\": 0, \"ticks\": \"\"}}, \"type\": \"scattergl\"}], \"scattermapbox\": [{\"marker\": {\"colorbar\": {\"outlinewidth\": 0, \"ticks\": \"\"}}, \"type\": \"scattermapbox\"}], \"scatterpolar\": [{\"marker\": {\"colorbar\": {\"outlinewidth\": 0, \"ticks\": \"\"}}, \"type\": \"scatterpolar\"}], \"scatterpolargl\": [{\"marker\": {\"colorbar\": {\"outlinewidth\": 0, \"ticks\": \"\"}}, \"type\": \"scatterpolargl\"}], \"scatterternary\": [{\"marker\": {\"colorbar\": {\"outlinewidth\": 0, \"ticks\": \"\"}}, \"type\": \"scatterternary\"}], \"surface\": [{\"colorbar\": {\"outlinewidth\": 0, \"ticks\": \"\"}, \"colorscale\": [[0.0, \"#0d0887\"], [0.1111111111111111, \"#46039f\"], [0.2222222222222222, \"#7201a8\"], [0.3333333333333333, \"#9c179e\"], [0.4444444444444444, \"#bd3786\"], [0.5555555555555556, \"#d8576b\"], [0.6666666666666666, \"#ed7953\"], [0.7777777777777778, \"#fb9f3a\"], [0.8888888888888888, \"#fdca26\"], [1.0, \"#f0f921\"]], \"type\": \"surface\"}], \"table\": [{\"cells\": {\"fill\": {\"color\": \"#EBF0F8\"}, \"line\": {\"color\": \"white\"}}, \"header\": {\"fill\": {\"color\": \"#C8D4E3\"}, \"line\": {\"color\": \"white\"}}, \"type\": \"table\"}]}, \"layout\": {\"annotationdefaults\": {\"arrowcolor\": \"#2a3f5f\", \"arrowhead\": 0, \"arrowwidth\": 1}, \"coloraxis\": {\"colorbar\": {\"outlinewidth\": 0, \"ticks\": \"\"}}, \"colorscale\": {\"diverging\": [[0, \"#8e0152\"], [0.1, \"#c51b7d\"], [0.2, \"#de77ae\"], [0.3, \"#f1b6da\"], [0.4, \"#fde0ef\"], [0.5, \"#f7f7f7\"], [0.6, \"#e6f5d0\"], [0.7, \"#b8e186\"], [0.8, \"#7fbc41\"], [0.9, \"#4d9221\"], [1, \"#276419\"]], \"sequential\": [[0.0, \"#0d0887\"], [0.1111111111111111, \"#46039f\"], [0.2222222222222222, \"#7201a8\"], [0.3333333333333333, \"#9c179e\"], [0.4444444444444444, \"#bd3786\"], [0.5555555555555556, \"#d8576b\"], [0.6666666666666666, \"#ed7953\"], [0.7777777777777778, \"#fb9f3a\"], [0.8888888888888888, \"#fdca26\"], [1.0, \"#f0f921\"]], \"sequentialminus\": [[0.0, \"#0d0887\"], [0.1111111111111111, \"#46039f\"], [0.2222222222222222, \"#7201a8\"], [0.3333333333333333, \"#9c179e\"], [0.4444444444444444, \"#bd3786\"], [0.5555555555555556, \"#d8576b\"], [0.6666666666666666, \"#ed7953\"], [0.7777777777777778, \"#fb9f3a\"], [0.8888888888888888, \"#fdca26\"], [1.0, \"#f0f921\"]]}, \"colorway\": [\"#636efa\", \"#EF553B\", \"#00cc96\", \"#ab63fa\", \"#FFA15A\", \"#19d3f3\", \"#FF6692\", \"#B6E880\", \"#FF97FF\", \"#FECB52\"], \"font\": {\"color\": \"#2a3f5f\"}, \"geo\": {\"bgcolor\": \"white\", \"lakecolor\": \"white\", \"landcolor\": \"#E5ECF6\", \"showlakes\": true, \"showland\": true, \"subunitcolor\": \"white\"}, \"hoverlabel\": {\"align\": \"left\"}, \"hovermode\": \"closest\", \"mapbox\": {\"style\": \"light\"}, \"paper_bgcolor\": \"white\", \"plot_bgcolor\": \"#E5ECF6\", \"polar\": {\"angularaxis\": {\"gridcolor\": \"white\", \"linecolor\": \"white\", \"ticks\": \"\"}, \"bgcolor\": \"#E5ECF6\", \"radialaxis\": {\"gridcolor\": \"white\", \"linecolor\": \"white\", \"ticks\": \"\"}}, \"scene\": {\"xaxis\": {\"backgroundcolor\": \"#E5ECF6\", \"gridcolor\": \"white\", \"gridwidth\": 2, \"linecolor\": \"white\", \"showbackground\": true, \"ticks\": \"\", \"zerolinecolor\": \"white\"}, \"yaxis\": {\"backgroundcolor\": \"#E5ECF6\", \"gridcolor\": \"white\", \"gridwidth\": 2, \"linecolor\": \"white\", \"showbackground\": true, \"ticks\": \"\", \"zerolinecolor\": \"white\"}, \"zaxis\": {\"backgroundcolor\": \"#E5ECF6\", \"gridcolor\": \"white\", \"gridwidth\": 2, \"linecolor\": \"white\", \"showbackground\": true, \"ticks\": \"\", \"zerolinecolor\": \"white\"}}, \"shapedefaults\": {\"line\": {\"color\": \"#2a3f5f\"}}, \"ternary\": {\"aaxis\": {\"gridcolor\": \"white\", \"linecolor\": \"white\", \"ticks\": \"\"}, \"baxis\": {\"gridcolor\": \"white\", \"linecolor\": \"white\", \"ticks\": \"\"}, \"bgcolor\": \"#E5ECF6\", \"caxis\": {\"gridcolor\": \"white\", \"linecolor\": \"white\", \"ticks\": \"\"}}, \"title\": {\"x\": 0.05}, \"xaxis\": {\"automargin\": true, \"gridcolor\": \"white\", \"linecolor\": \"white\", \"ticks\": \"\", \"title\": {\"standoff\": 15}, \"zerolinecolor\": \"white\", \"zerolinewidth\": 2}, \"yaxis\": {\"automargin\": true, \"gridcolor\": \"white\", \"linecolor\": \"white\", \"ticks\": \"\", \"title\": {\"standoff\": 15}, \"zerolinecolor\": \"white\", \"zerolinewidth\": 2}}}, \"title\": {\"text\": \"Scatterplot Bubbe\"}, \"xaxis\": {\"anchor\": \"y\", \"domain\": [0.0, 1.0], \"title\": {\"text\": \"Date\"}}, \"yaxis\": {\"anchor\": \"x\", \"domain\": [0.0, 1.0], \"title\": {\"text\": \"Max Temperature\"}}},\n",
              "                        {\"responsive\": true}\n",
              "                    ).then(function(){\n",
              "                            \n",
              "var gd = document.getElementById('de61e4b3-1395-478f-ae87-5eaa81735cc6');\n",
              "var x = new MutationObserver(function (mutations, observer) {{\n",
              "        var display = window.getComputedStyle(gd).display;\n",
              "        if (!display || display === 'none') {{\n",
              "            console.log([gd, 'removed!']);\n",
              "            Plotly.purge(gd);\n",
              "            observer.disconnect();\n",
              "        }}\n",
              "}});\n",
              "\n",
              "// Listen for the removal of the full notebook cells\n",
              "var notebookContainer = gd.closest('#notebook-container');\n",
              "if (notebookContainer) {{\n",
              "    x.observe(notebookContainer, {childList: true});\n",
              "}}\n",
              "\n",
              "// Listen for the clearing of the current output cell\n",
              "var outputEl = gd.closest('.output');\n",
              "if (outputEl) {{\n",
              "    x.observe(outputEl, {childList: true});\n",
              "}}\n",
              "\n",
              "                        })\n",
              "                };\n",
              "                \n",
              "            </script>\n",
              "        </div>\n",
              "</body>\n",
              "</html>"
            ]
          },
          "metadata": {
            "tags": []
          }
        }
      ]
    },
    {
      "cell_type": "markdown",
      "metadata": {
        "id": "JPZTKjbP9pzK"
      },
      "source": [
        "## Figure with multi-charts"
      ]
    },
    {
      "cell_type": "code",
      "metadata": {
        "id": "3AP-40Z-17se",
        "colab": {
          "base_uri": "https://localhost:8080/",
          "height": 542
        },
        "outputId": "147ddef8-69e0-4cff-fb5a-26ae58b51609"
      },
      "source": [
        "# Draw a scatterplot with Max Temperature on Y-axis, and Precipitation on X-axis.\n",
        "# Not really \"one\" scatterplot, but 5 charts on columns, one by opinion. Maybe with the \"facet_col\" argument ?\n",
        "\n",
        "# Could you add an hover name (when you overview with the mouse) with the Month ?\n",
        "\n",
        "Multi_charts = px.scatter(data_frame = df_weather, x = \"PRECIP_TOTAL_DAY_MM\", y = \"MAX_TEMPERATURE_C\", color = \"OPINION\", \n",
        "                          color_discrete_sequence=['red','orange','yellow','LightGreen','DarkGreen'], \n",
        "                          facet_col = \"OPINION\",\n",
        "                          hover_name = \"MONTH\")\n",
        "\n",
        "Multi_charts.update_layout(title_text='Temperature by Date and Opinion', \n",
        "                  title_x=0.40)\n",
        "\n",
        "Multi_charts.show()"
      ],
      "execution_count": null,
      "outputs": [
        {
          "output_type": "display_data",
          "data": {
            "text/html": [
              "<html>\n",
              "<head><meta charset=\"utf-8\" /></head>\n",
              "<body>\n",
              "    <div>\n",
              "            <script src=\"https://cdnjs.cloudflare.com/ajax/libs/mathjax/2.7.5/MathJax.js?config=TeX-AMS-MML_SVG\"></script><script type=\"text/javascript\">if (window.MathJax) {MathJax.Hub.Config({SVG: {font: \"STIX-Web\"}});}</script>\n",
              "                <script type=\"text/javascript\">window.PlotlyConfig = {MathJaxConfig: 'local'};</script>\n",
              "        <script src=\"https://cdn.plot.ly/plotly-latest.min.js\"></script>    \n",
              "            <div id=\"9da2a274-0322-4402-a40b-cb5f48883b7c\" class=\"plotly-graph-div\" style=\"height:525px; width:100%;\"></div>\n",
              "            <script type=\"text/javascript\">\n",
              "                \n",
              "                    window.PLOTLYENV=window.PLOTLYENV || {};\n",
              "                    \n",
              "                if (document.getElementById(\"9da2a274-0322-4402-a40b-cb5f48883b7c\")) {\n",
              "                    Plotly.newPlot(\n",
              "                        '9da2a274-0322-4402-a40b-cb5f48883b7c',\n",
              "                        [{\"hoverlabel\": {\"namelength\": 0}, \"hovertemplate\": \"<b>%{hovertext}</b><br><br>OPINION=very bad<br>PRECIP_TOTAL_DAY_MM=%{x}<br>MAX_TEMPERATURE_C=%{y}\", \"hovertext\": [1.0, 1.0, 1.0, 1.0, 1.0, 1.0, 1.0, 1.0, 1.0, 1.0, 1.0, 1.0, 1.0, 1.0, 1.0, 1.0, 1.0, 1.0, 1.0, 1.0, 1.0, 1.0, 1.0, 1.0, 1.0, 2.0, 2.0, 2.0, 2.0, 2.0, 2.0, 2.0, 2.0, 2.0, 2.0, 3.0, 3.0, 3.0, 3.0, 3.0, 3.0, 3.0, 3.0, 3.0, 4.0, 4.0, 4.0, 4.0, 4.0, 4.0, 4.0, 4.0, 5.0, 5.0, 5.0, 6.0, 7.0, 9.0, 10.0, 11.0, 11.0, 11.0, 11.0, 11.0, 11.0, 11.0, 11.0, 11.0, 11.0, 11.0, 11.0, 11.0, 11.0, 11.0, 11.0, 12.0, 12.0, 12.0, 12.0, 12.0, 12.0, 12.0, 12.0, 12.0, 12.0, 12.0, 12.0, 12.0, 12.0, 12.0, 12.0, 12.0, 12.0, 12.0, 12.0, 12.0, 12.0, 12.0], \"legendgroup\": \"OPINION=very bad\", \"marker\": {\"color\": \"red\", \"symbol\": \"circle\"}, \"mode\": \"markers\", \"name\": \"OPINION=very bad\", \"showlegend\": true, \"type\": \"scatter\", \"x\": [0.2, 0.0, 0.0, 0.0, 0.0, 0.0, 0.0, 0.0, 0.1, 0.2, 0.0, 0.0, 1.3, 1.2, 0.1, 0.2, 0.0, 9.8, 1.3, 2.4, 5.9, 2.6, 15.1, 2.0, 4.3, 1.0, 0.0, 18.6, 0.8, 29.1, 0.1, 0.0, 0.0, 0.9, 2.5, 47.6, 0.2, 0.1, 4.2, 5.0, 1.1, 1.0, 0.1, 0.0, 5.2, 1.1, 10.1, 6.1, 1.6, 0.0, 2.3, 18.9, 0.6, 0.3, 17.8, 27.3, 16.3, 24.1, 4.3, 30.0, 11.4, 3.2, 10.1, 2.1, 4.8, 11.2, 2.3, 10.3, 0.0, 0.0, 0.0, 0.0, 16.0, 8.5, 2.7, 0.0, 0.0, 0.0, 0.0, 0.0, 0.3, 0.9, 5.9, 18.2, 2.2, 5.0, 16.1, 31.0, 35.1, 16.4, 3.0, 9.0, 16.7, 0.2, 0.0, 0.0, 0.0, 0.1], \"xaxis\": \"x\", \"y\": [9, 8, 6, 5, 6, 5, 10, 7, 7, 10, 9, 9, 8, 9, 7, 7, 7, 8, 7, 7, 8, 8, 9, 7, 8, 7, 8, 7, 10, 11, 10, 12, 10, 12, 12, 12, 12, 11, 11, 11, 11, 12, 12, 12, 10, 10, 10, 10, 12, 12, 9, 14, 11, 12, 15, 15, 22, 20, 14, 14, 11, 11, 10, 11, 9, 11, 8, 9, 8, 10, 9, 7, 11, 10, 12, 7, 7, 7, 8, 7, 11, 11, 9, 12, 10, 10, 11, 13, 12, 11, 10, 10, 14, 12, 11, 9, 12, 10], \"yaxis\": \"y\"}, {\"hoverlabel\": {\"namelength\": 0}, \"hovertemplate\": \"<b>%{hovertext}</b><br><br>OPINION=bad<br>PRECIP_TOTAL_DAY_MM=%{x}<br>MAX_TEMPERATURE_C=%{y}\", \"hovertext\": [1.0, 1.0, 1.0, 1.0, 1.0, 1.0, 2.0, 2.0, 2.0, 2.0, 2.0, 2.0, 3.0, 3.0, 3.0, 3.0, 3.0, 3.0, 3.0, 3.0, 3.0, 4.0, 4.0, 4.0, 4.0, 4.0, 4.0, 4.0, 5.0, 5.0, 5.0, 5.0, 5.0, 5.0, 5.0, 5.0, 5.0, 6.0, 6.0, 6.0, 6.0, 7.0, 7.0, 7.0, 8.0, 8.0, 8.0, 8.0, 8.0, 9.0, 9.0, 9.0, 9.0, 9.0, 9.0, 9.0, 10.0, 10.0, 10.0, 10.0, 10.0, 10.0, 10.0, 10.0, 10.0, 10.0, 10.0, 10.0, 10.0, 10.0, 10.0, 10.0, 10.0, 10.0, 10.0, 11.0, 11.0, 11.0, 11.0, 11.0, 11.0, 11.0, 11.0, 11.0, 11.0, 11.0, 11.0, 12.0, 12.0, 12.0, 12.0, 12.0, 12.0, 12.0], \"legendgroup\": \"OPINION=bad\", \"marker\": {\"color\": \"orange\", \"symbol\": \"circle\"}, \"mode\": \"markers\", \"name\": \"OPINION=bad\", \"showlegend\": true, \"type\": \"scatter\", \"x\": [0.2, 0.1, 0.1, 4.4, 4.6, 2.1, 7.3, 9.4, 4.0, 1.6, 6.3, 0.9, 5.4, 11.1, 3.4, 5.3, 1.2, 0.9, 0.5, 1.1, 0.5, 1.8, 3.0, 2.7, 4.4, 1.4, 0.4, 0.0, 0.4, 0.5, 4.4, 1.7, 6.0, 3.6, 7.0, 0.5, 1.4, 6.3, 3.4, 5.1, 14.1, 7.5, 0.2, 6.1, 4.4, 2.4, 0.8, 7.3, 0.0, 6.9, 2.0, 0.5, 1.3, 1.1, 5.3, 0.8, 5.7, 0.2, 1.1, 0.4, 3.9, 1.6, 2.7, 1.2, 13.1, 5.3, 7.7, 1.2, 9.9, 9.5, 4.6, 1.7, 2.3, 3.2, 8.9, 14.5, 11.0, 4.2, 8.0, 3.8, 1.8, 3.8, 8.6, 9.7, 3.8, 1.9, 13.7, 0.4, 9.1, 0.6, 4.8, 2.6, 0.0, 0.0], \"xaxis\": \"x2\", \"y\": [10, 10, 10, 11, 11, 10, 9, 12, 11, 11, 12, 13, 14, 11, 11, 13, 12, 10, 11, 13, 11, 12, 14, 18, 13, 13, 12, 16, 15, 15, 15, 15, 14, 17, 18, 17, 19, 19, 15, 16, 23, 31, 26, 21, 23, 22, 20, 19, 24, 21, 17, 19, 19, 19, 20, 21, 19, 19, 17, 18, 18, 20, 20, 16, 16, 16, 16, 15, 15, 14, 15, 12, 14, 17, 16, 17, 14, 13, 12, 11, 11, 12, 13, 14, 13, 13, 9, 13, 13, 11, 12, 12, 12, 11], \"yaxis\": \"y2\"}, {\"hoverlabel\": {\"namelength\": 0}, \"hovertemplate\": \"<b>%{hovertext}</b><br><br>OPINION=not good not bad<br>PRECIP_TOTAL_DAY_MM=%{x}<br>MAX_TEMPERATURE_C=%{y}\", \"hovertext\": [2.0, 2.0, 2.0, 2.0, 2.0, 2.0, 2.0, 2.0, 2.0, 3.0, 3.0, 3.0, 3.0, 3.0, 3.0, 3.0, 3.0, 3.0, 3.0, 3.0, 4.0, 4.0, 4.0, 4.0, 4.0, 4.0, 4.0, 4.0, 5.0, 5.0, 5.0, 5.0, 5.0, 5.0, 5.0, 5.0, 5.0, 5.0, 5.0, 5.0, 6.0, 6.0, 6.0, 6.0, 6.0, 6.0, 6.0, 6.0, 6.0, 7.0, 7.0, 7.0, 7.0, 7.0, 8.0, 8.0, 8.0, 8.0, 8.0, 8.0, 8.0, 8.0, 8.0, 8.0, 9.0, 9.0, 10.0, 10.0, 10.0, 10.0, 10.0, 10.0, 10.0, 11.0, 11.0, 12.0], \"legendgroup\": \"OPINION=not good not bad\", \"marker\": {\"color\": \"yellow\", \"symbol\": \"circle\"}, \"mode\": \"markers\", \"name\": \"OPINION=not good not bad\", \"showlegend\": true, \"type\": \"scatter\", \"x\": [0.0, 0.0, 0.0, 0.0, 0.0, 0.0, 0.0, 0.0, 0.0, 0.0, 4.9, 1.1, 0.6, 0.1, 0.0, 0.1, 0.0, 0.0, 0.1, 2.5, 0.8, 1.9, 0.1, 0.0, 6.2, 12.3, 6.0, 2.0, 6.0, 0.0, 1.2, 2.0, 0.0, 0.0, 0.0, 4.6, 0.5, 1.2, 0.2, 0.0, 1.5, 3.4, 4.0, 2.7, 2.3, 0.6, 0.9, 0.0, 0.0, 0.0, 0.0, 2.1, 0.0, 2.8, 0.1, 0.0, 0.2, 0.0, 0.7, 9.9, 0.5, 0.0, 0.0, 0.0, 8.4, 1.4, 2.6, 0.5, 0.0, 1.3, 1.1, 1.5, 0.8, 1.1, 0.1, 0.0], \"xaxis\": \"x3\", \"y\": [13, 15, 14, 15, 13, 17, 17, 14, 15, 14, 13, 13, 13, 15, 17, 13, 13, 14, 16, 17, 16, 14, 14, 14, 14, 15, 19, 14, 17, 15, 14, 16, 16, 16, 17, 17, 19, 15, 15, 20, 16, 18, 16, 17, 18, 18, 20, 34, 34, 22, 26, 25, 39, 23, 25, 28, 23, 22, 22, 21, 21, 26, 25, 30, 17, 20, 16, 18, 20, 17, 16, 16, 18, 13, 13, 13], \"yaxis\": \"y3\"}, {\"hoverlabel\": {\"namelength\": 0}, \"hovertemplate\": \"<b>%{hovertext}</b><br><br>OPINION=good<br>PRECIP_TOTAL_DAY_MM=%{x}<br>MAX_TEMPERATURE_C=%{y}\", \"hovertext\": [2.0, 2.0, 2.0, 3.0, 3.0, 4.0, 4.0, 4.0, 4.0, 4.0, 4.0, 4.0, 5.0, 5.0, 5.0, 5.0, 5.0, 5.0, 5.0, 6.0, 6.0, 6.0, 6.0, 6.0, 6.0, 6.0, 6.0, 6.0, 6.0, 6.0, 6.0, 6.0, 6.0, 6.0, 7.0, 7.0, 7.0, 7.0, 7.0, 7.0, 7.0, 7.0, 7.0, 7.0, 7.0, 7.0, 7.0, 7.0, 7.0, 7.0, 7.0, 7.0, 7.0, 7.0, 8.0, 8.0, 8.0, 8.0, 8.0, 8.0, 8.0, 8.0, 8.0, 8.0, 8.0, 8.0, 8.0, 8.0, 8.0, 9.0, 9.0, 9.0, 9.0, 9.0, 9.0, 9.0, 9.0, 9.0, 9.0, 9.0, 9.0, 9.0, 9.0, 9.0, 9.0, 9.0, 9.0, 9.0, 9.0, 10.0, 10.0, 10.0, 10.0], \"legendgroup\": \"OPINION=good\", \"marker\": {\"color\": \"LightGreen\", \"symbol\": \"circle\"}, \"mode\": \"markers\", \"name\": \"OPINION=good\", \"showlegend\": true, \"type\": \"scatter\", \"x\": [0.0, 0.0, 0.0, 0.0, 5.3, 2.0, 0.0, 0.0, 0.0, 1.6, 7.8, 0.0, 0.0, 0.0, 0.8, 1.8, 7.5, 1.6, 0.0, 0.0, 0.5, 2.7, 0.0, 0.3, 0.0, 0.0, 0.0, 0.5, 0.0, 0.0, 0.9, 0.0, 0.0, 0.7, 1.0, 0.0, 0.0, 0.0, 0.6, 1.7, 0.0, 0.0, 0.0, 0.0, 0.0, 0.0, 0.0, 0.0, 0.0, 0.0, 0.8, 0.0, 1.2, 0.3, 0.0, 0.0, 0.0, 0.1, 5.5, 1.1, 0.0, 0.0, 0.0, 0.0, 0.0, 0.0, 0.0, 0.2, 0.0, 0.0, 0.0, 0.0, 0.3, 0.0, 0.0, 0.2, 0.0, 7.6, 0.0, 0.0, 0.0, 0.0, 0.0, 0.0, 0.0, 0.0, 0.0, 0.0, 0.2, 0.3, 1.5, 0.0, 0.0], \"xaxis\": \"x4\", \"y\": [18, 19, 20, 18, 19, 18, 19, 21, 24, 21, 21, 18, 18, 18, 20, 21, 21, 20, 25, 23, 20, 18, 19, 19, 25, 28, 20, 20, 23, 27, 26, 31, 32, 26, 24, 25, 26, 28, 30, 28, 27, 25, 28, 26, 27, 26, 26, 29, 26, 33, 32, 23, 24, 23, 27, 29, 26, 25, 23, 23, 22, 23, 28, 30, 33, 30, 33, 29, 23, 23, 24, 26, 20, 19, 23, 22, 21, 22, 22, 24, 28, 29, 31, 21, 27, 23, 23, 27, 28, 19, 18, 21, 19], \"yaxis\": \"y4\"}, {\"hoverlabel\": {\"namelength\": 0}, \"hovertemplate\": \"<b>%{hovertext}</b><br><br>OPINION=very good<br>PRECIP_TOTAL_DAY_MM=%{x}<br>MAX_TEMPERATURE_C=%{y}\", \"hovertext\": [6.0, 7.0, 7.0, 8.0], \"legendgroup\": \"OPINION=very good\", \"marker\": {\"color\": \"DarkGreen\", \"symbol\": \"circle\"}, \"mode\": \"markers\", \"name\": \"OPINION=very good\", \"showlegend\": true, \"type\": \"scatter\", \"x\": [0.0, 0.0, 0.0, 0.0], \"xaxis\": \"x5\", \"y\": [29, 27, 33, 29], \"yaxis\": \"y5\"}],\n",
              "                        {\"annotations\": [{\"font\": {}, \"showarrow\": false, \"text\": \"OPINION=very bad\", \"x\": 0.09200000000000001, \"xanchor\": \"center\", \"xref\": \"paper\", \"y\": 1.0, \"yanchor\": \"bottom\", \"yref\": \"paper\"}, {\"font\": {}, \"showarrow\": false, \"text\": \"OPINION=bad\", \"x\": 0.29600000000000004, \"xanchor\": \"center\", \"xref\": \"paper\", \"y\": 1.0, \"yanchor\": \"bottom\", \"yref\": \"paper\"}, {\"font\": {}, \"showarrow\": false, \"text\": \"OPINION=not good not bad\", \"x\": 0.5, \"xanchor\": \"center\", \"xref\": \"paper\", \"y\": 1.0, \"yanchor\": \"bottom\", \"yref\": \"paper\"}, {\"font\": {}, \"showarrow\": false, \"text\": \"OPINION=good\", \"x\": 0.7040000000000002, \"xanchor\": \"center\", \"xref\": \"paper\", \"y\": 1.0, \"yanchor\": \"bottom\", \"yref\": \"paper\"}, {\"font\": {}, \"showarrow\": false, \"text\": \"OPINION=very good\", \"x\": 0.908, \"xanchor\": \"center\", \"xref\": \"paper\", \"y\": 1.0, \"yanchor\": \"bottom\", \"yref\": \"paper\"}], \"legend\": {\"tracegroupgap\": 0}, \"margin\": {\"t\": 60}, \"template\": {\"data\": {\"bar\": [{\"error_x\": {\"color\": \"#2a3f5f\"}, \"error_y\": {\"color\": \"#2a3f5f\"}, \"marker\": {\"line\": {\"color\": \"#E5ECF6\", \"width\": 0.5}}, \"type\": \"bar\"}], \"barpolar\": [{\"marker\": {\"line\": {\"color\": \"#E5ECF6\", \"width\": 0.5}}, \"type\": \"barpolar\"}], \"carpet\": [{\"aaxis\": {\"endlinecolor\": \"#2a3f5f\", \"gridcolor\": \"white\", \"linecolor\": \"white\", \"minorgridcolor\": \"white\", \"startlinecolor\": \"#2a3f5f\"}, \"baxis\": {\"endlinecolor\": \"#2a3f5f\", \"gridcolor\": \"white\", \"linecolor\": \"white\", \"minorgridcolor\": \"white\", \"startlinecolor\": \"#2a3f5f\"}, \"type\": \"carpet\"}], \"choropleth\": [{\"colorbar\": {\"outlinewidth\": 0, \"ticks\": \"\"}, \"type\": \"choropleth\"}], \"contour\": [{\"colorbar\": {\"outlinewidth\": 0, \"ticks\": \"\"}, \"colorscale\": [[0.0, \"#0d0887\"], [0.1111111111111111, \"#46039f\"], [0.2222222222222222, \"#7201a8\"], [0.3333333333333333, \"#9c179e\"], [0.4444444444444444, \"#bd3786\"], [0.5555555555555556, \"#d8576b\"], [0.6666666666666666, \"#ed7953\"], [0.7777777777777778, \"#fb9f3a\"], [0.8888888888888888, \"#fdca26\"], [1.0, \"#f0f921\"]], \"type\": \"contour\"}], \"contourcarpet\": [{\"colorbar\": {\"outlinewidth\": 0, \"ticks\": \"\"}, \"type\": \"contourcarpet\"}], \"heatmap\": [{\"colorbar\": {\"outlinewidth\": 0, \"ticks\": \"\"}, \"colorscale\": [[0.0, \"#0d0887\"], [0.1111111111111111, \"#46039f\"], [0.2222222222222222, \"#7201a8\"], [0.3333333333333333, \"#9c179e\"], [0.4444444444444444, \"#bd3786\"], [0.5555555555555556, \"#d8576b\"], [0.6666666666666666, \"#ed7953\"], [0.7777777777777778, \"#fb9f3a\"], [0.8888888888888888, \"#fdca26\"], [1.0, \"#f0f921\"]], \"type\": \"heatmap\"}], \"heatmapgl\": [{\"colorbar\": {\"outlinewidth\": 0, \"ticks\": \"\"}, \"colorscale\": [[0.0, \"#0d0887\"], [0.1111111111111111, \"#46039f\"], [0.2222222222222222, \"#7201a8\"], [0.3333333333333333, \"#9c179e\"], [0.4444444444444444, \"#bd3786\"], [0.5555555555555556, \"#d8576b\"], [0.6666666666666666, \"#ed7953\"], [0.7777777777777778, \"#fb9f3a\"], [0.8888888888888888, \"#fdca26\"], [1.0, \"#f0f921\"]], \"type\": \"heatmapgl\"}], \"histogram\": [{\"marker\": {\"colorbar\": {\"outlinewidth\": 0, \"ticks\": \"\"}}, \"type\": \"histogram\"}], \"histogram2d\": [{\"colorbar\": {\"outlinewidth\": 0, \"ticks\": \"\"}, \"colorscale\": [[0.0, \"#0d0887\"], [0.1111111111111111, \"#46039f\"], [0.2222222222222222, \"#7201a8\"], [0.3333333333333333, \"#9c179e\"], [0.4444444444444444, \"#bd3786\"], [0.5555555555555556, \"#d8576b\"], [0.6666666666666666, \"#ed7953\"], [0.7777777777777778, \"#fb9f3a\"], [0.8888888888888888, \"#fdca26\"], [1.0, \"#f0f921\"]], \"type\": \"histogram2d\"}], \"histogram2dcontour\": [{\"colorbar\": {\"outlinewidth\": 0, \"ticks\": \"\"}, \"colorscale\": [[0.0, \"#0d0887\"], [0.1111111111111111, \"#46039f\"], [0.2222222222222222, \"#7201a8\"], [0.3333333333333333, \"#9c179e\"], [0.4444444444444444, \"#bd3786\"], [0.5555555555555556, \"#d8576b\"], [0.6666666666666666, \"#ed7953\"], [0.7777777777777778, \"#fb9f3a\"], [0.8888888888888888, \"#fdca26\"], [1.0, \"#f0f921\"]], \"type\": \"histogram2dcontour\"}], \"mesh3d\": [{\"colorbar\": {\"outlinewidth\": 0, \"ticks\": \"\"}, \"type\": \"mesh3d\"}], \"parcoords\": [{\"line\": {\"colorbar\": {\"outlinewidth\": 0, \"ticks\": \"\"}}, \"type\": \"parcoords\"}], \"pie\": [{\"automargin\": true, \"type\": \"pie\"}], \"scatter\": [{\"marker\": {\"colorbar\": {\"outlinewidth\": 0, \"ticks\": \"\"}}, \"type\": \"scatter\"}], \"scatter3d\": [{\"line\": {\"colorbar\": {\"outlinewidth\": 0, \"ticks\": \"\"}}, \"marker\": {\"colorbar\": {\"outlinewidth\": 0, \"ticks\": \"\"}}, \"type\": \"scatter3d\"}], \"scattercarpet\": [{\"marker\": {\"colorbar\": {\"outlinewidth\": 0, \"ticks\": \"\"}}, \"type\": \"scattercarpet\"}], \"scattergeo\": [{\"marker\": {\"colorbar\": {\"outlinewidth\": 0, \"ticks\": \"\"}}, \"type\": \"scattergeo\"}], \"scattergl\": [{\"marker\": {\"colorbar\": {\"outlinewidth\": 0, \"ticks\": \"\"}}, \"type\": \"scattergl\"}], \"scattermapbox\": [{\"marker\": {\"colorbar\": {\"outlinewidth\": 0, \"ticks\": \"\"}}, \"type\": \"scattermapbox\"}], \"scatterpolar\": [{\"marker\": {\"colorbar\": {\"outlinewidth\": 0, \"ticks\": \"\"}}, \"type\": \"scatterpolar\"}], \"scatterpolargl\": [{\"marker\": {\"colorbar\": {\"outlinewidth\": 0, \"ticks\": \"\"}}, \"type\": \"scatterpolargl\"}], \"scatterternary\": [{\"marker\": {\"colorbar\": {\"outlinewidth\": 0, \"ticks\": \"\"}}, \"type\": \"scatterternary\"}], \"surface\": [{\"colorbar\": {\"outlinewidth\": 0, \"ticks\": \"\"}, \"colorscale\": [[0.0, \"#0d0887\"], [0.1111111111111111, \"#46039f\"], [0.2222222222222222, \"#7201a8\"], [0.3333333333333333, \"#9c179e\"], [0.4444444444444444, \"#bd3786\"], [0.5555555555555556, \"#d8576b\"], [0.6666666666666666, \"#ed7953\"], [0.7777777777777778, \"#fb9f3a\"], [0.8888888888888888, \"#fdca26\"], [1.0, \"#f0f921\"]], \"type\": \"surface\"}], \"table\": [{\"cells\": {\"fill\": {\"color\": \"#EBF0F8\"}, \"line\": {\"color\": \"white\"}}, \"header\": {\"fill\": {\"color\": \"#C8D4E3\"}, \"line\": {\"color\": \"white\"}}, \"type\": \"table\"}]}, \"layout\": {\"annotationdefaults\": {\"arrowcolor\": \"#2a3f5f\", \"arrowhead\": 0, \"arrowwidth\": 1}, \"coloraxis\": {\"colorbar\": {\"outlinewidth\": 0, \"ticks\": \"\"}}, \"colorscale\": {\"diverging\": [[0, \"#8e0152\"], [0.1, \"#c51b7d\"], [0.2, \"#de77ae\"], [0.3, \"#f1b6da\"], [0.4, \"#fde0ef\"], [0.5, \"#f7f7f7\"], [0.6, \"#e6f5d0\"], [0.7, \"#b8e186\"], [0.8, \"#7fbc41\"], [0.9, \"#4d9221\"], [1, \"#276419\"]], \"sequential\": [[0.0, \"#0d0887\"], [0.1111111111111111, \"#46039f\"], [0.2222222222222222, \"#7201a8\"], [0.3333333333333333, \"#9c179e\"], [0.4444444444444444, \"#bd3786\"], [0.5555555555555556, \"#d8576b\"], [0.6666666666666666, \"#ed7953\"], [0.7777777777777778, \"#fb9f3a\"], [0.8888888888888888, \"#fdca26\"], [1.0, \"#f0f921\"]], \"sequentialminus\": [[0.0, \"#0d0887\"], [0.1111111111111111, \"#46039f\"], [0.2222222222222222, \"#7201a8\"], [0.3333333333333333, \"#9c179e\"], [0.4444444444444444, \"#bd3786\"], [0.5555555555555556, \"#d8576b\"], [0.6666666666666666, \"#ed7953\"], [0.7777777777777778, \"#fb9f3a\"], [0.8888888888888888, \"#fdca26\"], [1.0, \"#f0f921\"]]}, \"colorway\": [\"#636efa\", \"#EF553B\", \"#00cc96\", \"#ab63fa\", \"#FFA15A\", \"#19d3f3\", \"#FF6692\", \"#B6E880\", \"#FF97FF\", \"#FECB52\"], \"font\": {\"color\": \"#2a3f5f\"}, \"geo\": {\"bgcolor\": \"white\", \"lakecolor\": \"white\", \"landcolor\": \"#E5ECF6\", \"showlakes\": true, \"showland\": true, \"subunitcolor\": \"white\"}, \"hoverlabel\": {\"align\": \"left\"}, \"hovermode\": \"closest\", \"mapbox\": {\"style\": \"light\"}, \"paper_bgcolor\": \"white\", \"plot_bgcolor\": \"#E5ECF6\", \"polar\": {\"angularaxis\": {\"gridcolor\": \"white\", \"linecolor\": \"white\", \"ticks\": \"\"}, \"bgcolor\": \"#E5ECF6\", \"radialaxis\": {\"gridcolor\": \"white\", \"linecolor\": \"white\", \"ticks\": \"\"}}, \"scene\": {\"xaxis\": {\"backgroundcolor\": \"#E5ECF6\", \"gridcolor\": \"white\", \"gridwidth\": 2, \"linecolor\": \"white\", \"showbackground\": true, \"ticks\": \"\", \"zerolinecolor\": \"white\"}, \"yaxis\": {\"backgroundcolor\": \"#E5ECF6\", \"gridcolor\": \"white\", \"gridwidth\": 2, \"linecolor\": \"white\", \"showbackground\": true, \"ticks\": \"\", \"zerolinecolor\": \"white\"}, \"zaxis\": {\"backgroundcolor\": \"#E5ECF6\", \"gridcolor\": \"white\", \"gridwidth\": 2, \"linecolor\": \"white\", \"showbackground\": true, \"ticks\": \"\", \"zerolinecolor\": \"white\"}}, \"shapedefaults\": {\"line\": {\"color\": \"#2a3f5f\"}}, \"ternary\": {\"aaxis\": {\"gridcolor\": \"white\", \"linecolor\": \"white\", \"ticks\": \"\"}, \"baxis\": {\"gridcolor\": \"white\", \"linecolor\": \"white\", \"ticks\": \"\"}, \"bgcolor\": \"#E5ECF6\", \"caxis\": {\"gridcolor\": \"white\", \"linecolor\": \"white\", \"ticks\": \"\"}}, \"title\": {\"x\": 0.05}, \"xaxis\": {\"automargin\": true, \"gridcolor\": \"white\", \"linecolor\": \"white\", \"ticks\": \"\", \"title\": {\"standoff\": 15}, \"zerolinecolor\": \"white\", \"zerolinewidth\": 2}, \"yaxis\": {\"automargin\": true, \"gridcolor\": \"white\", \"linecolor\": \"white\", \"ticks\": \"\", \"title\": {\"standoff\": 15}, \"zerolinecolor\": \"white\", \"zerolinewidth\": 2}}}, \"title\": {\"text\": \"Temperature by Date and Opinion\", \"x\": 0.4}, \"xaxis\": {\"anchor\": \"y\", \"domain\": [0.0, 0.18400000000000002], \"title\": {\"text\": \"PRECIP_TOTAL_DAY_MM\"}}, \"xaxis2\": {\"anchor\": \"y2\", \"domain\": [0.20400000000000001, 0.388], \"matches\": \"x\", \"title\": {\"text\": \"PRECIP_TOTAL_DAY_MM\"}}, \"xaxis3\": {\"anchor\": \"y3\", \"domain\": [0.40800000000000003, 0.5920000000000001], \"matches\": \"x\", \"title\": {\"text\": \"PRECIP_TOTAL_DAY_MM\"}}, \"xaxis4\": {\"anchor\": \"y4\", \"domain\": [0.6120000000000001, 0.7960000000000002], \"matches\": \"x\", \"title\": {\"text\": \"PRECIP_TOTAL_DAY_MM\"}}, \"xaxis5\": {\"anchor\": \"y5\", \"domain\": [0.8160000000000001, 1.0], \"matches\": \"x\", \"title\": {\"text\": \"PRECIP_TOTAL_DAY_MM\"}}, \"yaxis\": {\"anchor\": \"x\", \"domain\": [0.0, 1.0], \"title\": {\"text\": \"MAX_TEMPERATURE_C\"}}, \"yaxis2\": {\"anchor\": \"x2\", \"domain\": [0.0, 1.0], \"matches\": \"y\", \"showticklabels\": false}, \"yaxis3\": {\"anchor\": \"x3\", \"domain\": [0.0, 1.0], \"matches\": \"y\", \"showticklabels\": false}, \"yaxis4\": {\"anchor\": \"x4\", \"domain\": [0.0, 1.0], \"matches\": \"y\", \"showticklabels\": false}, \"yaxis5\": {\"anchor\": \"x5\", \"domain\": [0.0, 1.0], \"matches\": \"y\", \"showticklabels\": false}},\n",
              "                        {\"responsive\": true}\n",
              "                    ).then(function(){\n",
              "                            \n",
              "var gd = document.getElementById('9da2a274-0322-4402-a40b-cb5f48883b7c');\n",
              "var x = new MutationObserver(function (mutations, observer) {{\n",
              "        var display = window.getComputedStyle(gd).display;\n",
              "        if (!display || display === 'none') {{\n",
              "            console.log([gd, 'removed!']);\n",
              "            Plotly.purge(gd);\n",
              "            observer.disconnect();\n",
              "        }}\n",
              "}});\n",
              "\n",
              "// Listen for the removal of the full notebook cells\n",
              "var notebookContainer = gd.closest('#notebook-container');\n",
              "if (notebookContainer) {{\n",
              "    x.observe(notebookContainer, {childList: true});\n",
              "}}\n",
              "\n",
              "// Listen for the clearing of the current output cell\n",
              "var outputEl = gd.closest('.output');\n",
              "if (outputEl) {{\n",
              "    x.observe(outputEl, {childList: true});\n",
              "}}\n",
              "\n",
              "                        })\n",
              "                };\n",
              "                \n",
              "            </script>\n",
              "        </div>\n",
              "</body>\n",
              "</html>"
            ]
          },
          "metadata": {
            "tags": []
          }
        }
      ]
    },
    {
      "cell_type": "markdown",
      "metadata": {
        "id": "aOJPxA96BPDx"
      },
      "source": [
        "## Draw 5 violin charts on the same figure\n",
        "Do you know box plot ? Violin is like a box plot, but with density."
      ]
    },
    {
      "cell_type": "code",
      "metadata": {
        "id": "AZMf4U6j2exB",
        "colab": {
          "base_uri": "https://localhost:8080/",
          "height": 542
        },
        "outputId": "249b9da1-d3c7-426d-92dc-60ee153887a8"
      },
      "source": [
        "# Complete the code below to add Opinion on color argument.\n",
        "# Change colors to be coherent and not to draw a rainbow.\n",
        "# Could you read on the graph which is the max temperature for a \"bad\" weather ?\n",
        "\n",
        "fig = px.violin(df_weather, y=\"MAX_TEMPERATURE_C\",  box=True, points=\"all\")\n",
        "fig.show()"
      ],
      "execution_count": null,
      "outputs": [
        {
          "output_type": "display_data",
          "data": {
            "text/html": [
              "<html>\n",
              "<head><meta charset=\"utf-8\" /></head>\n",
              "<body>\n",
              "    <div>\n",
              "            <script src=\"https://cdnjs.cloudflare.com/ajax/libs/mathjax/2.7.5/MathJax.js?config=TeX-AMS-MML_SVG\"></script><script type=\"text/javascript\">if (window.MathJax) {MathJax.Hub.Config({SVG: {font: \"STIX-Web\"}});}</script>\n",
              "                <script type=\"text/javascript\">window.PlotlyConfig = {MathJaxConfig: 'local'};</script>\n",
              "        <script src=\"https://cdn.plot.ly/plotly-latest.min.js\"></script>    \n",
              "            <div id=\"85306ae2-aa94-437f-b2f2-0fa12f6e5b01\" class=\"plotly-graph-div\" style=\"height:525px; width:100%;\"></div>\n",
              "            <script type=\"text/javascript\">\n",
              "                \n",
              "                    window.PLOTLYENV=window.PLOTLYENV || {};\n",
              "                    \n",
              "                if (document.getElementById(\"85306ae2-aa94-437f-b2f2-0fa12f6e5b01\")) {\n",
              "                    Plotly.newPlot(\n",
              "                        '85306ae2-aa94-437f-b2f2-0fa12f6e5b01',\n",
              "                        [{\"alignmentgroup\": \"True\", \"box\": {\"visible\": true}, \"hoverlabel\": {\"namelength\": 0}, \"hovertemplate\": \"MAX_TEMPERATURE_C=%{y}\", \"legendgroup\": \"\", \"marker\": {\"color\": \"#636efa\"}, \"name\": \"\", \"offsetgroup\": \"\", \"orientation\": \"v\", \"points\": \"all\", \"scalegroup\": \"True\", \"showlegend\": false, \"type\": \"violin\", \"x0\": \" \", \"xaxis\": \"x\", \"y\": [9, 8, 6, 5, 6, 5, 10, 10, 7, 7, 10, 9, 10, 10, 9, 8, 9, 7, 11, 7, 7, 8, 7, 7, 11, 10, 8, 8, 9, 7, 8, 9, 7, 8, 7, 10, 12, 11, 11, 12, 11, 10, 12, 10, 13, 15, 14, 15, 12, 12, 13, 17, 17, 18, 14, 15, 19, 20, 13, 14, 13, 14, 11, 13, 12, 11, 12, 13, 12, 11, 11, 10, 11, 13, 11, 11, 11, 12, 13, 15, 18, 17, 13, 12, 12, 13, 14, 16, 17, 19, 18, 12, 10, 10, 10, 10, 14, 12, 16, 14, 14, 14, 12, 9, 14, 15, 19, 21, 24, 21, 21, 19, 18, 14, 13, 14, 13, 12, 16, 18, 17, 15, 15, 11, 12, 15, 14, 15, 15, 15, 16, 16, 16, 18, 18, 17, 17, 14, 17, 18, 20, 21, 21, 20, 19, 17, 19, 15, 15, 20, 25, 29, 23, 20, 19, 16, 18, 15, 18, 16, 17, 15, 16, 18, 19, 18, 19, 25, 28, 20, 20, 20, 23, 27, 23, 26, 31, 34, 34, 32, 26, 24, 25, 26, 28, 30, 31, 28, 27, 25, 28, 26, 26, 27, 26, 26, 29, 27, 22, 26, 25, 26, 33, 39, 33, 32, 22, 23, 23, 24, 21, 23, 27, 29, 29, 26, 25, 23, 25, 28, 23, 23, 23, 22, 22, 20, 22, 22, 19, 21, 21, 23, 26, 28, 30, 33, 30, 33, 29, 24, 25, 30, 23, 23, 24, 26, 20, 19, 23, 22, 21, 17, 22, 22, 24, 28, 29, 31, 21, 27, 23, 23, 27, 28, 21, 20, 20, 17, 19, 19, 19, 20, 21, 19, 19, 19, 17, 18, 18, 14, 18, 16, 18, 20, 21, 20, 20, 16, 16, 17, 16, 16, 15, 16, 16, 15, 14, 18, 19, 15, 12, 14, 17, 16, 17, 14, 14, 13, 12, 13, 11, 11, 10, 11, 11, 11, 9, 11, 8, 9, 8, 10, 9, 7, 11, 10, 12, 12, 13, 14, 13, 13, 13, 9, 7, 7, 7, 8, 7, 11, 13, 13, 11, 11, 9, 12, 10, 12, 10, 11, 12, 12, 13, 12, 11, 10, 10, 14, 11, 12, 13, 11, 9, 12, 10], \"y0\": \" \", \"yaxis\": \"y\"}],\n",
              "                        {\"legend\": {\"tracegroupgap\": 0}, \"margin\": {\"t\": 60}, \"template\": {\"data\": {\"bar\": [{\"error_x\": {\"color\": \"#2a3f5f\"}, \"error_y\": {\"color\": \"#2a3f5f\"}, \"marker\": {\"line\": {\"color\": \"#E5ECF6\", \"width\": 0.5}}, \"type\": \"bar\"}], \"barpolar\": [{\"marker\": {\"line\": {\"color\": \"#E5ECF6\", \"width\": 0.5}}, \"type\": \"barpolar\"}], \"carpet\": [{\"aaxis\": {\"endlinecolor\": \"#2a3f5f\", \"gridcolor\": \"white\", \"linecolor\": \"white\", \"minorgridcolor\": \"white\", \"startlinecolor\": \"#2a3f5f\"}, \"baxis\": {\"endlinecolor\": \"#2a3f5f\", \"gridcolor\": \"white\", \"linecolor\": \"white\", \"minorgridcolor\": \"white\", \"startlinecolor\": \"#2a3f5f\"}, \"type\": \"carpet\"}], \"choropleth\": [{\"colorbar\": {\"outlinewidth\": 0, \"ticks\": \"\"}, \"type\": \"choropleth\"}], \"contour\": [{\"colorbar\": {\"outlinewidth\": 0, \"ticks\": \"\"}, \"colorscale\": [[0.0, \"#0d0887\"], [0.1111111111111111, \"#46039f\"], [0.2222222222222222, \"#7201a8\"], [0.3333333333333333, \"#9c179e\"], [0.4444444444444444, \"#bd3786\"], [0.5555555555555556, \"#d8576b\"], [0.6666666666666666, \"#ed7953\"], [0.7777777777777778, \"#fb9f3a\"], [0.8888888888888888, \"#fdca26\"], [1.0, \"#f0f921\"]], \"type\": \"contour\"}], \"contourcarpet\": [{\"colorbar\": {\"outlinewidth\": 0, \"ticks\": \"\"}, \"type\": \"contourcarpet\"}], \"heatmap\": [{\"colorbar\": {\"outlinewidth\": 0, \"ticks\": \"\"}, \"colorscale\": [[0.0, \"#0d0887\"], [0.1111111111111111, \"#46039f\"], [0.2222222222222222, \"#7201a8\"], [0.3333333333333333, \"#9c179e\"], [0.4444444444444444, \"#bd3786\"], [0.5555555555555556, \"#d8576b\"], [0.6666666666666666, \"#ed7953\"], [0.7777777777777778, \"#fb9f3a\"], [0.8888888888888888, \"#fdca26\"], [1.0, \"#f0f921\"]], \"type\": \"heatmap\"}], \"heatmapgl\": [{\"colorbar\": {\"outlinewidth\": 0, \"ticks\": \"\"}, \"colorscale\": [[0.0, \"#0d0887\"], [0.1111111111111111, \"#46039f\"], [0.2222222222222222, \"#7201a8\"], [0.3333333333333333, \"#9c179e\"], [0.4444444444444444, \"#bd3786\"], [0.5555555555555556, \"#d8576b\"], [0.6666666666666666, \"#ed7953\"], [0.7777777777777778, \"#fb9f3a\"], [0.8888888888888888, \"#fdca26\"], [1.0, \"#f0f921\"]], \"type\": \"heatmapgl\"}], \"histogram\": [{\"marker\": {\"colorbar\": {\"outlinewidth\": 0, \"ticks\": \"\"}}, \"type\": \"histogram\"}], \"histogram2d\": [{\"colorbar\": {\"outlinewidth\": 0, \"ticks\": \"\"}, \"colorscale\": [[0.0, \"#0d0887\"], [0.1111111111111111, \"#46039f\"], [0.2222222222222222, \"#7201a8\"], [0.3333333333333333, \"#9c179e\"], [0.4444444444444444, \"#bd3786\"], [0.5555555555555556, \"#d8576b\"], [0.6666666666666666, \"#ed7953\"], [0.7777777777777778, \"#fb9f3a\"], [0.8888888888888888, \"#fdca26\"], [1.0, \"#f0f921\"]], \"type\": \"histogram2d\"}], \"histogram2dcontour\": [{\"colorbar\": {\"outlinewidth\": 0, \"ticks\": \"\"}, \"colorscale\": [[0.0, \"#0d0887\"], [0.1111111111111111, \"#46039f\"], [0.2222222222222222, \"#7201a8\"], [0.3333333333333333, \"#9c179e\"], [0.4444444444444444, \"#bd3786\"], [0.5555555555555556, \"#d8576b\"], [0.6666666666666666, \"#ed7953\"], [0.7777777777777778, \"#fb9f3a\"], [0.8888888888888888, \"#fdca26\"], [1.0, \"#f0f921\"]], \"type\": \"histogram2dcontour\"}], \"mesh3d\": [{\"colorbar\": {\"outlinewidth\": 0, \"ticks\": \"\"}, \"type\": \"mesh3d\"}], \"parcoords\": [{\"line\": {\"colorbar\": {\"outlinewidth\": 0, \"ticks\": \"\"}}, \"type\": \"parcoords\"}], \"pie\": [{\"automargin\": true, \"type\": \"pie\"}], \"scatter\": [{\"marker\": {\"colorbar\": {\"outlinewidth\": 0, \"ticks\": \"\"}}, \"type\": \"scatter\"}], \"scatter3d\": [{\"line\": {\"colorbar\": {\"outlinewidth\": 0, \"ticks\": \"\"}}, \"marker\": {\"colorbar\": {\"outlinewidth\": 0, \"ticks\": \"\"}}, \"type\": \"scatter3d\"}], \"scattercarpet\": [{\"marker\": {\"colorbar\": {\"outlinewidth\": 0, \"ticks\": \"\"}}, \"type\": \"scattercarpet\"}], \"scattergeo\": [{\"marker\": {\"colorbar\": {\"outlinewidth\": 0, \"ticks\": \"\"}}, \"type\": \"scattergeo\"}], \"scattergl\": [{\"marker\": {\"colorbar\": {\"outlinewidth\": 0, \"ticks\": \"\"}}, \"type\": \"scattergl\"}], \"scattermapbox\": [{\"marker\": {\"colorbar\": {\"outlinewidth\": 0, \"ticks\": \"\"}}, \"type\": \"scattermapbox\"}], \"scatterpolar\": [{\"marker\": {\"colorbar\": {\"outlinewidth\": 0, \"ticks\": \"\"}}, \"type\": \"scatterpolar\"}], \"scatterpolargl\": [{\"marker\": {\"colorbar\": {\"outlinewidth\": 0, \"ticks\": \"\"}}, \"type\": \"scatterpolargl\"}], \"scatterternary\": [{\"marker\": {\"colorbar\": {\"outlinewidth\": 0, \"ticks\": \"\"}}, \"type\": \"scatterternary\"}], \"surface\": [{\"colorbar\": {\"outlinewidth\": 0, \"ticks\": \"\"}, \"colorscale\": [[0.0, \"#0d0887\"], [0.1111111111111111, \"#46039f\"], [0.2222222222222222, \"#7201a8\"], [0.3333333333333333, \"#9c179e\"], [0.4444444444444444, \"#bd3786\"], [0.5555555555555556, \"#d8576b\"], [0.6666666666666666, \"#ed7953\"], [0.7777777777777778, \"#fb9f3a\"], [0.8888888888888888, \"#fdca26\"], [1.0, \"#f0f921\"]], \"type\": \"surface\"}], \"table\": [{\"cells\": {\"fill\": {\"color\": \"#EBF0F8\"}, \"line\": {\"color\": \"white\"}}, \"header\": {\"fill\": {\"color\": \"#C8D4E3\"}, \"line\": {\"color\": \"white\"}}, \"type\": \"table\"}]}, \"layout\": {\"annotationdefaults\": {\"arrowcolor\": \"#2a3f5f\", \"arrowhead\": 0, \"arrowwidth\": 1}, \"coloraxis\": {\"colorbar\": {\"outlinewidth\": 0, \"ticks\": \"\"}}, \"colorscale\": {\"diverging\": [[0, \"#8e0152\"], [0.1, \"#c51b7d\"], [0.2, \"#de77ae\"], [0.3, \"#f1b6da\"], [0.4, \"#fde0ef\"], [0.5, \"#f7f7f7\"], [0.6, \"#e6f5d0\"], [0.7, \"#b8e186\"], [0.8, \"#7fbc41\"], [0.9, \"#4d9221\"], [1, \"#276419\"]], \"sequential\": [[0.0, \"#0d0887\"], [0.1111111111111111, \"#46039f\"], [0.2222222222222222, \"#7201a8\"], [0.3333333333333333, \"#9c179e\"], [0.4444444444444444, \"#bd3786\"], [0.5555555555555556, \"#d8576b\"], [0.6666666666666666, \"#ed7953\"], [0.7777777777777778, \"#fb9f3a\"], [0.8888888888888888, \"#fdca26\"], [1.0, \"#f0f921\"]], \"sequentialminus\": [[0.0, \"#0d0887\"], [0.1111111111111111, \"#46039f\"], [0.2222222222222222, \"#7201a8\"], [0.3333333333333333, \"#9c179e\"], [0.4444444444444444, \"#bd3786\"], [0.5555555555555556, \"#d8576b\"], [0.6666666666666666, \"#ed7953\"], [0.7777777777777778, \"#fb9f3a\"], [0.8888888888888888, \"#fdca26\"], [1.0, \"#f0f921\"]]}, \"colorway\": [\"#636efa\", \"#EF553B\", \"#00cc96\", \"#ab63fa\", \"#FFA15A\", \"#19d3f3\", \"#FF6692\", \"#B6E880\", \"#FF97FF\", \"#FECB52\"], \"font\": {\"color\": \"#2a3f5f\"}, \"geo\": {\"bgcolor\": \"white\", \"lakecolor\": \"white\", \"landcolor\": \"#E5ECF6\", \"showlakes\": true, \"showland\": true, \"subunitcolor\": \"white\"}, \"hoverlabel\": {\"align\": \"left\"}, \"hovermode\": \"closest\", \"mapbox\": {\"style\": \"light\"}, \"paper_bgcolor\": \"white\", \"plot_bgcolor\": \"#E5ECF6\", \"polar\": {\"angularaxis\": {\"gridcolor\": \"white\", \"linecolor\": \"white\", \"ticks\": \"\"}, \"bgcolor\": \"#E5ECF6\", \"radialaxis\": {\"gridcolor\": \"white\", \"linecolor\": \"white\", \"ticks\": \"\"}}, \"scene\": {\"xaxis\": {\"backgroundcolor\": \"#E5ECF6\", \"gridcolor\": \"white\", \"gridwidth\": 2, \"linecolor\": \"white\", \"showbackground\": true, \"ticks\": \"\", \"zerolinecolor\": \"white\"}, \"yaxis\": {\"backgroundcolor\": \"#E5ECF6\", \"gridcolor\": \"white\", \"gridwidth\": 2, \"linecolor\": \"white\", \"showbackground\": true, \"ticks\": \"\", \"zerolinecolor\": \"white\"}, \"zaxis\": {\"backgroundcolor\": \"#E5ECF6\", \"gridcolor\": \"white\", \"gridwidth\": 2, \"linecolor\": \"white\", \"showbackground\": true, \"ticks\": \"\", \"zerolinecolor\": \"white\"}}, \"shapedefaults\": {\"line\": {\"color\": \"#2a3f5f\"}}, \"ternary\": {\"aaxis\": {\"gridcolor\": \"white\", \"linecolor\": \"white\", \"ticks\": \"\"}, \"baxis\": {\"gridcolor\": \"white\", \"linecolor\": \"white\", \"ticks\": \"\"}, \"bgcolor\": \"#E5ECF6\", \"caxis\": {\"gridcolor\": \"white\", \"linecolor\": \"white\", \"ticks\": \"\"}}, \"title\": {\"x\": 0.05}, \"xaxis\": {\"automargin\": true, \"gridcolor\": \"white\", \"linecolor\": \"white\", \"ticks\": \"\", \"title\": {\"standoff\": 15}, \"zerolinecolor\": \"white\", \"zerolinewidth\": 2}, \"yaxis\": {\"automargin\": true, \"gridcolor\": \"white\", \"linecolor\": \"white\", \"ticks\": \"\", \"title\": {\"standoff\": 15}, \"zerolinecolor\": \"white\", \"zerolinewidth\": 2}}}, \"violinmode\": \"group\", \"xaxis\": {\"anchor\": \"y\", \"domain\": [0.0, 1.0]}, \"yaxis\": {\"anchor\": \"x\", \"domain\": [0.0, 1.0], \"title\": {\"text\": \"MAX_TEMPERATURE_C\"}}},\n",
              "                        {\"responsive\": true}\n",
              "                    ).then(function(){\n",
              "                            \n",
              "var gd = document.getElementById('85306ae2-aa94-437f-b2f2-0fa12f6e5b01');\n",
              "var x = new MutationObserver(function (mutations, observer) {{\n",
              "        var display = window.getComputedStyle(gd).display;\n",
              "        if (!display || display === 'none') {{\n",
              "            console.log([gd, 'removed!']);\n",
              "            Plotly.purge(gd);\n",
              "            observer.disconnect();\n",
              "        }}\n",
              "}});\n",
              "\n",
              "// Listen for the removal of the full notebook cells\n",
              "var notebookContainer = gd.closest('#notebook-container');\n",
              "if (notebookContainer) {{\n",
              "    x.observe(notebookContainer, {childList: true});\n",
              "}}\n",
              "\n",
              "// Listen for the clearing of the current output cell\n",
              "var outputEl = gd.closest('.output');\n",
              "if (outputEl) {{\n",
              "    x.observe(outputEl, {childList: true});\n",
              "}}\n",
              "\n",
              "                        })\n",
              "                };\n",
              "                \n",
              "            </script>\n",
              "        </div>\n",
              "</body>\n",
              "</html>"
            ]
          },
          "metadata": {
            "tags": []
          }
        }
      ]
    },
    {
      "cell_type": "code",
      "metadata": {
        "id": "m25kzn4CGWtd",
        "colab": {
          "base_uri": "https://localhost:8080/",
          "height": 542
        },
        "outputId": "7e5b9a55-7430-41ed-cd17-d73bd586ff9b"
      },
      "source": [
        "Violin_charts = px.violin( df_weather, y=\"MAX_TEMPERATURE_C\",  box=True, points=\"all\", color=\"OPINION\",\n",
        "                color_discrete_map={\n",
        "                    \"very bad\": \"maroon\",\n",
        "                    \"bad\": \"red\",\n",
        "                    \"not good not bad\": \"goldenrod\",\n",
        "                    \"good\": \"green\",\n",
        "                    \"very good\": \"blue\"} )\n",
        "\n",
        "Violin_charts.show()"
      ],
      "execution_count": null,
      "outputs": [
        {
          "output_type": "display_data",
          "data": {
            "text/html": [
              "<html>\n",
              "<head><meta charset=\"utf-8\" /></head>\n",
              "<body>\n",
              "    <div>\n",
              "            <script src=\"https://cdnjs.cloudflare.com/ajax/libs/mathjax/2.7.5/MathJax.js?config=TeX-AMS-MML_SVG\"></script><script type=\"text/javascript\">if (window.MathJax) {MathJax.Hub.Config({SVG: {font: \"STIX-Web\"}});}</script>\n",
              "                <script type=\"text/javascript\">window.PlotlyConfig = {MathJaxConfig: 'local'};</script>\n",
              "        <script src=\"https://cdn.plot.ly/plotly-latest.min.js\"></script>    \n",
              "            <div id=\"3f0a0f1e-be85-410d-a743-cb7df9ca087b\" class=\"plotly-graph-div\" style=\"height:525px; width:100%;\"></div>\n",
              "            <script type=\"text/javascript\">\n",
              "                \n",
              "                    window.PLOTLYENV=window.PLOTLYENV || {};\n",
              "                    \n",
              "                if (document.getElementById(\"3f0a0f1e-be85-410d-a743-cb7df9ca087b\")) {\n",
              "                    Plotly.newPlot(\n",
              "                        '3f0a0f1e-be85-410d-a743-cb7df9ca087b',\n",
              "                        [{\"alignmentgroup\": \"True\", \"box\": {\"visible\": true}, \"hoverlabel\": {\"namelength\": 0}, \"hovertemplate\": \"OPINION=very bad<br>MAX_TEMPERATURE_C=%{y}\", \"legendgroup\": \"OPINION=very bad\", \"marker\": {\"color\": \"maroon\"}, \"name\": \"OPINION=very bad\", \"offsetgroup\": \"OPINION=very bad\", \"orientation\": \"v\", \"points\": \"all\", \"scalegroup\": \"True\", \"showlegend\": true, \"type\": \"violin\", \"x0\": \" \", \"xaxis\": \"x\", \"y\": [9, 8, 6, 5, 6, 5, 10, 7, 7, 10, 9, 9, 8, 9, 7, 7, 7, 8, 7, 7, 8, 8, 9, 7, 8, 7, 8, 7, 10, 11, 10, 12, 10, 12, 12, 12, 12, 11, 11, 11, 11, 12, 12, 12, 10, 10, 10, 10, 12, 12, 9, 14, 11, 12, 15, 15, 22, 20, 14, 14, 11, 11, 10, 11, 9, 11, 8, 9, 8, 10, 9, 7, 11, 10, 12, 7, 7, 7, 8, 7, 11, 11, 9, 12, 10, 10, 11, 13, 12, 11, 10, 10, 14, 12, 11, 9, 12, 10], \"y0\": \" \", \"yaxis\": \"y\"}, {\"alignmentgroup\": \"True\", \"box\": {\"visible\": true}, \"hoverlabel\": {\"namelength\": 0}, \"hovertemplate\": \"OPINION=bad<br>MAX_TEMPERATURE_C=%{y}\", \"legendgroup\": \"OPINION=bad\", \"marker\": {\"color\": \"red\"}, \"name\": \"OPINION=bad\", \"offsetgroup\": \"OPINION=bad\", \"orientation\": \"v\", \"points\": \"all\", \"scalegroup\": \"True\", \"showlegend\": true, \"type\": \"violin\", \"x0\": \" \", \"xaxis\": \"x\", \"y\": [10, 10, 10, 11, 11, 10, 9, 12, 11, 11, 12, 13, 14, 11, 11, 13, 12, 10, 11, 13, 11, 12, 14, 18, 13, 13, 12, 16, 15, 15, 15, 15, 14, 17, 18, 17, 19, 19, 15, 16, 23, 31, 26, 21, 23, 22, 20, 19, 24, 21, 17, 19, 19, 19, 20, 21, 19, 19, 17, 18, 18, 20, 20, 16, 16, 16, 16, 15, 15, 14, 15, 12, 14, 17, 16, 17, 14, 13, 12, 11, 11, 12, 13, 14, 13, 13, 9, 13, 13, 11, 12, 12, 12, 11], \"y0\": \" \", \"yaxis\": \"y\"}, {\"alignmentgroup\": \"True\", \"box\": {\"visible\": true}, \"hoverlabel\": {\"namelength\": 0}, \"hovertemplate\": \"OPINION=not good not bad<br>MAX_TEMPERATURE_C=%{y}\", \"legendgroup\": \"OPINION=not good not bad\", \"marker\": {\"color\": \"goldenrod\"}, \"name\": \"OPINION=not good not bad\", \"offsetgroup\": \"OPINION=not good not bad\", \"orientation\": \"v\", \"points\": \"all\", \"scalegroup\": \"True\", \"showlegend\": true, \"type\": \"violin\", \"x0\": \" \", \"xaxis\": \"x\", \"y\": [13, 15, 14, 15, 13, 17, 17, 14, 15, 14, 13, 13, 13, 15, 17, 13, 13, 14, 16, 17, 16, 14, 14, 14, 14, 15, 19, 14, 17, 15, 14, 16, 16, 16, 17, 17, 19, 15, 15, 20, 16, 18, 16, 17, 18, 18, 20, 34, 34, 22, 26, 25, 39, 23, 25, 28, 23, 22, 22, 21, 21, 26, 25, 30, 17, 20, 16, 18, 20, 17, 16, 16, 18, 13, 13, 13], \"y0\": \" \", \"yaxis\": \"y\"}, {\"alignmentgroup\": \"True\", \"box\": {\"visible\": true}, \"hoverlabel\": {\"namelength\": 0}, \"hovertemplate\": \"OPINION=good<br>MAX_TEMPERATURE_C=%{y}\", \"legendgroup\": \"OPINION=good\", \"marker\": {\"color\": \"green\"}, \"name\": \"OPINION=good\", \"offsetgroup\": \"OPINION=good\", \"orientation\": \"v\", \"points\": \"all\", \"scalegroup\": \"True\", \"showlegend\": true, \"type\": \"violin\", \"x0\": \" \", \"xaxis\": \"x\", \"y\": [18, 19, 20, 18, 19, 18, 19, 21, 24, 21, 21, 18, 18, 18, 20, 21, 21, 20, 25, 23, 20, 18, 19, 19, 25, 28, 20, 20, 23, 27, 26, 31, 32, 26, 24, 25, 26, 28, 30, 28, 27, 25, 28, 26, 27, 26, 26, 29, 26, 33, 32, 23, 24, 23, 27, 29, 26, 25, 23, 23, 22, 23, 28, 30, 33, 30, 33, 29, 23, 23, 24, 26, 20, 19, 23, 22, 21, 22, 22, 24, 28, 29, 31, 21, 27, 23, 23, 27, 28, 19, 18, 21, 19], \"y0\": \" \", \"yaxis\": \"y\"}, {\"alignmentgroup\": \"True\", \"box\": {\"visible\": true}, \"hoverlabel\": {\"namelength\": 0}, \"hovertemplate\": \"OPINION=very good<br>MAX_TEMPERATURE_C=%{y}\", \"legendgroup\": \"OPINION=very good\", \"marker\": {\"color\": \"blue\"}, \"name\": \"OPINION=very good\", \"offsetgroup\": \"OPINION=very good\", \"orientation\": \"v\", \"points\": \"all\", \"scalegroup\": \"True\", \"showlegend\": true, \"type\": \"violin\", \"x0\": \" \", \"xaxis\": \"x\", \"y\": [29, 27, 33, 29], \"y0\": \" \", \"yaxis\": \"y\"}],\n",
              "                        {\"legend\": {\"tracegroupgap\": 0}, \"margin\": {\"t\": 60}, \"template\": {\"data\": {\"bar\": [{\"error_x\": {\"color\": \"#2a3f5f\"}, \"error_y\": {\"color\": \"#2a3f5f\"}, \"marker\": {\"line\": {\"color\": \"#E5ECF6\", \"width\": 0.5}}, \"type\": \"bar\"}], \"barpolar\": [{\"marker\": {\"line\": {\"color\": \"#E5ECF6\", \"width\": 0.5}}, \"type\": \"barpolar\"}], \"carpet\": [{\"aaxis\": {\"endlinecolor\": \"#2a3f5f\", \"gridcolor\": \"white\", \"linecolor\": \"white\", \"minorgridcolor\": \"white\", \"startlinecolor\": \"#2a3f5f\"}, \"baxis\": {\"endlinecolor\": \"#2a3f5f\", \"gridcolor\": \"white\", \"linecolor\": \"white\", \"minorgridcolor\": \"white\", \"startlinecolor\": \"#2a3f5f\"}, \"type\": \"carpet\"}], \"choropleth\": [{\"colorbar\": {\"outlinewidth\": 0, \"ticks\": \"\"}, \"type\": \"choropleth\"}], \"contour\": [{\"colorbar\": {\"outlinewidth\": 0, \"ticks\": \"\"}, \"colorscale\": [[0.0, \"#0d0887\"], [0.1111111111111111, \"#46039f\"], [0.2222222222222222, \"#7201a8\"], [0.3333333333333333, \"#9c179e\"], [0.4444444444444444, \"#bd3786\"], [0.5555555555555556, \"#d8576b\"], [0.6666666666666666, \"#ed7953\"], [0.7777777777777778, \"#fb9f3a\"], [0.8888888888888888, \"#fdca26\"], [1.0, \"#f0f921\"]], \"type\": \"contour\"}], \"contourcarpet\": [{\"colorbar\": {\"outlinewidth\": 0, \"ticks\": \"\"}, \"type\": \"contourcarpet\"}], \"heatmap\": [{\"colorbar\": {\"outlinewidth\": 0, \"ticks\": \"\"}, \"colorscale\": [[0.0, \"#0d0887\"], [0.1111111111111111, \"#46039f\"], [0.2222222222222222, \"#7201a8\"], [0.3333333333333333, \"#9c179e\"], [0.4444444444444444, \"#bd3786\"], [0.5555555555555556, \"#d8576b\"], [0.6666666666666666, \"#ed7953\"], [0.7777777777777778, \"#fb9f3a\"], [0.8888888888888888, \"#fdca26\"], [1.0, \"#f0f921\"]], \"type\": \"heatmap\"}], \"heatmapgl\": [{\"colorbar\": {\"outlinewidth\": 0, \"ticks\": \"\"}, \"colorscale\": [[0.0, \"#0d0887\"], [0.1111111111111111, \"#46039f\"], [0.2222222222222222, \"#7201a8\"], [0.3333333333333333, \"#9c179e\"], [0.4444444444444444, \"#bd3786\"], [0.5555555555555556, \"#d8576b\"], [0.6666666666666666, \"#ed7953\"], [0.7777777777777778, \"#fb9f3a\"], [0.8888888888888888, \"#fdca26\"], [1.0, \"#f0f921\"]], \"type\": \"heatmapgl\"}], \"histogram\": [{\"marker\": {\"colorbar\": {\"outlinewidth\": 0, \"ticks\": \"\"}}, \"type\": \"histogram\"}], \"histogram2d\": [{\"colorbar\": {\"outlinewidth\": 0, \"ticks\": \"\"}, \"colorscale\": [[0.0, \"#0d0887\"], [0.1111111111111111, \"#46039f\"], [0.2222222222222222, \"#7201a8\"], [0.3333333333333333, \"#9c179e\"], [0.4444444444444444, \"#bd3786\"], [0.5555555555555556, \"#d8576b\"], [0.6666666666666666, \"#ed7953\"], [0.7777777777777778, \"#fb9f3a\"], [0.8888888888888888, \"#fdca26\"], [1.0, \"#f0f921\"]], \"type\": \"histogram2d\"}], \"histogram2dcontour\": [{\"colorbar\": {\"outlinewidth\": 0, \"ticks\": \"\"}, \"colorscale\": [[0.0, \"#0d0887\"], [0.1111111111111111, \"#46039f\"], [0.2222222222222222, \"#7201a8\"], [0.3333333333333333, \"#9c179e\"], [0.4444444444444444, \"#bd3786\"], [0.5555555555555556, \"#d8576b\"], [0.6666666666666666, \"#ed7953\"], [0.7777777777777778, \"#fb9f3a\"], [0.8888888888888888, \"#fdca26\"], [1.0, \"#f0f921\"]], \"type\": \"histogram2dcontour\"}], \"mesh3d\": [{\"colorbar\": {\"outlinewidth\": 0, \"ticks\": \"\"}, \"type\": \"mesh3d\"}], \"parcoords\": [{\"line\": {\"colorbar\": {\"outlinewidth\": 0, \"ticks\": \"\"}}, \"type\": \"parcoords\"}], \"pie\": [{\"automargin\": true, \"type\": \"pie\"}], \"scatter\": [{\"marker\": {\"colorbar\": {\"outlinewidth\": 0, \"ticks\": \"\"}}, \"type\": \"scatter\"}], \"scatter3d\": [{\"line\": {\"colorbar\": {\"outlinewidth\": 0, \"ticks\": \"\"}}, \"marker\": {\"colorbar\": {\"outlinewidth\": 0, \"ticks\": \"\"}}, \"type\": \"scatter3d\"}], \"scattercarpet\": [{\"marker\": {\"colorbar\": {\"outlinewidth\": 0, \"ticks\": \"\"}}, \"type\": \"scattercarpet\"}], \"scattergeo\": [{\"marker\": {\"colorbar\": {\"outlinewidth\": 0, \"ticks\": \"\"}}, \"type\": \"scattergeo\"}], \"scattergl\": [{\"marker\": {\"colorbar\": {\"outlinewidth\": 0, \"ticks\": \"\"}}, \"type\": \"scattergl\"}], \"scattermapbox\": [{\"marker\": {\"colorbar\": {\"outlinewidth\": 0, \"ticks\": \"\"}}, \"type\": \"scattermapbox\"}], \"scatterpolar\": [{\"marker\": {\"colorbar\": {\"outlinewidth\": 0, \"ticks\": \"\"}}, \"type\": \"scatterpolar\"}], \"scatterpolargl\": [{\"marker\": {\"colorbar\": {\"outlinewidth\": 0, \"ticks\": \"\"}}, \"type\": \"scatterpolargl\"}], \"scatterternary\": [{\"marker\": {\"colorbar\": {\"outlinewidth\": 0, \"ticks\": \"\"}}, \"type\": \"scatterternary\"}], \"surface\": [{\"colorbar\": {\"outlinewidth\": 0, \"ticks\": \"\"}, \"colorscale\": [[0.0, \"#0d0887\"], [0.1111111111111111, \"#46039f\"], [0.2222222222222222, \"#7201a8\"], [0.3333333333333333, \"#9c179e\"], [0.4444444444444444, \"#bd3786\"], [0.5555555555555556, \"#d8576b\"], [0.6666666666666666, \"#ed7953\"], [0.7777777777777778, \"#fb9f3a\"], [0.8888888888888888, \"#fdca26\"], [1.0, \"#f0f921\"]], \"type\": \"surface\"}], \"table\": [{\"cells\": {\"fill\": {\"color\": \"#EBF0F8\"}, \"line\": {\"color\": \"white\"}}, \"header\": {\"fill\": {\"color\": \"#C8D4E3\"}, \"line\": {\"color\": \"white\"}}, \"type\": \"table\"}]}, \"layout\": {\"annotationdefaults\": {\"arrowcolor\": \"#2a3f5f\", \"arrowhead\": 0, \"arrowwidth\": 1}, \"coloraxis\": {\"colorbar\": {\"outlinewidth\": 0, \"ticks\": \"\"}}, \"colorscale\": {\"diverging\": [[0, \"#8e0152\"], [0.1, \"#c51b7d\"], [0.2, \"#de77ae\"], [0.3, \"#f1b6da\"], [0.4, \"#fde0ef\"], [0.5, \"#f7f7f7\"], [0.6, \"#e6f5d0\"], [0.7, \"#b8e186\"], [0.8, \"#7fbc41\"], [0.9, \"#4d9221\"], [1, \"#276419\"]], \"sequential\": [[0.0, \"#0d0887\"], [0.1111111111111111, \"#46039f\"], [0.2222222222222222, \"#7201a8\"], [0.3333333333333333, \"#9c179e\"], [0.4444444444444444, \"#bd3786\"], [0.5555555555555556, \"#d8576b\"], [0.6666666666666666, \"#ed7953\"], [0.7777777777777778, \"#fb9f3a\"], [0.8888888888888888, \"#fdca26\"], [1.0, \"#f0f921\"]], \"sequentialminus\": [[0.0, \"#0d0887\"], [0.1111111111111111, \"#46039f\"], [0.2222222222222222, \"#7201a8\"], [0.3333333333333333, \"#9c179e\"], [0.4444444444444444, \"#bd3786\"], [0.5555555555555556, \"#d8576b\"], [0.6666666666666666, \"#ed7953\"], [0.7777777777777778, \"#fb9f3a\"], [0.8888888888888888, \"#fdca26\"], [1.0, \"#f0f921\"]]}, \"colorway\": [\"#636efa\", \"#EF553B\", \"#00cc96\", \"#ab63fa\", \"#FFA15A\", \"#19d3f3\", \"#FF6692\", \"#B6E880\", \"#FF97FF\", \"#FECB52\"], \"font\": {\"color\": \"#2a3f5f\"}, \"geo\": {\"bgcolor\": \"white\", \"lakecolor\": \"white\", \"landcolor\": \"#E5ECF6\", \"showlakes\": true, \"showland\": true, \"subunitcolor\": \"white\"}, \"hoverlabel\": {\"align\": \"left\"}, \"hovermode\": \"closest\", \"mapbox\": {\"style\": \"light\"}, \"paper_bgcolor\": \"white\", \"plot_bgcolor\": \"#E5ECF6\", \"polar\": {\"angularaxis\": {\"gridcolor\": \"white\", \"linecolor\": \"white\", \"ticks\": \"\"}, \"bgcolor\": \"#E5ECF6\", \"radialaxis\": {\"gridcolor\": \"white\", \"linecolor\": \"white\", \"ticks\": \"\"}}, \"scene\": {\"xaxis\": {\"backgroundcolor\": \"#E5ECF6\", \"gridcolor\": \"white\", \"gridwidth\": 2, \"linecolor\": \"white\", \"showbackground\": true, \"ticks\": \"\", \"zerolinecolor\": \"white\"}, \"yaxis\": {\"backgroundcolor\": \"#E5ECF6\", \"gridcolor\": \"white\", \"gridwidth\": 2, \"linecolor\": \"white\", \"showbackground\": true, \"ticks\": \"\", \"zerolinecolor\": \"white\"}, \"zaxis\": {\"backgroundcolor\": \"#E5ECF6\", \"gridcolor\": \"white\", \"gridwidth\": 2, \"linecolor\": \"white\", \"showbackground\": true, \"ticks\": \"\", \"zerolinecolor\": \"white\"}}, \"shapedefaults\": {\"line\": {\"color\": \"#2a3f5f\"}}, \"ternary\": {\"aaxis\": {\"gridcolor\": \"white\", \"linecolor\": \"white\", \"ticks\": \"\"}, \"baxis\": {\"gridcolor\": \"white\", \"linecolor\": \"white\", \"ticks\": \"\"}, \"bgcolor\": \"#E5ECF6\", \"caxis\": {\"gridcolor\": \"white\", \"linecolor\": \"white\", \"ticks\": \"\"}}, \"title\": {\"x\": 0.05}, \"xaxis\": {\"automargin\": true, \"gridcolor\": \"white\", \"linecolor\": \"white\", \"ticks\": \"\", \"title\": {\"standoff\": 15}, \"zerolinecolor\": \"white\", \"zerolinewidth\": 2}, \"yaxis\": {\"automargin\": true, \"gridcolor\": \"white\", \"linecolor\": \"white\", \"ticks\": \"\", \"title\": {\"standoff\": 15}, \"zerolinecolor\": \"white\", \"zerolinewidth\": 2}}}, \"violinmode\": \"group\", \"xaxis\": {\"anchor\": \"y\", \"domain\": [0.0, 1.0]}, \"yaxis\": {\"anchor\": \"x\", \"domain\": [0.0, 1.0], \"title\": {\"text\": \"MAX_TEMPERATURE_C\"}}},\n",
              "                        {\"responsive\": true}\n",
              "                    ).then(function(){\n",
              "                            \n",
              "var gd = document.getElementById('3f0a0f1e-be85-410d-a743-cb7df9ca087b');\n",
              "var x = new MutationObserver(function (mutations, observer) {{\n",
              "        var display = window.getComputedStyle(gd).display;\n",
              "        if (!display || display === 'none') {{\n",
              "            console.log([gd, 'removed!']);\n",
              "            Plotly.purge(gd);\n",
              "            observer.disconnect();\n",
              "        }}\n",
              "}});\n",
              "\n",
              "// Listen for the removal of the full notebook cells\n",
              "var notebookContainer = gd.closest('#notebook-container');\n",
              "if (notebookContainer) {{\n",
              "    x.observe(notebookContainer, {childList: true});\n",
              "}}\n",
              "\n",
              "// Listen for the clearing of the current output cell\n",
              "var outputEl = gd.closest('.output');\n",
              "if (outputEl) {{\n",
              "    x.observe(outputEl, {childList: true});\n",
              "}}\n",
              "\n",
              "                        })\n",
              "                };\n",
              "                \n",
              "            </script>\n",
              "        </div>\n",
              "</body>\n",
              "</html>"
            ]
          },
          "metadata": {
            "tags": []
          }
        }
      ]
    },
    {
      "cell_type": "markdown",
      "metadata": {
        "id": "6nANYxrUDOF_"
      },
      "source": [
        "## 3D Chart\n",
        "Do you have some 3D glasses ?"
      ]
    },
    {
      "cell_type": "code",
      "metadata": {
        "id": "eIktpCxc2lRI",
        "colab": {
          "base_uri": "https://localhost:8080/",
          "height": 542
        },
        "outputId": "57c5cee3-d0b8-4deb-ba3e-809ede7da540"
      },
      "source": [
        "# Un graph en 3D avec MONTH\n",
        "# OK C'est cool, mais pas très lisible, essayons d'une autre manière, en dynamique peut etre ?\n",
        "\n",
        "# Draw a 3D Scatterplot with Max Temperature on X-axis, Windspeed on Y-axis and Month on Z-axis\n",
        "\n",
        "ThreeD_chart = px.scatter_3d(df_weather, x = \"MAX_TEMPERATURE_C\", y = \"WINDSPEED_MAX_KMH\", z = \"MONTH\", color = 'OPINION') \n",
        "\n",
        "ThreeD_chart.show()\n",
        "\n",
        "# OK, you can move the cube with your mouse, that's impressive. But it's not readable, let's try another thing with the same data."
      ],
      "execution_count": null,
      "outputs": [
        {
          "output_type": "display_data",
          "data": {
            "text/html": [
              "<html>\n",
              "<head><meta charset=\"utf-8\" /></head>\n",
              "<body>\n",
              "    <div>\n",
              "            <script src=\"https://cdnjs.cloudflare.com/ajax/libs/mathjax/2.7.5/MathJax.js?config=TeX-AMS-MML_SVG\"></script><script type=\"text/javascript\">if (window.MathJax) {MathJax.Hub.Config({SVG: {font: \"STIX-Web\"}});}</script>\n",
              "                <script type=\"text/javascript\">window.PlotlyConfig = {MathJaxConfig: 'local'};</script>\n",
              "        <script src=\"https://cdn.plot.ly/plotly-latest.min.js\"></script>    \n",
              "            <div id=\"5bde5a48-9a03-4f10-a27b-aa4dd1edceba\" class=\"plotly-graph-div\" style=\"height:525px; width:100%;\"></div>\n",
              "            <script type=\"text/javascript\">\n",
              "                \n",
              "                    window.PLOTLYENV=window.PLOTLYENV || {};\n",
              "                    \n",
              "                if (document.getElementById(\"5bde5a48-9a03-4f10-a27b-aa4dd1edceba\")) {\n",
              "                    Plotly.newPlot(\n",
              "                        '5bde5a48-9a03-4f10-a27b-aa4dd1edceba',\n",
              "                        [{\"hoverlabel\": {\"namelength\": 0}, \"hovertemplate\": \"OPINION=very bad<br>MAX_TEMPERATURE_C=%{x}<br>WINDSPEED_MAX_KMH=%{y}<br>MONTH=%{z}\", \"legendgroup\": \"OPINION=very bad\", \"marker\": {\"color\": \"#636efa\", \"symbol\": \"circle\"}, \"mode\": \"markers\", \"name\": \"OPINION=very bad\", \"scene\": \"scene\", \"showlegend\": true, \"type\": \"scatter3d\", \"x\": [9, 8, 6, 5, 6, 5, 10, 7, 7, 10, 9, 9, 8, 9, 7, 7, 7, 8, 7, 7, 8, 8, 9, 7, 8, 7, 8, 7, 10, 11, 10, 12, 10, 12, 12, 12, 12, 11, 11, 11, 11, 12, 12, 12, 10, 10, 10, 10, 12, 12, 9, 14, 11, 12, 15, 15, 22, 20, 14, 14, 11, 11, 10, 11, 9, 11, 8, 9, 8, 10, 9, 7, 11, 10, 12, 7, 7, 7, 8, 7, 11, 11, 9, 12, 10, 10, 11, 13, 12, 11, 10, 10, 14, 12, 11, 9, 12, 10], \"y\": [10, 18, 18, 15, 8, 7, 9, 18, 14, 10, 12, 3, 15, 18, 16, 16, 8, 18, 25, 8, 38, 14, 24, 20, 30, 30, 10, 32, 9, 40, 20, 7, 15, 15, 9, 28, 22, 20, 36, 34, 17, 5, 21, 18, 17, 25, 24, 16, 15, 16, 14, 30, 26, 17, 37, 42, 13, 34, 19, 36, 22, 26, 28, 20, 16, 5, 14, 18, 8, 8, 15, 13, 20, 32, 12, 22, 25, 19, 9, 5, 26, 24, 29, 31, 36, 22, 14, 38, 28, 36, 34, 19, 26, 24, 12, 11, 7, 13], \"z\": [1, 1, 1, 1, 1, 1, 1, 1, 1, 1, 1, 1, 1, 1, 1, 1, 1, 1, 1, 1, 1, 1, 1, 1, 1, 2, 2, 2, 2, 2, 2, 2, 2, 2, 2, 3, 3, 3, 3, 3, 3, 3, 3, 3, 4, 4, 4, 4, 4, 4, 4, 4, 5, 5, 5, 6, 7, 9, 10, 11, 11, 11, 11, 11, 11, 11, 11, 11, 11, 11, 11, 11, 11, 11, 11, 12, 12, 12, 12, 12, 12, 12, 12, 12, 12, 12, 12, 12, 12, 12, 12, 12, 12, 12, 12, 12, 12, 12]}, {\"hoverlabel\": {\"namelength\": 0}, \"hovertemplate\": \"OPINION=bad<br>MAX_TEMPERATURE_C=%{x}<br>WINDSPEED_MAX_KMH=%{y}<br>MONTH=%{z}\", \"legendgroup\": \"OPINION=bad\", \"marker\": {\"color\": \"#EF553B\", \"symbol\": \"circle\"}, \"mode\": \"markers\", \"name\": \"OPINION=bad\", \"scene\": \"scene\", \"showlegend\": true, \"type\": \"scatter3d\", \"x\": [10, 10, 10, 11, 11, 10, 9, 12, 11, 11, 12, 13, 14, 11, 11, 13, 12, 10, 11, 13, 11, 12, 14, 18, 13, 13, 12, 16, 15, 15, 15, 15, 14, 17, 18, 17, 19, 19, 15, 16, 23, 31, 26, 21, 23, 22, 20, 19, 24, 21, 17, 19, 19, 19, 20, 21, 19, 19, 17, 18, 18, 20, 20, 16, 16, 16, 16, 15, 15, 14, 15, 12, 14, 17, 16, 17, 14, 13, 12, 11, 11, 12, 13, 14, 13, 13, 9, 13, 13, 11, 12, 12, 12, 11], \"y\": [18, 19, 14, 12, 12, 21, 17, 26, 24, 28, 29, 26, 36, 46, 28, 23, 31, 31, 38, 30, 28, 30, 24, 22, 33, 29, 17, 11, 19, 17, 27, 23, 9, 16, 16, 15, 17, 25, 15, 23, 21, 8, 13, 32, 17, 28, 27, 23, 20, 33, 25, 31, 31, 24, 41, 19, 35, 14, 25, 16, 17, 28, 33, 28, 38, 28, 12, 16, 22, 19, 21, 19, 18, 12, 19, 25, 32, 39, 30, 26, 20, 14, 18, 33, 39, 30, 23, 12, 27, 34, 22, 11, 31, 9], \"z\": [1, 1, 1, 1, 1, 1, 2, 2, 2, 2, 2, 2, 3, 3, 3, 3, 3, 3, 3, 3, 3, 4, 4, 4, 4, 4, 4, 4, 5, 5, 5, 5, 5, 5, 5, 5, 5, 6, 6, 6, 6, 7, 7, 7, 8, 8, 8, 8, 8, 9, 9, 9, 9, 9, 9, 9, 10, 10, 10, 10, 10, 10, 10, 10, 10, 10, 10, 10, 10, 10, 10, 10, 10, 10, 10, 11, 11, 11, 11, 11, 11, 11, 11, 11, 11, 11, 11, 12, 12, 12, 12, 12, 12, 12]}, {\"hoverlabel\": {\"namelength\": 0}, \"hovertemplate\": \"OPINION=not good not bad<br>MAX_TEMPERATURE_C=%{x}<br>WINDSPEED_MAX_KMH=%{y}<br>MONTH=%{z}\", \"legendgroup\": \"OPINION=not good not bad\", \"marker\": {\"color\": \"#00cc96\", \"symbol\": \"circle\"}, \"mode\": \"markers\", \"name\": \"OPINION=not good not bad\", \"scene\": \"scene\", \"showlegend\": true, \"type\": \"scatter3d\", \"x\": [13, 15, 14, 15, 13, 17, 17, 14, 15, 14, 13, 13, 13, 15, 17, 13, 13, 14, 16, 17, 16, 14, 14, 14, 14, 15, 19, 14, 17, 15, 14, 16, 16, 16, 17, 17, 19, 15, 15, 20, 16, 18, 16, 17, 18, 18, 20, 34, 34, 22, 26, 25, 39, 23, 25, 28, 23, 22, 22, 21, 21, 26, 25, 30, 17, 20, 16, 18, 20, 17, 16, 16, 18, 13, 13, 13], \"y\": [14, 12, 14, 23, 10, 8, 14, 14, 14, 14, 23, 28, 6, 15, 10, 19, 19, 19, 15, 13, 6, 17, 17, 12, 28, 18, 24, 32, 9, 9, 13, 18, 19, 27, 21, 16, 15, 23, 18, 17, 15, 27, 14, 23, 21, 28, 26, 18, 13, 22, 18, 28, 27, 17, 24, 18, 32, 21, 21, 24, 19, 13, 9, 8, 15, 24, 32, 18, 22, 27, 12, 21, 24, 18, 12, 13], \"z\": [2, 2, 2, 2, 2, 2, 2, 2, 2, 3, 3, 3, 3, 3, 3, 3, 3, 3, 3, 3, 4, 4, 4, 4, 4, 4, 4, 4, 5, 5, 5, 5, 5, 5, 5, 5, 5, 5, 5, 5, 6, 6, 6, 6, 6, 6, 6, 6, 6, 7, 7, 7, 7, 7, 8, 8, 8, 8, 8, 8, 8, 8, 8, 8, 9, 9, 10, 10, 10, 10, 10, 10, 10, 11, 11, 12]}, {\"hoverlabel\": {\"namelength\": 0}, \"hovertemplate\": \"OPINION=good<br>MAX_TEMPERATURE_C=%{x}<br>WINDSPEED_MAX_KMH=%{y}<br>MONTH=%{z}\", \"legendgroup\": \"OPINION=good\", \"marker\": {\"color\": \"#ab63fa\", \"symbol\": \"circle\"}, \"mode\": \"markers\", \"name\": \"OPINION=good\", \"scene\": \"scene\", \"showlegend\": true, \"type\": \"scatter3d\", \"x\": [18, 19, 20, 18, 19, 18, 19, 21, 24, 21, 21, 18, 18, 18, 20, 21, 21, 20, 25, 23, 20, 18, 19, 19, 25, 28, 20, 20, 23, 27, 26, 31, 32, 26, 24, 25, 26, 28, 30, 28, 27, 25, 28, 26, 27, 26, 26, 29, 26, 33, 32, 23, 24, 23, 27, 29, 26, 25, 23, 23, 22, 23, 28, 30, 33, 30, 33, 29, 23, 23, 24, 26, 20, 19, 23, 22, 21, 22, 22, 24, 28, 29, 31, 21, 27, 23, 23, 27, 28, 19, 18, 21, 19], \"y\": [10, 10, 11, 8, 9, 13, 26, 16, 8, 21, 11, 10, 29, 26, 13, 7, 9, 20, 5, 17, 14, 16, 16, 17, 8, 19, 15, 13, 15, 16, 9, 23, 18, 10, 17, 18, 26, 24, 20, 12, 19, 25, 9, 21, 15, 21, 14, 7, 17, 13, 23, 22, 29, 19, 8, 12, 19, 22, 37, 25, 24, 11, 13, 19, 14, 13, 9, 20, 24, 14, 14, 9, 17, 20, 14, 18, 16, 19, 17, 11, 16, 21, 14, 15, 20, 31, 33, 27, 27, 17, 24, 21, 23], \"z\": [2, 2, 2, 3, 3, 4, 4, 4, 4, 4, 4, 4, 5, 5, 5, 5, 5, 5, 5, 6, 6, 6, 6, 6, 6, 6, 6, 6, 6, 6, 6, 6, 6, 6, 7, 7, 7, 7, 7, 7, 7, 7, 7, 7, 7, 7, 7, 7, 7, 7, 7, 7, 7, 7, 8, 8, 8, 8, 8, 8, 8, 8, 8, 8, 8, 8, 8, 8, 8, 9, 9, 9, 9, 9, 9, 9, 9, 9, 9, 9, 9, 9, 9, 9, 9, 9, 9, 9, 9, 10, 10, 10, 10]}, {\"hoverlabel\": {\"namelength\": 0}, \"hovertemplate\": \"OPINION=very good<br>MAX_TEMPERATURE_C=%{x}<br>WINDSPEED_MAX_KMH=%{y}<br>MONTH=%{z}\", \"legendgroup\": \"OPINION=very good\", \"marker\": {\"color\": \"#FFA15A\", \"symbol\": \"circle\"}, \"mode\": \"markers\", \"name\": \"OPINION=very good\", \"scene\": \"scene\", \"showlegend\": true, \"type\": \"scatter3d\", \"x\": [29, 27, 33, 29], \"y\": [9, 18, 6, 15], \"z\": [6, 7, 7, 8]}],\n",
              "                        {\"legend\": {\"tracegroupgap\": 0}, \"margin\": {\"t\": 60}, \"scene\": {\"domain\": {\"x\": [0.0, 1.0], \"y\": [0.0, 1.0]}, \"xaxis\": {\"title\": {\"text\": \"MAX_TEMPERATURE_C\"}}, \"yaxis\": {\"title\": {\"text\": \"WINDSPEED_MAX_KMH\"}}, \"zaxis\": {\"title\": {\"text\": \"MONTH\"}}}, \"template\": {\"data\": {\"bar\": [{\"error_x\": {\"color\": \"#2a3f5f\"}, \"error_y\": {\"color\": \"#2a3f5f\"}, \"marker\": {\"line\": {\"color\": \"#E5ECF6\", \"width\": 0.5}}, \"type\": \"bar\"}], \"barpolar\": [{\"marker\": {\"line\": {\"color\": \"#E5ECF6\", \"width\": 0.5}}, \"type\": \"barpolar\"}], \"carpet\": [{\"aaxis\": {\"endlinecolor\": \"#2a3f5f\", \"gridcolor\": \"white\", \"linecolor\": \"white\", \"minorgridcolor\": \"white\", \"startlinecolor\": \"#2a3f5f\"}, \"baxis\": {\"endlinecolor\": \"#2a3f5f\", \"gridcolor\": \"white\", \"linecolor\": \"white\", \"minorgridcolor\": \"white\", \"startlinecolor\": \"#2a3f5f\"}, \"type\": \"carpet\"}], \"choropleth\": [{\"colorbar\": {\"outlinewidth\": 0, \"ticks\": \"\"}, \"type\": \"choropleth\"}], \"contour\": [{\"colorbar\": {\"outlinewidth\": 0, \"ticks\": \"\"}, \"colorscale\": [[0.0, \"#0d0887\"], [0.1111111111111111, \"#46039f\"], [0.2222222222222222, \"#7201a8\"], [0.3333333333333333, \"#9c179e\"], [0.4444444444444444, \"#bd3786\"], [0.5555555555555556, \"#d8576b\"], [0.6666666666666666, \"#ed7953\"], [0.7777777777777778, \"#fb9f3a\"], [0.8888888888888888, \"#fdca26\"], [1.0, \"#f0f921\"]], \"type\": \"contour\"}], \"contourcarpet\": [{\"colorbar\": {\"outlinewidth\": 0, \"ticks\": \"\"}, \"type\": \"contourcarpet\"}], \"heatmap\": [{\"colorbar\": {\"outlinewidth\": 0, \"ticks\": \"\"}, \"colorscale\": [[0.0, \"#0d0887\"], [0.1111111111111111, \"#46039f\"], [0.2222222222222222, \"#7201a8\"], [0.3333333333333333, \"#9c179e\"], [0.4444444444444444, \"#bd3786\"], [0.5555555555555556, \"#d8576b\"], [0.6666666666666666, \"#ed7953\"], [0.7777777777777778, \"#fb9f3a\"], [0.8888888888888888, \"#fdca26\"], [1.0, \"#f0f921\"]], \"type\": \"heatmap\"}], \"heatmapgl\": [{\"colorbar\": {\"outlinewidth\": 0, \"ticks\": \"\"}, \"colorscale\": [[0.0, \"#0d0887\"], [0.1111111111111111, \"#46039f\"], [0.2222222222222222, \"#7201a8\"], [0.3333333333333333, \"#9c179e\"], [0.4444444444444444, \"#bd3786\"], [0.5555555555555556, \"#d8576b\"], [0.6666666666666666, \"#ed7953\"], [0.7777777777777778, \"#fb9f3a\"], [0.8888888888888888, \"#fdca26\"], [1.0, \"#f0f921\"]], \"type\": \"heatmapgl\"}], \"histogram\": [{\"marker\": {\"colorbar\": {\"outlinewidth\": 0, \"ticks\": \"\"}}, \"type\": \"histogram\"}], \"histogram2d\": [{\"colorbar\": {\"outlinewidth\": 0, \"ticks\": \"\"}, \"colorscale\": [[0.0, \"#0d0887\"], [0.1111111111111111, \"#46039f\"], [0.2222222222222222, \"#7201a8\"], [0.3333333333333333, \"#9c179e\"], [0.4444444444444444, \"#bd3786\"], [0.5555555555555556, \"#d8576b\"], [0.6666666666666666, \"#ed7953\"], [0.7777777777777778, \"#fb9f3a\"], [0.8888888888888888, \"#fdca26\"], [1.0, \"#f0f921\"]], \"type\": \"histogram2d\"}], \"histogram2dcontour\": [{\"colorbar\": {\"outlinewidth\": 0, \"ticks\": \"\"}, \"colorscale\": [[0.0, \"#0d0887\"], [0.1111111111111111, \"#46039f\"], [0.2222222222222222, \"#7201a8\"], [0.3333333333333333, \"#9c179e\"], [0.4444444444444444, \"#bd3786\"], [0.5555555555555556, \"#d8576b\"], [0.6666666666666666, \"#ed7953\"], [0.7777777777777778, \"#fb9f3a\"], [0.8888888888888888, \"#fdca26\"], [1.0, \"#f0f921\"]], \"type\": \"histogram2dcontour\"}], \"mesh3d\": [{\"colorbar\": {\"outlinewidth\": 0, \"ticks\": \"\"}, \"type\": \"mesh3d\"}], \"parcoords\": [{\"line\": {\"colorbar\": {\"outlinewidth\": 0, \"ticks\": \"\"}}, \"type\": \"parcoords\"}], \"pie\": [{\"automargin\": true, \"type\": \"pie\"}], \"scatter\": [{\"marker\": {\"colorbar\": {\"outlinewidth\": 0, \"ticks\": \"\"}}, \"type\": \"scatter\"}], \"scatter3d\": [{\"line\": {\"colorbar\": {\"outlinewidth\": 0, \"ticks\": \"\"}}, \"marker\": {\"colorbar\": {\"outlinewidth\": 0, \"ticks\": \"\"}}, \"type\": \"scatter3d\"}], \"scattercarpet\": [{\"marker\": {\"colorbar\": {\"outlinewidth\": 0, \"ticks\": \"\"}}, \"type\": \"scattercarpet\"}], \"scattergeo\": [{\"marker\": {\"colorbar\": {\"outlinewidth\": 0, \"ticks\": \"\"}}, \"type\": \"scattergeo\"}], \"scattergl\": [{\"marker\": {\"colorbar\": {\"outlinewidth\": 0, \"ticks\": \"\"}}, \"type\": \"scattergl\"}], \"scattermapbox\": [{\"marker\": {\"colorbar\": {\"outlinewidth\": 0, \"ticks\": \"\"}}, \"type\": \"scattermapbox\"}], \"scatterpolar\": [{\"marker\": {\"colorbar\": {\"outlinewidth\": 0, \"ticks\": \"\"}}, \"type\": \"scatterpolar\"}], \"scatterpolargl\": [{\"marker\": {\"colorbar\": {\"outlinewidth\": 0, \"ticks\": \"\"}}, \"type\": \"scatterpolargl\"}], \"scatterternary\": [{\"marker\": {\"colorbar\": {\"outlinewidth\": 0, \"ticks\": \"\"}}, \"type\": \"scatterternary\"}], \"surface\": [{\"colorbar\": {\"outlinewidth\": 0, \"ticks\": \"\"}, \"colorscale\": [[0.0, \"#0d0887\"], [0.1111111111111111, \"#46039f\"], [0.2222222222222222, \"#7201a8\"], [0.3333333333333333, \"#9c179e\"], [0.4444444444444444, \"#bd3786\"], [0.5555555555555556, \"#d8576b\"], [0.6666666666666666, \"#ed7953\"], [0.7777777777777778, \"#fb9f3a\"], [0.8888888888888888, \"#fdca26\"], [1.0, \"#f0f921\"]], \"type\": \"surface\"}], \"table\": [{\"cells\": {\"fill\": {\"color\": \"#EBF0F8\"}, \"line\": {\"color\": \"white\"}}, \"header\": {\"fill\": {\"color\": \"#C8D4E3\"}, \"line\": {\"color\": \"white\"}}, \"type\": \"table\"}]}, \"layout\": {\"annotationdefaults\": {\"arrowcolor\": \"#2a3f5f\", \"arrowhead\": 0, \"arrowwidth\": 1}, \"coloraxis\": {\"colorbar\": {\"outlinewidth\": 0, \"ticks\": \"\"}}, \"colorscale\": {\"diverging\": [[0, \"#8e0152\"], [0.1, \"#c51b7d\"], [0.2, \"#de77ae\"], [0.3, \"#f1b6da\"], [0.4, \"#fde0ef\"], [0.5, \"#f7f7f7\"], [0.6, \"#e6f5d0\"], [0.7, \"#b8e186\"], [0.8, \"#7fbc41\"], [0.9, \"#4d9221\"], [1, \"#276419\"]], \"sequential\": [[0.0, \"#0d0887\"], [0.1111111111111111, \"#46039f\"], [0.2222222222222222, \"#7201a8\"], [0.3333333333333333, \"#9c179e\"], [0.4444444444444444, \"#bd3786\"], [0.5555555555555556, \"#d8576b\"], [0.6666666666666666, \"#ed7953\"], [0.7777777777777778, \"#fb9f3a\"], [0.8888888888888888, \"#fdca26\"], [1.0, \"#f0f921\"]], \"sequentialminus\": [[0.0, \"#0d0887\"], [0.1111111111111111, \"#46039f\"], [0.2222222222222222, \"#7201a8\"], [0.3333333333333333, \"#9c179e\"], [0.4444444444444444, \"#bd3786\"], [0.5555555555555556, \"#d8576b\"], [0.6666666666666666, \"#ed7953\"], [0.7777777777777778, \"#fb9f3a\"], [0.8888888888888888, \"#fdca26\"], [1.0, \"#f0f921\"]]}, \"colorway\": [\"#636efa\", \"#EF553B\", \"#00cc96\", \"#ab63fa\", \"#FFA15A\", \"#19d3f3\", \"#FF6692\", \"#B6E880\", \"#FF97FF\", \"#FECB52\"], \"font\": {\"color\": \"#2a3f5f\"}, \"geo\": {\"bgcolor\": \"white\", \"lakecolor\": \"white\", \"landcolor\": \"#E5ECF6\", \"showlakes\": true, \"showland\": true, \"subunitcolor\": \"white\"}, \"hoverlabel\": {\"align\": \"left\"}, \"hovermode\": \"closest\", \"mapbox\": {\"style\": \"light\"}, \"paper_bgcolor\": \"white\", \"plot_bgcolor\": \"#E5ECF6\", \"polar\": {\"angularaxis\": {\"gridcolor\": \"white\", \"linecolor\": \"white\", \"ticks\": \"\"}, \"bgcolor\": \"#E5ECF6\", \"radialaxis\": {\"gridcolor\": \"white\", \"linecolor\": \"white\", \"ticks\": \"\"}}, \"scene\": {\"xaxis\": {\"backgroundcolor\": \"#E5ECF6\", \"gridcolor\": \"white\", \"gridwidth\": 2, \"linecolor\": \"white\", \"showbackground\": true, \"ticks\": \"\", \"zerolinecolor\": \"white\"}, \"yaxis\": {\"backgroundcolor\": \"#E5ECF6\", \"gridcolor\": \"white\", \"gridwidth\": 2, \"linecolor\": \"white\", \"showbackground\": true, \"ticks\": \"\", \"zerolinecolor\": \"white\"}, \"zaxis\": {\"backgroundcolor\": \"#E5ECF6\", \"gridcolor\": \"white\", \"gridwidth\": 2, \"linecolor\": \"white\", \"showbackground\": true, \"ticks\": \"\", \"zerolinecolor\": \"white\"}}, \"shapedefaults\": {\"line\": {\"color\": \"#2a3f5f\"}}, \"ternary\": {\"aaxis\": {\"gridcolor\": \"white\", \"linecolor\": \"white\", \"ticks\": \"\"}, \"baxis\": {\"gridcolor\": \"white\", \"linecolor\": \"white\", \"ticks\": \"\"}, \"bgcolor\": \"#E5ECF6\", \"caxis\": {\"gridcolor\": \"white\", \"linecolor\": \"white\", \"ticks\": \"\"}}, \"title\": {\"x\": 0.05}, \"xaxis\": {\"automargin\": true, \"gridcolor\": \"white\", \"linecolor\": \"white\", \"ticks\": \"\", \"title\": {\"standoff\": 15}, \"zerolinecolor\": \"white\", \"zerolinewidth\": 2}, \"yaxis\": {\"automargin\": true, \"gridcolor\": \"white\", \"linecolor\": \"white\", \"ticks\": \"\", \"title\": {\"standoff\": 15}, \"zerolinecolor\": \"white\", \"zerolinewidth\": 2}}}},\n",
              "                        {\"responsive\": true}\n",
              "                    ).then(function(){\n",
              "                            \n",
              "var gd = document.getElementById('5bde5a48-9a03-4f10-a27b-aa4dd1edceba');\n",
              "var x = new MutationObserver(function (mutations, observer) {{\n",
              "        var display = window.getComputedStyle(gd).display;\n",
              "        if (!display || display === 'none') {{\n",
              "            console.log([gd, 'removed!']);\n",
              "            Plotly.purge(gd);\n",
              "            observer.disconnect();\n",
              "        }}\n",
              "}});\n",
              "\n",
              "// Listen for the removal of the full notebook cells\n",
              "var notebookContainer = gd.closest('#notebook-container');\n",
              "if (notebookContainer) {{\n",
              "    x.observe(notebookContainer, {childList: true});\n",
              "}}\n",
              "\n",
              "// Listen for the clearing of the current output cell\n",
              "var outputEl = gd.closest('.output');\n",
              "if (outputEl) {{\n",
              "    x.observe(outputEl, {childList: true});\n",
              "}}\n",
              "\n",
              "                        })\n",
              "                };\n",
              "                \n",
              "            </script>\n",
              "        </div>\n",
              "</body>\n",
              "</html>"
            ]
          },
          "metadata": {
            "tags": []
          }
        }
      ]
    },
    {
      "cell_type": "markdown",
      "metadata": {
        "id": "PatCi-HlEIV4"
      },
      "source": [
        "## 3D Chart are impressive, but not readable, let's try another thing with the same data.\n",
        "## Dynamic chart !"
      ]
    },
    {
      "cell_type": "code",
      "metadata": {
        "id": "KHdEHyk83no2",
        "colab": {
          "base_uri": "https://localhost:8080/",
          "height": 542
        },
        "outputId": "b433af84-fad4-4cad-f3b5-7ea0671488db"
      },
      "source": [
        "# Draw a scatterplot with Max Temperature on X-axis, Windspeed on Y-axis (same as previously), and Month on animation_frame argument.\n",
        "\n",
        "ThreeD_chart2 = px.scatter_3d(df_weather, x = \"MAX_TEMPERATURE_C\", y = \"WINDSPEED_MAX_KMH\",  z = \"MONTH\", \n",
        "                    animation_frame = \"MONTH\", \n",
        "                    range_y=(0,50)) \n",
        "ThreeD_chart2.show()\n",
        "\n",
        "\n",
        "# You can push the play button below. That's cool, it's dynamic and readable !\n",
        "# But... hey ! My dots are going away outside of my chart ! You have to catch them ! (or maybe just change the default value of the scale axis range)\n",
        "\n",
        "\n",
        "\n"
      ],
      "execution_count": null,
      "outputs": [
        {
          "output_type": "display_data",
          "data": {
            "text/html": [
              "<html>\n",
              "<head><meta charset=\"utf-8\" /></head>\n",
              "<body>\n",
              "    <div>\n",
              "            <script src=\"https://cdnjs.cloudflare.com/ajax/libs/mathjax/2.7.5/MathJax.js?config=TeX-AMS-MML_SVG\"></script><script type=\"text/javascript\">if (window.MathJax) {MathJax.Hub.Config({SVG: {font: \"STIX-Web\"}});}</script>\n",
              "                <script type=\"text/javascript\">window.PlotlyConfig = {MathJaxConfig: 'local'};</script>\n",
              "        <script src=\"https://cdn.plot.ly/plotly-latest.min.js\"></script>    \n",
              "            <div id=\"98623058-21c9-4e38-9ed1-a0e6eb5611b8\" class=\"plotly-graph-div\" style=\"height:525px; width:100%;\"></div>\n",
              "            <script type=\"text/javascript\">\n",
              "                \n",
              "                    window.PLOTLYENV=window.PLOTLYENV || {};\n",
              "                    \n",
              "                if (document.getElementById(\"98623058-21c9-4e38-9ed1-a0e6eb5611b8\")) {\n",
              "                    Plotly.newPlot(\n",
              "                        '98623058-21c9-4e38-9ed1-a0e6eb5611b8',\n",
              "                        [{\"hoverlabel\": {\"namelength\": 0}, \"hovertemplate\": \"MONTH=%{z}<br>MAX_TEMPERATURE_C=%{x}<br>WINDSPEED_MAX_KMH=%{y}\", \"legendgroup\": \"\", \"marker\": {\"color\": \"#636efa\", \"symbol\": \"circle\"}, \"mode\": \"markers\", \"name\": \"\", \"scene\": \"scene\", \"showlegend\": false, \"type\": \"scatter3d\", \"x\": [9, 8, 6, 5, 6, 5, 10, 10, 7, 7, 10, 9, 10, 10, 9, 8, 9, 7, 11, 7, 7, 8, 7, 7, 11, 10, 8, 8, 9, 7, 8], \"y\": [10, 18, 18, 15, 8, 7, 9, 18, 18, 14, 10, 12, 19, 14, 3, 15, 18, 16, 12, 16, 8, 18, 25, 8, 12, 21, 38, 14, 24, 20, 30], \"z\": [1, 1, 1, 1, 1, 1, 1, 1, 1, 1, 1, 1, 1, 1, 1, 1, 1, 1, 1, 1, 1, 1, 1, 1, 1, 1, 1, 1, 1, 1, 1]}],\n",
              "                        {\"legend\": {\"tracegroupgap\": 0}, \"margin\": {\"t\": 60}, \"scene\": {\"domain\": {\"x\": [0.0, 1.0], \"y\": [0.0, 1.0]}, \"xaxis\": {\"title\": {\"text\": \"MAX_TEMPERATURE_C\"}}, \"yaxis\": {\"range\": [0, 50], \"title\": {\"text\": \"WINDSPEED_MAX_KMH\"}}, \"zaxis\": {\"categoryarray\": [1, 2, 3, 4, 5, 6, 7, 8, 9, 10, 11, 12], \"categoryorder\": \"array\", \"title\": {\"text\": \"MONTH\"}}}, \"sliders\": [{\"active\": 0, \"currentvalue\": {\"prefix\": \"MONTH=\"}, \"len\": 0.9, \"pad\": {\"b\": 10, \"t\": 60}, \"steps\": [{\"args\": [[\"1\"], {\"frame\": {\"duration\": 0, \"redraw\": true}, \"fromcurrent\": true, \"mode\": \"immediate\", \"transition\": {\"duration\": 0, \"easing\": \"linear\"}}], \"label\": \"1\", \"method\": \"animate\"}, {\"args\": [[\"2\"], {\"frame\": {\"duration\": 0, \"redraw\": true}, \"fromcurrent\": true, \"mode\": \"immediate\", \"transition\": {\"duration\": 0, \"easing\": \"linear\"}}], \"label\": \"2\", \"method\": \"animate\"}, {\"args\": [[\"3\"], {\"frame\": {\"duration\": 0, \"redraw\": true}, \"fromcurrent\": true, \"mode\": \"immediate\", \"transition\": {\"duration\": 0, \"easing\": \"linear\"}}], \"label\": \"3\", \"method\": \"animate\"}, {\"args\": [[\"4\"], {\"frame\": {\"duration\": 0, \"redraw\": true}, \"fromcurrent\": true, \"mode\": \"immediate\", \"transition\": {\"duration\": 0, \"easing\": \"linear\"}}], \"label\": \"4\", \"method\": \"animate\"}, {\"args\": [[\"5\"], {\"frame\": {\"duration\": 0, \"redraw\": true}, \"fromcurrent\": true, \"mode\": \"immediate\", \"transition\": {\"duration\": 0, \"easing\": \"linear\"}}], \"label\": \"5\", \"method\": \"animate\"}, {\"args\": [[\"6\"], {\"frame\": {\"duration\": 0, \"redraw\": true}, \"fromcurrent\": true, \"mode\": \"immediate\", \"transition\": {\"duration\": 0, \"easing\": \"linear\"}}], \"label\": \"6\", \"method\": \"animate\"}, {\"args\": [[\"7\"], {\"frame\": {\"duration\": 0, \"redraw\": true}, \"fromcurrent\": true, \"mode\": \"immediate\", \"transition\": {\"duration\": 0, \"easing\": \"linear\"}}], \"label\": \"7\", \"method\": \"animate\"}, {\"args\": [[\"8\"], {\"frame\": {\"duration\": 0, \"redraw\": true}, \"fromcurrent\": true, \"mode\": \"immediate\", \"transition\": {\"duration\": 0, \"easing\": \"linear\"}}], \"label\": \"8\", \"method\": \"animate\"}, {\"args\": [[\"9\"], {\"frame\": {\"duration\": 0, \"redraw\": true}, \"fromcurrent\": true, \"mode\": \"immediate\", \"transition\": {\"duration\": 0, \"easing\": \"linear\"}}], \"label\": \"9\", \"method\": \"animate\"}, {\"args\": [[\"10\"], {\"frame\": {\"duration\": 0, \"redraw\": true}, \"fromcurrent\": true, \"mode\": \"immediate\", \"transition\": {\"duration\": 0, \"easing\": \"linear\"}}], \"label\": \"10\", \"method\": \"animate\"}, {\"args\": [[\"11\"], {\"frame\": {\"duration\": 0, \"redraw\": true}, \"fromcurrent\": true, \"mode\": \"immediate\", \"transition\": {\"duration\": 0, \"easing\": \"linear\"}}], \"label\": \"11\", \"method\": \"animate\"}, {\"args\": [[\"12\"], {\"frame\": {\"duration\": 0, \"redraw\": true}, \"fromcurrent\": true, \"mode\": \"immediate\", \"transition\": {\"duration\": 0, \"easing\": \"linear\"}}], \"label\": \"12\", \"method\": \"animate\"}], \"x\": 0.1, \"xanchor\": \"left\", \"y\": 0, \"yanchor\": \"top\"}], \"template\": {\"data\": {\"bar\": [{\"error_x\": {\"color\": \"#2a3f5f\"}, \"error_y\": {\"color\": \"#2a3f5f\"}, \"marker\": {\"line\": {\"color\": \"#E5ECF6\", \"width\": 0.5}}, \"type\": \"bar\"}], \"barpolar\": [{\"marker\": {\"line\": {\"color\": \"#E5ECF6\", \"width\": 0.5}}, \"type\": \"barpolar\"}], \"carpet\": [{\"aaxis\": {\"endlinecolor\": \"#2a3f5f\", \"gridcolor\": \"white\", \"linecolor\": \"white\", \"minorgridcolor\": \"white\", \"startlinecolor\": \"#2a3f5f\"}, \"baxis\": {\"endlinecolor\": \"#2a3f5f\", \"gridcolor\": \"white\", \"linecolor\": \"white\", \"minorgridcolor\": \"white\", \"startlinecolor\": \"#2a3f5f\"}, \"type\": \"carpet\"}], \"choropleth\": [{\"colorbar\": {\"outlinewidth\": 0, \"ticks\": \"\"}, \"type\": \"choropleth\"}], \"contour\": [{\"colorbar\": {\"outlinewidth\": 0, \"ticks\": \"\"}, \"colorscale\": [[0.0, \"#0d0887\"], [0.1111111111111111, \"#46039f\"], [0.2222222222222222, \"#7201a8\"], [0.3333333333333333, \"#9c179e\"], [0.4444444444444444, \"#bd3786\"], [0.5555555555555556, \"#d8576b\"], [0.6666666666666666, \"#ed7953\"], [0.7777777777777778, \"#fb9f3a\"], [0.8888888888888888, \"#fdca26\"], [1.0, \"#f0f921\"]], \"type\": \"contour\"}], \"contourcarpet\": [{\"colorbar\": {\"outlinewidth\": 0, \"ticks\": \"\"}, \"type\": \"contourcarpet\"}], \"heatmap\": [{\"colorbar\": {\"outlinewidth\": 0, \"ticks\": \"\"}, \"colorscale\": [[0.0, \"#0d0887\"], [0.1111111111111111, \"#46039f\"], [0.2222222222222222, \"#7201a8\"], [0.3333333333333333, \"#9c179e\"], [0.4444444444444444, \"#bd3786\"], [0.5555555555555556, \"#d8576b\"], [0.6666666666666666, \"#ed7953\"], [0.7777777777777778, \"#fb9f3a\"], [0.8888888888888888, \"#fdca26\"], [1.0, \"#f0f921\"]], \"type\": \"heatmap\"}], \"heatmapgl\": [{\"colorbar\": {\"outlinewidth\": 0, \"ticks\": \"\"}, \"colorscale\": [[0.0, \"#0d0887\"], [0.1111111111111111, \"#46039f\"], [0.2222222222222222, \"#7201a8\"], [0.3333333333333333, \"#9c179e\"], [0.4444444444444444, \"#bd3786\"], [0.5555555555555556, \"#d8576b\"], [0.6666666666666666, \"#ed7953\"], [0.7777777777777778, \"#fb9f3a\"], [0.8888888888888888, \"#fdca26\"], [1.0, \"#f0f921\"]], \"type\": \"heatmapgl\"}], \"histogram\": [{\"marker\": {\"colorbar\": {\"outlinewidth\": 0, \"ticks\": \"\"}}, \"type\": \"histogram\"}], \"histogram2d\": [{\"colorbar\": {\"outlinewidth\": 0, \"ticks\": \"\"}, \"colorscale\": [[0.0, \"#0d0887\"], [0.1111111111111111, \"#46039f\"], [0.2222222222222222, \"#7201a8\"], [0.3333333333333333, \"#9c179e\"], [0.4444444444444444, \"#bd3786\"], [0.5555555555555556, \"#d8576b\"], [0.6666666666666666, \"#ed7953\"], [0.7777777777777778, \"#fb9f3a\"], [0.8888888888888888, \"#fdca26\"], [1.0, \"#f0f921\"]], \"type\": \"histogram2d\"}], \"histogram2dcontour\": [{\"colorbar\": {\"outlinewidth\": 0, \"ticks\": \"\"}, \"colorscale\": [[0.0, \"#0d0887\"], [0.1111111111111111, \"#46039f\"], [0.2222222222222222, \"#7201a8\"], [0.3333333333333333, \"#9c179e\"], [0.4444444444444444, \"#bd3786\"], [0.5555555555555556, \"#d8576b\"], [0.6666666666666666, \"#ed7953\"], [0.7777777777777778, \"#fb9f3a\"], [0.8888888888888888, \"#fdca26\"], [1.0, \"#f0f921\"]], \"type\": \"histogram2dcontour\"}], \"mesh3d\": [{\"colorbar\": {\"outlinewidth\": 0, \"ticks\": \"\"}, \"type\": \"mesh3d\"}], \"parcoords\": [{\"line\": {\"colorbar\": {\"outlinewidth\": 0, \"ticks\": \"\"}}, \"type\": \"parcoords\"}], \"pie\": [{\"automargin\": true, \"type\": \"pie\"}], \"scatter\": [{\"marker\": {\"colorbar\": {\"outlinewidth\": 0, \"ticks\": \"\"}}, \"type\": \"scatter\"}], \"scatter3d\": [{\"line\": {\"colorbar\": {\"outlinewidth\": 0, \"ticks\": \"\"}}, \"marker\": {\"colorbar\": {\"outlinewidth\": 0, \"ticks\": \"\"}}, \"type\": \"scatter3d\"}], \"scattercarpet\": [{\"marker\": {\"colorbar\": {\"outlinewidth\": 0, \"ticks\": \"\"}}, \"type\": \"scattercarpet\"}], \"scattergeo\": [{\"marker\": {\"colorbar\": {\"outlinewidth\": 0, \"ticks\": \"\"}}, \"type\": \"scattergeo\"}], \"scattergl\": [{\"marker\": {\"colorbar\": {\"outlinewidth\": 0, \"ticks\": \"\"}}, \"type\": \"scattergl\"}], \"scattermapbox\": [{\"marker\": {\"colorbar\": {\"outlinewidth\": 0, \"ticks\": \"\"}}, \"type\": \"scattermapbox\"}], \"scatterpolar\": [{\"marker\": {\"colorbar\": {\"outlinewidth\": 0, \"ticks\": \"\"}}, \"type\": \"scatterpolar\"}], \"scatterpolargl\": [{\"marker\": {\"colorbar\": {\"outlinewidth\": 0, \"ticks\": \"\"}}, \"type\": \"scatterpolargl\"}], \"scatterternary\": [{\"marker\": {\"colorbar\": {\"outlinewidth\": 0, \"ticks\": \"\"}}, \"type\": \"scatterternary\"}], \"surface\": [{\"colorbar\": {\"outlinewidth\": 0, \"ticks\": \"\"}, \"colorscale\": [[0.0, \"#0d0887\"], [0.1111111111111111, \"#46039f\"], [0.2222222222222222, \"#7201a8\"], [0.3333333333333333, \"#9c179e\"], [0.4444444444444444, \"#bd3786\"], [0.5555555555555556, \"#d8576b\"], [0.6666666666666666, \"#ed7953\"], [0.7777777777777778, \"#fb9f3a\"], [0.8888888888888888, \"#fdca26\"], [1.0, \"#f0f921\"]], \"type\": \"surface\"}], \"table\": [{\"cells\": {\"fill\": {\"color\": \"#EBF0F8\"}, \"line\": {\"color\": \"white\"}}, \"header\": {\"fill\": {\"color\": \"#C8D4E3\"}, \"line\": {\"color\": \"white\"}}, \"type\": \"table\"}]}, \"layout\": {\"annotationdefaults\": {\"arrowcolor\": \"#2a3f5f\", \"arrowhead\": 0, \"arrowwidth\": 1}, \"coloraxis\": {\"colorbar\": {\"outlinewidth\": 0, \"ticks\": \"\"}}, \"colorscale\": {\"diverging\": [[0, \"#8e0152\"], [0.1, \"#c51b7d\"], [0.2, \"#de77ae\"], [0.3, \"#f1b6da\"], [0.4, \"#fde0ef\"], [0.5, \"#f7f7f7\"], [0.6, \"#e6f5d0\"], [0.7, \"#b8e186\"], [0.8, \"#7fbc41\"], [0.9, \"#4d9221\"], [1, \"#276419\"]], \"sequential\": [[0.0, \"#0d0887\"], [0.1111111111111111, \"#46039f\"], [0.2222222222222222, \"#7201a8\"], [0.3333333333333333, \"#9c179e\"], [0.4444444444444444, \"#bd3786\"], [0.5555555555555556, \"#d8576b\"], [0.6666666666666666, \"#ed7953\"], [0.7777777777777778, \"#fb9f3a\"], [0.8888888888888888, \"#fdca26\"], [1.0, \"#f0f921\"]], \"sequentialminus\": [[0.0, \"#0d0887\"], [0.1111111111111111, \"#46039f\"], [0.2222222222222222, \"#7201a8\"], [0.3333333333333333, \"#9c179e\"], [0.4444444444444444, \"#bd3786\"], [0.5555555555555556, \"#d8576b\"], [0.6666666666666666, \"#ed7953\"], [0.7777777777777778, \"#fb9f3a\"], [0.8888888888888888, \"#fdca26\"], [1.0, \"#f0f921\"]]}, \"colorway\": [\"#636efa\", \"#EF553B\", \"#00cc96\", \"#ab63fa\", \"#FFA15A\", \"#19d3f3\", \"#FF6692\", \"#B6E880\", \"#FF97FF\", \"#FECB52\"], \"font\": {\"color\": \"#2a3f5f\"}, \"geo\": {\"bgcolor\": \"white\", \"lakecolor\": \"white\", \"landcolor\": \"#E5ECF6\", \"showlakes\": true, \"showland\": true, \"subunitcolor\": \"white\"}, \"hoverlabel\": {\"align\": \"left\"}, \"hovermode\": \"closest\", \"mapbox\": {\"style\": \"light\"}, \"paper_bgcolor\": \"white\", \"plot_bgcolor\": \"#E5ECF6\", \"polar\": {\"angularaxis\": {\"gridcolor\": \"white\", \"linecolor\": \"white\", \"ticks\": \"\"}, \"bgcolor\": \"#E5ECF6\", \"radialaxis\": {\"gridcolor\": \"white\", \"linecolor\": \"white\", \"ticks\": \"\"}}, \"scene\": {\"xaxis\": {\"backgroundcolor\": \"#E5ECF6\", \"gridcolor\": \"white\", \"gridwidth\": 2, \"linecolor\": \"white\", \"showbackground\": true, \"ticks\": \"\", \"zerolinecolor\": \"white\"}, \"yaxis\": {\"backgroundcolor\": \"#E5ECF6\", \"gridcolor\": \"white\", \"gridwidth\": 2, \"linecolor\": \"white\", \"showbackground\": true, \"ticks\": \"\", \"zerolinecolor\": \"white\"}, \"zaxis\": {\"backgroundcolor\": \"#E5ECF6\", \"gridcolor\": \"white\", \"gridwidth\": 2, \"linecolor\": \"white\", \"showbackground\": true, \"ticks\": \"\", \"zerolinecolor\": \"white\"}}, \"shapedefaults\": {\"line\": {\"color\": \"#2a3f5f\"}}, \"ternary\": {\"aaxis\": {\"gridcolor\": \"white\", \"linecolor\": \"white\", \"ticks\": \"\"}, \"baxis\": {\"gridcolor\": \"white\", \"linecolor\": \"white\", \"ticks\": \"\"}, \"bgcolor\": \"#E5ECF6\", \"caxis\": {\"gridcolor\": \"white\", \"linecolor\": \"white\", \"ticks\": \"\"}}, \"title\": {\"x\": 0.05}, \"xaxis\": {\"automargin\": true, \"gridcolor\": \"white\", \"linecolor\": \"white\", \"ticks\": \"\", \"title\": {\"standoff\": 15}, \"zerolinecolor\": \"white\", \"zerolinewidth\": 2}, \"yaxis\": {\"automargin\": true, \"gridcolor\": \"white\", \"linecolor\": \"white\", \"ticks\": \"\", \"title\": {\"standoff\": 15}, \"zerolinecolor\": \"white\", \"zerolinewidth\": 2}}}, \"updatemenus\": [{\"buttons\": [{\"args\": [null, {\"frame\": {\"duration\": 500, \"redraw\": true}, \"fromcurrent\": true, \"mode\": \"immediate\", \"transition\": {\"duration\": 500, \"easing\": \"linear\"}}], \"label\": \"&#9654;\", \"method\": \"animate\"}, {\"args\": [[null], {\"frame\": {\"duration\": 0, \"redraw\": true}, \"fromcurrent\": true, \"mode\": \"immediate\", \"transition\": {\"duration\": 0, \"easing\": \"linear\"}}], \"label\": \"&#9724;\", \"method\": \"animate\"}], \"direction\": \"left\", \"pad\": {\"r\": 10, \"t\": 70}, \"showactive\": false, \"type\": \"buttons\", \"x\": 0.1, \"xanchor\": \"right\", \"y\": 0, \"yanchor\": \"top\"}]},\n",
              "                        {\"responsive\": true}\n",
              "                    ).then(function(){\n",
              "                            Plotly.addFrames('98623058-21c9-4e38-9ed1-a0e6eb5611b8', [{\"data\": [{\"hoverlabel\": {\"namelength\": 0}, \"hovertemplate\": \"MONTH=%{z}<br>MAX_TEMPERATURE_C=%{x}<br>WINDSPEED_MAX_KMH=%{y}\", \"legendgroup\": \"\", \"marker\": {\"color\": \"#636efa\", \"symbol\": \"circle\"}, \"mode\": \"markers\", \"name\": \"\", \"scene\": \"scene\", \"showlegend\": false, \"x\": [9, 8, 6, 5, 6, 5, 10, 10, 7, 7, 10, 9, 10, 10, 9, 8, 9, 7, 11, 7, 7, 8, 7, 7, 11, 10, 8, 8, 9, 7, 8], \"y\": [10, 18, 18, 15, 8, 7, 9, 18, 18, 14, 10, 12, 19, 14, 3, 15, 18, 16, 12, 16, 8, 18, 25, 8, 12, 21, 38, 14, 24, 20, 30], \"z\": [1, 1, 1, 1, 1, 1, 1, 1, 1, 1, 1, 1, 1, 1, 1, 1, 1, 1, 1, 1, 1, 1, 1, 1, 1, 1, 1, 1, 1, 1, 1], \"type\": \"scatter3d\"}], \"name\": \"1\"}, {\"data\": [{\"hoverlabel\": {\"namelength\": 0}, \"hovertemplate\": \"MONTH=%{z}<br>MAX_TEMPERATURE_C=%{x}<br>WINDSPEED_MAX_KMH=%{y}\", \"legendgroup\": \"\", \"marker\": {\"color\": \"#636efa\", \"symbol\": \"circle\"}, \"mode\": \"markers\", \"name\": \"\", \"scene\": \"scene\", \"showlegend\": false, \"x\": [9, 7, 8, 7, 10, 12, 11, 11, 12, 11, 10, 12, 10, 13, 15, 14, 15, 12, 12, 13, 17, 17, 18, 14, 15, 19, 20, 13], \"y\": [17, 30, 10, 32, 9, 26, 24, 28, 29, 40, 20, 7, 15, 14, 12, 14, 23, 15, 9, 10, 8, 14, 10, 14, 14, 10, 11, 26], \"z\": [2, 2, 2, 2, 2, 2, 2, 2, 2, 2, 2, 2, 2, 2, 2, 2, 2, 2, 2, 2, 2, 2, 2, 2, 2, 2, 2, 2], \"type\": \"scatter3d\"}], \"name\": \"2\"}, {\"data\": [{\"hoverlabel\": {\"namelength\": 0}, \"hovertemplate\": \"MONTH=%{z}<br>MAX_TEMPERATURE_C=%{x}<br>WINDSPEED_MAX_KMH=%{y}\", \"legendgroup\": \"\", \"marker\": {\"color\": \"#636efa\", \"symbol\": \"circle\"}, \"mode\": \"markers\", \"name\": \"\", \"scene\": \"scene\", \"showlegend\": false, \"x\": [14, 13, 14, 11, 13, 12, 11, 12, 13, 12, 11, 11, 10, 11, 13, 11, 11, 11, 12, 13, 15, 18, 17, 13, 12, 12, 13, 14, 16, 17, 19], \"y\": [14, 23, 36, 46, 28, 28, 28, 22, 23, 31, 20, 36, 31, 38, 30, 28, 34, 17, 5, 6, 15, 8, 10, 19, 21, 18, 19, 19, 15, 13, 9], \"z\": [3, 3, 3, 3, 3, 3, 3, 3, 3, 3, 3, 3, 3, 3, 3, 3, 3, 3, 3, 3, 3, 3, 3, 3, 3, 3, 3, 3, 3, 3, 3], \"type\": \"scatter3d\"}], \"name\": \"3\"}, {\"data\": [{\"hoverlabel\": {\"namelength\": 0}, \"hovertemplate\": \"MONTH=%{z}<br>MAX_TEMPERATURE_C=%{x}<br>WINDSPEED_MAX_KMH=%{y}\", \"legendgroup\": \"\", \"marker\": {\"color\": \"#636efa\", \"symbol\": \"circle\"}, \"mode\": \"markers\", \"name\": \"\", \"scene\": \"scene\", \"showlegend\": false, \"x\": [18, 12, 10, 10, 10, 10, 14, 12, 16, 14, 14, 14, 12, 9, 14, 15, 19, 21, 24, 21, 21, 19, 18, 14, 13, 14, 13, 12, 16, 18], \"y\": [13, 30, 17, 25, 24, 16, 24, 15, 6, 17, 17, 12, 16, 14, 28, 18, 26, 16, 8, 21, 11, 24, 22, 30, 33, 32, 29, 17, 11, 10], \"z\": [4, 4, 4, 4, 4, 4, 4, 4, 4, 4, 4, 4, 4, 4, 4, 4, 4, 4, 4, 4, 4, 4, 4, 4, 4, 4, 4, 4, 4, 4], \"type\": \"scatter3d\"}], \"name\": \"4\"}, {\"data\": [{\"hoverlabel\": {\"namelength\": 0}, \"hovertemplate\": \"MONTH=%{z}<br>MAX_TEMPERATURE_C=%{x}<br>WINDSPEED_MAX_KMH=%{y}\", \"legendgroup\": \"\", \"marker\": {\"color\": \"#636efa\", \"symbol\": \"circle\"}, \"mode\": \"markers\", \"name\": \"\", \"scene\": \"scene\", \"showlegend\": false, \"x\": [17, 15, 15, 11, 12, 15, 14, 15, 15, 15, 16, 16, 16, 18, 18, 17, 17, 14, 17, 18, 20, 21, 21, 20, 19, 17, 19, 15, 15, 20, 25], \"y\": [9, 19, 17, 26, 17, 9, 13, 37, 27, 23, 18, 19, 27, 29, 26, 21, 16, 9, 16, 16, 13, 7, 9, 20, 15, 15, 17, 23, 18, 17, 5], \"z\": [5, 5, 5, 5, 5, 5, 5, 5, 5, 5, 5, 5, 5, 5, 5, 5, 5, 5, 5, 5, 5, 5, 5, 5, 5, 5, 5, 5, 5, 5, 5], \"type\": \"scatter3d\"}], \"name\": \"5\"}, {\"data\": [{\"hoverlabel\": {\"namelength\": 0}, \"hovertemplate\": \"MONTH=%{z}<br>MAX_TEMPERATURE_C=%{x}<br>WINDSPEED_MAX_KMH=%{y}\", \"legendgroup\": \"\", \"marker\": {\"color\": \"#636efa\", \"symbol\": \"circle\"}, \"mode\": \"markers\", \"name\": \"\", \"scene\": \"scene\", \"showlegend\": false, \"x\": [29, 23, 20, 19, 16, 18, 15, 18, 16, 17, 15, 16, 18, 19, 18, 19, 25, 28, 20, 20, 20, 23, 27, 23, 26, 31, 34, 34, 32, 26], \"y\": [9, 17, 14, 25, 15, 16, 42, 27, 14, 23, 15, 23, 21, 16, 28, 17, 8, 19, 26, 15, 13, 15, 16, 21, 9, 23, 18, 13, 18, 10], \"z\": [6, 6, 6, 6, 6, 6, 6, 6, 6, 6, 6, 6, 6, 6, 6, 6, 6, 6, 6, 6, 6, 6, 6, 6, 6, 6, 6, 6, 6, 6], \"type\": \"scatter3d\"}], \"name\": \"6\"}, {\"data\": [{\"hoverlabel\": {\"namelength\": 0}, \"hovertemplate\": \"MONTH=%{z}<br>MAX_TEMPERATURE_C=%{x}<br>WINDSPEED_MAX_KMH=%{y}\", \"legendgroup\": \"\", \"marker\": {\"color\": \"#636efa\", \"symbol\": \"circle\"}, \"mode\": \"markers\", \"name\": \"\", \"scene\": \"scene\", \"showlegend\": false, \"x\": [24, 25, 26, 28, 30, 31, 28, 27, 25, 28, 26, 26, 27, 26, 26, 29, 27, 22, 26, 25, 26, 33, 39, 33, 32, 22, 23, 23, 24, 21, 23], \"y\": [17, 18, 26, 24, 20, 8, 12, 19, 25, 9, 21, 13, 15, 21, 14, 7, 18, 22, 18, 28, 17, 6, 27, 13, 23, 13, 17, 22, 29, 32, 19], \"z\": [7, 7, 7, 7, 7, 7, 7, 7, 7, 7, 7, 7, 7, 7, 7, 7, 7, 7, 7, 7, 7, 7, 7, 7, 7, 7, 7, 7, 7, 7, 7], \"type\": \"scatter3d\"}], \"name\": \"7\"}, {\"data\": [{\"hoverlabel\": {\"namelength\": 0}, \"hovertemplate\": \"MONTH=%{z}<br>MAX_TEMPERATURE_C=%{x}<br>WINDSPEED_MAX_KMH=%{y}\", \"legendgroup\": \"\", \"marker\": {\"color\": \"#636efa\", \"symbol\": \"circle\"}, \"mode\": \"markers\", \"name\": \"\", \"scene\": \"scene\", \"showlegend\": false, \"x\": [27, 29, 29, 26, 25, 23, 25, 28, 23, 23, 23, 22, 22, 20, 22, 22, 19, 21, 21, 23, 26, 28, 30, 33, 30, 33, 29, 24, 25, 30, 23], \"y\": [8, 15, 12, 19, 24, 17, 22, 18, 37, 32, 25, 28, 21, 27, 21, 24, 23, 24, 19, 11, 13, 13, 19, 14, 13, 9, 20, 20, 9, 8, 24], \"z\": [8, 8, 8, 8, 8, 8, 8, 8, 8, 8, 8, 8, 8, 8, 8, 8, 8, 8, 8, 8, 8, 8, 8, 8, 8, 8, 8, 8, 8, 8, 8], \"type\": \"scatter3d\"}], \"name\": \"8\"}, {\"data\": [{\"hoverlabel\": {\"namelength\": 0}, \"hovertemplate\": \"MONTH=%{z}<br>MAX_TEMPERATURE_C=%{x}<br>WINDSPEED_MAX_KMH=%{y}\", \"legendgroup\": \"\", \"marker\": {\"color\": \"#636efa\", \"symbol\": \"circle\"}, \"mode\": \"markers\", \"name\": \"\", \"scene\": \"scene\", \"showlegend\": false, \"x\": [23, 24, 26, 20, 19, 23, 22, 21, 17, 22, 22, 24, 28, 29, 31, 21, 27, 23, 23, 27, 28, 21, 20, 20, 17, 19, 19, 19, 20, 21], \"y\": [14, 14, 9, 17, 20, 14, 18, 16, 15, 19, 17, 11, 16, 21, 14, 15, 20, 31, 33, 27, 27, 33, 24, 34, 25, 31, 31, 24, 41, 19], \"z\": [9, 9, 9, 9, 9, 9, 9, 9, 9, 9, 9, 9, 9, 9, 9, 9, 9, 9, 9, 9, 9, 9, 9, 9, 9, 9, 9, 9, 9, 9], \"type\": \"scatter3d\"}], \"name\": \"9\"}, {\"data\": [{\"hoverlabel\": {\"namelength\": 0}, \"hovertemplate\": \"MONTH=%{z}<br>MAX_TEMPERATURE_C=%{x}<br>WINDSPEED_MAX_KMH=%{y}\", \"legendgroup\": \"\", \"marker\": {\"color\": \"#636efa\", \"symbol\": \"circle\"}, \"mode\": \"markers\", \"name\": \"\", \"scene\": \"scene\", \"showlegend\": false, \"x\": [19, 19, 19, 17, 18, 18, 14, 18, 16, 18, 20, 21, 20, 20, 16, 16, 17, 16, 16, 15, 16, 16, 15, 14, 18, 19, 15, 12, 14, 17, 16], \"y\": [35, 14, 17, 25, 16, 24, 19, 17, 32, 18, 22, 21, 28, 33, 28, 38, 27, 28, 12, 16, 12, 21, 22, 19, 24, 23, 21, 19, 18, 12, 19], \"z\": [10, 10, 10, 10, 10, 10, 10, 10, 10, 10, 10, 10, 10, 10, 10, 10, 10, 10, 10, 10, 10, 10, 10, 10, 10, 10, 10, 10, 10, 10, 10], \"type\": \"scatter3d\"}], \"name\": \"10\"}, {\"data\": [{\"hoverlabel\": {\"namelength\": 0}, \"hovertemplate\": \"MONTH=%{z}<br>MAX_TEMPERATURE_C=%{x}<br>WINDSPEED_MAX_KMH=%{y}\", \"legendgroup\": \"\", \"marker\": {\"color\": \"#636efa\", \"symbol\": \"circle\"}, \"mode\": \"markers\", \"name\": \"\", \"scene\": \"scene\", \"showlegend\": false, \"x\": [17, 14, 14, 13, 12, 13, 11, 11, 10, 11, 11, 11, 9, 11, 8, 9, 8, 10, 9, 7, 11, 10, 12, 12, 13, 14, 13, 13, 13, 9], \"y\": [25, 32, 36, 39, 30, 18, 22, 26, 28, 20, 26, 20, 16, 5, 14, 18, 8, 8, 15, 13, 20, 32, 14, 12, 18, 33, 39, 30, 12, 23], \"z\": [11, 11, 11, 11, 11, 11, 11, 11, 11, 11, 11, 11, 11, 11, 11, 11, 11, 11, 11, 11, 11, 11, 11, 11, 11, 11, 11, 11, 11, 11], \"type\": \"scatter3d\"}], \"name\": \"11\"}, {\"data\": [{\"hoverlabel\": {\"namelength\": 0}, \"hovertemplate\": \"MONTH=%{z}<br>MAX_TEMPERATURE_C=%{x}<br>WINDSPEED_MAX_KMH=%{y}\", \"legendgroup\": \"\", \"marker\": {\"color\": \"#636efa\", \"symbol\": \"circle\"}, \"mode\": \"markers\", \"name\": \"\", \"scene\": \"scene\", \"showlegend\": false, \"x\": [7, 7, 7, 8, 7, 11, 13, 13, 11, 11, 9, 12, 10, 12, 10, 11, 12, 12, 13, 12, 11, 10, 10, 14, 11, 12, 13, 11, 9, 12, 10], \"y\": [22, 25, 19, 9, 5, 26, 12, 27, 34, 24, 29, 31, 36, 22, 22, 14, 11, 31, 38, 28, 36, 34, 19, 26, 9, 24, 13, 12, 11, 7, 13], \"z\": [12, 12, 12, 12, 12, 12, 12, 12, 12, 12, 12, 12, 12, 12, 12, 12, 12, 12, 12, 12, 12, 12, 12, 12, 12, 12, 12, 12, 12, 12, 12], \"type\": \"scatter3d\"}], \"name\": \"12\"}]);\n",
              "                        }).then(function(){\n",
              "                            \n",
              "var gd = document.getElementById('98623058-21c9-4e38-9ed1-a0e6eb5611b8');\n",
              "var x = new MutationObserver(function (mutations, observer) {{\n",
              "        var display = window.getComputedStyle(gd).display;\n",
              "        if (!display || display === 'none') {{\n",
              "            console.log([gd, 'removed!']);\n",
              "            Plotly.purge(gd);\n",
              "            observer.disconnect();\n",
              "        }}\n",
              "}});\n",
              "\n",
              "// Listen for the removal of the full notebook cells\n",
              "var notebookContainer = gd.closest('#notebook-container');\n",
              "if (notebookContainer) {{\n",
              "    x.observe(notebookContainer, {childList: true});\n",
              "}}\n",
              "\n",
              "// Listen for the clearing of the current output cell\n",
              "var outputEl = gd.closest('.output');\n",
              "if (outputEl) {{\n",
              "    x.observe(outputEl, {childList: true});\n",
              "}}\n",
              "\n",
              "                        })\n",
              "                };\n",
              "                \n",
              "            </script>\n",
              "        </div>\n",
              "</body>\n",
              "</html>"
            ]
          },
          "metadata": {
            "tags": []
          }
        }
      ]
    },
    {
      "cell_type": "code",
      "metadata": {
        "id": "o_StgcXwJGTU",
        "colab": {
          "base_uri": "https://localhost:8080/",
          "height": 542
        },
        "outputId": "899d544e-ce2a-4b7c-b289-4526055c52fc"
      },
      "source": [
        "Other_chart = px.scatter(df_weather, x = 'MAX_TEMPERATURE_C', y = 'WINDSPEED_MAX_KMH',\n",
        "                 animation_frame = 'MONTH', \n",
        "                 color = 'OPINION', \n",
        "                 color_discrete_sequence = ['red','orange','yellow','LightGreen','DarkGreen']) \n",
        "\n",
        "Other_chart.show()"
      ],
      "execution_count": null,
      "outputs": [
        {
          "output_type": "display_data",
          "data": {
            "text/html": [
              "<html>\n",
              "<head><meta charset=\"utf-8\" /></head>\n",
              "<body>\n",
              "    <div>\n",
              "            <script src=\"https://cdnjs.cloudflare.com/ajax/libs/mathjax/2.7.5/MathJax.js?config=TeX-AMS-MML_SVG\"></script><script type=\"text/javascript\">if (window.MathJax) {MathJax.Hub.Config({SVG: {font: \"STIX-Web\"}});}</script>\n",
              "                <script type=\"text/javascript\">window.PlotlyConfig = {MathJaxConfig: 'local'};</script>\n",
              "        <script src=\"https://cdn.plot.ly/plotly-latest.min.js\"></script>    \n",
              "            <div id=\"919b128e-fa5b-4be0-9075-c5129fc02cc2\" class=\"plotly-graph-div\" style=\"height:525px; width:100%;\"></div>\n",
              "            <script type=\"text/javascript\">\n",
              "                \n",
              "                    window.PLOTLYENV=window.PLOTLYENV || {};\n",
              "                    \n",
              "                if (document.getElementById(\"919b128e-fa5b-4be0-9075-c5129fc02cc2\")) {\n",
              "                    Plotly.newPlot(\n",
              "                        '919b128e-fa5b-4be0-9075-c5129fc02cc2',\n",
              "                        [{\"hoverlabel\": {\"namelength\": 0}, \"hovertemplate\": \"OPINION=very bad<br>MONTH=1<br>MAX_TEMPERATURE_C=%{x}<br>WINDSPEED_MAX_KMH=%{y}\", \"legendgroup\": \"OPINION=very bad\", \"marker\": {\"color\": \"red\", \"symbol\": \"circle\"}, \"mode\": \"markers\", \"name\": \"OPINION=very bad\", \"showlegend\": true, \"type\": \"scatter\", \"x\": [9, 8, 6, 5, 6, 5, 10, 7, 7, 10, 9, 9, 8, 9, 7, 7, 7, 8, 7, 7, 8, 8, 9, 7, 8], \"xaxis\": \"x\", \"y\": [10, 18, 18, 15, 8, 7, 9, 18, 14, 10, 12, 3, 15, 18, 16, 16, 8, 18, 25, 8, 38, 14, 24, 20, 30], \"yaxis\": \"y\"}, {\"hoverlabel\": {\"namelength\": 0}, \"hovertemplate\": \"OPINION=bad<br>MONTH=1<br>MAX_TEMPERATURE_C=%{x}<br>WINDSPEED_MAX_KMH=%{y}\", \"legendgroup\": \"OPINION=bad\", \"marker\": {\"color\": \"orange\", \"symbol\": \"circle\"}, \"mode\": \"markers\", \"name\": \"OPINION=bad\", \"showlegend\": true, \"type\": \"scatter\", \"x\": [10, 10, 10, 11, 11, 10], \"xaxis\": \"x\", \"y\": [18, 19, 14, 12, 12, 21], \"yaxis\": \"y\"}],\n",
              "                        {\"legend\": {\"tracegroupgap\": 0}, \"margin\": {\"t\": 60}, \"sliders\": [{\"active\": 0, \"currentvalue\": {\"prefix\": \"MONTH=\"}, \"len\": 0.9, \"pad\": {\"b\": 10, \"t\": 60}, \"steps\": [{\"args\": [[\"1\"], {\"frame\": {\"duration\": 0, \"redraw\": false}, \"fromcurrent\": true, \"mode\": \"immediate\", \"transition\": {\"duration\": 0, \"easing\": \"linear\"}}], \"label\": \"1\", \"method\": \"animate\"}, {\"args\": [[\"2\"], {\"frame\": {\"duration\": 0, \"redraw\": false}, \"fromcurrent\": true, \"mode\": \"immediate\", \"transition\": {\"duration\": 0, \"easing\": \"linear\"}}], \"label\": \"2\", \"method\": \"animate\"}, {\"args\": [[\"3\"], {\"frame\": {\"duration\": 0, \"redraw\": false}, \"fromcurrent\": true, \"mode\": \"immediate\", \"transition\": {\"duration\": 0, \"easing\": \"linear\"}}], \"label\": \"3\", \"method\": \"animate\"}, {\"args\": [[\"4\"], {\"frame\": {\"duration\": 0, \"redraw\": false}, \"fromcurrent\": true, \"mode\": \"immediate\", \"transition\": {\"duration\": 0, \"easing\": \"linear\"}}], \"label\": \"4\", \"method\": \"animate\"}, {\"args\": [[\"5\"], {\"frame\": {\"duration\": 0, \"redraw\": false}, \"fromcurrent\": true, \"mode\": \"immediate\", \"transition\": {\"duration\": 0, \"easing\": \"linear\"}}], \"label\": \"5\", \"method\": \"animate\"}, {\"args\": [[\"6\"], {\"frame\": {\"duration\": 0, \"redraw\": false}, \"fromcurrent\": true, \"mode\": \"immediate\", \"transition\": {\"duration\": 0, \"easing\": \"linear\"}}], \"label\": \"6\", \"method\": \"animate\"}, {\"args\": [[\"7\"], {\"frame\": {\"duration\": 0, \"redraw\": false}, \"fromcurrent\": true, \"mode\": \"immediate\", \"transition\": {\"duration\": 0, \"easing\": \"linear\"}}], \"label\": \"7\", \"method\": \"animate\"}, {\"args\": [[\"8\"], {\"frame\": {\"duration\": 0, \"redraw\": false}, \"fromcurrent\": true, \"mode\": \"immediate\", \"transition\": {\"duration\": 0, \"easing\": \"linear\"}}], \"label\": \"8\", \"method\": \"animate\"}, {\"args\": [[\"9\"], {\"frame\": {\"duration\": 0, \"redraw\": false}, \"fromcurrent\": true, \"mode\": \"immediate\", \"transition\": {\"duration\": 0, \"easing\": \"linear\"}}], \"label\": \"9\", \"method\": \"animate\"}, {\"args\": [[\"10\"], {\"frame\": {\"duration\": 0, \"redraw\": false}, \"fromcurrent\": true, \"mode\": \"immediate\", \"transition\": {\"duration\": 0, \"easing\": \"linear\"}}], \"label\": \"10\", \"method\": \"animate\"}, {\"args\": [[\"11\"], {\"frame\": {\"duration\": 0, \"redraw\": false}, \"fromcurrent\": true, \"mode\": \"immediate\", \"transition\": {\"duration\": 0, \"easing\": \"linear\"}}], \"label\": \"11\", \"method\": \"animate\"}, {\"args\": [[\"12\"], {\"frame\": {\"duration\": 0, \"redraw\": false}, \"fromcurrent\": true, \"mode\": \"immediate\", \"transition\": {\"duration\": 0, \"easing\": \"linear\"}}], \"label\": \"12\", \"method\": \"animate\"}], \"x\": 0.1, \"xanchor\": \"left\", \"y\": 0, \"yanchor\": \"top\"}], \"template\": {\"data\": {\"bar\": [{\"error_x\": {\"color\": \"#2a3f5f\"}, \"error_y\": {\"color\": \"#2a3f5f\"}, \"marker\": {\"line\": {\"color\": \"#E5ECF6\", \"width\": 0.5}}, \"type\": \"bar\"}], \"barpolar\": [{\"marker\": {\"line\": {\"color\": \"#E5ECF6\", \"width\": 0.5}}, \"type\": \"barpolar\"}], \"carpet\": [{\"aaxis\": {\"endlinecolor\": \"#2a3f5f\", \"gridcolor\": \"white\", \"linecolor\": \"white\", \"minorgridcolor\": \"white\", \"startlinecolor\": \"#2a3f5f\"}, \"baxis\": {\"endlinecolor\": \"#2a3f5f\", \"gridcolor\": \"white\", \"linecolor\": \"white\", \"minorgridcolor\": \"white\", \"startlinecolor\": \"#2a3f5f\"}, \"type\": \"carpet\"}], \"choropleth\": [{\"colorbar\": {\"outlinewidth\": 0, \"ticks\": \"\"}, \"type\": \"choropleth\"}], \"contour\": [{\"colorbar\": {\"outlinewidth\": 0, \"ticks\": \"\"}, \"colorscale\": [[0.0, \"#0d0887\"], [0.1111111111111111, \"#46039f\"], [0.2222222222222222, \"#7201a8\"], [0.3333333333333333, \"#9c179e\"], [0.4444444444444444, \"#bd3786\"], [0.5555555555555556, \"#d8576b\"], [0.6666666666666666, \"#ed7953\"], [0.7777777777777778, \"#fb9f3a\"], [0.8888888888888888, \"#fdca26\"], [1.0, \"#f0f921\"]], \"type\": \"contour\"}], \"contourcarpet\": [{\"colorbar\": {\"outlinewidth\": 0, \"ticks\": \"\"}, \"type\": \"contourcarpet\"}], \"heatmap\": [{\"colorbar\": {\"outlinewidth\": 0, \"ticks\": \"\"}, \"colorscale\": [[0.0, \"#0d0887\"], [0.1111111111111111, \"#46039f\"], [0.2222222222222222, \"#7201a8\"], [0.3333333333333333, \"#9c179e\"], [0.4444444444444444, \"#bd3786\"], [0.5555555555555556, \"#d8576b\"], [0.6666666666666666, \"#ed7953\"], [0.7777777777777778, \"#fb9f3a\"], [0.8888888888888888, \"#fdca26\"], [1.0, \"#f0f921\"]], \"type\": \"heatmap\"}], \"heatmapgl\": [{\"colorbar\": {\"outlinewidth\": 0, \"ticks\": \"\"}, \"colorscale\": [[0.0, \"#0d0887\"], [0.1111111111111111, \"#46039f\"], [0.2222222222222222, \"#7201a8\"], [0.3333333333333333, \"#9c179e\"], [0.4444444444444444, \"#bd3786\"], [0.5555555555555556, \"#d8576b\"], [0.6666666666666666, \"#ed7953\"], [0.7777777777777778, \"#fb9f3a\"], [0.8888888888888888, \"#fdca26\"], [1.0, \"#f0f921\"]], \"type\": \"heatmapgl\"}], \"histogram\": [{\"marker\": {\"colorbar\": {\"outlinewidth\": 0, \"ticks\": \"\"}}, \"type\": \"histogram\"}], \"histogram2d\": [{\"colorbar\": {\"outlinewidth\": 0, \"ticks\": \"\"}, \"colorscale\": [[0.0, \"#0d0887\"], [0.1111111111111111, \"#46039f\"], [0.2222222222222222, \"#7201a8\"], [0.3333333333333333, \"#9c179e\"], [0.4444444444444444, \"#bd3786\"], [0.5555555555555556, \"#d8576b\"], [0.6666666666666666, \"#ed7953\"], [0.7777777777777778, \"#fb9f3a\"], [0.8888888888888888, \"#fdca26\"], [1.0, \"#f0f921\"]], \"type\": \"histogram2d\"}], \"histogram2dcontour\": [{\"colorbar\": {\"outlinewidth\": 0, \"ticks\": \"\"}, \"colorscale\": [[0.0, \"#0d0887\"], [0.1111111111111111, \"#46039f\"], [0.2222222222222222, \"#7201a8\"], [0.3333333333333333, \"#9c179e\"], [0.4444444444444444, \"#bd3786\"], [0.5555555555555556, \"#d8576b\"], [0.6666666666666666, \"#ed7953\"], [0.7777777777777778, \"#fb9f3a\"], [0.8888888888888888, \"#fdca26\"], [1.0, \"#f0f921\"]], \"type\": \"histogram2dcontour\"}], \"mesh3d\": [{\"colorbar\": {\"outlinewidth\": 0, \"ticks\": \"\"}, \"type\": \"mesh3d\"}], \"parcoords\": [{\"line\": {\"colorbar\": {\"outlinewidth\": 0, \"ticks\": \"\"}}, \"type\": \"parcoords\"}], \"pie\": [{\"automargin\": true, \"type\": \"pie\"}], \"scatter\": [{\"marker\": {\"colorbar\": {\"outlinewidth\": 0, \"ticks\": \"\"}}, \"type\": \"scatter\"}], \"scatter3d\": [{\"line\": {\"colorbar\": {\"outlinewidth\": 0, \"ticks\": \"\"}}, \"marker\": {\"colorbar\": {\"outlinewidth\": 0, \"ticks\": \"\"}}, \"type\": \"scatter3d\"}], \"scattercarpet\": [{\"marker\": {\"colorbar\": {\"outlinewidth\": 0, \"ticks\": \"\"}}, \"type\": \"scattercarpet\"}], \"scattergeo\": [{\"marker\": {\"colorbar\": {\"outlinewidth\": 0, \"ticks\": \"\"}}, \"type\": \"scattergeo\"}], \"scattergl\": [{\"marker\": {\"colorbar\": {\"outlinewidth\": 0, \"ticks\": \"\"}}, \"type\": \"scattergl\"}], \"scattermapbox\": [{\"marker\": {\"colorbar\": {\"outlinewidth\": 0, \"ticks\": \"\"}}, \"type\": \"scattermapbox\"}], \"scatterpolar\": [{\"marker\": {\"colorbar\": {\"outlinewidth\": 0, \"ticks\": \"\"}}, \"type\": \"scatterpolar\"}], \"scatterpolargl\": [{\"marker\": {\"colorbar\": {\"outlinewidth\": 0, \"ticks\": \"\"}}, \"type\": \"scatterpolargl\"}], \"scatterternary\": [{\"marker\": {\"colorbar\": {\"outlinewidth\": 0, \"ticks\": \"\"}}, \"type\": \"scatterternary\"}], \"surface\": [{\"colorbar\": {\"outlinewidth\": 0, \"ticks\": \"\"}, \"colorscale\": [[0.0, \"#0d0887\"], [0.1111111111111111, \"#46039f\"], [0.2222222222222222, \"#7201a8\"], [0.3333333333333333, \"#9c179e\"], [0.4444444444444444, \"#bd3786\"], [0.5555555555555556, \"#d8576b\"], [0.6666666666666666, \"#ed7953\"], [0.7777777777777778, \"#fb9f3a\"], [0.8888888888888888, \"#fdca26\"], [1.0, \"#f0f921\"]], \"type\": \"surface\"}], \"table\": [{\"cells\": {\"fill\": {\"color\": \"#EBF0F8\"}, \"line\": {\"color\": \"white\"}}, \"header\": {\"fill\": {\"color\": \"#C8D4E3\"}, \"line\": {\"color\": \"white\"}}, \"type\": \"table\"}]}, \"layout\": {\"annotationdefaults\": {\"arrowcolor\": \"#2a3f5f\", \"arrowhead\": 0, \"arrowwidth\": 1}, \"coloraxis\": {\"colorbar\": {\"outlinewidth\": 0, \"ticks\": \"\"}}, \"colorscale\": {\"diverging\": [[0, \"#8e0152\"], [0.1, \"#c51b7d\"], [0.2, \"#de77ae\"], [0.3, \"#f1b6da\"], [0.4, \"#fde0ef\"], [0.5, \"#f7f7f7\"], [0.6, \"#e6f5d0\"], [0.7, \"#b8e186\"], [0.8, \"#7fbc41\"], [0.9, \"#4d9221\"], [1, \"#276419\"]], \"sequential\": [[0.0, \"#0d0887\"], [0.1111111111111111, \"#46039f\"], [0.2222222222222222, \"#7201a8\"], [0.3333333333333333, \"#9c179e\"], [0.4444444444444444, \"#bd3786\"], [0.5555555555555556, \"#d8576b\"], [0.6666666666666666, \"#ed7953\"], [0.7777777777777778, \"#fb9f3a\"], [0.8888888888888888, \"#fdca26\"], [1.0, \"#f0f921\"]], \"sequentialminus\": [[0.0, \"#0d0887\"], [0.1111111111111111, \"#46039f\"], [0.2222222222222222, \"#7201a8\"], [0.3333333333333333, \"#9c179e\"], [0.4444444444444444, \"#bd3786\"], [0.5555555555555556, \"#d8576b\"], [0.6666666666666666, \"#ed7953\"], [0.7777777777777778, \"#fb9f3a\"], [0.8888888888888888, \"#fdca26\"], [1.0, \"#f0f921\"]]}, \"colorway\": [\"#636efa\", \"#EF553B\", \"#00cc96\", \"#ab63fa\", \"#FFA15A\", \"#19d3f3\", \"#FF6692\", \"#B6E880\", \"#FF97FF\", \"#FECB52\"], \"font\": {\"color\": \"#2a3f5f\"}, \"geo\": {\"bgcolor\": \"white\", \"lakecolor\": \"white\", \"landcolor\": \"#E5ECF6\", \"showlakes\": true, \"showland\": true, \"subunitcolor\": \"white\"}, \"hoverlabel\": {\"align\": \"left\"}, \"hovermode\": \"closest\", \"mapbox\": {\"style\": \"light\"}, \"paper_bgcolor\": \"white\", \"plot_bgcolor\": \"#E5ECF6\", \"polar\": {\"angularaxis\": {\"gridcolor\": \"white\", \"linecolor\": \"white\", \"ticks\": \"\"}, \"bgcolor\": \"#E5ECF6\", \"radialaxis\": {\"gridcolor\": \"white\", \"linecolor\": \"white\", \"ticks\": \"\"}}, \"scene\": {\"xaxis\": {\"backgroundcolor\": \"#E5ECF6\", \"gridcolor\": \"white\", \"gridwidth\": 2, \"linecolor\": \"white\", \"showbackground\": true, \"ticks\": \"\", \"zerolinecolor\": \"white\"}, \"yaxis\": {\"backgroundcolor\": \"#E5ECF6\", \"gridcolor\": \"white\", \"gridwidth\": 2, \"linecolor\": \"white\", \"showbackground\": true, \"ticks\": \"\", \"zerolinecolor\": \"white\"}, \"zaxis\": {\"backgroundcolor\": \"#E5ECF6\", \"gridcolor\": \"white\", \"gridwidth\": 2, \"linecolor\": \"white\", \"showbackground\": true, \"ticks\": \"\", \"zerolinecolor\": \"white\"}}, \"shapedefaults\": {\"line\": {\"color\": \"#2a3f5f\"}}, \"ternary\": {\"aaxis\": {\"gridcolor\": \"white\", \"linecolor\": \"white\", \"ticks\": \"\"}, \"baxis\": {\"gridcolor\": \"white\", \"linecolor\": \"white\", \"ticks\": \"\"}, \"bgcolor\": \"#E5ECF6\", \"caxis\": {\"gridcolor\": \"white\", \"linecolor\": \"white\", \"ticks\": \"\"}}, \"title\": {\"x\": 0.05}, \"xaxis\": {\"automargin\": true, \"gridcolor\": \"white\", \"linecolor\": \"white\", \"ticks\": \"\", \"title\": {\"standoff\": 15}, \"zerolinecolor\": \"white\", \"zerolinewidth\": 2}, \"yaxis\": {\"automargin\": true, \"gridcolor\": \"white\", \"linecolor\": \"white\", \"ticks\": \"\", \"title\": {\"standoff\": 15}, \"zerolinecolor\": \"white\", \"zerolinewidth\": 2}}}, \"updatemenus\": [{\"buttons\": [{\"args\": [null, {\"frame\": {\"duration\": 500, \"redraw\": false}, \"fromcurrent\": true, \"mode\": \"immediate\", \"transition\": {\"duration\": 500, \"easing\": \"linear\"}}], \"label\": \"&#9654;\", \"method\": \"animate\"}, {\"args\": [[null], {\"frame\": {\"duration\": 0, \"redraw\": false}, \"fromcurrent\": true, \"mode\": \"immediate\", \"transition\": {\"duration\": 0, \"easing\": \"linear\"}}], \"label\": \"&#9724;\", \"method\": \"animate\"}], \"direction\": \"left\", \"pad\": {\"r\": 10, \"t\": 70}, \"showactive\": false, \"type\": \"buttons\", \"x\": 0.1, \"xanchor\": \"right\", \"y\": 0, \"yanchor\": \"top\"}], \"xaxis\": {\"anchor\": \"y\", \"domain\": [0.0, 1.0], \"title\": {\"text\": \"MAX_TEMPERATURE_C\"}}, \"yaxis\": {\"anchor\": \"x\", \"domain\": [0.0, 1.0], \"title\": {\"text\": \"WINDSPEED_MAX_KMH\"}}},\n",
              "                        {\"responsive\": true}\n",
              "                    ).then(function(){\n",
              "                            Plotly.addFrames('919b128e-fa5b-4be0-9075-c5129fc02cc2', [{\"data\": [{\"hoverlabel\": {\"namelength\": 0}, \"hovertemplate\": \"OPINION=very bad<br>MONTH=1<br>MAX_TEMPERATURE_C=%{x}<br>WINDSPEED_MAX_KMH=%{y}\", \"legendgroup\": \"OPINION=very bad\", \"marker\": {\"color\": \"red\", \"symbol\": \"circle\"}, \"mode\": \"markers\", \"name\": \"OPINION=very bad\", \"showlegend\": true, \"x\": [9, 8, 6, 5, 6, 5, 10, 7, 7, 10, 9, 9, 8, 9, 7, 7, 7, 8, 7, 7, 8, 8, 9, 7, 8], \"xaxis\": \"x\", \"y\": [10, 18, 18, 15, 8, 7, 9, 18, 14, 10, 12, 3, 15, 18, 16, 16, 8, 18, 25, 8, 38, 14, 24, 20, 30], \"yaxis\": \"y\", \"type\": \"scatter\"}, {\"hoverlabel\": {\"namelength\": 0}, \"hovertemplate\": \"OPINION=bad<br>MONTH=1<br>MAX_TEMPERATURE_C=%{x}<br>WINDSPEED_MAX_KMH=%{y}\", \"legendgroup\": \"OPINION=bad\", \"marker\": {\"color\": \"orange\", \"symbol\": \"circle\"}, \"mode\": \"markers\", \"name\": \"OPINION=bad\", \"showlegend\": true, \"x\": [10, 10, 10, 11, 11, 10], \"xaxis\": \"x\", \"y\": [18, 19, 14, 12, 12, 21], \"yaxis\": \"y\", \"type\": \"scatter\"}], \"name\": \"1\"}, {\"data\": [{\"hoverlabel\": {\"namelength\": 0}, \"hovertemplate\": \"OPINION=very bad<br>MONTH=2<br>MAX_TEMPERATURE_C=%{x}<br>WINDSPEED_MAX_KMH=%{y}\", \"legendgroup\": \"OPINION=very bad\", \"marker\": {\"color\": \"red\", \"symbol\": \"circle\"}, \"mode\": \"markers\", \"name\": \"OPINION=very bad\", \"showlegend\": true, \"x\": [7, 8, 7, 10, 11, 10, 12, 10, 12, 12], \"xaxis\": \"x\", \"y\": [30, 10, 32, 9, 40, 20, 7, 15, 15, 9], \"yaxis\": \"y\", \"type\": \"scatter\"}, {\"hoverlabel\": {\"namelength\": 0}, \"hovertemplate\": \"OPINION=bad<br>MONTH=2<br>MAX_TEMPERATURE_C=%{x}<br>WINDSPEED_MAX_KMH=%{y}\", \"legendgroup\": \"OPINION=bad\", \"marker\": {\"color\": \"orange\", \"symbol\": \"circle\"}, \"mode\": \"markers\", \"name\": \"OPINION=bad\", \"showlegend\": true, \"x\": [9, 12, 11, 11, 12, 13], \"xaxis\": \"x\", \"y\": [17, 26, 24, 28, 29, 26], \"yaxis\": \"y\", \"type\": \"scatter\"}, {\"hoverlabel\": {\"namelength\": 0}, \"hovertemplate\": \"OPINION=not good not bad<br>MONTH=2<br>MAX_TEMPERATURE_C=%{x}<br>WINDSPEED_MAX_KMH=%{y}\", \"legendgroup\": \"OPINION=not good not bad\", \"marker\": {\"color\": \"yellow\", \"symbol\": \"circle\"}, \"mode\": \"markers\", \"name\": \"OPINION=not good not bad\", \"showlegend\": true, \"x\": [13, 15, 14, 15, 13, 17, 17, 14, 15], \"xaxis\": \"x\", \"y\": [14, 12, 14, 23, 10, 8, 14, 14, 14], \"yaxis\": \"y\", \"type\": \"scatter\"}, {\"hoverlabel\": {\"namelength\": 0}, \"hovertemplate\": \"OPINION=good<br>MONTH=2<br>MAX_TEMPERATURE_C=%{x}<br>WINDSPEED_MAX_KMH=%{y}\", \"legendgroup\": \"OPINION=good\", \"marker\": {\"color\": \"LightGreen\", \"symbol\": \"circle\"}, \"mode\": \"markers\", \"name\": \"OPINION=good\", \"showlegend\": true, \"x\": [18, 19, 20], \"xaxis\": \"x\", \"y\": [10, 10, 11], \"yaxis\": \"y\", \"type\": \"scatter\"}], \"name\": \"2\"}, {\"data\": [{\"hoverlabel\": {\"namelength\": 0}, \"hovertemplate\": \"OPINION=very bad<br>MONTH=3<br>MAX_TEMPERATURE_C=%{x}<br>WINDSPEED_MAX_KMH=%{y}\", \"legendgroup\": \"OPINION=very bad\", \"marker\": {\"color\": \"red\", \"symbol\": \"circle\"}, \"mode\": \"markers\", \"name\": \"OPINION=very bad\", \"showlegend\": true, \"x\": [12, 12, 11, 11, 11, 11, 12, 12, 12], \"xaxis\": \"x\", \"y\": [28, 22, 20, 36, 34, 17, 5, 21, 18], \"yaxis\": \"y\", \"type\": \"scatter\"}, {\"hoverlabel\": {\"namelength\": 0}, \"hovertemplate\": \"OPINION=bad<br>MONTH=3<br>MAX_TEMPERATURE_C=%{x}<br>WINDSPEED_MAX_KMH=%{y}\", \"legendgroup\": \"OPINION=bad\", \"marker\": {\"color\": \"orange\", \"symbol\": \"circle\"}, \"mode\": \"markers\", \"name\": \"OPINION=bad\", \"showlegend\": true, \"x\": [14, 11, 11, 13, 12, 10, 11, 13, 11], \"xaxis\": \"x\", \"y\": [36, 46, 28, 23, 31, 31, 38, 30, 28], \"yaxis\": \"y\", \"type\": \"scatter\"}, {\"hoverlabel\": {\"namelength\": 0}, \"hovertemplate\": \"OPINION=not good not bad<br>MONTH=3<br>MAX_TEMPERATURE_C=%{x}<br>WINDSPEED_MAX_KMH=%{y}\", \"legendgroup\": \"OPINION=not good not bad\", \"marker\": {\"color\": \"yellow\", \"symbol\": \"circle\"}, \"mode\": \"markers\", \"name\": \"OPINION=not good not bad\", \"showlegend\": true, \"x\": [14, 13, 13, 13, 15, 17, 13, 13, 14, 16, 17], \"xaxis\": \"x\", \"y\": [14, 23, 28, 6, 15, 10, 19, 19, 19, 15, 13], \"yaxis\": \"y\", \"type\": \"scatter\"}, {\"hoverlabel\": {\"namelength\": 0}, \"hovertemplate\": \"OPINION=good<br>MONTH=3<br>MAX_TEMPERATURE_C=%{x}<br>WINDSPEED_MAX_KMH=%{y}\", \"legendgroup\": \"OPINION=good\", \"marker\": {\"color\": \"LightGreen\", \"symbol\": \"circle\"}, \"mode\": \"markers\", \"name\": \"OPINION=good\", \"showlegend\": true, \"x\": [18, 19], \"xaxis\": \"x\", \"y\": [8, 9], \"yaxis\": \"y\", \"type\": \"scatter\"}], \"name\": \"3\"}, {\"data\": [{\"hoverlabel\": {\"namelength\": 0}, \"hovertemplate\": \"OPINION=very bad<br>MONTH=4<br>MAX_TEMPERATURE_C=%{x}<br>WINDSPEED_MAX_KMH=%{y}\", \"legendgroup\": \"OPINION=very bad\", \"marker\": {\"color\": \"red\", \"symbol\": \"circle\"}, \"mode\": \"markers\", \"name\": \"OPINION=very bad\", \"showlegend\": true, \"x\": [10, 10, 10, 10, 12, 12, 9, 14], \"xaxis\": \"x\", \"y\": [17, 25, 24, 16, 15, 16, 14, 30], \"yaxis\": \"y\", \"type\": \"scatter\"}, {\"hoverlabel\": {\"namelength\": 0}, \"hovertemplate\": \"OPINION=bad<br>MONTH=4<br>MAX_TEMPERATURE_C=%{x}<br>WINDSPEED_MAX_KMH=%{y}\", \"legendgroup\": \"OPINION=bad\", \"marker\": {\"color\": \"orange\", \"symbol\": \"circle\"}, \"mode\": \"markers\", \"name\": \"OPINION=bad\", \"showlegend\": true, \"x\": [12, 14, 18, 13, 13, 12, 16], \"xaxis\": \"x\", \"y\": [30, 24, 22, 33, 29, 17, 11], \"yaxis\": \"y\", \"type\": \"scatter\"}, {\"hoverlabel\": {\"namelength\": 0}, \"hovertemplate\": \"OPINION=not good not bad<br>MONTH=4<br>MAX_TEMPERATURE_C=%{x}<br>WINDSPEED_MAX_KMH=%{y}\", \"legendgroup\": \"OPINION=not good not bad\", \"marker\": {\"color\": \"yellow\", \"symbol\": \"circle\"}, \"mode\": \"markers\", \"name\": \"OPINION=not good not bad\", \"showlegend\": true, \"x\": [16, 14, 14, 14, 14, 15, 19, 14], \"xaxis\": \"x\", \"y\": [6, 17, 17, 12, 28, 18, 24, 32], \"yaxis\": \"y\", \"type\": \"scatter\"}, {\"hoverlabel\": {\"namelength\": 0}, \"hovertemplate\": \"OPINION=good<br>MONTH=4<br>MAX_TEMPERATURE_C=%{x}<br>WINDSPEED_MAX_KMH=%{y}\", \"legendgroup\": \"OPINION=good\", \"marker\": {\"color\": \"LightGreen\", \"symbol\": \"circle\"}, \"mode\": \"markers\", \"name\": \"OPINION=good\", \"showlegend\": true, \"x\": [18, 19, 21, 24, 21, 21, 18], \"xaxis\": \"x\", \"y\": [13, 26, 16, 8, 21, 11, 10], \"yaxis\": \"y\", \"type\": \"scatter\"}], \"name\": \"4\"}, {\"data\": [{\"hoverlabel\": {\"namelength\": 0}, \"hovertemplate\": \"OPINION=very bad<br>MONTH=5<br>MAX_TEMPERATURE_C=%{x}<br>WINDSPEED_MAX_KMH=%{y}\", \"legendgroup\": \"OPINION=very bad\", \"marker\": {\"color\": \"red\", \"symbol\": \"circle\"}, \"mode\": \"markers\", \"name\": \"OPINION=very bad\", \"showlegend\": true, \"x\": [11, 12, 15], \"xaxis\": \"x\", \"y\": [26, 17, 37], \"yaxis\": \"y\", \"type\": \"scatter\"}, {\"hoverlabel\": {\"namelength\": 0}, \"hovertemplate\": \"OPINION=bad<br>MONTH=5<br>MAX_TEMPERATURE_C=%{x}<br>WINDSPEED_MAX_KMH=%{y}\", \"legendgroup\": \"OPINION=bad\", \"marker\": {\"color\": \"orange\", \"symbol\": \"circle\"}, \"mode\": \"markers\", \"name\": \"OPINION=bad\", \"showlegend\": true, \"x\": [15, 15, 15, 15, 14, 17, 18, 17, 19], \"xaxis\": \"x\", \"y\": [19, 17, 27, 23, 9, 16, 16, 15, 17], \"yaxis\": \"y\", \"type\": \"scatter\"}, {\"hoverlabel\": {\"namelength\": 0}, \"hovertemplate\": \"OPINION=not good not bad<br>MONTH=5<br>MAX_TEMPERATURE_C=%{x}<br>WINDSPEED_MAX_KMH=%{y}\", \"legendgroup\": \"OPINION=not good not bad\", \"marker\": {\"color\": \"yellow\", \"symbol\": \"circle\"}, \"mode\": \"markers\", \"name\": \"OPINION=not good not bad\", \"showlegend\": true, \"x\": [17, 15, 14, 16, 16, 16, 17, 17, 19, 15, 15, 20], \"xaxis\": \"x\", \"y\": [9, 9, 13, 18, 19, 27, 21, 16, 15, 23, 18, 17], \"yaxis\": \"y\", \"type\": \"scatter\"}, {\"hoverlabel\": {\"namelength\": 0}, \"hovertemplate\": \"OPINION=good<br>MONTH=5<br>MAX_TEMPERATURE_C=%{x}<br>WINDSPEED_MAX_KMH=%{y}\", \"legendgroup\": \"OPINION=good\", \"marker\": {\"color\": \"LightGreen\", \"symbol\": \"circle\"}, \"mode\": \"markers\", \"name\": \"OPINION=good\", \"showlegend\": true, \"x\": [18, 18, 20, 21, 21, 20, 25], \"xaxis\": \"x\", \"y\": [29, 26, 13, 7, 9, 20, 5], \"yaxis\": \"y\", \"type\": \"scatter\"}], \"name\": \"5\"}, {\"data\": [{\"hoverlabel\": {\"namelength\": 0}, \"hovertemplate\": \"OPINION=very bad<br>MONTH=6<br>MAX_TEMPERATURE_C=%{x}<br>WINDSPEED_MAX_KMH=%{y}\", \"legendgroup\": \"OPINION=very bad\", \"marker\": {\"color\": \"red\", \"symbol\": \"circle\"}, \"mode\": \"markers\", \"name\": \"OPINION=very bad\", \"showlegend\": true, \"x\": [15], \"xaxis\": \"x\", \"y\": [42], \"yaxis\": \"y\", \"type\": \"scatter\"}, {\"hoverlabel\": {\"namelength\": 0}, \"hovertemplate\": \"OPINION=bad<br>MONTH=6<br>MAX_TEMPERATURE_C=%{x}<br>WINDSPEED_MAX_KMH=%{y}\", \"legendgroup\": \"OPINION=bad\", \"marker\": {\"color\": \"orange\", \"symbol\": \"circle\"}, \"mode\": \"markers\", \"name\": \"OPINION=bad\", \"showlegend\": true, \"x\": [19, 15, 16, 23], \"xaxis\": \"x\", \"y\": [25, 15, 23, 21], \"yaxis\": \"y\", \"type\": \"scatter\"}, {\"hoverlabel\": {\"namelength\": 0}, \"hovertemplate\": \"OPINION=not good not bad<br>MONTH=6<br>MAX_TEMPERATURE_C=%{x}<br>WINDSPEED_MAX_KMH=%{y}\", \"legendgroup\": \"OPINION=not good not bad\", \"marker\": {\"color\": \"yellow\", \"symbol\": \"circle\"}, \"mode\": \"markers\", \"name\": \"OPINION=not good not bad\", \"showlegend\": true, \"x\": [16, 18, 16, 17, 18, 18, 20, 34, 34], \"xaxis\": \"x\", \"y\": [15, 27, 14, 23, 21, 28, 26, 18, 13], \"yaxis\": \"y\", \"type\": \"scatter\"}, {\"hoverlabel\": {\"namelength\": 0}, \"hovertemplate\": \"OPINION=good<br>MONTH=6<br>MAX_TEMPERATURE_C=%{x}<br>WINDSPEED_MAX_KMH=%{y}\", \"legendgroup\": \"OPINION=good\", \"marker\": {\"color\": \"LightGreen\", \"symbol\": \"circle\"}, \"mode\": \"markers\", \"name\": \"OPINION=good\", \"showlegend\": true, \"x\": [23, 20, 18, 19, 19, 25, 28, 20, 20, 23, 27, 26, 31, 32, 26], \"xaxis\": \"x\", \"y\": [17, 14, 16, 16, 17, 8, 19, 15, 13, 15, 16, 9, 23, 18, 10], \"yaxis\": \"y\", \"type\": \"scatter\"}, {\"hoverlabel\": {\"namelength\": 0}, \"hovertemplate\": \"OPINION=very good<br>MONTH=6<br>MAX_TEMPERATURE_C=%{x}<br>WINDSPEED_MAX_KMH=%{y}\", \"legendgroup\": \"OPINION=very good\", \"marker\": {\"color\": \"DarkGreen\", \"symbol\": \"circle\"}, \"mode\": \"markers\", \"name\": \"OPINION=very good\", \"showlegend\": true, \"x\": [29], \"xaxis\": \"x\", \"y\": [9], \"yaxis\": \"y\", \"type\": \"scatter\"}], \"name\": \"6\"}, {\"data\": [{\"hoverlabel\": {\"namelength\": 0}, \"hovertemplate\": \"OPINION=very bad<br>MONTH=7<br>MAX_TEMPERATURE_C=%{x}<br>WINDSPEED_MAX_KMH=%{y}\", \"legendgroup\": \"OPINION=very bad\", \"marker\": {\"color\": \"red\", \"symbol\": \"circle\"}, \"mode\": \"markers\", \"name\": \"OPINION=very bad\", \"showlegend\": true, \"x\": [22], \"xaxis\": \"x\", \"y\": [13], \"yaxis\": \"y\", \"type\": \"scatter\"}, {\"hoverlabel\": {\"namelength\": 0}, \"hovertemplate\": \"OPINION=bad<br>MONTH=7<br>MAX_TEMPERATURE_C=%{x}<br>WINDSPEED_MAX_KMH=%{y}\", \"legendgroup\": \"OPINION=bad\", \"marker\": {\"color\": \"orange\", \"symbol\": \"circle\"}, \"mode\": \"markers\", \"name\": \"OPINION=bad\", \"showlegend\": true, \"x\": [31, 26, 21], \"xaxis\": \"x\", \"y\": [8, 13, 32], \"yaxis\": \"y\", \"type\": \"scatter\"}, {\"hoverlabel\": {\"namelength\": 0}, \"hovertemplate\": \"OPINION=not good not bad<br>MONTH=7<br>MAX_TEMPERATURE_C=%{x}<br>WINDSPEED_MAX_KMH=%{y}\", \"legendgroup\": \"OPINION=not good not bad\", \"marker\": {\"color\": \"yellow\", \"symbol\": \"circle\"}, \"mode\": \"markers\", \"name\": \"OPINION=not good not bad\", \"showlegend\": true, \"x\": [22, 26, 25, 39, 23], \"xaxis\": \"x\", \"y\": [22, 18, 28, 27, 17], \"yaxis\": \"y\", \"type\": \"scatter\"}, {\"hoverlabel\": {\"namelength\": 0}, \"hovertemplate\": \"OPINION=good<br>MONTH=7<br>MAX_TEMPERATURE_C=%{x}<br>WINDSPEED_MAX_KMH=%{y}\", \"legendgroup\": \"OPINION=good\", \"marker\": {\"color\": \"LightGreen\", \"symbol\": \"circle\"}, \"mode\": \"markers\", \"name\": \"OPINION=good\", \"showlegend\": true, \"x\": [24, 25, 26, 28, 30, 28, 27, 25, 28, 26, 27, 26, 26, 29, 26, 33, 32, 23, 24, 23], \"xaxis\": \"x\", \"y\": [17, 18, 26, 24, 20, 12, 19, 25, 9, 21, 15, 21, 14, 7, 17, 13, 23, 22, 29, 19], \"yaxis\": \"y\", \"type\": \"scatter\"}, {\"hoverlabel\": {\"namelength\": 0}, \"hovertemplate\": \"OPINION=very good<br>MONTH=7<br>MAX_TEMPERATURE_C=%{x}<br>WINDSPEED_MAX_KMH=%{y}\", \"legendgroup\": \"OPINION=very good\", \"marker\": {\"color\": \"DarkGreen\", \"symbol\": \"circle\"}, \"mode\": \"markers\", \"name\": \"OPINION=very good\", \"showlegend\": true, \"x\": [27, 33], \"xaxis\": \"x\", \"y\": [18, 6], \"yaxis\": \"y\", \"type\": \"scatter\"}], \"name\": \"7\"}, {\"data\": [{\"hoverlabel\": {\"namelength\": 0}, \"hovertemplate\": \"OPINION=bad<br>MONTH=8<br>MAX_TEMPERATURE_C=%{x}<br>WINDSPEED_MAX_KMH=%{y}\", \"legendgroup\": \"OPINION=bad\", \"marker\": {\"color\": \"orange\", \"symbol\": \"circle\"}, \"mode\": \"markers\", \"name\": \"OPINION=bad\", \"showlegend\": true, \"x\": [23, 22, 20, 19, 24], \"xaxis\": \"x\", \"y\": [17, 28, 27, 23, 20], \"yaxis\": \"y\", \"type\": \"scatter\"}, {\"hoverlabel\": {\"namelength\": 0}, \"hovertemplate\": \"OPINION=not good not bad<br>MONTH=8<br>MAX_TEMPERATURE_C=%{x}<br>WINDSPEED_MAX_KMH=%{y}\", \"legendgroup\": \"OPINION=not good not bad\", \"marker\": {\"color\": \"yellow\", \"symbol\": \"circle\"}, \"mode\": \"markers\", \"name\": \"OPINION=not good not bad\", \"showlegend\": true, \"x\": [25, 28, 23, 22, 22, 21, 21, 26, 25, 30], \"xaxis\": \"x\", \"y\": [24, 18, 32, 21, 21, 24, 19, 13, 9, 8], \"yaxis\": \"y\", \"type\": \"scatter\"}, {\"hoverlabel\": {\"namelength\": 0}, \"hovertemplate\": \"OPINION=good<br>MONTH=8<br>MAX_TEMPERATURE_C=%{x}<br>WINDSPEED_MAX_KMH=%{y}\", \"legendgroup\": \"OPINION=good\", \"marker\": {\"color\": \"LightGreen\", \"symbol\": \"circle\"}, \"mode\": \"markers\", \"name\": \"OPINION=good\", \"showlegend\": true, \"x\": [27, 29, 26, 25, 23, 23, 22, 23, 28, 30, 33, 30, 33, 29, 23], \"xaxis\": \"x\", \"y\": [8, 12, 19, 22, 37, 25, 24, 11, 13, 19, 14, 13, 9, 20, 24], \"yaxis\": \"y\", \"type\": \"scatter\"}, {\"hoverlabel\": {\"namelength\": 0}, \"hovertemplate\": \"OPINION=very good<br>MONTH=8<br>MAX_TEMPERATURE_C=%{x}<br>WINDSPEED_MAX_KMH=%{y}\", \"legendgroup\": \"OPINION=very good\", \"marker\": {\"color\": \"DarkGreen\", \"symbol\": \"circle\"}, \"mode\": \"markers\", \"name\": \"OPINION=very good\", \"showlegend\": true, \"x\": [29], \"xaxis\": \"x\", \"y\": [15], \"yaxis\": \"y\", \"type\": \"scatter\"}], \"name\": \"8\"}, {\"data\": [{\"hoverlabel\": {\"namelength\": 0}, \"hovertemplate\": \"OPINION=very bad<br>MONTH=9<br>MAX_TEMPERATURE_C=%{x}<br>WINDSPEED_MAX_KMH=%{y}\", \"legendgroup\": \"OPINION=very bad\", \"marker\": {\"color\": \"red\", \"symbol\": \"circle\"}, \"mode\": \"markers\", \"name\": \"OPINION=very bad\", \"showlegend\": true, \"x\": [20], \"xaxis\": \"x\", \"y\": [34], \"yaxis\": \"y\", \"type\": \"scatter\"}, {\"hoverlabel\": {\"namelength\": 0}, \"hovertemplate\": \"OPINION=bad<br>MONTH=9<br>MAX_TEMPERATURE_C=%{x}<br>WINDSPEED_MAX_KMH=%{y}\", \"legendgroup\": \"OPINION=bad\", \"marker\": {\"color\": \"orange\", \"symbol\": \"circle\"}, \"mode\": \"markers\", \"name\": \"OPINION=bad\", \"showlegend\": true, \"x\": [21, 17, 19, 19, 19, 20, 21], \"xaxis\": \"x\", \"y\": [33, 25, 31, 31, 24, 41, 19], \"yaxis\": \"y\", \"type\": \"scatter\"}, {\"hoverlabel\": {\"namelength\": 0}, \"hovertemplate\": \"OPINION=not good not bad<br>MONTH=9<br>MAX_TEMPERATURE_C=%{x}<br>WINDSPEED_MAX_KMH=%{y}\", \"legendgroup\": \"OPINION=not good not bad\", \"marker\": {\"color\": \"yellow\", \"symbol\": \"circle\"}, \"mode\": \"markers\", \"name\": \"OPINION=not good not bad\", \"showlegend\": true, \"x\": [17, 20], \"xaxis\": \"x\", \"y\": [15, 24], \"yaxis\": \"y\", \"type\": \"scatter\"}, {\"hoverlabel\": {\"namelength\": 0}, \"hovertemplate\": \"OPINION=good<br>MONTH=9<br>MAX_TEMPERATURE_C=%{x}<br>WINDSPEED_MAX_KMH=%{y}\", \"legendgroup\": \"OPINION=good\", \"marker\": {\"color\": \"LightGreen\", \"symbol\": \"circle\"}, \"mode\": \"markers\", \"name\": \"OPINION=good\", \"showlegend\": true, \"x\": [23, 24, 26, 20, 19, 23, 22, 21, 22, 22, 24, 28, 29, 31, 21, 27, 23, 23, 27, 28], \"xaxis\": \"x\", \"y\": [14, 14, 9, 17, 20, 14, 18, 16, 19, 17, 11, 16, 21, 14, 15, 20, 31, 33, 27, 27], \"yaxis\": \"y\", \"type\": \"scatter\"}], \"name\": \"9\"}, {\"data\": [{\"hoverlabel\": {\"namelength\": 0}, \"hovertemplate\": \"OPINION=very bad<br>MONTH=10<br>MAX_TEMPERATURE_C=%{x}<br>WINDSPEED_MAX_KMH=%{y}\", \"legendgroup\": \"OPINION=very bad\", \"marker\": {\"color\": \"red\", \"symbol\": \"circle\"}, \"mode\": \"markers\", \"name\": \"OPINION=very bad\", \"showlegend\": true, \"x\": [14], \"xaxis\": \"x\", \"y\": [19], \"yaxis\": \"y\", \"type\": \"scatter\"}, {\"hoverlabel\": {\"namelength\": 0}, \"hovertemplate\": \"OPINION=bad<br>MONTH=10<br>MAX_TEMPERATURE_C=%{x}<br>WINDSPEED_MAX_KMH=%{y}\", \"legendgroup\": \"OPINION=bad\", \"marker\": {\"color\": \"orange\", \"symbol\": \"circle\"}, \"mode\": \"markers\", \"name\": \"OPINION=bad\", \"showlegend\": true, \"x\": [19, 19, 17, 18, 18, 20, 20, 16, 16, 16, 16, 15, 15, 14, 15, 12, 14, 17, 16], \"xaxis\": \"x\", \"y\": [35, 14, 25, 16, 17, 28, 33, 28, 38, 28, 12, 16, 22, 19, 21, 19, 18, 12, 19], \"yaxis\": \"y\", \"type\": \"scatter\"}, {\"hoverlabel\": {\"namelength\": 0}, \"hovertemplate\": \"OPINION=not good not bad<br>MONTH=10<br>MAX_TEMPERATURE_C=%{x}<br>WINDSPEED_MAX_KMH=%{y}\", \"legendgroup\": \"OPINION=not good not bad\", \"marker\": {\"color\": \"yellow\", \"symbol\": \"circle\"}, \"mode\": \"markers\", \"name\": \"OPINION=not good not bad\", \"showlegend\": true, \"x\": [16, 18, 20, 17, 16, 16, 18], \"xaxis\": \"x\", \"y\": [32, 18, 22, 27, 12, 21, 24], \"yaxis\": \"y\", \"type\": \"scatter\"}, {\"hoverlabel\": {\"namelength\": 0}, \"hovertemplate\": \"OPINION=good<br>MONTH=10<br>MAX_TEMPERATURE_C=%{x}<br>WINDSPEED_MAX_KMH=%{y}\", \"legendgroup\": \"OPINION=good\", \"marker\": {\"color\": \"LightGreen\", \"symbol\": \"circle\"}, \"mode\": \"markers\", \"name\": \"OPINION=good\", \"showlegend\": true, \"x\": [19, 18, 21, 19], \"xaxis\": \"x\", \"y\": [17, 24, 21, 23], \"yaxis\": \"y\", \"type\": \"scatter\"}], \"name\": \"10\"}, {\"data\": [{\"hoverlabel\": {\"namelength\": 0}, \"hovertemplate\": \"OPINION=very bad<br>MONTH=11<br>MAX_TEMPERATURE_C=%{x}<br>WINDSPEED_MAX_KMH=%{y}\", \"legendgroup\": \"OPINION=very bad\", \"marker\": {\"color\": \"red\", \"symbol\": \"circle\"}, \"mode\": \"markers\", \"name\": \"OPINION=very bad\", \"showlegend\": true, \"x\": [14, 11, 11, 10, 11, 9, 11, 8, 9, 8, 10, 9, 7, 11, 10, 12], \"xaxis\": \"x\", \"y\": [36, 22, 26, 28, 20, 16, 5, 14, 18, 8, 8, 15, 13, 20, 32, 12], \"yaxis\": \"y\", \"type\": \"scatter\"}, {\"hoverlabel\": {\"namelength\": 0}, \"hovertemplate\": \"OPINION=bad<br>MONTH=11<br>MAX_TEMPERATURE_C=%{x}<br>WINDSPEED_MAX_KMH=%{y}\", \"legendgroup\": \"OPINION=bad\", \"marker\": {\"color\": \"orange\", \"symbol\": \"circle\"}, \"mode\": \"markers\", \"name\": \"OPINION=bad\", \"showlegend\": true, \"x\": [17, 14, 13, 12, 11, 11, 12, 13, 14, 13, 13, 9], \"xaxis\": \"x\", \"y\": [25, 32, 39, 30, 26, 20, 14, 18, 33, 39, 30, 23], \"yaxis\": \"y\", \"type\": \"scatter\"}, {\"hoverlabel\": {\"namelength\": 0}, \"hovertemplate\": \"OPINION=not good not bad<br>MONTH=11<br>MAX_TEMPERATURE_C=%{x}<br>WINDSPEED_MAX_KMH=%{y}\", \"legendgroup\": \"OPINION=not good not bad\", \"marker\": {\"color\": \"yellow\", \"symbol\": \"circle\"}, \"mode\": \"markers\", \"name\": \"OPINION=not good not bad\", \"showlegend\": true, \"x\": [13, 13], \"xaxis\": \"x\", \"y\": [18, 12], \"yaxis\": \"y\", \"type\": \"scatter\"}], \"name\": \"11\"}, {\"data\": [{\"hoverlabel\": {\"namelength\": 0}, \"hovertemplate\": \"OPINION=very bad<br>MONTH=12<br>MAX_TEMPERATURE_C=%{x}<br>WINDSPEED_MAX_KMH=%{y}\", \"legendgroup\": \"OPINION=very bad\", \"marker\": {\"color\": \"red\", \"symbol\": \"circle\"}, \"mode\": \"markers\", \"name\": \"OPINION=very bad\", \"showlegend\": true, \"x\": [7, 7, 7, 8, 7, 11, 11, 9, 12, 10, 10, 11, 13, 12, 11, 10, 10, 14, 12, 11, 9, 12, 10], \"xaxis\": \"x\", \"y\": [22, 25, 19, 9, 5, 26, 24, 29, 31, 36, 22, 14, 38, 28, 36, 34, 19, 26, 24, 12, 11, 7, 13], \"yaxis\": \"y\", \"type\": \"scatter\"}, {\"hoverlabel\": {\"namelength\": 0}, \"hovertemplate\": \"OPINION=bad<br>MONTH=12<br>MAX_TEMPERATURE_C=%{x}<br>WINDSPEED_MAX_KMH=%{y}\", \"legendgroup\": \"OPINION=bad\", \"marker\": {\"color\": \"orange\", \"symbol\": \"circle\"}, \"mode\": \"markers\", \"name\": \"OPINION=bad\", \"showlegend\": true, \"x\": [13, 13, 11, 12, 12, 12, 11], \"xaxis\": \"x\", \"y\": [12, 27, 34, 22, 11, 31, 9], \"yaxis\": \"y\", \"type\": \"scatter\"}, {\"hoverlabel\": {\"namelength\": 0}, \"hovertemplate\": \"OPINION=not good not bad<br>MONTH=12<br>MAX_TEMPERATURE_C=%{x}<br>WINDSPEED_MAX_KMH=%{y}\", \"legendgroup\": \"OPINION=not good not bad\", \"marker\": {\"color\": \"yellow\", \"symbol\": \"circle\"}, \"mode\": \"markers\", \"name\": \"OPINION=not good not bad\", \"showlegend\": true, \"x\": [13], \"xaxis\": \"x\", \"y\": [13], \"yaxis\": \"y\", \"type\": \"scatter\"}], \"name\": \"12\"}]);\n",
              "                        }).then(function(){\n",
              "                            \n",
              "var gd = document.getElementById('919b128e-fa5b-4be0-9075-c5129fc02cc2');\n",
              "var x = new MutationObserver(function (mutations, observer) {{\n",
              "        var display = window.getComputedStyle(gd).display;\n",
              "        if (!display || display === 'none') {{\n",
              "            console.log([gd, 'removed!']);\n",
              "            Plotly.purge(gd);\n",
              "            observer.disconnect();\n",
              "        }}\n",
              "}});\n",
              "\n",
              "// Listen for the removal of the full notebook cells\n",
              "var notebookContainer = gd.closest('#notebook-container');\n",
              "if (notebookContainer) {{\n",
              "    x.observe(notebookContainer, {childList: true});\n",
              "}}\n",
              "\n",
              "// Listen for the clearing of the current output cell\n",
              "var outputEl = gd.closest('.output');\n",
              "if (outputEl) {{\n",
              "    x.observe(outputEl, {childList: true});\n",
              "}}\n",
              "\n",
              "                        })\n",
              "                };\n",
              "                \n",
              "            </script>\n",
              "        </div>\n",
              "</body>\n",
              "</html>"
            ]
          },
          "metadata": {
            "tags": []
          }
        }
      ]
    },
    {
      "cell_type": "markdown",
      "metadata": {
        "id": "xM2Od8FgFl2T"
      },
      "source": [
        "## Another dynamic bubble colored chart\n",
        "Draw a chart with Day for X-axis and Month for animation.\n",
        "\n",
        "Choose you prefered variables for Y-axis, color and size.\n",
        "\n",
        "Of course, don't forget to add title, legend, etc...\n"
      ]
    },
    {
      "cell_type": "code",
      "metadata": {
        "id": "gzukm-TpFrYi",
        "colab": {
          "base_uri": "https://localhost:8080/",
          "height": 542
        },
        "outputId": "68654bbe-0b29-48d7-ae6a-c6b0757d57ba"
      },
      "source": [
        "# Your code here :\n",
        "\n",
        "Bubble_colored_chart = px.scatter(data_frame = df_weather, x = \"DAY\", y = \"MIN_TEMPERATURE_C\", size = \"PRECIP_TOTAL_DAY_MM\", animation_frame = \"MONTH\", color='OPINION', \n",
        "                    color_discrete_sequence=['red','orange','yellow','LightGreen','DarkGreen'], \n",
        "                    range_y=(0,40))\n",
        "\n",
        "Bubble_colored_chart.update_layout(\n",
        "    title = \"Chart with Day for X-axis and Month for animation\",\n",
        "    xaxis_title = \"Day of the month\",\n",
        "    yaxis_title = \"Min Temperature\")\n",
        "\n",
        "Bubble_colored_chart.show()"
      ],
      "execution_count": null,
      "outputs": [
        {
          "output_type": "display_data",
          "data": {
            "text/html": [
              "<html>\n",
              "<head><meta charset=\"utf-8\" /></head>\n",
              "<body>\n",
              "    <div>\n",
              "            <script src=\"https://cdnjs.cloudflare.com/ajax/libs/mathjax/2.7.5/MathJax.js?config=TeX-AMS-MML_SVG\"></script><script type=\"text/javascript\">if (window.MathJax) {MathJax.Hub.Config({SVG: {font: \"STIX-Web\"}});}</script>\n",
              "                <script type=\"text/javascript\">window.PlotlyConfig = {MathJaxConfig: 'local'};</script>\n",
              "        <script src=\"https://cdn.plot.ly/plotly-latest.min.js\"></script>    \n",
              "            <div id=\"1e0484c0-b99e-4563-b685-071d88fac152\" class=\"plotly-graph-div\" style=\"height:525px; width:100%;\"></div>\n",
              "            <script type=\"text/javascript\">\n",
              "                \n",
              "                    window.PLOTLYENV=window.PLOTLYENV || {};\n",
              "                    \n",
              "                if (document.getElementById(\"1e0484c0-b99e-4563-b685-071d88fac152\")) {\n",
              "                    Plotly.newPlot(\n",
              "                        '1e0484c0-b99e-4563-b685-071d88fac152',\n",
              "                        [{\"hoverlabel\": {\"namelength\": 0}, \"hovertemplate\": \"OPINION=very bad<br>MONTH=1<br>DAY=%{x}<br>MIN_TEMPERATURE_C=%{y}<br>PRECIP_TOTAL_DAY_MM=%{marker.size}\", \"legendgroup\": \"OPINION=very bad\", \"marker\": {\"color\": \"red\", \"size\": [0.2, 0.0, 0.0, 0.0, 0.0, 0.0, 0.0, 0.0, 0.1, 0.2, 0.0, 0.0, 1.3, 1.2, 0.1, 0.2, 0.0, 9.8, 1.3, 2.4, 5.9, 2.6, 15.1, 2.0, 4.3], \"sizemode\": \"area\", \"sizeref\": 0.11900000000000001, \"symbol\": \"circle\"}, \"mode\": \"markers\", \"name\": \"OPINION=very bad\", \"showlegend\": true, \"type\": \"scatter\", \"x\": [1, 2, 3, 4, 5, 6, 7, 9, 10, 11, 12, 15, 16, 17, 18, 20, 21, 22, 23, 24, 27, 28, 29, 30, 31], \"xaxis\": \"x\", \"y\": [4, 5, 0, -1, -1, 2, 4, 5, 1, 2, 3, 4, 1, 5, 1, 4, 0, 5, 3, 0, 7, 4, 5, 3, 2], \"yaxis\": \"y\"}, {\"hoverlabel\": {\"namelength\": 0}, \"hovertemplate\": \"OPINION=bad<br>MONTH=1<br>DAY=%{x}<br>MIN_TEMPERATURE_C=%{y}<br>PRECIP_TOTAL_DAY_MM=%{marker.size}\", \"legendgroup\": \"OPINION=bad\", \"marker\": {\"color\": \"orange\", \"size\": [0.2, 0.1, 0.1, 4.4, 4.6, 2.1], \"sizemode\": \"area\", \"sizeref\": 0.11900000000000001, \"symbol\": \"circle\"}, \"mode\": \"markers\", \"name\": \"OPINION=bad\", \"showlegend\": true, \"type\": \"scatter\", \"x\": [8, 13, 14, 19, 25, 26], \"xaxis\": \"x\", \"y\": [6, 7, 8, 6, 8, 8], \"yaxis\": \"y\"}],\n",
              "                        {\"legend\": {\"itemsizing\": \"constant\", \"tracegroupgap\": 0}, \"margin\": {\"t\": 60}, \"sliders\": [{\"active\": 0, \"currentvalue\": {\"prefix\": \"MONTH=\"}, \"len\": 0.9, \"pad\": {\"b\": 10, \"t\": 60}, \"steps\": [{\"args\": [[\"1\"], {\"frame\": {\"duration\": 0, \"redraw\": false}, \"fromcurrent\": true, \"mode\": \"immediate\", \"transition\": {\"duration\": 0, \"easing\": \"linear\"}}], \"label\": \"1\", \"method\": \"animate\"}, {\"args\": [[\"2\"], {\"frame\": {\"duration\": 0, \"redraw\": false}, \"fromcurrent\": true, \"mode\": \"immediate\", \"transition\": {\"duration\": 0, \"easing\": \"linear\"}}], \"label\": \"2\", \"method\": \"animate\"}, {\"args\": [[\"3\"], {\"frame\": {\"duration\": 0, \"redraw\": false}, \"fromcurrent\": true, \"mode\": \"immediate\", \"transition\": {\"duration\": 0, \"easing\": \"linear\"}}], \"label\": \"3\", \"method\": \"animate\"}, {\"args\": [[\"4\"], {\"frame\": {\"duration\": 0, \"redraw\": false}, \"fromcurrent\": true, \"mode\": \"immediate\", \"transition\": {\"duration\": 0, \"easing\": \"linear\"}}], \"label\": \"4\", \"method\": \"animate\"}, {\"args\": [[\"5\"], {\"frame\": {\"duration\": 0, \"redraw\": false}, \"fromcurrent\": true, \"mode\": \"immediate\", \"transition\": {\"duration\": 0, \"easing\": \"linear\"}}], \"label\": \"5\", \"method\": \"animate\"}, {\"args\": [[\"6\"], {\"frame\": {\"duration\": 0, \"redraw\": false}, \"fromcurrent\": true, \"mode\": \"immediate\", \"transition\": {\"duration\": 0, \"easing\": \"linear\"}}], \"label\": \"6\", \"method\": \"animate\"}, {\"args\": [[\"7\"], {\"frame\": {\"duration\": 0, \"redraw\": false}, \"fromcurrent\": true, \"mode\": \"immediate\", \"transition\": {\"duration\": 0, \"easing\": \"linear\"}}], \"label\": \"7\", \"method\": \"animate\"}, {\"args\": [[\"8\"], {\"frame\": {\"duration\": 0, \"redraw\": false}, \"fromcurrent\": true, \"mode\": \"immediate\", \"transition\": {\"duration\": 0, \"easing\": \"linear\"}}], \"label\": \"8\", \"method\": \"animate\"}, {\"args\": [[\"9\"], {\"frame\": {\"duration\": 0, \"redraw\": false}, \"fromcurrent\": true, \"mode\": \"immediate\", \"transition\": {\"duration\": 0, \"easing\": \"linear\"}}], \"label\": \"9\", \"method\": \"animate\"}, {\"args\": [[\"10\"], {\"frame\": {\"duration\": 0, \"redraw\": false}, \"fromcurrent\": true, \"mode\": \"immediate\", \"transition\": {\"duration\": 0, \"easing\": \"linear\"}}], \"label\": \"10\", \"method\": \"animate\"}, {\"args\": [[\"11\"], {\"frame\": {\"duration\": 0, \"redraw\": false}, \"fromcurrent\": true, \"mode\": \"immediate\", \"transition\": {\"duration\": 0, \"easing\": \"linear\"}}], \"label\": \"11\", \"method\": \"animate\"}, {\"args\": [[\"12\"], {\"frame\": {\"duration\": 0, \"redraw\": false}, \"fromcurrent\": true, \"mode\": \"immediate\", \"transition\": {\"duration\": 0, \"easing\": \"linear\"}}], \"label\": \"12\", \"method\": \"animate\"}], \"x\": 0.1, \"xanchor\": \"left\", \"y\": 0, \"yanchor\": \"top\"}], \"template\": {\"data\": {\"bar\": [{\"error_x\": {\"color\": \"#2a3f5f\"}, \"error_y\": {\"color\": \"#2a3f5f\"}, \"marker\": {\"line\": {\"color\": \"#E5ECF6\", \"width\": 0.5}}, \"type\": \"bar\"}], \"barpolar\": [{\"marker\": {\"line\": {\"color\": \"#E5ECF6\", \"width\": 0.5}}, \"type\": \"barpolar\"}], \"carpet\": [{\"aaxis\": {\"endlinecolor\": \"#2a3f5f\", \"gridcolor\": \"white\", \"linecolor\": \"white\", \"minorgridcolor\": \"white\", \"startlinecolor\": \"#2a3f5f\"}, \"baxis\": {\"endlinecolor\": \"#2a3f5f\", \"gridcolor\": \"white\", \"linecolor\": \"white\", \"minorgridcolor\": \"white\", \"startlinecolor\": \"#2a3f5f\"}, \"type\": \"carpet\"}], \"choropleth\": [{\"colorbar\": {\"outlinewidth\": 0, \"ticks\": \"\"}, \"type\": \"choropleth\"}], \"contour\": [{\"colorbar\": {\"outlinewidth\": 0, \"ticks\": \"\"}, \"colorscale\": [[0.0, \"#0d0887\"], [0.1111111111111111, \"#46039f\"], [0.2222222222222222, \"#7201a8\"], [0.3333333333333333, \"#9c179e\"], [0.4444444444444444, \"#bd3786\"], [0.5555555555555556, \"#d8576b\"], [0.6666666666666666, \"#ed7953\"], [0.7777777777777778, \"#fb9f3a\"], [0.8888888888888888, \"#fdca26\"], [1.0, \"#f0f921\"]], \"type\": \"contour\"}], \"contourcarpet\": [{\"colorbar\": {\"outlinewidth\": 0, \"ticks\": \"\"}, \"type\": \"contourcarpet\"}], \"heatmap\": [{\"colorbar\": {\"outlinewidth\": 0, \"ticks\": \"\"}, \"colorscale\": [[0.0, \"#0d0887\"], [0.1111111111111111, \"#46039f\"], [0.2222222222222222, \"#7201a8\"], [0.3333333333333333, \"#9c179e\"], [0.4444444444444444, \"#bd3786\"], [0.5555555555555556, \"#d8576b\"], [0.6666666666666666, \"#ed7953\"], [0.7777777777777778, \"#fb9f3a\"], [0.8888888888888888, \"#fdca26\"], [1.0, \"#f0f921\"]], \"type\": \"heatmap\"}], \"heatmapgl\": [{\"colorbar\": {\"outlinewidth\": 0, \"ticks\": \"\"}, \"colorscale\": [[0.0, \"#0d0887\"], [0.1111111111111111, \"#46039f\"], [0.2222222222222222, \"#7201a8\"], [0.3333333333333333, \"#9c179e\"], [0.4444444444444444, \"#bd3786\"], [0.5555555555555556, \"#d8576b\"], [0.6666666666666666, \"#ed7953\"], [0.7777777777777778, \"#fb9f3a\"], [0.8888888888888888, \"#fdca26\"], [1.0, \"#f0f921\"]], \"type\": \"heatmapgl\"}], \"histogram\": [{\"marker\": {\"colorbar\": {\"outlinewidth\": 0, \"ticks\": \"\"}}, \"type\": \"histogram\"}], \"histogram2d\": [{\"colorbar\": {\"outlinewidth\": 0, \"ticks\": \"\"}, \"colorscale\": [[0.0, \"#0d0887\"], [0.1111111111111111, \"#46039f\"], [0.2222222222222222, \"#7201a8\"], [0.3333333333333333, \"#9c179e\"], [0.4444444444444444, \"#bd3786\"], [0.5555555555555556, \"#d8576b\"], [0.6666666666666666, \"#ed7953\"], [0.7777777777777778, \"#fb9f3a\"], [0.8888888888888888, \"#fdca26\"], [1.0, \"#f0f921\"]], \"type\": \"histogram2d\"}], \"histogram2dcontour\": [{\"colorbar\": {\"outlinewidth\": 0, \"ticks\": \"\"}, \"colorscale\": [[0.0, \"#0d0887\"], [0.1111111111111111, \"#46039f\"], [0.2222222222222222, \"#7201a8\"], [0.3333333333333333, \"#9c179e\"], [0.4444444444444444, \"#bd3786\"], [0.5555555555555556, \"#d8576b\"], [0.6666666666666666, \"#ed7953\"], [0.7777777777777778, \"#fb9f3a\"], [0.8888888888888888, \"#fdca26\"], [1.0, \"#f0f921\"]], \"type\": \"histogram2dcontour\"}], \"mesh3d\": [{\"colorbar\": {\"outlinewidth\": 0, \"ticks\": \"\"}, \"type\": \"mesh3d\"}], \"parcoords\": [{\"line\": {\"colorbar\": {\"outlinewidth\": 0, \"ticks\": \"\"}}, \"type\": \"parcoords\"}], \"pie\": [{\"automargin\": true, \"type\": \"pie\"}], \"scatter\": [{\"marker\": {\"colorbar\": {\"outlinewidth\": 0, \"ticks\": \"\"}}, \"type\": \"scatter\"}], \"scatter3d\": [{\"line\": {\"colorbar\": {\"outlinewidth\": 0, \"ticks\": \"\"}}, \"marker\": {\"colorbar\": {\"outlinewidth\": 0, \"ticks\": \"\"}}, \"type\": \"scatter3d\"}], \"scattercarpet\": [{\"marker\": {\"colorbar\": {\"outlinewidth\": 0, \"ticks\": \"\"}}, \"type\": \"scattercarpet\"}], \"scattergeo\": [{\"marker\": {\"colorbar\": {\"outlinewidth\": 0, \"ticks\": \"\"}}, \"type\": \"scattergeo\"}], \"scattergl\": [{\"marker\": {\"colorbar\": {\"outlinewidth\": 0, \"ticks\": \"\"}}, \"type\": \"scattergl\"}], \"scattermapbox\": [{\"marker\": {\"colorbar\": {\"outlinewidth\": 0, \"ticks\": \"\"}}, \"type\": \"scattermapbox\"}], \"scatterpolar\": [{\"marker\": {\"colorbar\": {\"outlinewidth\": 0, \"ticks\": \"\"}}, \"type\": \"scatterpolar\"}], \"scatterpolargl\": [{\"marker\": {\"colorbar\": {\"outlinewidth\": 0, \"ticks\": \"\"}}, \"type\": \"scatterpolargl\"}], \"scatterternary\": [{\"marker\": {\"colorbar\": {\"outlinewidth\": 0, \"ticks\": \"\"}}, \"type\": \"scatterternary\"}], \"surface\": [{\"colorbar\": {\"outlinewidth\": 0, \"ticks\": \"\"}, \"colorscale\": [[0.0, \"#0d0887\"], [0.1111111111111111, \"#46039f\"], [0.2222222222222222, \"#7201a8\"], [0.3333333333333333, \"#9c179e\"], [0.4444444444444444, \"#bd3786\"], [0.5555555555555556, \"#d8576b\"], [0.6666666666666666, \"#ed7953\"], [0.7777777777777778, \"#fb9f3a\"], [0.8888888888888888, \"#fdca26\"], [1.0, \"#f0f921\"]], \"type\": \"surface\"}], \"table\": [{\"cells\": {\"fill\": {\"color\": \"#EBF0F8\"}, \"line\": {\"color\": \"white\"}}, \"header\": {\"fill\": {\"color\": \"#C8D4E3\"}, \"line\": {\"color\": \"white\"}}, \"type\": \"table\"}]}, \"layout\": {\"annotationdefaults\": {\"arrowcolor\": \"#2a3f5f\", \"arrowhead\": 0, \"arrowwidth\": 1}, \"coloraxis\": {\"colorbar\": {\"outlinewidth\": 0, \"ticks\": \"\"}}, \"colorscale\": {\"diverging\": [[0, \"#8e0152\"], [0.1, \"#c51b7d\"], [0.2, \"#de77ae\"], [0.3, \"#f1b6da\"], [0.4, \"#fde0ef\"], [0.5, \"#f7f7f7\"], [0.6, \"#e6f5d0\"], [0.7, \"#b8e186\"], [0.8, \"#7fbc41\"], [0.9, \"#4d9221\"], [1, \"#276419\"]], \"sequential\": [[0.0, \"#0d0887\"], [0.1111111111111111, \"#46039f\"], [0.2222222222222222, \"#7201a8\"], [0.3333333333333333, \"#9c179e\"], [0.4444444444444444, \"#bd3786\"], [0.5555555555555556, \"#d8576b\"], [0.6666666666666666, \"#ed7953\"], [0.7777777777777778, \"#fb9f3a\"], [0.8888888888888888, \"#fdca26\"], [1.0, \"#f0f921\"]], \"sequentialminus\": [[0.0, \"#0d0887\"], [0.1111111111111111, \"#46039f\"], [0.2222222222222222, \"#7201a8\"], [0.3333333333333333, \"#9c179e\"], [0.4444444444444444, \"#bd3786\"], [0.5555555555555556, \"#d8576b\"], [0.6666666666666666, \"#ed7953\"], [0.7777777777777778, \"#fb9f3a\"], [0.8888888888888888, \"#fdca26\"], [1.0, \"#f0f921\"]]}, \"colorway\": [\"#636efa\", \"#EF553B\", \"#00cc96\", \"#ab63fa\", \"#FFA15A\", \"#19d3f3\", \"#FF6692\", \"#B6E880\", \"#FF97FF\", \"#FECB52\"], \"font\": {\"color\": \"#2a3f5f\"}, \"geo\": {\"bgcolor\": \"white\", \"lakecolor\": \"white\", \"landcolor\": \"#E5ECF6\", \"showlakes\": true, \"showland\": true, \"subunitcolor\": \"white\"}, \"hoverlabel\": {\"align\": \"left\"}, \"hovermode\": \"closest\", \"mapbox\": {\"style\": \"light\"}, \"paper_bgcolor\": \"white\", \"plot_bgcolor\": \"#E5ECF6\", \"polar\": {\"angularaxis\": {\"gridcolor\": \"white\", \"linecolor\": \"white\", \"ticks\": \"\"}, \"bgcolor\": \"#E5ECF6\", \"radialaxis\": {\"gridcolor\": \"white\", \"linecolor\": \"white\", \"ticks\": \"\"}}, \"scene\": {\"xaxis\": {\"backgroundcolor\": \"#E5ECF6\", \"gridcolor\": \"white\", \"gridwidth\": 2, \"linecolor\": \"white\", \"showbackground\": true, \"ticks\": \"\", \"zerolinecolor\": \"white\"}, \"yaxis\": {\"backgroundcolor\": \"#E5ECF6\", \"gridcolor\": \"white\", \"gridwidth\": 2, \"linecolor\": \"white\", \"showbackground\": true, \"ticks\": \"\", \"zerolinecolor\": \"white\"}, \"zaxis\": {\"backgroundcolor\": \"#E5ECF6\", \"gridcolor\": \"white\", \"gridwidth\": 2, \"linecolor\": \"white\", \"showbackground\": true, \"ticks\": \"\", \"zerolinecolor\": \"white\"}}, \"shapedefaults\": {\"line\": {\"color\": \"#2a3f5f\"}}, \"ternary\": {\"aaxis\": {\"gridcolor\": \"white\", \"linecolor\": \"white\", \"ticks\": \"\"}, \"baxis\": {\"gridcolor\": \"white\", \"linecolor\": \"white\", \"ticks\": \"\"}, \"bgcolor\": \"#E5ECF6\", \"caxis\": {\"gridcolor\": \"white\", \"linecolor\": \"white\", \"ticks\": \"\"}}, \"title\": {\"x\": 0.05}, \"xaxis\": {\"automargin\": true, \"gridcolor\": \"white\", \"linecolor\": \"white\", \"ticks\": \"\", \"title\": {\"standoff\": 15}, \"zerolinecolor\": \"white\", \"zerolinewidth\": 2}, \"yaxis\": {\"automargin\": true, \"gridcolor\": \"white\", \"linecolor\": \"white\", \"ticks\": \"\", \"title\": {\"standoff\": 15}, \"zerolinecolor\": \"white\", \"zerolinewidth\": 2}}}, \"title\": {\"text\": \"Chart with Day for X-axis and Month for animation\"}, \"updatemenus\": [{\"buttons\": [{\"args\": [null, {\"frame\": {\"duration\": 500, \"redraw\": false}, \"fromcurrent\": true, \"mode\": \"immediate\", \"transition\": {\"duration\": 500, \"easing\": \"linear\"}}], \"label\": \"&#9654;\", \"method\": \"animate\"}, {\"args\": [[null], {\"frame\": {\"duration\": 0, \"redraw\": false}, \"fromcurrent\": true, \"mode\": \"immediate\", \"transition\": {\"duration\": 0, \"easing\": \"linear\"}}], \"label\": \"&#9724;\", \"method\": \"animate\"}], \"direction\": \"left\", \"pad\": {\"r\": 10, \"t\": 70}, \"showactive\": false, \"type\": \"buttons\", \"x\": 0.1, \"xanchor\": \"right\", \"y\": 0, \"yanchor\": \"top\"}], \"xaxis\": {\"anchor\": \"y\", \"domain\": [0.0, 1.0], \"title\": {\"text\": \"Day of the month\"}}, \"yaxis\": {\"anchor\": \"x\", \"domain\": [0.0, 1.0], \"range\": [0, 40], \"title\": {\"text\": \"Min Temperature\"}}},\n",
              "                        {\"responsive\": true}\n",
              "                    ).then(function(){\n",
              "                            Plotly.addFrames('1e0484c0-b99e-4563-b685-071d88fac152', [{\"data\": [{\"hoverlabel\": {\"namelength\": 0}, \"hovertemplate\": \"OPINION=very bad<br>MONTH=1<br>DAY=%{x}<br>MIN_TEMPERATURE_C=%{y}<br>PRECIP_TOTAL_DAY_MM=%{marker.size}\", \"legendgroup\": \"OPINION=very bad\", \"marker\": {\"color\": \"red\", \"size\": [0.2, 0.0, 0.0, 0.0, 0.0, 0.0, 0.0, 0.0, 0.1, 0.2, 0.0, 0.0, 1.3, 1.2, 0.1, 0.2, 0.0, 9.8, 1.3, 2.4, 5.9, 2.6, 15.1, 2.0, 4.3], \"sizemode\": \"area\", \"sizeref\": 0.11900000000000001, \"symbol\": \"circle\"}, \"mode\": \"markers\", \"name\": \"OPINION=very bad\", \"showlegend\": true, \"x\": [1, 2, 3, 4, 5, 6, 7, 9, 10, 11, 12, 15, 16, 17, 18, 20, 21, 22, 23, 24, 27, 28, 29, 30, 31], \"xaxis\": \"x\", \"y\": [4, 5, 0, -1, -1, 2, 4, 5, 1, 2, 3, 4, 1, 5, 1, 4, 0, 5, 3, 0, 7, 4, 5, 3, 2], \"yaxis\": \"y\", \"type\": \"scatter\"}, {\"hoverlabel\": {\"namelength\": 0}, \"hovertemplate\": \"OPINION=bad<br>MONTH=1<br>DAY=%{x}<br>MIN_TEMPERATURE_C=%{y}<br>PRECIP_TOTAL_DAY_MM=%{marker.size}\", \"legendgroup\": \"OPINION=bad\", \"marker\": {\"color\": \"orange\", \"size\": [0.2, 0.1, 0.1, 4.4, 4.6, 2.1], \"sizemode\": \"area\", \"sizeref\": 0.11900000000000001, \"symbol\": \"circle\"}, \"mode\": \"markers\", \"name\": \"OPINION=bad\", \"showlegend\": true, \"x\": [8, 13, 14, 19, 25, 26], \"xaxis\": \"x\", \"y\": [6, 7, 8, 6, 8, 8], \"yaxis\": \"y\", \"type\": \"scatter\"}], \"name\": \"1\"}, {\"data\": [{\"hoverlabel\": {\"namelength\": 0}, \"hovertemplate\": \"OPINION=very bad<br>MONTH=2<br>DAY=%{x}<br>MIN_TEMPERATURE_C=%{y}<br>PRECIP_TOTAL_DAY_MM=%{marker.size}\", \"legendgroup\": \"OPINION=very bad\", \"marker\": {\"color\": \"red\", \"size\": [1.0, 0.0, 18.6, 0.8, 29.1, 0.1, 0.0, 0.0, 0.9, 2.5], \"sizemode\": \"area\", \"sizeref\": 0.11900000000000001, \"symbol\": \"circle\"}, \"mode\": \"markers\", \"name\": \"OPINION=very bad\", \"showlegend\": true, \"x\": [2, 3, 4, 5, 10, 11, 12, 13, 18, 19], \"xaxis\": \"x\", \"y\": [2, 0, 5, 4, 8, 5, 3, 2, 5, 5], \"yaxis\": \"y\", \"type\": \"scatter\"}, {\"hoverlabel\": {\"namelength\": 0}, \"hovertemplate\": \"OPINION=bad<br>MONTH=2<br>DAY=%{x}<br>MIN_TEMPERATURE_C=%{y}<br>PRECIP_TOTAL_DAY_MM=%{marker.size}\", \"legendgroup\": \"OPINION=bad\", \"marker\": {\"color\": \"orange\", \"size\": [7.3, 9.4, 4.0, 1.6, 6.3, 0.9], \"sizemode\": \"area\", \"sizeref\": 0.11900000000000001, \"symbol\": \"circle\"}, \"mode\": \"markers\", \"name\": \"OPINION=bad\", \"showlegend\": true, \"x\": [1, 6, 7, 8, 9, 28], \"xaxis\": \"x\", \"y\": [6, 10, 9, 8, 9, 9], \"yaxis\": \"y\", \"type\": \"scatter\"}, {\"hoverlabel\": {\"namelength\": 0}, \"hovertemplate\": \"OPINION=not good not bad<br>MONTH=2<br>DAY=%{x}<br>MIN_TEMPERATURE_C=%{y}<br>PRECIP_TOTAL_DAY_MM=%{marker.size}\", \"legendgroup\": \"OPINION=not good not bad\", \"marker\": {\"color\": \"yellow\", \"size\": [0.0, 0.0, 0.0, 0.0, 0.0, 0.0, 0.0, 0.0, 0.0], \"sizemode\": \"area\", \"sizeref\": 0.11900000000000001, \"symbol\": \"circle\"}, \"mode\": \"markers\", \"name\": \"OPINION=not good not bad\", \"showlegend\": true, \"x\": [14, 15, 16, 17, 20, 21, 22, 24, 25], \"xaxis\": \"x\", \"y\": [2, 6, 6, 7, 4, 6, 7, 5, 5], \"yaxis\": \"y\", \"type\": \"scatter\"}, {\"hoverlabel\": {\"namelength\": 0}, \"hovertemplate\": \"OPINION=good<br>MONTH=2<br>DAY=%{x}<br>MIN_TEMPERATURE_C=%{y}<br>PRECIP_TOTAL_DAY_MM=%{marker.size}\", \"legendgroup\": \"OPINION=good\", \"marker\": {\"color\": \"LightGreen\", \"size\": [0.0, 0.0, 0.0], \"sizemode\": \"area\", \"sizeref\": 0.11900000000000001, \"symbol\": \"circle\"}, \"mode\": \"markers\", \"name\": \"OPINION=good\", \"showlegend\": true, \"x\": [23, 26, 27], \"xaxis\": \"x\", \"y\": [8, 7, 9], \"yaxis\": \"y\", \"type\": \"scatter\"}], \"name\": \"2\"}, {\"data\": [{\"hoverlabel\": {\"namelength\": 0}, \"hovertemplate\": \"OPINION=very bad<br>MONTH=3<br>DAY=%{x}<br>MIN_TEMPERATURE_C=%{y}<br>PRECIP_TOTAL_DAY_MM=%{marker.size}\", \"legendgroup\": \"OPINION=very bad\", \"marker\": {\"color\": \"red\", \"size\": [47.6, 0.2, 0.1, 4.2, 5.0, 1.1, 1.0, 0.1, 0.0], \"sizemode\": \"area\", \"sizeref\": 0.11900000000000001, \"symbol\": \"circle\"}, \"mode\": \"markers\", \"name\": \"OPINION=very bad\", \"showlegend\": true, \"x\": [6, 8, 11, 12, 17, 18, 19, 25, 26], \"xaxis\": \"x\", \"y\": [9, 5, 5, 4, 5, 4, 3, 3, 1], \"yaxis\": \"y\", \"type\": \"scatter\"}, {\"hoverlabel\": {\"namelength\": 0}, \"hovertemplate\": \"OPINION=bad<br>MONTH=3<br>DAY=%{x}<br>MIN_TEMPERATURE_C=%{y}<br>PRECIP_TOTAL_DAY_MM=%{marker.size}\", \"legendgroup\": \"OPINION=bad\", \"marker\": {\"color\": \"orange\", \"size\": [5.4, 11.1, 3.4, 5.3, 1.2, 0.9, 0.5, 1.1, 0.5], \"sizemode\": \"area\", \"sizeref\": 0.11900000000000001, \"symbol\": \"circle\"}, \"mode\": \"markers\", \"name\": \"OPINION=bad\", \"showlegend\": true, \"x\": [3, 4, 7, 9, 10, 13, 14, 15, 16], \"xaxis\": \"x\", \"y\": [9, 7, 6, 8, 8, 6, 6, 10, 10], \"yaxis\": \"y\", \"type\": \"scatter\"}, {\"hoverlabel\": {\"namelength\": 0}, \"hovertemplate\": \"OPINION=not good not bad<br>MONTH=3<br>DAY=%{x}<br>MIN_TEMPERATURE_C=%{y}<br>PRECIP_TOTAL_DAY_MM=%{marker.size}\", \"legendgroup\": \"OPINION=not good not bad\", \"marker\": {\"color\": \"yellow\", \"size\": [0.0, 4.9, 1.1, 0.6, 0.1, 0.0, 0.1, 0.0, 0.0, 0.1, 2.5], \"sizemode\": \"area\", \"sizeref\": 0.11900000000000001, \"symbol\": \"circle\"}, \"mode\": \"markers\", \"name\": \"OPINION=not good not bad\", \"showlegend\": true, \"x\": [1, 2, 5, 20, 21, 23, 24, 27, 28, 29, 30], \"xaxis\": \"x\", \"y\": [7, 6, 7, 4, 5, 7, 5, 2, 3, 4, 6], \"yaxis\": \"y\", \"type\": \"scatter\"}, {\"hoverlabel\": {\"namelength\": 0}, \"hovertemplate\": \"OPINION=good<br>MONTH=3<br>DAY=%{x}<br>MIN_TEMPERATURE_C=%{y}<br>PRECIP_TOTAL_DAY_MM=%{marker.size}\", \"legendgroup\": \"OPINION=good\", \"marker\": {\"color\": \"LightGreen\", \"size\": [0.0, 5.3], \"sizemode\": \"area\", \"sizeref\": 0.11900000000000001, \"symbol\": \"circle\"}, \"mode\": \"markers\", \"name\": \"OPINION=good\", \"showlegend\": true, \"x\": [22, 31], \"xaxis\": \"x\", \"y\": [6, 7], \"yaxis\": \"y\", \"type\": \"scatter\"}], \"name\": \"3\"}, {\"data\": [{\"hoverlabel\": {\"namelength\": 0}, \"hovertemplate\": \"OPINION=very bad<br>MONTH=4<br>DAY=%{x}<br>MIN_TEMPERATURE_C=%{y}<br>PRECIP_TOTAL_DAY_MM=%{marker.size}\", \"legendgroup\": \"OPINION=very bad\", \"marker\": {\"color\": \"red\", \"size\": [5.2, 1.1, 10.1, 6.1, 1.6, 0.0, 2.3, 18.9], \"sizemode\": \"area\", \"sizeref\": 0.11900000000000001, \"symbol\": \"circle\"}, \"mode\": \"markers\", \"name\": \"OPINION=very bad\", \"showlegend\": true, \"x\": [3, 4, 5, 6, 8, 13, 14, 24], \"xaxis\": \"x\", \"y\": [3, 1, 5, 4, 5, 2, 4, 9], \"yaxis\": \"y\", \"type\": \"scatter\"}, {\"hoverlabel\": {\"namelength\": 0}, \"hovertemplate\": \"OPINION=bad<br>MONTH=4<br>DAY=%{x}<br>MIN_TEMPERATURE_C=%{y}<br>PRECIP_TOTAL_DAY_MM=%{marker.size}\", \"legendgroup\": \"OPINION=bad\", \"marker\": {\"color\": \"orange\", \"size\": [1.8, 3.0, 2.7, 4.4, 1.4, 0.4, 0.0], \"sizemode\": \"area\", \"sizeref\": 0.11900000000000001, \"symbol\": \"circle\"}, \"mode\": \"markers\", \"name\": \"OPINION=bad\", \"showlegend\": true, \"x\": [2, 7, 23, 25, 27, 28, 29], \"xaxis\": \"x\", \"y\": [6, 7, 11, 7, 7, 6, 6], \"yaxis\": \"y\", \"type\": \"scatter\"}, {\"hoverlabel\": {\"namelength\": 0}, \"hovertemplate\": \"OPINION=not good not bad<br>MONTH=4<br>DAY=%{x}<br>MIN_TEMPERATURE_C=%{y}<br>PRECIP_TOTAL_DAY_MM=%{marker.size}\", \"legendgroup\": \"OPINION=not good not bad\", \"marker\": {\"color\": \"yellow\", \"size\": [0.8, 1.9, 0.1, 0.0, 6.2, 12.3, 6.0, 2.0], \"sizemode\": \"area\", \"sizeref\": 0.11900000000000001, \"symbol\": \"circle\"}, \"mode\": \"markers\", \"name\": \"OPINION=not good not bad\", \"showlegend\": true, \"x\": [9, 10, 11, 12, 15, 16, 22, 26], \"xaxis\": \"x\", \"y\": [6, 5, 6, 2, 4, 8, 10, 6], \"yaxis\": \"y\", \"type\": \"scatter\"}, {\"hoverlabel\": {\"namelength\": 0}, \"hovertemplate\": \"OPINION=good<br>MONTH=4<br>DAY=%{x}<br>MIN_TEMPERATURE_C=%{y}<br>PRECIP_TOTAL_DAY_MM=%{marker.size}\", \"legendgroup\": \"OPINION=good\", \"marker\": {\"color\": \"LightGreen\", \"size\": [2.0, 0.0, 0.0, 0.0, 1.6, 7.8, 0.0], \"sizemode\": \"area\", \"sizeref\": 0.11900000000000001, \"symbol\": \"circle\"}, \"mode\": \"markers\", \"name\": \"OPINION=good\", \"showlegend\": true, \"x\": [1, 17, 18, 19, 20, 21, 30], \"xaxis\": \"x\", \"y\": [6, 7, 9, 12, 11, 11, 6], \"yaxis\": \"y\", \"type\": \"scatter\"}], \"name\": \"4\"}, {\"data\": [{\"hoverlabel\": {\"namelength\": 0}, \"hovertemplate\": \"OPINION=very bad<br>MONTH=5<br>DAY=%{x}<br>MIN_TEMPERATURE_C=%{y}<br>PRECIP_TOTAL_DAY_MM=%{marker.size}\", \"legendgroup\": \"OPINION=very bad\", \"marker\": {\"color\": \"red\", \"size\": [0.6, 0.3, 17.8], \"sizemode\": \"area\", \"sizeref\": 0.11900000000000001, \"symbol\": \"circle\"}, \"mode\": \"markers\", \"name\": \"OPINION=very bad\", \"showlegend\": true, \"x\": [4, 5, 8], \"xaxis\": \"x\", \"y\": [5, 2, 9], \"yaxis\": \"y\", \"type\": \"scatter\"}, {\"hoverlabel\": {\"namelength\": 0}, \"hovertemplate\": \"OPINION=bad<br>MONTH=5<br>DAY=%{x}<br>MIN_TEMPERATURE_C=%{y}<br>PRECIP_TOTAL_DAY_MM=%{marker.size}\", \"legendgroup\": \"OPINION=bad\", \"marker\": {\"color\": \"orange\", \"size\": [0.4, 0.5, 4.4, 1.7, 6.0, 3.6, 7.0, 0.5, 1.4], \"sizemode\": \"area\", \"sizeref\": 0.11900000000000001, \"symbol\": \"circle\"}, \"mode\": \"markers\", \"name\": \"OPINION=bad\", \"showlegend\": true, \"x\": [2, 3, 9, 10, 18, 19, 20, 26, 27], \"xaxis\": \"x\", \"y\": [7, 6, 9, 8, 10, 8, 8, 11, 13], \"yaxis\": \"y\", \"type\": \"scatter\"}, {\"hoverlabel\": {\"namelength\": 0}, \"hovertemplate\": \"OPINION=not good not bad<br>MONTH=5<br>DAY=%{x}<br>MIN_TEMPERATURE_C=%{y}<br>PRECIP_TOTAL_DAY_MM=%{marker.size}\", \"legendgroup\": \"OPINION=not good not bad\", \"marker\": {\"color\": \"yellow\", \"size\": [6.0, 0.0, 1.2, 2.0, 0.0, 0.0, 0.0, 4.6, 0.5, 1.2, 0.2, 0.0], \"sizemode\": \"area\", \"sizeref\": 0.11900000000000001, \"symbol\": \"circle\"}, \"mode\": \"markers\", \"name\": \"OPINION=not good not bad\", \"showlegend\": true, \"x\": [1, 6, 7, 11, 12, 13, 16, 17, 25, 28, 29, 30], \"xaxis\": \"x\", \"y\": [9, 3, 6, 10, 7, 6, 8, 10, 10, 9, 8, 11], \"yaxis\": \"y\", \"type\": \"scatter\"}, {\"hoverlabel\": {\"namelength\": 0}, \"hovertemplate\": \"OPINION=good<br>MONTH=5<br>DAY=%{x}<br>MIN_TEMPERATURE_C=%{y}<br>PRECIP_TOTAL_DAY_MM=%{marker.size}\", \"legendgroup\": \"OPINION=good\", \"marker\": {\"color\": \"LightGreen\", \"size\": [0.0, 0.0, 0.8, 1.8, 7.5, 1.6, 0.0], \"sizemode\": \"area\", \"sizeref\": 0.11900000000000001, \"symbol\": \"circle\"}, \"mode\": \"markers\", \"name\": \"OPINION=good\", \"showlegend\": true, \"x\": [14, 15, 21, 22, 23, 24, 31], \"xaxis\": \"x\", \"y\": [8, 9, 8, 11, 13, 10, 11], \"yaxis\": \"y\", \"type\": \"scatter\"}], \"name\": \"5\"}, {\"data\": [{\"hoverlabel\": {\"namelength\": 0}, \"hovertemplate\": \"OPINION=very bad<br>MONTH=6<br>DAY=%{x}<br>MIN_TEMPERATURE_C=%{y}<br>PRECIP_TOTAL_DAY_MM=%{marker.size}\", \"legendgroup\": \"OPINION=very bad\", \"marker\": {\"color\": \"red\", \"size\": [27.3], \"sizemode\": \"area\", \"sizeref\": 0.11900000000000001, \"symbol\": \"circle\"}, \"mode\": \"markers\", \"name\": \"OPINION=very bad\", \"showlegend\": true, \"x\": [7], \"xaxis\": \"x\", \"y\": [13], \"yaxis\": \"y\", \"type\": \"scatter\"}, {\"hoverlabel\": {\"namelength\": 0}, \"hovertemplate\": \"OPINION=bad<br>MONTH=6<br>DAY=%{x}<br>MIN_TEMPERATURE_C=%{y}<br>PRECIP_TOTAL_DAY_MM=%{marker.size}\", \"legendgroup\": \"OPINION=bad\", \"marker\": {\"color\": \"orange\", \"size\": [6.3, 3.4, 5.1, 14.1], \"sizemode\": \"area\", \"sizeref\": 0.11900000000000001, \"symbol\": \"circle\"}, \"mode\": \"markers\", \"name\": \"OPINION=bad\", \"showlegend\": true, \"x\": [4, 11, 12, 24], \"xaxis\": \"x\", \"y\": [13, 7, 8, 16], \"yaxis\": \"y\", \"type\": \"scatter\"}, {\"hoverlabel\": {\"namelength\": 0}, \"hovertemplate\": \"OPINION=not good not bad<br>MONTH=6<br>DAY=%{x}<br>MIN_TEMPERATURE_C=%{y}<br>PRECIP_TOTAL_DAY_MM=%{marker.size}\", \"legendgroup\": \"OPINION=not good not bad\", \"marker\": {\"color\": \"yellow\", \"size\": [1.5, 3.4, 4.0, 2.7, 2.3, 0.6, 0.9, 0.0, 0.0], \"sizemode\": \"area\", \"sizeref\": 0.11900000000000001, \"symbol\": \"circle\"}, \"mode\": \"markers\", \"name\": \"OPINION=not good not bad\", \"showlegend\": true, \"x\": [5, 8, 9, 10, 13, 15, 19, 27, 28], \"xaxis\": \"x\", \"y\": [10, 11, 10, 9, 10, 10, 14, 23, 25], \"yaxis\": \"y\", \"type\": \"scatter\"}, {\"hoverlabel\": {\"namelength\": 0}, \"hovertemplate\": \"OPINION=good<br>MONTH=6<br>DAY=%{x}<br>MIN_TEMPERATURE_C=%{y}<br>PRECIP_TOTAL_DAY_MM=%{marker.size}\", \"legendgroup\": \"OPINION=good\", \"marker\": {\"color\": \"LightGreen\", \"size\": [0.0, 0.5, 2.7, 0.0, 0.3, 0.0, 0.0, 0.0, 0.5, 0.0, 0.0, 0.9, 0.0, 0.0, 0.7], \"sizemode\": \"area\", \"sizeref\": 0.11900000000000001, \"symbol\": \"circle\"}, \"mode\": \"markers\", \"name\": \"OPINION=good\", \"showlegend\": true, \"x\": [2, 3, 6, 14, 16, 17, 18, 20, 21, 22, 23, 25, 26, 29, 30], \"xaxis\": \"x\", \"y\": [15, 14, 9, 10, 13, 10, 17, 12, 10, 11, 15, 15, 19, 18, 16], \"yaxis\": \"y\", \"type\": \"scatter\"}, {\"hoverlabel\": {\"namelength\": 0}, \"hovertemplate\": \"OPINION=very good<br>MONTH=6<br>DAY=%{x}<br>MIN_TEMPERATURE_C=%{y}<br>PRECIP_TOTAL_DAY_MM=%{marker.size}\", \"legendgroup\": \"OPINION=very good\", \"marker\": {\"color\": \"DarkGreen\", \"size\": [0.0], \"sizemode\": \"area\", \"sizeref\": 0.11900000000000001, \"symbol\": \"circle\"}, \"mode\": \"markers\", \"name\": \"OPINION=very good\", \"showlegend\": true, \"x\": [1], \"xaxis\": \"x\", \"y\": [16], \"yaxis\": \"y\", \"type\": \"scatter\"}], \"name\": \"6\"}, {\"data\": [{\"hoverlabel\": {\"namelength\": 0}, \"hovertemplate\": \"OPINION=very bad<br>MONTH=7<br>DAY=%{x}<br>MIN_TEMPERATURE_C=%{y}<br>PRECIP_TOTAL_DAY_MM=%{marker.size}\", \"legendgroup\": \"OPINION=very bad\", \"marker\": {\"color\": \"red\", \"size\": [16.3], \"sizemode\": \"area\", \"sizeref\": 0.11900000000000001, \"symbol\": \"circle\"}, \"mode\": \"markers\", \"name\": \"OPINION=very bad\", \"showlegend\": true, \"x\": [26], \"xaxis\": \"x\", \"y\": [10], \"yaxis\": \"y\", \"type\": \"scatter\"}, {\"hoverlabel\": {\"namelength\": 0}, \"hovertemplate\": \"OPINION=bad<br>MONTH=7<br>DAY=%{x}<br>MIN_TEMPERATURE_C=%{y}<br>PRECIP_TOTAL_DAY_MM=%{marker.size}\", \"legendgroup\": \"OPINION=bad\", \"marker\": {\"color\": \"orange\", \"size\": [7.5, 0.2, 6.1], \"sizemode\": \"area\", \"sizeref\": 0.11900000000000001, \"symbol\": \"circle\"}, \"mode\": \"markers\", \"name\": \"OPINION=bad\", \"showlegend\": true, \"x\": [6, 12, 30], \"xaxis\": \"x\", \"y\": [18, 17, 15], \"yaxis\": \"y\", \"type\": \"scatter\"}, {\"hoverlabel\": {\"namelength\": 0}, \"hovertemplate\": \"OPINION=not good not bad<br>MONTH=7<br>DAY=%{x}<br>MIN_TEMPERATURE_C=%{y}<br>PRECIP_TOTAL_DAY_MM=%{marker.size}\", \"legendgroup\": \"OPINION=not good not bad\", \"marker\": {\"color\": \"yellow\", \"size\": [0.0, 0.0, 2.1, 0.0, 2.8], \"sizemode\": \"area\", \"sizeref\": 0.11900000000000001, \"symbol\": \"circle\"}, \"mode\": \"markers\", \"name\": \"OPINION=not good not bad\", \"showlegend\": true, \"x\": [18, 19, 20, 23, 27], \"xaxis\": \"x\", \"y\": [13, 14, 16, 21, 14], \"yaxis\": \"y\", \"type\": \"scatter\"}, {\"hoverlabel\": {\"namelength\": 0}, \"hovertemplate\": \"OPINION=good<br>MONTH=7<br>DAY=%{x}<br>MIN_TEMPERATURE_C=%{y}<br>PRECIP_TOTAL_DAY_MM=%{marker.size}\", \"legendgroup\": \"OPINION=good\", \"marker\": {\"color\": \"LightGreen\", \"size\": [1.0, 0.0, 0.0, 0.0, 0.6, 1.7, 0.0, 0.0, 0.0, 0.0, 0.0, 0.0, 0.0, 0.0, 0.0, 0.0, 0.8, 0.0, 1.2, 0.3], \"sizemode\": \"area\", \"sizeref\": 0.11900000000000001, \"symbol\": \"circle\"}, \"mode\": \"markers\", \"name\": \"OPINION=good\", \"showlegend\": true, \"x\": [1, 2, 3, 4, 5, 7, 8, 9, 10, 11, 13, 14, 15, 16, 21, 24, 25, 28, 29, 31], \"xaxis\": \"x\", \"y\": [15, 11, 15, 16, 17, 16, 15, 14, 15, 18, 13, 15, 13, 14, 15, 19, 23, 12, 13, 14], \"yaxis\": \"y\", \"type\": \"scatter\"}, {\"hoverlabel\": {\"namelength\": 0}, \"hovertemplate\": \"OPINION=very good<br>MONTH=7<br>DAY=%{x}<br>MIN_TEMPERATURE_C=%{y}<br>PRECIP_TOTAL_DAY_MM=%{marker.size}\", \"legendgroup\": \"OPINION=very good\", \"marker\": {\"color\": \"DarkGreen\", \"size\": [0.0, 0.0], \"sizemode\": \"area\", \"sizeref\": 0.11900000000000001, \"symbol\": \"circle\"}, \"mode\": \"markers\", \"name\": \"OPINION=very good\", \"showlegend\": true, \"x\": [17, 22], \"xaxis\": \"x\", \"y\": [15, 16], \"yaxis\": \"y\", \"type\": \"scatter\"}], \"name\": \"7\"}, {\"data\": [{\"hoverlabel\": {\"namelength\": 0}, \"hovertemplate\": \"OPINION=bad<br>MONTH=8<br>DAY=%{x}<br>MIN_TEMPERATURE_C=%{y}<br>PRECIP_TOTAL_DAY_MM=%{marker.size}\", \"legendgroup\": \"OPINION=bad\", \"marker\": {\"color\": \"orange\", \"size\": [4.4, 2.4, 0.8, 7.3, 0.0], \"sizemode\": \"area\", \"sizeref\": 0.11900000000000001, \"symbol\": \"circle\"}, \"mode\": \"markers\", \"name\": \"OPINION=bad\", \"showlegend\": true, \"x\": [6, 12, 14, 17, 28], \"xaxis\": \"x\", \"y\": [17, 13, 13, 18, 16], \"yaxis\": \"y\", \"type\": \"scatter\"}, {\"hoverlabel\": {\"namelength\": 0}, \"hovertemplate\": \"OPINION=not good not bad<br>MONTH=8<br>DAY=%{x}<br>MIN_TEMPERATURE_C=%{y}<br>PRECIP_TOTAL_DAY_MM=%{marker.size}\", \"legendgroup\": \"OPINION=not good not bad\", \"marker\": {\"color\": \"yellow\", \"size\": [0.1, 0.0, 0.2, 0.0, 0.7, 9.9, 0.5, 0.0, 0.0, 0.0], \"sizemode\": \"area\", \"sizeref\": 0.11900000000000001, \"symbol\": \"circle\"}, \"mode\": \"markers\", \"name\": \"OPINION=not good not bad\", \"showlegend\": true, \"x\": [5, 8, 10, 13, 15, 18, 19, 21, 29, 30], \"xaxis\": \"x\", \"y\": [16, 15, 15, 10, 15, 14, 13, 12, 15, 14], \"yaxis\": \"y\", \"type\": \"scatter\"}, {\"hoverlabel\": {\"namelength\": 0}, \"hovertemplate\": \"OPINION=good<br>MONTH=8<br>DAY=%{x}<br>MIN_TEMPERATURE_C=%{y}<br>PRECIP_TOTAL_DAY_MM=%{marker.size}\", \"legendgroup\": \"OPINION=good\", \"marker\": {\"color\": \"LightGreen\", \"size\": [0.0, 0.0, 0.0, 0.1, 5.5, 1.1, 0.0, 0.0, 0.0, 0.0, 0.0, 0.0, 0.0, 0.2, 0.0], \"sizemode\": \"area\", \"sizeref\": 0.11900000000000001, \"symbol\": \"circle\"}, \"mode\": \"markers\", \"name\": \"OPINION=good\", \"showlegend\": true, \"x\": [1, 3, 4, 7, 9, 11, 16, 20, 22, 23, 24, 25, 26, 27, 31], \"xaxis\": \"x\", \"y\": [14, 17, 16, 15, 19, 14, 14, 12, 14, 15, 18, 16, 17, 19, 15], \"yaxis\": \"y\", \"type\": \"scatter\"}, {\"hoverlabel\": {\"namelength\": 0}, \"hovertemplate\": \"OPINION=very good<br>MONTH=8<br>DAY=%{x}<br>MIN_TEMPERATURE_C=%{y}<br>PRECIP_TOTAL_DAY_MM=%{marker.size}\", \"legendgroup\": \"OPINION=very good\", \"marker\": {\"color\": \"DarkGreen\", \"size\": [0.0], \"sizemode\": \"area\", \"sizeref\": 0.11900000000000001, \"symbol\": \"circle\"}, \"mode\": \"markers\", \"name\": \"OPINION=very good\", \"showlegend\": true, \"x\": [2], \"xaxis\": \"x\", \"y\": [15], \"yaxis\": \"y\", \"type\": \"scatter\"}], \"name\": \"8\"}, {\"data\": [{\"hoverlabel\": {\"namelength\": 0}, \"hovertemplate\": \"OPINION=very bad<br>MONTH=9<br>DAY=%{x}<br>MIN_TEMPERATURE_C=%{y}<br>PRECIP_TOTAL_DAY_MM=%{marker.size}\", \"legendgroup\": \"OPINION=very bad\", \"marker\": {\"color\": \"red\", \"size\": [24.1], \"sizemode\": \"area\", \"sizeref\": 0.11900000000000001, \"symbol\": \"circle\"}, \"mode\": \"markers\", \"name\": \"OPINION=very bad\", \"showlegend\": true, \"x\": [24], \"xaxis\": \"x\", \"y\": [15], \"yaxis\": \"y\", \"type\": \"scatter\"}, {\"hoverlabel\": {\"namelength\": 0}, \"hovertemplate\": \"OPINION=bad<br>MONTH=9<br>DAY=%{x}<br>MIN_TEMPERATURE_C=%{y}<br>PRECIP_TOTAL_DAY_MM=%{marker.size}\", \"legendgroup\": \"OPINION=bad\", \"marker\": {\"color\": \"orange\", \"size\": [6.9, 2.0, 0.5, 1.3, 1.1, 5.3, 0.8], \"sizemode\": \"area\", \"sizeref\": 0.11900000000000001, \"symbol\": \"circle\"}, \"mode\": \"markers\", \"name\": \"OPINION=bad\", \"showlegend\": true, \"x\": [22, 25, 26, 27, 28, 29, 30], \"xaxis\": \"x\", \"y\": [15, 14, 16, 14, 13, 13, 12], \"yaxis\": \"y\", \"type\": \"scatter\"}, {\"hoverlabel\": {\"namelength\": 0}, \"hovertemplate\": \"OPINION=not good not bad<br>MONTH=9<br>DAY=%{x}<br>MIN_TEMPERATURE_C=%{y}<br>PRECIP_TOTAL_DAY_MM=%{marker.size}\", \"legendgroup\": \"OPINION=not good not bad\", \"marker\": {\"color\": \"yellow\", \"size\": [8.4, 1.4], \"sizemode\": \"area\", \"sizeref\": 0.11900000000000001, \"symbol\": \"circle\"}, \"mode\": \"markers\", \"name\": \"OPINION=not good not bad\", \"showlegend\": true, \"x\": [9, 23], \"xaxis\": \"x\", \"y\": [10, 13], \"yaxis\": \"y\", \"type\": \"scatter\"}, {\"hoverlabel\": {\"namelength\": 0}, \"hovertemplate\": \"OPINION=good<br>MONTH=9<br>DAY=%{x}<br>MIN_TEMPERATURE_C=%{y}<br>PRECIP_TOTAL_DAY_MM=%{marker.size}\", \"legendgroup\": \"OPINION=good\", \"marker\": {\"color\": \"LightGreen\", \"size\": [0.0, 0.0, 0.0, 0.3, 0.0, 0.0, 0.2, 0.0, 7.6, 0.0, 0.0, 0.0, 0.0, 0.0, 0.0, 0.0, 0.0, 0.0, 0.0, 0.2], \"sizemode\": \"area\", \"sizeref\": 0.11900000000000001, \"symbol\": \"circle\"}, \"mode\": \"markers\", \"name\": \"OPINION=good\", \"showlegend\": true, \"x\": [1, 2, 3, 4, 5, 6, 7, 8, 10, 11, 12, 13, 14, 15, 16, 17, 18, 19, 20, 21], \"xaxis\": \"x\", \"y\": [13, 10, 11, 13, 10, 7, 12, 9, 10, 11, 14, 14, 16, 16, 15, 13, 12, 11, 11, 17], \"yaxis\": \"y\", \"type\": \"scatter\"}], \"name\": \"9\"}, {\"data\": [{\"hoverlabel\": {\"namelength\": 0}, \"hovertemplate\": \"OPINION=very bad<br>MONTH=10<br>DAY=%{x}<br>MIN_TEMPERATURE_C=%{y}<br>PRECIP_TOTAL_DAY_MM=%{marker.size}\", \"legendgroup\": \"OPINION=very bad\", \"marker\": {\"color\": \"red\", \"size\": [4.3], \"sizemode\": \"area\", \"sizeref\": 0.11900000000000001, \"symbol\": \"circle\"}, \"mode\": \"markers\", \"name\": \"OPINION=very bad\", \"showlegend\": true, \"x\": [7], \"xaxis\": \"x\", \"y\": [5], \"yaxis\": \"y\", \"type\": \"scatter\"}, {\"hoverlabel\": {\"namelength\": 0}, \"hovertemplate\": \"OPINION=bad<br>MONTH=10<br>DAY=%{x}<br>MIN_TEMPERATURE_C=%{y}<br>PRECIP_TOTAL_DAY_MM=%{marker.size}\", \"legendgroup\": \"OPINION=bad\", \"marker\": {\"color\": \"orange\", \"size\": [5.7, 0.2, 1.1, 0.4, 3.9, 1.6, 2.7, 1.2, 13.1, 5.3, 7.7, 1.2, 9.9, 9.5, 4.6, 1.7, 2.3, 3.2, 8.9], \"sizemode\": \"area\", \"sizeref\": 0.11900000000000001, \"symbol\": \"circle\"}, \"mode\": \"markers\", \"name\": \"OPINION=bad\", \"showlegend\": true, \"x\": [1, 2, 4, 5, 8, 13, 14, 15, 16, 18, 19, 20, 23, 24, 27, 28, 29, 30, 31], \"xaxis\": \"x\", \"y\": [14, 11, 13, 13, 12, 15, 13, 10, 12, 13, 12, 11, 12, 12, 9, 9, 9, 9, 13], \"yaxis\": \"y\", \"type\": \"scatter\"}, {\"hoverlabel\": {\"namelength\": 0}, \"hovertemplate\": \"OPINION=not good not bad<br>MONTH=10<br>DAY=%{x}<br>MIN_TEMPERATURE_C=%{y}<br>PRECIP_TOTAL_DAY_MM=%{marker.size}\", \"legendgroup\": \"OPINION=not good not bad\", \"marker\": {\"color\": \"yellow\", \"size\": [2.6, 0.5, 0.0, 1.3, 1.1, 1.5, 0.8], \"sizemode\": \"area\", \"sizeref\": 0.11900000000000001, \"symbol\": \"circle\"}, \"mode\": \"markers\", \"name\": \"OPINION=not good not bad\", \"showlegend\": true, \"x\": [9, 10, 11, 17, 21, 22, 25], \"xaxis\": \"x\", \"y\": [12, 12, 12, 10, 8, 8, 11], \"yaxis\": \"y\", \"type\": \"scatter\"}, {\"hoverlabel\": {\"namelength\": 0}, \"hovertemplate\": \"OPINION=good<br>MONTH=10<br>DAY=%{x}<br>MIN_TEMPERATURE_C=%{y}<br>PRECIP_TOTAL_DAY_MM=%{marker.size}\", \"legendgroup\": \"OPINION=good\", \"marker\": {\"color\": \"LightGreen\", \"size\": [0.3, 1.5, 0.0, 0.0], \"sizemode\": \"area\", \"sizeref\": 0.11900000000000001, \"symbol\": \"circle\"}, \"mode\": \"markers\", \"name\": \"OPINION=good\", \"showlegend\": true, \"x\": [3, 6, 12, 26], \"xaxis\": \"x\", \"y\": [9, 12, 13, 12], \"yaxis\": \"y\", \"type\": \"scatter\"}], \"name\": \"10\"}, {\"data\": [{\"hoverlabel\": {\"namelength\": 0}, \"hovertemplate\": \"OPINION=very bad<br>MONTH=11<br>DAY=%{x}<br>MIN_TEMPERATURE_C=%{y}<br>PRECIP_TOTAL_DAY_MM=%{marker.size}\", \"legendgroup\": \"OPINION=very bad\", \"marker\": {\"color\": \"red\", \"size\": [30.0, 11.4, 3.2, 10.1, 2.1, 4.8, 11.2, 2.3, 10.3, 0.0, 0.0, 0.0, 0.0, 16.0, 8.5, 2.7], \"sizemode\": \"area\", \"sizeref\": 0.11900000000000001, \"symbol\": \"circle\"}, \"mode\": \"markers\", \"name\": \"OPINION=very bad\", \"showlegend\": true, \"x\": [3, 7, 8, 9, 10, 13, 14, 15, 16, 17, 18, 19, 20, 21, 22, 24], \"xaxis\": \"x\", \"y\": [8, 5, 5, 5, 5, 4, 5, 2, 5, 3, 3, 4, 2, 5, 5, 3], \"yaxis\": \"y\", \"type\": \"scatter\"}, {\"hoverlabel\": {\"namelength\": 0}, \"hovertemplate\": \"OPINION=bad<br>MONTH=11<br>DAY=%{x}<br>MIN_TEMPERATURE_C=%{y}<br>PRECIP_TOTAL_DAY_MM=%{marker.size}\", \"legendgroup\": \"OPINION=bad\", \"marker\": {\"color\": \"orange\", \"size\": [14.5, 11.0, 4.2, 8.0, 3.8, 1.8, 3.8, 8.6, 9.7, 3.8, 1.9, 13.7], \"sizemode\": \"area\", \"sizeref\": 0.11900000000000001, \"symbol\": \"circle\"}, \"mode\": \"markers\", \"name\": \"OPINION=bad\", \"showlegend\": true, \"x\": [1, 2, 4, 5, 11, 12, 23, 25, 26, 27, 28, 30], \"xaxis\": \"x\", \"y\": [12, 11, 8, 8, 7, 6, 7, 11, 10, 11, 6, 7], \"yaxis\": \"y\", \"type\": \"scatter\"}, {\"hoverlabel\": {\"namelength\": 0}, \"hovertemplate\": \"OPINION=not good not bad<br>MONTH=11<br>DAY=%{x}<br>MIN_TEMPERATURE_C=%{y}<br>PRECIP_TOTAL_DAY_MM=%{marker.size}\", \"legendgroup\": \"OPINION=not good not bad\", \"marker\": {\"color\": \"yellow\", \"size\": [1.1, 0.1], \"sizemode\": \"area\", \"sizeref\": 0.11900000000000001, \"symbol\": \"circle\"}, \"mode\": \"markers\", \"name\": \"OPINION=not good not bad\", \"showlegend\": true, \"x\": [6, 29], \"xaxis\": \"x\", \"y\": [7, 8], \"yaxis\": \"y\", \"type\": \"scatter\"}], \"name\": \"11\"}, {\"data\": [{\"hoverlabel\": {\"namelength\": 0}, \"hovertemplate\": \"OPINION=very bad<br>MONTH=12<br>DAY=%{x}<br>MIN_TEMPERATURE_C=%{y}<br>PRECIP_TOTAL_DAY_MM=%{marker.size}\", \"legendgroup\": \"OPINION=very bad\", \"marker\": {\"color\": \"red\", \"size\": [0.0, 0.0, 0.0, 0.0, 0.0, 0.3, 0.9, 5.9, 18.2, 2.2, 5.0, 16.1, 31.0, 35.1, 16.4, 3.0, 9.0, 16.7, 0.2, 0.0, 0.0, 0.0, 0.1], \"sizemode\": \"area\", \"sizeref\": 0.11900000000000001, \"symbol\": \"circle\"}, \"mode\": \"markers\", \"name\": \"OPINION=very bad\", \"showlegend\": true, \"x\": [1, 2, 3, 4, 5, 6, 10, 11, 12, 13, 15, 16, 19, 20, 21, 22, 23, 24, 26, 28, 29, 30, 31], \"xaxis\": \"x\", \"y\": [3, 1, 1, 0, 1, 3, 4, 5, 5, 2, 4, 4, 11, 7, 9, 4, 5, 9, 5, 5, 2, 4, 4], \"yaxis\": \"y\", \"type\": \"scatter\"}, {\"hoverlabel\": {\"namelength\": 0}, \"hovertemplate\": \"OPINION=bad<br>MONTH=12<br>DAY=%{x}<br>MIN_TEMPERATURE_C=%{y}<br>PRECIP_TOTAL_DAY_MM=%{marker.size}\", \"legendgroup\": \"OPINION=bad\", \"marker\": {\"color\": \"orange\", \"size\": [0.4, 9.1, 0.6, 4.8, 2.6, 0.0, 0.0], \"sizemode\": \"area\", \"sizeref\": 0.11900000000000001, \"symbol\": \"circle\"}, \"mode\": \"markers\", \"name\": \"OPINION=bad\", \"showlegend\": true, \"x\": [7, 8, 9, 14, 17, 18, 25], \"xaxis\": \"x\", \"y\": [10, 10, 6, 7, 7, 7, 8], \"yaxis\": \"y\", \"type\": \"scatter\"}, {\"hoverlabel\": {\"namelength\": 0}, \"hovertemplate\": \"OPINION=not good not bad<br>MONTH=12<br>DAY=%{x}<br>MIN_TEMPERATURE_C=%{y}<br>PRECIP_TOTAL_DAY_MM=%{marker.size}\", \"legendgroup\": \"OPINION=not good not bad\", \"marker\": {\"color\": \"yellow\", \"size\": [0.0], \"sizemode\": \"area\", \"sizeref\": 0.11900000000000001, \"symbol\": \"circle\"}, \"mode\": \"markers\", \"name\": \"OPINION=not good not bad\", \"showlegend\": true, \"x\": [27], \"xaxis\": \"x\", \"y\": [10], \"yaxis\": \"y\", \"type\": \"scatter\"}], \"name\": \"12\"}]);\n",
              "                        }).then(function(){\n",
              "                            \n",
              "var gd = document.getElementById('1e0484c0-b99e-4563-b685-071d88fac152');\n",
              "var x = new MutationObserver(function (mutations, observer) {{\n",
              "        var display = window.getComputedStyle(gd).display;\n",
              "        if (!display || display === 'none') {{\n",
              "            console.log([gd, 'removed!']);\n",
              "            Plotly.purge(gd);\n",
              "            observer.disconnect();\n",
              "        }}\n",
              "}});\n",
              "\n",
              "// Listen for the removal of the full notebook cells\n",
              "var notebookContainer = gd.closest('#notebook-container');\n",
              "if (notebookContainer) {{\n",
              "    x.observe(notebookContainer, {childList: true});\n",
              "}}\n",
              "\n",
              "// Listen for the clearing of the current output cell\n",
              "var outputEl = gd.closest('.output');\n",
              "if (outputEl) {{\n",
              "    x.observe(outputEl, {childList: true});\n",
              "}}\n",
              "\n",
              "                        })\n",
              "                };\n",
              "                \n",
              "            </script>\n",
              "        </div>\n",
              "</body>\n",
              "</html>"
            ]
          },
          "metadata": {
            "tags": []
          }
        }
      ]
    },
    {
      "cell_type": "markdown",
      "metadata": {
        "id": "iYN51tAZGPGI"
      },
      "source": [
        "# Export\n",
        "You just have to execute the code below to download your HTML page. Congratulations ! That's a first step for your data portfolio !\n",
        "\n",
        "For your information, Plotly export D3.js document embedded in an HTML page. D3.js is JavaScript library. You don't need to know JavaScript to export from Plotly. But, if you are insterested, you [can go here](https://d3js.org/)."
      ]
    },
    {
      "cell_type": "code",
      "metadata": {
        "id": "2eqg-IYp1NJe"
      },
      "source": [
        "# Export en page web edimensionnabla D3JS\n",
        "from plotly.offline import plot\n",
        "plot(Bubble_colored_chart)\n",
        "\n",
        "from google.colab import files\n",
        "files.download('temp-plot.html')"
      ],
      "execution_count": null,
      "outputs": []
    }
  ]
}