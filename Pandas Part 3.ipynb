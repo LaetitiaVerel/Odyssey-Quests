{
  "nbformat": 4,
  "nbformat_minor": 0,
  "metadata": {
    "colab": {
      "name": "Laetitia VEREL Pandas - Part 3.ipynb",
      "provenance": [],
      "collapsed_sections": [],
      "include_colab_link": true
    },
    "kernelspec": {
      "name": "python3",
      "display_name": "Python 3"
    }
  },
  "cells": [
    {
      "cell_type": "markdown",
      "metadata": {
        "id": "view-in-github",
        "colab_type": "text"
      },
      "source": [
        "<a href=\"https://colab.research.google.com/github/LaetitiaVerel/Odyssey-Quests/blob/master/Pandas%20Part%203.ipynb\" target=\"_parent\"><img src=\"https://colab.research.google.com/assets/colab-badge.svg\" alt=\"Open In Colab\"/></a>"
      ]
    },
    {
      "cell_type": "markdown",
      "metadata": {
        "id": "vPeraeSVmy3l"
      },
      "source": [
        "# Mission 1\n",
        "\n",
        "Display the first 10 rows of the following file: http://bit.ly/imdbratings"
      ]
    },
    {
      "cell_type": "code",
      "metadata": {
        "id": "hYiMPyQjnDiX"
      },
      "source": [
        "import pandas as pd\n",
        "\n",
        "Data1 = pd.read_csv(\"https://raw.githubusercontent.com/justmarkham/pandas-videos/master/data/imdb_1000.csv\", sep = \",\")"
      ],
      "execution_count": null,
      "outputs": []
    },
    {
      "cell_type": "code",
      "metadata": {
        "id": "Boq1htfj-Afw",
        "outputId": "c1b711fb-f66c-42d3-ff7b-d50c4f1daa4c",
        "colab": {
          "base_uri": "https://localhost:8080/",
          "height": 355
        }
      },
      "source": [
        "Data1.head(10)"
      ],
      "execution_count": null,
      "outputs": [
        {
          "output_type": "execute_result",
          "data": {
            "text/html": [
              "<div>\n",
              "<style scoped>\n",
              "    .dataframe tbody tr th:only-of-type {\n",
              "        vertical-align: middle;\n",
              "    }\n",
              "\n",
              "    .dataframe tbody tr th {\n",
              "        vertical-align: top;\n",
              "    }\n",
              "\n",
              "    .dataframe thead th {\n",
              "        text-align: right;\n",
              "    }\n",
              "</style>\n",
              "<table border=\"1\" class=\"dataframe\">\n",
              "  <thead>\n",
              "    <tr style=\"text-align: right;\">\n",
              "      <th></th>\n",
              "      <th>star_rating</th>\n",
              "      <th>title</th>\n",
              "      <th>content_rating</th>\n",
              "      <th>genre</th>\n",
              "      <th>duration</th>\n",
              "      <th>actors_list</th>\n",
              "    </tr>\n",
              "  </thead>\n",
              "  <tbody>\n",
              "    <tr>\n",
              "      <th>0</th>\n",
              "      <td>9.3</td>\n",
              "      <td>The Shawshank Redemption</td>\n",
              "      <td>R</td>\n",
              "      <td>Crime</td>\n",
              "      <td>142</td>\n",
              "      <td>[u'Tim Robbins', u'Morgan Freeman', u'Bob Gunt...</td>\n",
              "    </tr>\n",
              "    <tr>\n",
              "      <th>1</th>\n",
              "      <td>9.2</td>\n",
              "      <td>The Godfather</td>\n",
              "      <td>R</td>\n",
              "      <td>Crime</td>\n",
              "      <td>175</td>\n",
              "      <td>[u'Marlon Brando', u'Al Pacino', u'James Caan']</td>\n",
              "    </tr>\n",
              "    <tr>\n",
              "      <th>2</th>\n",
              "      <td>9.1</td>\n",
              "      <td>The Godfather: Part II</td>\n",
              "      <td>R</td>\n",
              "      <td>Crime</td>\n",
              "      <td>200</td>\n",
              "      <td>[u'Al Pacino', u'Robert De Niro', u'Robert Duv...</td>\n",
              "    </tr>\n",
              "    <tr>\n",
              "      <th>3</th>\n",
              "      <td>9.0</td>\n",
              "      <td>The Dark Knight</td>\n",
              "      <td>PG-13</td>\n",
              "      <td>Action</td>\n",
              "      <td>152</td>\n",
              "      <td>[u'Christian Bale', u'Heath Ledger', u'Aaron E...</td>\n",
              "    </tr>\n",
              "    <tr>\n",
              "      <th>4</th>\n",
              "      <td>8.9</td>\n",
              "      <td>Pulp Fiction</td>\n",
              "      <td>R</td>\n",
              "      <td>Crime</td>\n",
              "      <td>154</td>\n",
              "      <td>[u'John Travolta', u'Uma Thurman', u'Samuel L....</td>\n",
              "    </tr>\n",
              "    <tr>\n",
              "      <th>5</th>\n",
              "      <td>8.9</td>\n",
              "      <td>12 Angry Men</td>\n",
              "      <td>NOT RATED</td>\n",
              "      <td>Drama</td>\n",
              "      <td>96</td>\n",
              "      <td>[u'Henry Fonda', u'Lee J. Cobb', u'Martin Bals...</td>\n",
              "    </tr>\n",
              "    <tr>\n",
              "      <th>6</th>\n",
              "      <td>8.9</td>\n",
              "      <td>The Good, the Bad and the Ugly</td>\n",
              "      <td>NOT RATED</td>\n",
              "      <td>Western</td>\n",
              "      <td>161</td>\n",
              "      <td>[u'Clint Eastwood', u'Eli Wallach', u'Lee Van ...</td>\n",
              "    </tr>\n",
              "    <tr>\n",
              "      <th>7</th>\n",
              "      <td>8.9</td>\n",
              "      <td>The Lord of the Rings: The Return of the King</td>\n",
              "      <td>PG-13</td>\n",
              "      <td>Adventure</td>\n",
              "      <td>201</td>\n",
              "      <td>[u'Elijah Wood', u'Viggo Mortensen', u'Ian McK...</td>\n",
              "    </tr>\n",
              "    <tr>\n",
              "      <th>8</th>\n",
              "      <td>8.9</td>\n",
              "      <td>Schindler's List</td>\n",
              "      <td>R</td>\n",
              "      <td>Biography</td>\n",
              "      <td>195</td>\n",
              "      <td>[u'Liam Neeson', u'Ralph Fiennes', u'Ben Kings...</td>\n",
              "    </tr>\n",
              "    <tr>\n",
              "      <th>9</th>\n",
              "      <td>8.9</td>\n",
              "      <td>Fight Club</td>\n",
              "      <td>R</td>\n",
              "      <td>Drama</td>\n",
              "      <td>139</td>\n",
              "      <td>[u'Brad Pitt', u'Edward Norton', u'Helena Bonh...</td>\n",
              "    </tr>\n",
              "  </tbody>\n",
              "</table>\n",
              "</div>"
            ],
            "text/plain": [
              "   star_rating  ...                                        actors_list\n",
              "0          9.3  ...  [u'Tim Robbins', u'Morgan Freeman', u'Bob Gunt...\n",
              "1          9.2  ...    [u'Marlon Brando', u'Al Pacino', u'James Caan']\n",
              "2          9.1  ...  [u'Al Pacino', u'Robert De Niro', u'Robert Duv...\n",
              "3          9.0  ...  [u'Christian Bale', u'Heath Ledger', u'Aaron E...\n",
              "4          8.9  ...  [u'John Travolta', u'Uma Thurman', u'Samuel L....\n",
              "5          8.9  ...  [u'Henry Fonda', u'Lee J. Cobb', u'Martin Bals...\n",
              "6          8.9  ...  [u'Clint Eastwood', u'Eli Wallach', u'Lee Van ...\n",
              "7          8.9  ...  [u'Elijah Wood', u'Viggo Mortensen', u'Ian McK...\n",
              "8          8.9  ...  [u'Liam Neeson', u'Ralph Fiennes', u'Ben Kings...\n",
              "9          8.9  ...  [u'Brad Pitt', u'Edward Norton', u'Helena Bonh...\n",
              "\n",
              "[10 rows x 6 columns]"
            ]
          },
          "metadata": {
            "tags": []
          },
          "execution_count": 2
        }
      ]
    },
    {
      "cell_type": "markdown",
      "metadata": {
        "id": "us6hXm12WsZR"
      },
      "source": [
        "# Mission 2\n",
        "\n",
        "Sort your dataframe in ascending order according to the star_rating column."
      ]
    },
    {
      "cell_type": "code",
      "metadata": {
        "id": "zC9bfLr4Wy_z",
        "outputId": "85e95fe1-a06c-48c9-9811-1394168b637a",
        "colab": {
          "base_uri": "https://localhost:8080/",
          "height": 355
        }
      },
      "source": [
        "Data1.sort_values(by = 'star_rating', inplace = True)\n",
        "Data1.head(10)"
      ],
      "execution_count": null,
      "outputs": [
        {
          "output_type": "execute_result",
          "data": {
            "text/html": [
              "<div>\n",
              "<style scoped>\n",
              "    .dataframe tbody tr th:only-of-type {\n",
              "        vertical-align: middle;\n",
              "    }\n",
              "\n",
              "    .dataframe tbody tr th {\n",
              "        vertical-align: top;\n",
              "    }\n",
              "\n",
              "    .dataframe thead th {\n",
              "        text-align: right;\n",
              "    }\n",
              "</style>\n",
              "<table border=\"1\" class=\"dataframe\">\n",
              "  <thead>\n",
              "    <tr style=\"text-align: right;\">\n",
              "      <th></th>\n",
              "      <th>star_rating</th>\n",
              "      <th>title</th>\n",
              "      <th>content_rating</th>\n",
              "      <th>genre</th>\n",
              "      <th>duration</th>\n",
              "      <th>actors_list</th>\n",
              "    </tr>\n",
              "  </thead>\n",
              "  <tbody>\n",
              "    <tr>\n",
              "      <th>978</th>\n",
              "      <td>7.4</td>\n",
              "      <td>Wall Street</td>\n",
              "      <td>R</td>\n",
              "      <td>Crime</td>\n",
              "      <td>126</td>\n",
              "      <td>[u'Charlie Sheen', u'Michael Douglas', u'Tamar...</td>\n",
              "    </tr>\n",
              "    <tr>\n",
              "      <th>950</th>\n",
              "      <td>7.4</td>\n",
              "      <td>Bound</td>\n",
              "      <td>R</td>\n",
              "      <td>Crime</td>\n",
              "      <td>108</td>\n",
              "      <td>[u'Jennifer Tilly', u'Gina Gershon', u'Joe Pan...</td>\n",
              "    </tr>\n",
              "    <tr>\n",
              "      <th>949</th>\n",
              "      <td>7.4</td>\n",
              "      <td>Home Alone</td>\n",
              "      <td>PG</td>\n",
              "      <td>Comedy</td>\n",
              "      <td>103</td>\n",
              "      <td>[u'Macaulay Culkin', u'Joe Pesci', u'Daniel St...</td>\n",
              "    </tr>\n",
              "    <tr>\n",
              "      <th>948</th>\n",
              "      <td>7.4</td>\n",
              "      <td>Frances Ha</td>\n",
              "      <td>R</td>\n",
              "      <td>Comedy</td>\n",
              "      <td>86</td>\n",
              "      <td>[u'Greta Gerwig', u'Mickey Sumner', u'Adam Dri...</td>\n",
              "    </tr>\n",
              "    <tr>\n",
              "      <th>947</th>\n",
              "      <td>7.4</td>\n",
              "      <td>Eraserhead</td>\n",
              "      <td>UNRATED</td>\n",
              "      <td>Drama</td>\n",
              "      <td>89</td>\n",
              "      <td>[u'Jack Nance', u'Charlotte Stewart', u'Allen ...</td>\n",
              "    </tr>\n",
              "    <tr>\n",
              "      <th>946</th>\n",
              "      <td>7.4</td>\n",
              "      <td>Far from Heaven</td>\n",
              "      <td>PG-13</td>\n",
              "      <td>Drama</td>\n",
              "      <td>107</td>\n",
              "      <td>[u'Julianne Moore', u'Dennis Quaid', u'Dennis ...</td>\n",
              "    </tr>\n",
              "    <tr>\n",
              "      <th>945</th>\n",
              "      <td>7.4</td>\n",
              "      <td>Take Shelter</td>\n",
              "      <td>R</td>\n",
              "      <td>Drama</td>\n",
              "      <td>120</td>\n",
              "      <td>[u'Michael Shannon', u'Jessica Chastain', u'Sh...</td>\n",
              "    </tr>\n",
              "    <tr>\n",
              "      <th>944</th>\n",
              "      <td>7.4</td>\n",
              "      <td>Terms of Endearment</td>\n",
              "      <td>R</td>\n",
              "      <td>Comedy</td>\n",
              "      <td>132</td>\n",
              "      <td>[u'Shirley MacLaine', u'Debra Winger', u'Jack ...</td>\n",
              "    </tr>\n",
              "    <tr>\n",
              "      <th>943</th>\n",
              "      <td>7.4</td>\n",
              "      <td>The Bucket List</td>\n",
              "      <td>PG-13</td>\n",
              "      <td>Adventure</td>\n",
              "      <td>97</td>\n",
              "      <td>[u'Jack Nicholson', u'Morgan Freeman', u'Sean ...</td>\n",
              "    </tr>\n",
              "    <tr>\n",
              "      <th>942</th>\n",
              "      <td>7.4</td>\n",
              "      <td>Raising Arizona</td>\n",
              "      <td>PG-13</td>\n",
              "      <td>Comedy</td>\n",
              "      <td>94</td>\n",
              "      <td>[u'Nicolas Cage', u'Holly Hunter', u'Trey Wils...</td>\n",
              "    </tr>\n",
              "  </tbody>\n",
              "</table>\n",
              "</div>"
            ],
            "text/plain": [
              "     star_rating  ...                                        actors_list\n",
              "978          7.4  ...  [u'Charlie Sheen', u'Michael Douglas', u'Tamar...\n",
              "950          7.4  ...  [u'Jennifer Tilly', u'Gina Gershon', u'Joe Pan...\n",
              "949          7.4  ...  [u'Macaulay Culkin', u'Joe Pesci', u'Daniel St...\n",
              "948          7.4  ...  [u'Greta Gerwig', u'Mickey Sumner', u'Adam Dri...\n",
              "947          7.4  ...  [u'Jack Nance', u'Charlotte Stewart', u'Allen ...\n",
              "946          7.4  ...  [u'Julianne Moore', u'Dennis Quaid', u'Dennis ...\n",
              "945          7.4  ...  [u'Michael Shannon', u'Jessica Chastain', u'Sh...\n",
              "944          7.4  ...  [u'Shirley MacLaine', u'Debra Winger', u'Jack ...\n",
              "943          7.4  ...  [u'Jack Nicholson', u'Morgan Freeman', u'Sean ...\n",
              "942          7.4  ...  [u'Nicolas Cage', u'Holly Hunter', u'Trey Wils...\n",
              "\n",
              "[10 rows x 6 columns]"
            ]
          },
          "metadata": {
            "tags": []
          },
          "execution_count": 3
        }
      ]
    },
    {
      "cell_type": "markdown",
      "metadata": {
        "id": "7ceP79fzWzPs"
      },
      "source": [
        "# Mission 3\n",
        "\n",
        "Answer the question below:\n",
        "- What is the median star rating?\n",
        "- What gender is the most highly rated?\n",
        "- What is the percentage for each film genre?"
      ]
    },
    {
      "cell_type": "code",
      "metadata": {
        "id": "c4fgYcPZav2H",
        "outputId": "e794687e-2e84-4a51-8bf4-39f14a02eed3",
        "colab": {
          "base_uri": "https://localhost:8080/",
          "height": 35
        }
      },
      "source": [
        "# What is the median star rating?\n",
        "\n",
        "print(Data1['star_rating'].median())"
      ],
      "execution_count": null,
      "outputs": [
        {
          "output_type": "stream",
          "text": [
            "7.8\n"
          ],
          "name": "stdout"
        }
      ]
    },
    {
      "cell_type": "code",
      "metadata": {
        "id": "jxyGa2__8vD4",
        "outputId": "89adf11d-d058-45df-efe2-fffdc36a7b8a",
        "colab": {
          "base_uri": "https://localhost:8080/",
          "height": 570
        }
      },
      "source": [
        "# What gender is the most highly rated?\n",
        "\n",
        "Data1_genre = Data1[['star_rating', 'genre']].groupby(['genre']).mean()\n",
        "Data1_genre.sort_values(by = 'star_rating', ascending = False, inplace = True)\n",
        "Data1_genre"
      ],
      "execution_count": null,
      "outputs": [
        {
          "output_type": "execute_result",
          "data": {
            "text/html": [
              "<div>\n",
              "<style scoped>\n",
              "    .dataframe tbody tr th:only-of-type {\n",
              "        vertical-align: middle;\n",
              "    }\n",
              "\n",
              "    .dataframe tbody tr th {\n",
              "        vertical-align: top;\n",
              "    }\n",
              "\n",
              "    .dataframe thead th {\n",
              "        text-align: right;\n",
              "    }\n",
              "</style>\n",
              "<table border=\"1\" class=\"dataframe\">\n",
              "  <thead>\n",
              "    <tr style=\"text-align: right;\">\n",
              "      <th></th>\n",
              "      <th>star_rating</th>\n",
              "    </tr>\n",
              "    <tr>\n",
              "      <th>genre</th>\n",
              "      <th></th>\n",
              "    </tr>\n",
              "  </thead>\n",
              "  <tbody>\n",
              "    <tr>\n",
              "      <th>Western</th>\n",
              "      <td>8.255556</td>\n",
              "    </tr>\n",
              "    <tr>\n",
              "      <th>Film-Noir</th>\n",
              "      <td>8.033333</td>\n",
              "    </tr>\n",
              "    <tr>\n",
              "      <th>History</th>\n",
              "      <td>8.000000</td>\n",
              "    </tr>\n",
              "    <tr>\n",
              "      <th>Mystery</th>\n",
              "      <td>7.975000</td>\n",
              "    </tr>\n",
              "    <tr>\n",
              "      <th>Adventure</th>\n",
              "      <td>7.933333</td>\n",
              "    </tr>\n",
              "    <tr>\n",
              "      <th>Sci-Fi</th>\n",
              "      <td>7.920000</td>\n",
              "    </tr>\n",
              "    <tr>\n",
              "      <th>Crime</th>\n",
              "      <td>7.916935</td>\n",
              "    </tr>\n",
              "    <tr>\n",
              "      <th>Animation</th>\n",
              "      <td>7.914516</td>\n",
              "    </tr>\n",
              "    <tr>\n",
              "      <th>Drama</th>\n",
              "      <td>7.902518</td>\n",
              "    </tr>\n",
              "    <tr>\n",
              "      <th>Action</th>\n",
              "      <td>7.884559</td>\n",
              "    </tr>\n",
              "    <tr>\n",
              "      <th>Biography</th>\n",
              "      <td>7.862338</td>\n",
              "    </tr>\n",
              "    <tr>\n",
              "      <th>Family</th>\n",
              "      <td>7.850000</td>\n",
              "    </tr>\n",
              "    <tr>\n",
              "      <th>Comedy</th>\n",
              "      <td>7.822436</td>\n",
              "    </tr>\n",
              "    <tr>\n",
              "      <th>Horror</th>\n",
              "      <td>7.806897</td>\n",
              "    </tr>\n",
              "    <tr>\n",
              "      <th>Fantasy</th>\n",
              "      <td>7.700000</td>\n",
              "    </tr>\n",
              "    <tr>\n",
              "      <th>Thriller</th>\n",
              "      <td>7.680000</td>\n",
              "    </tr>\n",
              "  </tbody>\n",
              "</table>\n",
              "</div>"
            ],
            "text/plain": [
              "           star_rating\n",
              "genre                 \n",
              "Western       8.255556\n",
              "Film-Noir     8.033333\n",
              "History       8.000000\n",
              "Mystery       7.975000\n",
              "Adventure     7.933333\n",
              "Sci-Fi        7.920000\n",
              "Crime         7.916935\n",
              "Animation     7.914516\n",
              "Drama         7.902518\n",
              "Action        7.884559\n",
              "Biography     7.862338\n",
              "Family        7.850000\n",
              "Comedy        7.822436\n",
              "Horror        7.806897\n",
              "Fantasy       7.700000\n",
              "Thriller      7.680000"
            ]
          },
          "metadata": {
            "tags": []
          },
          "execution_count": 6
        }
      ]
    },
    {
      "cell_type": "code",
      "metadata": {
        "id": "iCQD0lKP8vNN",
        "outputId": "290ad041-a475-459f-c1b3-436cf85b55b5",
        "colab": {
          "base_uri": "https://localhost:8080/",
          "height": 312
        }
      },
      "source": [
        "# What is the percentage for each film genre?\n",
        "\n",
        "Genre_percentage = Data1['genre'].value_counts() / 979 * 100\n",
        "Genre_percentage"
      ],
      "execution_count": null,
      "outputs": [
        {
          "output_type": "execute_result",
          "data": {
            "text/plain": [
              "Drama        28.396323\n",
              "Comedy       15.934627\n",
              "Action       13.891726\n",
              "Crime        12.665986\n",
              "Biography     7.865169\n",
              "Adventure     7.660878\n",
              "Animation     6.332993\n",
              "Horror        2.962206\n",
              "Mystery       1.634321\n",
              "Western       0.919305\n",
              "Thriller      0.510725\n",
              "Sci-Fi        0.510725\n",
              "Film-Noir     0.306435\n",
              "Family        0.204290\n",
              "History       0.102145\n",
              "Fantasy       0.102145\n",
              "Name: genre, dtype: float64"
            ]
          },
          "metadata": {
            "tags": []
          },
          "execution_count": 7
        }
      ]
    },
    {
      "cell_type": "markdown",
      "metadata": {
        "id": "jBSACgVcawDb"
      },
      "source": [
        "# Mission 4\n",
        "\n",
        "Make a visualization using matplotlib that reflects the film genres. Make it a pie chart, it should have a legend and show the percentages of each genre."
      ]
    },
    {
      "cell_type": "code",
      "metadata": {
        "id": "U5_VQ2nR_2-a",
        "outputId": "3c04e0c2-98c5-43fd-e5a5-af360ba0be3d",
        "colab": {
          "base_uri": "https://localhost:8080/",
          "height": 89
        }
      },
      "source": [
        "import matplotlib.pyplot as plt\n",
        "\n",
        "Pourcentage = dict(Genre_percentage)\n",
        "print(Pourcentage)\n",
        "Valeurs = list(Pourcentage.values())\n",
        "Label = list(Pourcentage.keys())\n",
        "print(Label)\n",
        "print(Valeurs)"
      ],
      "execution_count": null,
      "outputs": [
        {
          "output_type": "stream",
          "text": [
            "{'Drama': 28.39632277834525, 'Comedy': 15.934627170582228, 'Action': 13.891726251276811, 'Crime': 12.665985699693566, 'Biography': 7.865168539325842, 'Adventure': 7.6608784473953015, 'Animation': 6.332992849846783, 'Horror': 2.96220633299285, 'Mystery': 1.634320735444331, 'Western': 0.9193054136874361, 'Thriller': 0.5107252298263534, 'Sci-Fi': 0.5107252298263534, 'Film-Noir': 0.30643513789581206, 'Family': 0.20429009193054137, 'History': 0.10214504596527069, 'Fantasy': 0.10214504596527069}\n",
            "['Drama', 'Comedy', 'Action', 'Crime', 'Biography', 'Adventure', 'Animation', 'Horror', 'Mystery', 'Western', 'Thriller', 'Sci-Fi', 'Film-Noir', 'Family', 'History', 'Fantasy']\n",
            "[28.39632277834525, 15.934627170582228, 13.891726251276811, 12.665985699693566, 7.865168539325842, 7.6608784473953015, 6.332992849846783, 2.96220633299285, 1.634320735444331, 0.9193054136874361, 0.5107252298263534, 0.5107252298263534, 0.30643513789581206, 0.20429009193054137, 0.10214504596527069, 0.10214504596527069]\n"
          ],
          "name": "stdout"
        }
      ]
    },
    {
      "cell_type": "code",
      "metadata": {
        "id": "_aGM-R7scIFE",
        "outputId": "58da13f0-15d7-4c40-cce1-dde6449e0104",
        "colab": {
          "base_uri": "https://localhost:8080/",
          "height": 609
        }
      },
      "source": [
        "import matplotlib.pyplot as plt\n",
        "\n",
        "plt.figure(figsize=(20, 10))\n",
        "\n",
        "plt.pie(Valeurs,\n",
        "        autopct='%1.1f%%',\n",
        "        pctdistance=1.2)\n",
        "\n",
        "plt.title(\"Percentages of each genre\")\n",
        "plt.legend(loc = \"upper right\", labels = Label)"
      ],
      "execution_count": null,
      "outputs": [
        {
          "output_type": "execute_result",
          "data": {
            "text/plain": [
              "<matplotlib.legend.Legend at 0x7f7b8fa51be0>"
            ]
          },
          "metadata": {
            "tags": []
          },
          "execution_count": 17
        },
        {
          "output_type": "display_data",
          "data": {
            "image/png": "[encoded data removed]",
            "text/plain": [
              "<Figure size 1440x720 with 1 Axes>"
            ]
          },
          "metadata": {
            "tags": []
          }
        }
      ]
    },
    {
      "cell_type": "markdown",
      "metadata": {
        "id": "ohjcBsQlcVC4"
      },
      "source": [
        "# Mission 5\n",
        "\n",
        "Display only the rows of films that belong to the lowest rated genre on average"
      ]
    },
    {
      "cell_type": "code",
      "metadata": {
        "id": "wY3aU0MCcsMU",
        "outputId": "e9df941f-7679-4878-f2e3-27a1527c0e88",
        "colab": {
          "base_uri": "https://localhost:8080/",
          "height": 570
        }
      },
      "source": [
        "Data1_lowest_genre = Data1[['star_rating', 'genre']].groupby(['genre']).mean()\n",
        "Data1_lowest_genre.sort_values(by = 'star_rating', ascending = True, inplace = True)\n",
        "Data1_lowest_genre"
      ],
      "execution_count": null,
      "outputs": [
        {
          "output_type": "execute_result",
          "data": {
            "text/html": [
              "<div>\n",
              "<style scoped>\n",
              "    .dataframe tbody tr th:only-of-type {\n",
              "        vertical-align: middle;\n",
              "    }\n",
              "\n",
              "    .dataframe tbody tr th {\n",
              "        vertical-align: top;\n",
              "    }\n",
              "\n",
              "    .dataframe thead th {\n",
              "        text-align: right;\n",
              "    }\n",
              "</style>\n",
              "<table border=\"1\" class=\"dataframe\">\n",
              "  <thead>\n",
              "    <tr style=\"text-align: right;\">\n",
              "      <th></th>\n",
              "      <th>star_rating</th>\n",
              "    </tr>\n",
              "    <tr>\n",
              "      <th>genre</th>\n",
              "      <th></th>\n",
              "    </tr>\n",
              "  </thead>\n",
              "  <tbody>\n",
              "    <tr>\n",
              "      <th>Thriller</th>\n",
              "      <td>7.680000</td>\n",
              "    </tr>\n",
              "    <tr>\n",
              "      <th>Fantasy</th>\n",
              "      <td>7.700000</td>\n",
              "    </tr>\n",
              "    <tr>\n",
              "      <th>Horror</th>\n",
              "      <td>7.806897</td>\n",
              "    </tr>\n",
              "    <tr>\n",
              "      <th>Comedy</th>\n",
              "      <td>7.822436</td>\n",
              "    </tr>\n",
              "    <tr>\n",
              "      <th>Family</th>\n",
              "      <td>7.850000</td>\n",
              "    </tr>\n",
              "    <tr>\n",
              "      <th>Biography</th>\n",
              "      <td>7.862338</td>\n",
              "    </tr>\n",
              "    <tr>\n",
              "      <th>Action</th>\n",
              "      <td>7.884559</td>\n",
              "    </tr>\n",
              "    <tr>\n",
              "      <th>Drama</th>\n",
              "      <td>7.902518</td>\n",
              "    </tr>\n",
              "    <tr>\n",
              "      <th>Animation</th>\n",
              "      <td>7.914516</td>\n",
              "    </tr>\n",
              "    <tr>\n",
              "      <th>Crime</th>\n",
              "      <td>7.916935</td>\n",
              "    </tr>\n",
              "    <tr>\n",
              "      <th>Sci-Fi</th>\n",
              "      <td>7.920000</td>\n",
              "    </tr>\n",
              "    <tr>\n",
              "      <th>Adventure</th>\n",
              "      <td>7.933333</td>\n",
              "    </tr>\n",
              "    <tr>\n",
              "      <th>Mystery</th>\n",
              "      <td>7.975000</td>\n",
              "    </tr>\n",
              "    <tr>\n",
              "      <th>History</th>\n",
              "      <td>8.000000</td>\n",
              "    </tr>\n",
              "    <tr>\n",
              "      <th>Film-Noir</th>\n",
              "      <td>8.033333</td>\n",
              "    </tr>\n",
              "    <tr>\n",
              "      <th>Western</th>\n",
              "      <td>8.255556</td>\n",
              "    </tr>\n",
              "  </tbody>\n",
              "</table>\n",
              "</div>"
            ],
            "text/plain": [
              "           star_rating\n",
              "genre                 \n",
              "Thriller      7.680000\n",
              "Fantasy       7.700000\n",
              "Horror        7.806897\n",
              "Comedy        7.822436\n",
              "Family        7.850000\n",
              "Biography     7.862338\n",
              "Action        7.884559\n",
              "Drama         7.902518\n",
              "Animation     7.914516\n",
              "Crime         7.916935\n",
              "Sci-Fi        7.920000\n",
              "Adventure     7.933333\n",
              "Mystery       7.975000\n",
              "History       8.000000\n",
              "Film-Noir     8.033333\n",
              "Western       8.255556"
            ]
          },
          "metadata": {
            "tags": []
          },
          "execution_count": 18
        }
      ]
    },
    {
      "cell_type": "code",
      "metadata": {
        "id": "wLf6AJ7gB5zI",
        "outputId": "908d6d29-af35-48ba-b5ed-cc0a80d37517",
        "colab": {
          "base_uri": "https://localhost:8080/",
          "height": 202
        }
      },
      "source": [
        "Data1[Data1['genre'] == 'Thriller']"
      ],
      "execution_count": null,
      "outputs": [
        {
          "output_type": "execute_result",
          "data": {
            "text/html": [
              "<div>\n",
              "<style scoped>\n",
              "    .dataframe tbody tr th:only-of-type {\n",
              "        vertical-align: middle;\n",
              "    }\n",
              "\n",
              "    .dataframe tbody tr th {\n",
              "        vertical-align: top;\n",
              "    }\n",
              "\n",
              "    .dataframe thead th {\n",
              "        text-align: right;\n",
              "    }\n",
              "</style>\n",
              "<table border=\"1\" class=\"dataframe\">\n",
              "  <thead>\n",
              "    <tr style=\"text-align: right;\">\n",
              "      <th></th>\n",
              "      <th>star_rating</th>\n",
              "      <th>title</th>\n",
              "      <th>content_rating</th>\n",
              "      <th>genre</th>\n",
              "      <th>duration</th>\n",
              "      <th>actors_list</th>\n",
              "    </tr>\n",
              "  </thead>\n",
              "  <tbody>\n",
              "    <tr>\n",
              "      <th>848</th>\n",
              "      <td>7.5</td>\n",
              "      <td>The Man Who Knew Too Much</td>\n",
              "      <td>PG</td>\n",
              "      <td>Thriller</td>\n",
              "      <td>120</td>\n",
              "      <td>[u'James Stewart', u'Doris Day', u'Brenda de B...</td>\n",
              "    </tr>\n",
              "    <tr>\n",
              "      <th>902</th>\n",
              "      <td>7.5</td>\n",
              "      <td>Frenzy</td>\n",
              "      <td>R</td>\n",
              "      <td>Thriller</td>\n",
              "      <td>116</td>\n",
              "      <td>[u'Jon Finch', u'Barry Foster', u'Alec McCowen']</td>\n",
              "    </tr>\n",
              "    <tr>\n",
              "      <th>728</th>\n",
              "      <td>7.6</td>\n",
              "      <td>La piel que habito</td>\n",
              "      <td>R</td>\n",
              "      <td>Thriller</td>\n",
              "      <td>120</td>\n",
              "      <td>[u'Antonio Banderas', u'Elena Anaya', u'Jan Co...</td>\n",
              "    </tr>\n",
              "    <tr>\n",
              "      <th>496</th>\n",
              "      <td>7.8</td>\n",
              "      <td>Misery</td>\n",
              "      <td>R</td>\n",
              "      <td>Thriller</td>\n",
              "      <td>107</td>\n",
              "      <td>[u'James Caan', u'Kathy Bates', u'Richard Farn...</td>\n",
              "    </tr>\n",
              "    <tr>\n",
              "      <th>350</th>\n",
              "      <td>8.0</td>\n",
              "      <td>Shadow of a Doubt</td>\n",
              "      <td>APPROVED</td>\n",
              "      <td>Thriller</td>\n",
              "      <td>108</td>\n",
              "      <td>[u'Teresa Wright', u'Joseph Cotten', u'Macdona...</td>\n",
              "    </tr>\n",
              "  </tbody>\n",
              "</table>\n",
              "</div>"
            ],
            "text/plain": [
              "     star_rating  ...                                        actors_list\n",
              "848          7.5  ...  [u'James Stewart', u'Doris Day', u'Brenda de B...\n",
              "902          7.5  ...   [u'Jon Finch', u'Barry Foster', u'Alec McCowen']\n",
              "728          7.6  ...  [u'Antonio Banderas', u'Elena Anaya', u'Jan Co...\n",
              "496          7.8  ...  [u'James Caan', u'Kathy Bates', u'Richard Farn...\n",
              "350          8.0  ...  [u'Teresa Wright', u'Joseph Cotten', u'Macdona...\n",
              "\n",
              "[5 rows x 6 columns]"
            ]
          },
          "metadata": {
            "tags": []
          },
          "execution_count": 19
        }
      ]
    },
    {
      "cell_type": "markdown",
      "metadata": {
        "id": "Fyt7ErXTcsnJ"
      },
      "source": [
        "# Mission 6\n",
        "\n",
        "Display films that are longer than 200 minutes and that belong to a genre that's name contains the letter h (either lower case or upper case)\n"
      ]
    },
    {
      "cell_type": "code",
      "metadata": {
        "id": "I5MAw7jldSG4",
        "outputId": "16130c6d-8c04-4f9a-cab0-1e32e1ddaeb6",
        "colab": {
          "base_uri": "https://localhost:8080/",
          "height": 79
        }
      },
      "source": [
        "Data1_mission6 = Data1[(Data1['duration'] > 200) & (Data1.genre.str.lower().str.contains(\"h\"))]\n",
        "Data1_mission6"
      ],
      "execution_count": null,
      "outputs": [
        {
          "output_type": "execute_result",
          "data": {
            "text/html": [
              "<div>\n",
              "<style scoped>\n",
              "    .dataframe tbody tr th:only-of-type {\n",
              "        vertical-align: middle;\n",
              "    }\n",
              "\n",
              "    .dataframe tbody tr th {\n",
              "        vertical-align: top;\n",
              "    }\n",
              "\n",
              "    .dataframe thead th {\n",
              "        text-align: right;\n",
              "    }\n",
              "</style>\n",
              "<table border=\"1\" class=\"dataframe\">\n",
              "  <thead>\n",
              "    <tr style=\"text-align: right;\">\n",
              "      <th></th>\n",
              "      <th>star_rating</th>\n",
              "      <th>title</th>\n",
              "      <th>content_rating</th>\n",
              "      <th>genre</th>\n",
              "      <th>duration</th>\n",
              "      <th>actors_list</th>\n",
              "    </tr>\n",
              "  </thead>\n",
              "  <tbody>\n",
              "    <tr>\n",
              "      <th>630</th>\n",
              "      <td>7.7</td>\n",
              "      <td>Malcolm X</td>\n",
              "      <td>PG-13</td>\n",
              "      <td>Biography</td>\n",
              "      <td>202</td>\n",
              "      <td>[u'Denzel Washington', u'Angela Bassett', u'De...</td>\n",
              "    </tr>\n",
              "  </tbody>\n",
              "</table>\n",
              "</div>"
            ],
            "text/plain": [
              "     star_rating  ...                                        actors_list\n",
              "630          7.7  ...  [u'Denzel Washington', u'Angela Bassett', u'De...\n",
              "\n",
              "[1 rows x 6 columns]"
            ]
          },
          "metadata": {
            "tags": []
          },
          "execution_count": 20
        }
      ]
    }
  ]
}