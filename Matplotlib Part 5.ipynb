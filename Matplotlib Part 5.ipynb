{
  "nbformat": 4,
  "nbformat_minor": 0,
  "metadata": {
    "colab": {
      "name": "Laetitia VEREL Deviens un \"artiste\" avec Matplotlib - Partie 5.ipynb",
      "provenance": [],
      "collapsed_sections": [],
      "include_colab_link": true
    },
    "kernelspec": {
      "name": "python3",
      "display_name": "Python 3"
    }
  },
  "cells": [
    {
      "cell_type": "markdown",
      "metadata": {
        "id": "view-in-github",
        "colab_type": "text"
      },
      "source": [
        "<a href=\"https://colab.research.google.com/github/LaetitiaVerel/Odyssey-Quests/blob/master/Matplotlib%20Part%205.ipynb\" target=\"_parent\"><img src=\"https://colab.research.google.com/assets/colab-badge.svg\" alt=\"Open In Colab\"/></a>"
      ]
    },
    {
      "cell_type": "markdown",
      "metadata": {
        "id": "ICGWpLhcaIYX"
      },
      "source": [
        "# Mission 1\n",
        "\n",
        "Modifie le code ci-dessous dans une cellule code pour l'appliquer à des colonnes de ce dataset : http://bit.ly/drinksbycountry"
      ]
    },
    {
      "cell_type": "code",
      "metadata": {
        "id": "BDyF4zQ2aHkJ",
        "colab": {
          "base_uri": "https://localhost:8080/",
          "height": 294
        },
        "outputId": "4412bc9d-5539-4289-b793-4a4ae4b78902"
      },
      "source": [
        "import matplotlib.pyplot as plt\n",
        "import numpy as np\n",
        "\n",
        "np.random.seed(19680801)\n",
        "all_data = [np.random.normal(0, std, size=100) for std in range(1, 4)]\n",
        "labels = ['x1', 'x2', 'x3']\n",
        "\n",
        "fig, axes = plt.subplots(nrows=1, ncols=2, figsize=(9, 4))\n",
        "\n",
        "# rectangular box plot\n",
        "bplot1 = axes[0].boxplot(all_data,\n",
        "                         vert=True, \n",
        "                         patch_artist=True,  \n",
        "                         labels=labels) \n",
        "axes[0].set_title('Rectangular box plot')\n",
        "\n",
        "bplot2 = axes[1].boxplot(all_data,\n",
        "                         notch=True, \n",
        "                         vert=True, \n",
        "                         patch_artist=True, \n",
        "                         labels=labels) \n",
        "axes[1].set_title('Notched box plot')\n",
        "\n",
        "colors = ['pink', 'lightblue', 'lightgreen']\n",
        "for bplot in (bplot1, bplot2):\n",
        "    for patch, color in zip(bplot['boxes'], colors):\n",
        "        patch.set_facecolor(color)\n",
        "\n",
        "for ax in axes:\n",
        "    ax.yaxis.grid(True)\n",
        "    ax.set_xlabel('Three separate samples')\n",
        "    ax.set_ylabel('Observed values')\n",
        "\n",
        "plt.show()"
      ],
      "execution_count": null,
      "outputs": [
        {
          "output_type": "display_data",
          "data": {
            "image/png": "[encoded data removed]",
            "text/plain": [
              "<Figure size 648x288 with 2 Axes>"
            ]
          },
          "metadata": {
            "tags": []
          }
        }
      ]
    },
    {
      "cell_type": "code",
      "metadata": {
        "id": "lgMsZ4AxdHv_",
        "colab": {
          "base_uri": "https://localhost:8080/",
          "height": 352
        },
        "outputId": "e2c0f3bf-7143-4cb5-c65e-379b798a4fce"
      },
      "source": [
        "import matplotlib.pyplot as plt\n",
        "import numpy as np\n",
        "import pandas as pd\n",
        "\n",
        "url = \"https://raw.githubusercontent.com/justmarkham/pandas-videos/master/data/drinks.csv\"\n",
        "\n",
        "Data_1 = pd.read_csv(url)\n",
        "Data_1.head(10)"
      ],
      "execution_count": null,
      "outputs": [
        {
          "output_type": "execute_result",
          "data": {
            "text/html": [
              "<div>\n",
              "<style scoped>\n",
              "    .dataframe tbody tr th:only-of-type {\n",
              "        vertical-align: middle;\n",
              "    }\n",
              "\n",
              "    .dataframe tbody tr th {\n",
              "        vertical-align: top;\n",
              "    }\n",
              "\n",
              "    .dataframe thead th {\n",
              "        text-align: right;\n",
              "    }\n",
              "</style>\n",
              "<table border=\"1\" class=\"dataframe\">\n",
              "  <thead>\n",
              "    <tr style=\"text-align: right;\">\n",
              "      <th></th>\n",
              "      <th>country</th>\n",
              "      <th>beer_servings</th>\n",
              "      <th>spirit_servings</th>\n",
              "      <th>wine_servings</th>\n",
              "      <th>total_litres_of_pure_alcohol</th>\n",
              "      <th>continent</th>\n",
              "    </tr>\n",
              "  </thead>\n",
              "  <tbody>\n",
              "    <tr>\n",
              "      <th>0</th>\n",
              "      <td>Afghanistan</td>\n",
              "      <td>0</td>\n",
              "      <td>0</td>\n",
              "      <td>0</td>\n",
              "      <td>0.0</td>\n",
              "      <td>Asia</td>\n",
              "    </tr>\n",
              "    <tr>\n",
              "      <th>1</th>\n",
              "      <td>Albania</td>\n",
              "      <td>89</td>\n",
              "      <td>132</td>\n",
              "      <td>54</td>\n",
              "      <td>4.9</td>\n",
              "      <td>Europe</td>\n",
              "    </tr>\n",
              "    <tr>\n",
              "      <th>2</th>\n",
              "      <td>Algeria</td>\n",
              "      <td>25</td>\n",
              "      <td>0</td>\n",
              "      <td>14</td>\n",
              "      <td>0.7</td>\n",
              "      <td>Africa</td>\n",
              "    </tr>\n",
              "    <tr>\n",
              "      <th>3</th>\n",
              "      <td>Andorra</td>\n",
              "      <td>245</td>\n",
              "      <td>138</td>\n",
              "      <td>312</td>\n",
              "      <td>12.4</td>\n",
              "      <td>Europe</td>\n",
              "    </tr>\n",
              "    <tr>\n",
              "      <th>4</th>\n",
              "      <td>Angola</td>\n",
              "      <td>217</td>\n",
              "      <td>57</td>\n",
              "      <td>45</td>\n",
              "      <td>5.9</td>\n",
              "      <td>Africa</td>\n",
              "    </tr>\n",
              "    <tr>\n",
              "      <th>5</th>\n",
              "      <td>Antigua &amp; Barbuda</td>\n",
              "      <td>102</td>\n",
              "      <td>128</td>\n",
              "      <td>45</td>\n",
              "      <td>4.9</td>\n",
              "      <td>North America</td>\n",
              "    </tr>\n",
              "    <tr>\n",
              "      <th>6</th>\n",
              "      <td>Argentina</td>\n",
              "      <td>193</td>\n",
              "      <td>25</td>\n",
              "      <td>221</td>\n",
              "      <td>8.3</td>\n",
              "      <td>South America</td>\n",
              "    </tr>\n",
              "    <tr>\n",
              "      <th>7</th>\n",
              "      <td>Armenia</td>\n",
              "      <td>21</td>\n",
              "      <td>179</td>\n",
              "      <td>11</td>\n",
              "      <td>3.8</td>\n",
              "      <td>Europe</td>\n",
              "    </tr>\n",
              "    <tr>\n",
              "      <th>8</th>\n",
              "      <td>Australia</td>\n",
              "      <td>261</td>\n",
              "      <td>72</td>\n",
              "      <td>212</td>\n",
              "      <td>10.4</td>\n",
              "      <td>Oceania</td>\n",
              "    </tr>\n",
              "    <tr>\n",
              "      <th>9</th>\n",
              "      <td>Austria</td>\n",
              "      <td>279</td>\n",
              "      <td>75</td>\n",
              "      <td>191</td>\n",
              "      <td>9.7</td>\n",
              "      <td>Europe</td>\n",
              "    </tr>\n",
              "  </tbody>\n",
              "</table>\n",
              "</div>"
            ],
            "text/plain": [
              "             country  ...      continent\n",
              "0        Afghanistan  ...           Asia\n",
              "1            Albania  ...         Europe\n",
              "2            Algeria  ...         Africa\n",
              "3            Andorra  ...         Europe\n",
              "4             Angola  ...         Africa\n",
              "5  Antigua & Barbuda  ...  North America\n",
              "6          Argentina  ...  South America\n",
              "7            Armenia  ...         Europe\n",
              "8          Australia  ...        Oceania\n",
              "9            Austria  ...         Europe\n",
              "\n",
              "[10 rows x 6 columns]"
            ]
          },
          "metadata": {
            "tags": []
          },
          "execution_count": 2
        }
      ]
    },
    {
      "cell_type": "code",
      "metadata": {
        "id": "cUWH3Kik6ZJY",
        "colab": {
          "base_uri": "https://localhost:8080/",
          "height": 295
        },
        "outputId": "14231228-1da8-4495-fedf-65c2cb1c8c5b"
      },
      "source": [
        "\n",
        "labels = ['Beer', 'Spirit', 'Wine']\n",
        "\n",
        "fig, axes = plt.subplots(nrows=1, ncols=2, figsize=(9, 4))\n",
        "\n",
        "# rectangular box plot\n",
        "bplot1 = axes[0].boxplot([Data_1['beer_servings'], Data_1['spirit_servings'], Data_1['wine_servings']],\n",
        "                         vert=True, \n",
        "                         patch_artist=True,  \n",
        "                         labels=labels) \n",
        "axes[0].set_title('Beer, Spirit and Wine')\n",
        "\n",
        "bplot2 = axes[1].boxplot([Data_1['beer_servings'], Data_1['spirit_servings'], Data_1['wine_servings']],\n",
        "                         notch=True, \n",
        "                         vert=True, \n",
        "                         patch_artist=True, \n",
        "                         labels=labels) \n",
        "\n",
        "axes[1].set_title('Beer, Spirit and Wine')\n",
        "\n",
        "colors = ['pink', 'lightblue', 'lightgreen']\n",
        "for bplot in (bplot1, bplot2):\n",
        "    for patch, color in zip(bplot['boxes'], colors):\n",
        "        patch.set_facecolor(color)\n",
        "\n",
        "for ax in axes:\n",
        "    ax.yaxis.grid(True)\n",
        "    ax.set_xlabel('Types of alcohol')\n",
        "    ax.set_ylabel('Servings')\n",
        "\n",
        "plt.show()"
      ],
      "execution_count": null,
      "outputs": [
        {
          "output_type": "display_data",
          "data": {
            "image/png": "[encoded data removed]",
            "text/plain": [
              "<Figure size 648x288 with 2 Axes>"
            ]
          },
          "metadata": {
            "tags": [],
            "needs_background": "light"
          }
        }
      ]
    },
    {
      "cell_type": "markdown",
      "metadata": {
        "id": "C9sVeMXWY18I"
      },
      "source": [
        "# Mission 2\n",
        "\n",
        "Commente le code ci-dessous pour l'expliquer à un autre Data analyst. Ensuite applique le à ce dataset : http://bit.ly/drinksbycountry"
      ]
    },
    {
      "cell_type": "code",
      "metadata": {
        "id": "I5MAw7jldSG4",
        "colab": {
          "base_uri": "https://localhost:8080/",
          "height": 294
        },
        "outputId": "9aa81bf4-3a6d-4870-c05e-a2cbb0faa52a"
      },
      "source": [
        "import matplotlib.pyplot as plt\n",
        "import numpy as np # Importer les bibliothèques Matplotlib et Numpy\n",
        "\n",
        "fig, axes = plt.subplots(nrows=1, ncols=2, figsize=(9, 4)) # Définir la figure avec une ligne et 2 colonnes (2 graphiques de 9*4)\n",
        "\n",
        "np.random.seed(19680801) # Générer des valeurs aléatoires\n",
        "\n",
        "\n",
        "all_data = [np.random.normal(0, std, 100) for std in range(6, 10)] # Définir les arrays\n",
        "\n",
        "axes[0].violinplot(all_data,\n",
        "                   showmeans=False,\n",
        "                   showmedians=True)\n",
        "axes[0].set_title('Violin plot') # Premier graphique 'Violin plot' avec les arrays \"all_data\", en montrant les médianes\n",
        "\n",
        "axes[1].boxplot(all_data)\n",
        "axes[1].set_title('Box plot') # Deuxième graphique 'Box plot' avec les arrays \"all_data\"\n",
        "\n",
        "for ax in axes:\n",
        "    ax.yaxis.grid(True) # Afficher les lignes sur l'axe y\n",
        "    ax.set_xticks([y + 1 for y in range(len(all_data))]) # Définir l'axe x\n",
        "    ax.set_xlabel('Four separate samples') # Titre de l'axe x\n",
        "    ax.set_ylabel('Observed values') # Titre de l'axe y\n",
        "\n",
        "plt.setp(axes, xticks=[y + 1 for y in range(len(all_data))],\n",
        "         xticklabels=['x1', 'x2', 'x3', 'x4']) # Modifier pour ajouter des étiquettes sur l'axe x\n",
        "plt.show() # Montrer les graphiques"
      ],
      "execution_count": null,
      "outputs": [
        {
          "output_type": "display_data",
          "data": {
            "image/png": "[encoded data removed]",
            "text/plain": [
              "<Figure size 648x288 with 2 Axes>"
            ]
          },
          "metadata": {
            "tags": []
          }
        }
      ]
    },
    {
      "cell_type": "code",
      "metadata": {
        "id": "noc_ugLjcIjA",
        "colab": {
          "base_uri": "https://localhost:8080/",
          "height": 352
        },
        "outputId": "48689ef5-b1dc-41fc-90c8-7969ef0d563e"
      },
      "source": [
        "import matplotlib.pyplot as plt\n",
        "import numpy as np\n",
        "import pandas as pd\n",
        "\n",
        "url = \"https://raw.githubusercontent.com/justmarkham/pandas-videos/master/data/drinks.csv\"\n",
        "\n",
        "Data_2 = pd.read_csv(url)\n",
        "Data_2.head(10)"
      ],
      "execution_count": null,
      "outputs": [
        {
          "output_type": "execute_result",
          "data": {
            "text/html": [
              "<div>\n",
              "<style scoped>\n",
              "    .dataframe tbody tr th:only-of-type {\n",
              "        vertical-align: middle;\n",
              "    }\n",
              "\n",
              "    .dataframe tbody tr th {\n",
              "        vertical-align: top;\n",
              "    }\n",
              "\n",
              "    .dataframe thead th {\n",
              "        text-align: right;\n",
              "    }\n",
              "</style>\n",
              "<table border=\"1\" class=\"dataframe\">\n",
              "  <thead>\n",
              "    <tr style=\"text-align: right;\">\n",
              "      <th></th>\n",
              "      <th>country</th>\n",
              "      <th>beer_servings</th>\n",
              "      <th>spirit_servings</th>\n",
              "      <th>wine_servings</th>\n",
              "      <th>total_litres_of_pure_alcohol</th>\n",
              "      <th>continent</th>\n",
              "    </tr>\n",
              "  </thead>\n",
              "  <tbody>\n",
              "    <tr>\n",
              "      <th>0</th>\n",
              "      <td>Afghanistan</td>\n",
              "      <td>0</td>\n",
              "      <td>0</td>\n",
              "      <td>0</td>\n",
              "      <td>0.0</td>\n",
              "      <td>Asia</td>\n",
              "    </tr>\n",
              "    <tr>\n",
              "      <th>1</th>\n",
              "      <td>Albania</td>\n",
              "      <td>89</td>\n",
              "      <td>132</td>\n",
              "      <td>54</td>\n",
              "      <td>4.9</td>\n",
              "      <td>Europe</td>\n",
              "    </tr>\n",
              "    <tr>\n",
              "      <th>2</th>\n",
              "      <td>Algeria</td>\n",
              "      <td>25</td>\n",
              "      <td>0</td>\n",
              "      <td>14</td>\n",
              "      <td>0.7</td>\n",
              "      <td>Africa</td>\n",
              "    </tr>\n",
              "    <tr>\n",
              "      <th>3</th>\n",
              "      <td>Andorra</td>\n",
              "      <td>245</td>\n",
              "      <td>138</td>\n",
              "      <td>312</td>\n",
              "      <td>12.4</td>\n",
              "      <td>Europe</td>\n",
              "    </tr>\n",
              "    <tr>\n",
              "      <th>4</th>\n",
              "      <td>Angola</td>\n",
              "      <td>217</td>\n",
              "      <td>57</td>\n",
              "      <td>45</td>\n",
              "      <td>5.9</td>\n",
              "      <td>Africa</td>\n",
              "    </tr>\n",
              "    <tr>\n",
              "      <th>5</th>\n",
              "      <td>Antigua &amp; Barbuda</td>\n",
              "      <td>102</td>\n",
              "      <td>128</td>\n",
              "      <td>45</td>\n",
              "      <td>4.9</td>\n",
              "      <td>North America</td>\n",
              "    </tr>\n",
              "    <tr>\n",
              "      <th>6</th>\n",
              "      <td>Argentina</td>\n",
              "      <td>193</td>\n",
              "      <td>25</td>\n",
              "      <td>221</td>\n",
              "      <td>8.3</td>\n",
              "      <td>South America</td>\n",
              "    </tr>\n",
              "    <tr>\n",
              "      <th>7</th>\n",
              "      <td>Armenia</td>\n",
              "      <td>21</td>\n",
              "      <td>179</td>\n",
              "      <td>11</td>\n",
              "      <td>3.8</td>\n",
              "      <td>Europe</td>\n",
              "    </tr>\n",
              "    <tr>\n",
              "      <th>8</th>\n",
              "      <td>Australia</td>\n",
              "      <td>261</td>\n",
              "      <td>72</td>\n",
              "      <td>212</td>\n",
              "      <td>10.4</td>\n",
              "      <td>Oceania</td>\n",
              "    </tr>\n",
              "    <tr>\n",
              "      <th>9</th>\n",
              "      <td>Austria</td>\n",
              "      <td>279</td>\n",
              "      <td>75</td>\n",
              "      <td>191</td>\n",
              "      <td>9.7</td>\n",
              "      <td>Europe</td>\n",
              "    </tr>\n",
              "  </tbody>\n",
              "</table>\n",
              "</div>"
            ],
            "text/plain": [
              "             country  ...      continent\n",
              "0        Afghanistan  ...           Asia\n",
              "1            Albania  ...         Europe\n",
              "2            Algeria  ...         Africa\n",
              "3            Andorra  ...         Europe\n",
              "4             Angola  ...         Africa\n",
              "5  Antigua & Barbuda  ...  North America\n",
              "6          Argentina  ...  South America\n",
              "7            Armenia  ...         Europe\n",
              "8          Australia  ...        Oceania\n",
              "9            Austria  ...         Europe\n",
              "\n",
              "[10 rows x 6 columns]"
            ]
          },
          "metadata": {
            "tags": []
          },
          "execution_count": 4
        }
      ]
    },
    {
      "cell_type": "code",
      "metadata": {
        "id": "PgQfOQKdBAXe",
        "colab": {
          "base_uri": "https://localhost:8080/",
          "height": 350
        },
        "outputId": "44730837-1034-44ec-9fda-33e8c834433b"
      },
      "source": [
        "import matplotlib.pyplot as plt\n",
        "import numpy as np \n",
        "\n",
        "fig, axes = plt.subplots(nrows=1, ncols=2, figsize=(15, 5)) \n",
        "\n",
        "\n",
        "Data_for_viz = [Data_2['beer_servings'], Data_2['spirit_servings'], Data_2['wine_servings'], Data_2['total_litres_of_pure_alcohol']]\n",
        "\n",
        "axes[0].violinplot(Data_for_viz,\n",
        "                   showmeans=False,\n",
        "                   showmedians=True)\n",
        "axes[0].set_title('Violin plot') \n",
        "\n",
        "axes[1].boxplot(Data_for_viz)\n",
        "axes[1].set_title('Box plot') \n",
        "\n",
        "for ax in axes:\n",
        "    ax.yaxis.grid(True) \n",
        "    ax.set_xticks([y + 1 for y in range(len(Data_for_viz))]) \n",
        "    ax.set_xlabel('Types of alcohol') \n",
        "    ax.set_ylabel('Consumption') \n",
        "\n",
        "plt.setp(axes, xticks=[y + 1 for y in range(len(Data_for_viz))],\n",
        "         xticklabels=['Beer', 'Spirit', 'Wine', 'Alcohol']) \n",
        "plt.show() "
      ],
      "execution_count": null,
      "outputs": [
        {
          "output_type": "display_data",
          "data": {
            "image/png": "[encoded data removed]",
            "text/plain": [
              "<Figure size 1080x360 with 2 Axes>"
            ]
          },
          "metadata": {
            "tags": [],
            "needs_background": "light"
          }
        }
      ]
    }
  ]
}