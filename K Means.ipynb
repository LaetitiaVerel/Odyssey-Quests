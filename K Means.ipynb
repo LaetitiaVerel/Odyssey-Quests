{
  "nbformat": 4,
  "nbformat_minor": 0,
  "metadata": {
    "colab": {
      "name": "Laëtitia VEREL K-means : clusterer pour mieux régner.ipynb",
      "provenance": [],
      "authorship_tag": "ABX9TyMR7oHWe7LVuN8h30xDlFIR",
      "include_colab_link": true
    },
    "kernelspec": {
      "name": "python3",
      "display_name": "Python 3"
    }
  },
  "cells": [
    {
      "cell_type": "markdown",
      "metadata": {
        "id": "view-in-github",
        "colab_type": "text"
      },
      "source": [
        "<a href=\"https://colab.research.google.com/github/LaetitiaVerel/Odyssey-Quests/blob/master/K%20Means.ipynb\" target=\"_parent\"><img src=\"https://colab.research.google.com/assets/colab-badge.svg\" alt=\"Open In Colab\"/></a>"
      ]
    },
    {
      "cell_type": "markdown",
      "metadata": {
        "id": "c-WPAHqZL2gu"
      },
      "source": [
        "1. Dans scikit-learn, importe le dataset Iris.\n",
        "\n",
        "2. Entraîne ton modèle pour qu’il trouve 3 clusters.\n",
        "\n",
        "3. Produis une visualisation comparant le dataset de base avec les classes générées par le K-means en t’inspirant de cette image : ...\n",
        "\n",
        "4. Évalue ton modèle en utilisant la méthode Elbow.\n",
        "\n",
        "5. Fournis le lien vers ton notebook en guise de solution au challenge."
      ]
    },
    {
      "cell_type": "code",
      "metadata": {
        "id": "b6NznLKFLzSv"
      },
      "source": [
        "import pandas as pd\n",
        "import numpy as np\n",
        "import sklearn.metrics as sm\n",
        "import matplotlib.pyplot as plt\n",
        "from sklearn.cluster import KMeans\n",
        "from sklearn import datasets"
      ],
      "execution_count": null,
      "outputs": []
    },
    {
      "cell_type": "code",
      "metadata": {
        "id": "2WjQnqU2MKX1"
      },
      "source": [
        "iris = datasets.load_iris()"
      ],
      "execution_count": null,
      "outputs": []
    },
    {
      "cell_type": "code",
      "metadata": {
        "id": "-OSMtQ8TMsN7"
      },
      "source": [
        "x = pd.DataFrame(iris.data)\n",
        "y = pd.DataFrame(iris.target)\n",
        "\n",
        "clustering = KMeans(n_clusters = 3, random_state = 0, max_iter = 100, n_init = 100)\n",
        "clustering.fit(x)\n",
        "labels = clustering.labels_"
      ],
      "execution_count": null,
      "outputs": []
    },
    {
      "cell_type": "code",
      "metadata": {
        "id": "Jg4VF_2AQ_zK",
        "colab": {
          "base_uri": "https://localhost:8080/",
          "height": 411
        },
        "outputId": "268fbf21-7c26-45ae-bfd3-591032274eb7"
      },
      "source": [
        "x = pd.DataFrame(iris.data)\n",
        "x[\"target\"] = iris.target\n",
        "x[\"labels\"] = labels\n",
        "x"
      ],
      "execution_count": null,
      "outputs": [
        {
          "output_type": "execute_result",
          "data": {
            "text/html": [
              "<div>\n",
              "<style scoped>\n",
              "    .dataframe tbody tr th:only-of-type {\n",
              "        vertical-align: middle;\n",
              "    }\n",
              "\n",
              "    .dataframe tbody tr th {\n",
              "        vertical-align: top;\n",
              "    }\n",
              "\n",
              "    .dataframe thead th {\n",
              "        text-align: right;\n",
              "    }\n",
              "</style>\n",
              "<table border=\"1\" class=\"dataframe\">\n",
              "  <thead>\n",
              "    <tr style=\"text-align: right;\">\n",
              "      <th></th>\n",
              "      <th>0</th>\n",
              "      <th>1</th>\n",
              "      <th>2</th>\n",
              "      <th>3</th>\n",
              "      <th>target</th>\n",
              "      <th>labels</th>\n",
              "    </tr>\n",
              "  </thead>\n",
              "  <tbody>\n",
              "    <tr>\n",
              "      <th>0</th>\n",
              "      <td>5.1</td>\n",
              "      <td>3.5</td>\n",
              "      <td>1.4</td>\n",
              "      <td>0.2</td>\n",
              "      <td>0</td>\n",
              "      <td>1</td>\n",
              "    </tr>\n",
              "    <tr>\n",
              "      <th>1</th>\n",
              "      <td>4.9</td>\n",
              "      <td>3.0</td>\n",
              "      <td>1.4</td>\n",
              "      <td>0.2</td>\n",
              "      <td>0</td>\n",
              "      <td>1</td>\n",
              "    </tr>\n",
              "    <tr>\n",
              "      <th>2</th>\n",
              "      <td>4.7</td>\n",
              "      <td>3.2</td>\n",
              "      <td>1.3</td>\n",
              "      <td>0.2</td>\n",
              "      <td>0</td>\n",
              "      <td>1</td>\n",
              "    </tr>\n",
              "    <tr>\n",
              "      <th>3</th>\n",
              "      <td>4.6</td>\n",
              "      <td>3.1</td>\n",
              "      <td>1.5</td>\n",
              "      <td>0.2</td>\n",
              "      <td>0</td>\n",
              "      <td>1</td>\n",
              "    </tr>\n",
              "    <tr>\n",
              "      <th>4</th>\n",
              "      <td>5.0</td>\n",
              "      <td>3.6</td>\n",
              "      <td>1.4</td>\n",
              "      <td>0.2</td>\n",
              "      <td>0</td>\n",
              "      <td>1</td>\n",
              "    </tr>\n",
              "    <tr>\n",
              "      <th>...</th>\n",
              "      <td>...</td>\n",
              "      <td>...</td>\n",
              "      <td>...</td>\n",
              "      <td>...</td>\n",
              "      <td>...</td>\n",
              "      <td>...</td>\n",
              "    </tr>\n",
              "    <tr>\n",
              "      <th>145</th>\n",
              "      <td>6.7</td>\n",
              "      <td>3.0</td>\n",
              "      <td>5.2</td>\n",
              "      <td>2.3</td>\n",
              "      <td>2</td>\n",
              "      <td>0</td>\n",
              "    </tr>\n",
              "    <tr>\n",
              "      <th>146</th>\n",
              "      <td>6.3</td>\n",
              "      <td>2.5</td>\n",
              "      <td>5.0</td>\n",
              "      <td>1.9</td>\n",
              "      <td>2</td>\n",
              "      <td>2</td>\n",
              "    </tr>\n",
              "    <tr>\n",
              "      <th>147</th>\n",
              "      <td>6.5</td>\n",
              "      <td>3.0</td>\n",
              "      <td>5.2</td>\n",
              "      <td>2.0</td>\n",
              "      <td>2</td>\n",
              "      <td>0</td>\n",
              "    </tr>\n",
              "    <tr>\n",
              "      <th>148</th>\n",
              "      <td>6.2</td>\n",
              "      <td>3.4</td>\n",
              "      <td>5.4</td>\n",
              "      <td>2.3</td>\n",
              "      <td>2</td>\n",
              "      <td>0</td>\n",
              "    </tr>\n",
              "    <tr>\n",
              "      <th>149</th>\n",
              "      <td>5.9</td>\n",
              "      <td>3.0</td>\n",
              "      <td>5.1</td>\n",
              "      <td>1.8</td>\n",
              "      <td>2</td>\n",
              "      <td>2</td>\n",
              "    </tr>\n",
              "  </tbody>\n",
              "</table>\n",
              "<p>150 rows × 6 columns</p>\n",
              "</div>"
            ],
            "text/plain": [
              "       0    1    2    3  target  labels\n",
              "0    5.1  3.5  1.4  0.2       0       1\n",
              "1    4.9  3.0  1.4  0.2       0       1\n",
              "2    4.7  3.2  1.3  0.2       0       1\n",
              "3    4.6  3.1  1.5  0.2       0       1\n",
              "4    5.0  3.6  1.4  0.2       0       1\n",
              "..   ...  ...  ...  ...     ...     ...\n",
              "145  6.7  3.0  5.2  2.3       2       0\n",
              "146  6.3  2.5  5.0  1.9       2       2\n",
              "147  6.5  3.0  5.2  2.0       2       0\n",
              "148  6.2  3.4  5.4  2.3       2       0\n",
              "149  5.9  3.0  5.1  1.8       2       2\n",
              "\n",
              "[150 rows x 6 columns]"
            ]
          },
          "metadata": {
            "tags": []
          },
          "execution_count": 9
        }
      ]
    },
    {
      "cell_type": "code",
      "metadata": {
        "id": "Vf9QAjcXRD3S",
        "colab": {
          "base_uri": "https://localhost:8080/",
          "height": 268
        },
        "outputId": "2d783f45-28cf-4c3a-9a98-9f0134fa2914"
      },
      "source": [
        "c = [\"red\", \"green\", \"blue\"]\n",
        "\n",
        "for i in range(3):\n",
        "    x1 = x.loc[x[\"target\"] == i, 0]\n",
        "    x2 = x.loc[x[\"target\"] == i, 1]\n",
        "    plt.scatter(x1,x2, c = c[i])"
      ],
      "execution_count": null,
      "outputs": [
        {
          "output_type": "display_data",
          "data": {
            "image/png": "[encoded data removed]",
            "text/plain": [
              "<Figure size 432x288 with 1 Axes>"
            ]
          },
          "metadata": {
            "tags": [],
            "needs_background": "light"
          }
        }
      ]
    },
    {
      "cell_type": "code",
      "metadata": {
        "id": "WSpT-mzcRvK1",
        "colab": {
          "base_uri": "https://localhost:8080/",
          "height": 268
        },
        "outputId": "22c724ed-056a-45c1-c998-fc2c95ce6bfb"
      },
      "source": [
        "c = [\"red\", \"green\", \"blue\"]\n",
        "\n",
        "for i in range(3):\n",
        "    x1 = x.loc[x[\"labels\"] == i, 0]\n",
        "    x2 = x.loc[x[\"labels\"] == i, 1]\n",
        "    plt.scatter(x1,x2, c = c[i])"
      ],
      "execution_count": null,
      "outputs": [
        {
          "output_type": "display_data",
          "data": {
            "image/png": "[encoded data removed]",
            "text/plain": [
              "<Figure size 432x288 with 1 Axes>"
            ]
          },
          "metadata": {
            "tags": [],
            "needs_background": "light"
          }
        }
      ]
    },
    {
      "cell_type": "code",
      "metadata": {
        "id": "bpiZS-QkSP6V",
        "colab": {
          "base_uri": "https://localhost:8080/",
          "height": 295
        },
        "outputId": "ad7bec75-f5b1-4f29-cb7b-4558d6ba2e02"
      },
      "source": [
        "Sum_sqd_err = {}\n",
        "\n",
        "for k in range(1, 10):\n",
        "    clustering = KMeans(n_clusters=k, max_iter=1000).fit(iris.data)\n",
        "    Sum_sqd_err[k] = clustering.inertia_ \n",
        "\n",
        "plt.plot(list(Sum_sqd_err.keys()), list(Sum_sqd_err.values()))\n",
        "plt.xlabel(\"Number of cluster\")\n",
        "plt.ylabel(\"Sum of squared errors\")\n",
        "plt.title(\"The Elbow Method using Sum of squared errors\") \n",
        "plt.show()"
      ],
      "execution_count": null,
      "outputs": [
        {
          "output_type": "display_data",
          "data": {
            "image/png": "[encoded data removed]",
            "text/plain": [
              "<Figure size 432x288 with 1 Axes>"
            ]
          },
          "metadata": {
            "tags": [],
            "needs_background": "light"
          }
        }
      ]
    }
  ]
}