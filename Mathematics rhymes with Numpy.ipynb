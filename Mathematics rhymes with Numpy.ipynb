{
  "nbformat": 4,
  "nbformat_minor": 0,
  "metadata": {
    "colab": {
      "name": "Laetitia VEREL Mathematics rhymes with Numpy.ipynb",
      "provenance": [],
      "collapsed_sections": [],
      "include_colab_link": true
    },
    "kernelspec": {
      "name": "python3",
      "display_name": "Python 3"
    }
  },
  "cells": [
    {
      "cell_type": "markdown",
      "metadata": {
        "id": "view-in-github",
        "colab_type": "text"
      },
      "source": [
        "<a href=\"https://colab.research.google.com/github/LaetitiaVerel/Odyssey-Quests/blob/master/Mathematics%20rhymes%20with%20Numpy.ipynb\" target=\"_parent\"><img src=\"https://colab.research.google.com/assets/colab-badge.svg\" alt=\"Open In Colab\"/></a>"
      ]
    },
    {
      "cell_type": "markdown",
      "metadata": {
        "id": "K7HOMJUBt5cD"
      },
      "source": [
        "# Mission 1"
      ]
    },
    {
      "cell_type": "markdown",
      "metadata": {
        "id": "6IqfpiNQujlE"
      },
      "source": [
        "Find a way to calculate for an x array, the following statistical indicators and functions with Numpy.\n",
        "- mode\n",
        "- mediane\n",
        "- average\n",
        "- the extend (range of amplitude, the difference between max and min)\n",
        "- standard deviation\n",
        "- variance\n",
        "- the different quantiles\n",
        "- Reshape your array in 2 lines and n columns, then calculate the pearson coefficient"
      ]
    },
    {
      "cell_type": "code",
      "metadata": {
        "id": "lSzKwJ2PyWyz",
        "colab": {
          "base_uri": "https://localhost:8080/",
          "height": 316
        },
        "outputId": "f3355cfa-f4d4-4b6e-aab1-d5be256a4a99"
      },
      "source": [
        "import numpy as np\n",
        "from scipy import stats\n",
        "x = np.array([[2, 1, 3, 7, 5, 9],\n",
        "             [6, 8, 2, 9, 4, 7],\n",
        "             [5, 3, 1, 6, 4, 5]])\n",
        "print(x)\n",
        "\n",
        "print(stats.mode(x))\n",
        "print(np.median(x))\n",
        "print(np.average(x))\n",
        "print(np.ptp(x))\n",
        "print(np.std(x))\n",
        "print(np.var(x))\n",
        "print(np.quantile(x, 0.25))\n",
        "print(np.quantile(x, 0.5 ))\n",
        "print(np.quantile(x, 0.75))\n",
        "print(np.shape(x))\n",
        "print(x.reshape(2, 9))\n",
        "print(np.corrcoef(x.reshape(2, 9)))"
      ],
      "execution_count": null,
      "outputs": [
        {
          "output_type": "stream",
          "text": [
            "[[2 1 3 7 5 9]\n",
            " [6 8 2 9 4 7]\n",
            " [5 3 1 6 4 5]]\n",
            "ModeResult(mode=array([[2, 1, 1, 6, 4, 5]]), count=array([[1, 1, 1, 1, 2, 1]]))\n",
            "5.0\n",
            "4.833333333333333\n",
            "8\n",
            "2.4776781245530843\n",
            "6.138888888888889\n",
            "3.0\n",
            "5.0\n",
            "6.75\n",
            "(3, 6)\n",
            "[[2 1 3 7 5 9 6 8 2]\n",
            " [9 4 7 5 3 1 6 4 5]]\n",
            "[[ 1.       -0.561466]\n",
            " [-0.561466  1.      ]]\n"
          ],
          "name": "stdout"
        }
      ]
    },
    {
      "cell_type": "markdown",
      "metadata": {
        "id": "dSPGdxdsy5sg"
      },
      "source": [
        "## Mission 2\n",
        "\n",
        "Creates a function with Numpy that indicates for which values of x (integers only), between -100 and 100, the rest of the Euclidean division by 3 and by 7 are equal."
      ]
    },
    {
      "cell_type": "code",
      "metadata": {
        "id": "_6S3mTjiy5jT",
        "colab": {
          "base_uri": "https://localhost:8080/",
          "height": 34
        },
        "outputId": "e9db219d-11c6-493d-e86e-2533be588b62"
      },
      "source": [
        "import numpy as np\n",
        "def divisible():\n",
        "  values = np.arange(-100, 101, 1)\n",
        "  return [x for x in values if x % 3 == x % 7]\n",
        "\n",
        "print(divisible())"
      ],
      "execution_count": null,
      "outputs": [
        {
          "output_type": "stream",
          "text": [
            "[-84, -83, -82, -63, -62, -61, -42, -41, -40, -21, -20, -19, 0, 1, 2, 21, 22, 23, 42, 43, 44, 63, 64, 65, 84, 85, 86]\n"
          ],
          "name": "stdout"
        }
      ]
    },
    {
      "cell_type": "markdown",
      "metadata": {
        "id": "Tr3pka4-0az7"
      },
      "source": [
        "## Mission 3\n",
        "\n",
        "Creates a function that returns the [inverse value](https://en.wikipedia.org/wiki/Multiplicative_inverse) of a set of values contained in a Numpy array"
      ]
    },
    {
      "cell_type": "code",
      "metadata": {
        "id": "m4qgMMqH0hSl",
        "colab": {
          "base_uri": "https://localhost:8080/",
          "height": 650
        },
        "outputId": "f8798363-c694-40cc-a509-3c561ff539d8"
      },
      "source": [
        "def inserve_value(values):\n",
        "  return 1/ values\n",
        "\n",
        "numpy_array = np.arange(-100, 101, 1)\n",
        "print(inserve_value(numpy_array))"
      ],
      "execution_count": null,
      "outputs": [
        {
          "output_type": "stream",
          "text": [
            "[-0.01       -0.01010101 -0.01020408 -0.01030928 -0.01041667 -0.01052632\n",
            " -0.0106383  -0.01075269 -0.01086957 -0.01098901 -0.01111111 -0.01123596\n",
            " -0.01136364 -0.01149425 -0.01162791 -0.01176471 -0.01190476 -0.01204819\n",
            " -0.01219512 -0.01234568 -0.0125     -0.01265823 -0.01282051 -0.01298701\n",
            " -0.01315789 -0.01333333 -0.01351351 -0.01369863 -0.01388889 -0.01408451\n",
            " -0.01428571 -0.01449275 -0.01470588 -0.01492537 -0.01515152 -0.01538462\n",
            " -0.015625   -0.01587302 -0.01612903 -0.01639344 -0.01666667 -0.01694915\n",
            " -0.01724138 -0.01754386 -0.01785714 -0.01818182 -0.01851852 -0.01886792\n",
            " -0.01923077 -0.01960784 -0.02       -0.02040816 -0.02083333 -0.0212766\n",
            " -0.02173913 -0.02222222 -0.02272727 -0.02325581 -0.02380952 -0.02439024\n",
            " -0.025      -0.02564103 -0.02631579 -0.02702703 -0.02777778 -0.02857143\n",
            " -0.02941176 -0.03030303 -0.03125    -0.03225806 -0.03333333 -0.03448276\n",
            " -0.03571429 -0.03703704 -0.03846154 -0.04       -0.04166667 -0.04347826\n",
            " -0.04545455 -0.04761905 -0.05       -0.05263158 -0.05555556 -0.05882353\n",
            " -0.0625     -0.06666667 -0.07142857 -0.07692308 -0.08333333 -0.09090909\n",
            " -0.1        -0.11111111 -0.125      -0.14285714 -0.16666667 -0.2\n",
            " -0.25       -0.33333333 -0.5        -1.                 inf  1.\n",
            "  0.5         0.33333333  0.25        0.2         0.16666667  0.14285714\n",
            "  0.125       0.11111111  0.1         0.09090909  0.08333333  0.07692308\n",
            "  0.07142857  0.06666667  0.0625      0.05882353  0.05555556  0.05263158\n",
            "  0.05        0.04761905  0.04545455  0.04347826  0.04166667  0.04\n",
            "  0.03846154  0.03703704  0.03571429  0.03448276  0.03333333  0.03225806\n",
            "  0.03125     0.03030303  0.02941176  0.02857143  0.02777778  0.02702703\n",
            "  0.02631579  0.02564103  0.025       0.02439024  0.02380952  0.02325581\n",
            "  0.02272727  0.02222222  0.02173913  0.0212766   0.02083333  0.02040816\n",
            "  0.02        0.01960784  0.01923077  0.01886792  0.01851852  0.01818182\n",
            "  0.01785714  0.01754386  0.01724138  0.01694915  0.01666667  0.01639344\n",
            "  0.01612903  0.01587302  0.015625    0.01538462  0.01515152  0.01492537\n",
            "  0.01470588  0.01449275  0.01428571  0.01408451  0.01388889  0.01369863\n",
            "  0.01351351  0.01333333  0.01315789  0.01298701  0.01282051  0.01265823\n",
            "  0.0125      0.01234568  0.01219512  0.01204819  0.01190476  0.01176471\n",
            "  0.01162791  0.01149425  0.01136364  0.01123596  0.01111111  0.01098901\n",
            "  0.01086957  0.01075269  0.0106383   0.01052632  0.01041667  0.01030928\n",
            "  0.01020408  0.01010101  0.01      ]\n"
          ],
          "name": "stdout"
        },
        {
          "output_type": "stream",
          "text": [
            "/usr/local/lib/python3.6/dist-packages/ipykernel_launcher.py:2: RuntimeWarning: divide by zero encountered in true_divide\n",
            "  \n"
          ],
          "name": "stderr"
        }
      ]
    },
    {
      "cell_type": "markdown",
      "metadata": {
        "id": "3fydJ2Axqtq3"
      },
      "source": [
        "## Mission 4\n",
        "\n",
        "Create a function with Numpy that solves [second degree equations of the kind](https://www.youtube.com/watch?v=hwq_zpsGixc): $ax^2+bx+c$"
      ]
    },
    {
      "cell_type": "code",
      "metadata": {
        "id": "G0JzTI000jMz",
        "colab": {
          "base_uri": "https://localhost:8080/",
          "height": 34
        },
        "outputId": "7d0530a6-140e-449d-c93c-c7134f2a53b6"
      },
      "source": [
        "import numpy.polynomial.polynomial as poly\n",
        "\n",
        "poly.polyroots([3, 6, 2])"
      ],
      "execution_count": null,
      "outputs": [
        {
          "output_type": "execute_result",
          "data": {
            "text/plain": [
              "array([-2.3660254, -0.6339746])"
            ]
          },
          "metadata": {
            "tags": []
          },
          "execution_count": 1
        }
      ]
    },
    {
      "cell_type": "markdown",
      "metadata": {
        "id": "cUDHf3xAzrGG"
      },
      "source": [
        "## Mission 5\n",
        "\n",
        "Recodes the central limit theorem using Numpy functions and not Python functions."
      ]
    },
    {
      "cell_type": "code",
      "metadata": {
        "id": "OZOkEkZFztCK",
        "colab": {
          "base_uri": "https://localhost:8080/",
          "height": 269
        },
        "outputId": "08705b36-034a-4758-a46b-cf85ba0577c2"
      },
      "source": [
        "# Code with Python\n",
        "\n",
        "import numpy as np\n",
        "import matplotlib.pyplot as plt\n",
        "from math import sqrt, pi, exp\n",
        "\n",
        "domaine = range(-100,100)\n",
        "mu = 0\n",
        "sigma = 20\n",
        "\n",
        "f = lambda x : 1/(sqrt(2*pi*pow(sigma,2))) * exp(-pow((x-mu),2)/(2*pow(sigma,2)))\n",
        "\n",
        "y = [f(x) for x in domaine]\n",
        "plot = plt.plot(domaine, y)"
      ],
      "execution_count": null,
      "outputs": [
        {
          "output_type": "display_data",
          "data": {
            "image/png": "[encoded data removed]",
            "text/plain": [
              "<Figure size 432x288 with 1 Axes>"
            ]
          },
          "metadata": {
            "tags": []
          }
        }
      ]
    },
    {
      "cell_type": "code",
      "metadata": {
        "id": "s6fqCDNjzuuN",
        "colab": {
          "base_uri": "https://localhost:8080/",
          "height": 265
        },
        "outputId": "0cb78d48-7710-4fb4-97a0-34a3078d3871"
      },
      "source": [
        "import numpy as np\n",
        "import matplotlib.pyplot as plt\n",
        "from math import sqrt, pi, exp\n",
        "\n",
        "mu = 0\n",
        "sigma = 20\n",
        "\n",
        "domaine = np.arange(-100, 101, 2)\n",
        "y = 1/(sqrt(2*pi*pow(sigma,2))) * np.exp(-np.power((domaine - mu),2)/(2*pow(sigma,2)))\n",
        "\n",
        "plot = plt.plot(domaine, y)"
      ],
      "execution_count": null,
      "outputs": [
        {
          "output_type": "display_data",
          "data": {
            "image/png": "[encoded data removed]",
            "text/plain": [
              "<Figure size 432x288 with 1 Axes>"
            ]
          },
          "metadata": {
            "tags": []
          }
        }
      ]
    }
  ]
}