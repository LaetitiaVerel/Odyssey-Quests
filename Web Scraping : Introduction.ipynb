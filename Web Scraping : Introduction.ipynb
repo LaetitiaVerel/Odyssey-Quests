{
  "nbformat": 4,
  "nbformat_minor": 0,
  "metadata": {
    "colab": {
      "name": "Laëtitia VEREL #1 Web Scraping : introduction.ipynb",
      "provenance": [],
      "collapsed_sections": [],
      "authorship_tag": "ABX9TyP3nv4EX82vCy1AgBuTJon0",
      "include_colab_link": true
    },
    "kernelspec": {
      "name": "python3",
      "display_name": "Python 3"
    }
  },
  "cells": [
    {
      "cell_type": "markdown",
      "metadata": {
        "id": "view-in-github",
        "colab_type": "text"
      },
      "source": [
        "<a href=\"https://colab.research.google.com/github/LaetitiaVerel/Odyssey-Quests/blob/master/Web%20Scraping%20%3A%20Introduction.ipynb\" target=\"_parent\"><img src=\"https://colab.research.google.com/assets/colab-badge.svg\" alt=\"Open In Colab\"/></a>"
      ]
    },
    {
      "cell_type": "markdown",
      "metadata": {
        "id": "S4tYH9gsXKEe"
      },
      "source": [
        "# Scrape 10 facts et les notes qui leur sont associées.\n",
        "\n",
        "# Crée un dataframe contenant ces données.\n",
        "\n",
        "# Partage le lien vers ton notebook en guise de solution au challenge."
      ]
    },
    {
      "cell_type": "code",
      "metadata": {
        "id": "om9IswPFXCmA"
      },
      "source": [
        "import requests\n",
        "from bs4 import BeautifulSoup\n",
        "\n",
        "page = requests.get('https://www.chucknorrisfacts.fr/facts')"
      ],
      "execution_count": null,
      "outputs": []
    },
    {
      "cell_type": "code",
      "metadata": {
        "id": "5sLCeHZyZPaP"
      },
      "source": [
        "soup = BeautifulSoup(page.content, 'html.parser')\n",
        "print(soup)"
      ],
      "execution_count": null,
      "outputs": []
    },
    {
      "cell_type": "code",
      "metadata": {
        "id": "iblBQ43iaQ9C"
      },
      "source": [
        "corps = soup.find(id='corps')\n",
        "print(corps)"
      ],
      "execution_count": null,
      "outputs": []
    },
    {
      "cell_type": "code",
      "metadata": {
        "id": "h2HS0fu9cKAW",
        "colab": {
          "base_uri": "https://localhost:8080/",
          "height": 55
        },
        "outputId": "9f2d8f7e-ad2d-4a15-bedb-ef08c94c499a"
      },
      "source": [
        "items = corps.find_all(class_ = 'fact')\n",
        "\n",
        "fact_text = [item.find(class_='factbody').get_text() for item in items]\n",
        "print(fact_text)"
      ],
      "execution_count": null,
      "outputs": [
        {
          "output_type": "stream",
          "text": [
            "[\"\\n        Quand Chuck Norris fait l'épreuve des araignées dans Fort Boyard, elles sortent elles-mêmes les petits papiers et lisent à voix haute.Votez !\\n\\n\\n6.39 / 10  \", '\\n        Chuck Norris peut faire des ronds avec une equerreVotez !\\n\\n\\n7.86 / 10  ', '\\n        Chuck Norris peut écrire un traitement de texte avec la souris.Votez !\\n\\n\\n5.08 / 10  ', '\\n        Peter Parker a été mordu par une araignée, Clark Kent a été mordu par Chuck NorrisVotez !\\n\\n\\n7.13 / 10  ', '\\n        Chuck norris se souvient très bien de son futurVotez !\\n\\n\\n8.38 / 10  ', '\\n        Chuck Norris peut dire Schwarzkopf en verlan.Votez !\\n\\n\\n7.59 / 10  ', \"\\n        Rien ne sert  de jouer aux échecs avec Chuck Norris, il ne connait pas l'échec.Votez !\\n\\n\\n7.54 / 10  \", '\\n        Chuck Norris ne prends jamais de laxatif; personne ne fait chier Chuck Norris !Votez !\\n\\n\\n7.91 / 10  ', \"\\n        Le papier WC de Chuck Norris n'a pas de fin. Chuck Norris n'est jamais au bout du rouleau.Votez !\\n\\n\\n7.8 / 10  \", '\\n        Chuck Norris a gagné la guerre du Golf, en 18 trous.Votez !\\n\\n\\n7.48 / 10  ', '\\n        Les portraits de Chuck Norris ne sont pas a vendre. On ne se paie pas la tête de Chuck Norris.Votez !\\n\\n\\n7.67 / 10  ', '\\n        L\\'ordinateur de Chuck Norris n\\'a pas de bouton \"CRTL\". Chuck Norris a toujours le contrôle.Votez !\\n\\n\\n6.53 / 10  ', '\\n        Chuck Norris a deja reussi a casser 3 pattes a un canard.Votez !\\n\\n\\n7.77 / 10  ', '\\n        En Avril dernier, Chuk Norris a fait un barbecue... et les aéroports européens ont été fermés pendant une semaine...Votez !\\n\\n\\n5.07 / 10  ', \"\\n        Depuis le 11 septembre 2001 Chuck Norris ne lance plus d'avions en papier.Votez !\\n\\n\\n8.41 / 10  \", '\\n        Le nombre de choses impossibles pour Chuck Norris est inférieur à zéro.Votez !\\n\\n\\n7.11 / 10  ', '\\n        Un jour, Chuck Norris a plongé dans la Mer Rouge. Moïse en a profité pour passer.Votez !\\n\\n\\n8.29 / 10  ', \"\\n        Quand chuck norris dit qu'il a inventé les ricolas\\r\\nLes Suisses ferment leurs gueulesVotez !\\n\\n\\n5.63 / 10  \", '\\n        M.Propre était videur et ne voulait pas laisser chuck rentrer en boite, maintenant il est femme de ménage !!Votez !\\n\\n\\n6.7 / 10  ', '\\n        Chuck Norris mange ses oranges tout rond: Chuck Norris fait pas de quartier.Votez !\\n\\n\\n8.36 / 10  ', '\\n        Chuck Norris a déjà tabassé l homme invisible parce qu il lui gâchait la vueVotez !\\n\\n\\n7.95 / 10  ', \"\\n        Chuck Norris ne s'est jamais rendu à l'école.\\r\\nChuck Norris ne se rend jamais ...Votez !\\n\\n\\n8.33 / 10  \", '\\n        Quand Chuck Norris va au Mcdo, les hamburgers sont aussi bien que sur les photos, même mieux.Votez !\\n\\n\\n5.52 / 10  ', '\\n        Chuck Norris regarde Charlie Chaplin avec le son.Votez !\\n\\n\\n7.71 / 10  ', \"\\n        Chuck Norris ne ment jamais, c'est la vérité qui se trompe.Votez !\\n\\n\\n8.98 / 10  \", '\\n        Chuck Norris ne fume pas car la santé de Chuck Norris est dangereuse pour le tabac.Votez !\\n\\n\\n8.55 / 10  ', '\\n        chuck norris a joué au roi du silence avec un muet... et il a gagnéVotez !\\n\\n\\n9.18 / 10  ', '\\n        Chuck Norris peut faire des chateaux de kart.Votez !\\n\\n\\n6.59 / 10  ', '\\n        Chuck Norris a été conçu en mode sans echecsVotez !\\n\\n\\n6.27 / 10  ', \"\\n        Quand Chuck Norris regarde le soleil c'est le soleil qui a mal aux yeuxVotez !\\n\\n\\n7.56 / 10  \"]\n"
          ],
          "name": "stdout"
        }
      ]
    },
    {
      "cell_type": "code",
      "metadata": {
        "id": "LHwNgyP3g01W",
        "colab": {
          "base_uri": "https://localhost:8080/",
          "height": 55
        },
        "outputId": "8b356b91-e698-4106-9c60-19c81f19200c"
      },
      "source": [
        "fact_points = [item.find(class_ = 'points').get_text() for item in items]\n",
        "print(fact_points)"
      ],
      "execution_count": null,
      "outputs": [
        {
          "output_type": "stream",
          "text": [
            "['6.39 / 10 ', '7.86 / 10 ', '5.08 / 10 ', '7.13 / 10 ', '8.38 / 10 ', '7.59 / 10 ', '7.54 / 10 ', '7.91 / 10 ', '7.8 / 10 ', '7.48 / 10 ', '7.67 / 10 ', '6.53 / 10 ', '7.77 / 10 ', '5.07 / 10 ', '8.41 / 10 ', '7.11 / 10 ', '8.29 / 10 ', '5.63 / 10 ', '6.7 / 10 ', '8.36 / 10 ', '7.95 / 10 ', '8.33 / 10 ', '5.52 / 10 ', '7.71 / 10 ', '8.98 / 10 ', '8.55 / 10 ', '9.18 / 10 ', '6.59 / 10 ', '6.27 / 10 ', '7.56 / 10 ']\n"
          ],
          "name": "stdout"
        }
      ]
    },
    {
      "cell_type": "code",
      "metadata": {
        "id": "UZqKBov5fIp9"
      },
      "source": [
        "range_10 = range(0, 10)\n",
        "\n",
        "fact_text_list = []\n",
        "fact_note_list = []\n",
        "\n",
        "for i in range_10 :\n",
        "  f = items[i].find(class_='factbody').get_text()\n",
        "  p = items[i].find(class_='points').get_text()\n",
        "\n",
        "  maketrans_Chuck = str.maketrans(dict.fromkeys('0123456789.\\n/'))\n",
        "\n",
        "  clean_data = f.translate(maketrans_Chuck) \n",
        "  clean_data = clean_data.replace('Votez !', '')\n",
        "  clean_data = clean_data.strip()\n",
        "\n",
        "  fact_text_list.append(clean_data)\n",
        "  fact_note_list.append(p)"
      ],
      "execution_count": null,
      "outputs": []
    },
    {
      "cell_type": "markdown",
      "metadata": {
        "id": "nGEQlmQ6ngbm"
      },
      "source": [
        "# 2. Dataframe"
      ]
    },
    {
      "cell_type": "code",
      "metadata": {
        "id": "Mnk6dr0HjXF5"
      },
      "source": [
        "import pandas as pd\n",
        "\n",
        "df_facts_Chuck_Norris = pd.DataFrame(\n",
        "    {'Texte' : fact_text_list,\n",
        "      'Note' : fact_note_list\n",
        "        \n",
        "})"
      ],
      "execution_count": null,
      "outputs": []
    },
    {
      "cell_type": "code",
      "metadata": {
        "id": "m6YgGbVBS3pU",
        "colab": {
          "base_uri": "https://localhost:8080/",
          "height": 212
        },
        "outputId": "3388ebf7-8596-453a-faf3-83fdfc80f80a"
      },
      "source": [
        "print(df_facts_Chuck_Norris)"
      ],
      "execution_count": null,
      "outputs": [
        {
          "output_type": "stream",
          "text": [
            "                                               Texte        Note\n",
            "0  Quand Chuck Norris fait l'épreuve des araignée...  6.39 / 10 \n",
            "1  Chuck Norris peut faire des ronds avec une equ...  7.86 / 10 \n",
            "2  Chuck Norris peut écrire un traitement de text...  5.08 / 10 \n",
            "3  Peter Parker a été mordu par une araignée, Cla...  7.13 / 10 \n",
            "4    Chuck norris se souvient très bien de son futur  8.38 / 10 \n",
            "5       Chuck Norris peut dire Schwarzkopf en verlan  7.59 / 10 \n",
            "6  Rien ne sert  de jouer aux échecs avec Chuck N...  7.54 / 10 \n",
            "7  Chuck Norris ne prends jamais de laxatif; pers...  7.91 / 10 \n",
            "8  Le papier WC de Chuck Norris n'a pas de fin Ch...   7.8 / 10 \n",
            "9  Chuck Norris a gagné la guerre du Golf, en  trous  7.48 / 10 \n"
          ],
          "name": "stdout"
        }
      ]
    }
  ]
}