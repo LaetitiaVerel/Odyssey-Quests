{
  "nbformat": 4,
  "nbformat_minor": 0,
  "metadata": {
    "colab": {
      "name": "Laetitia VEREL Numpy : Introduction.ipynb",
      "provenance": [],
      "collapsed_sections": [],
      "include_colab_link": true
    },
    "kernelspec": {
      "name": "python3",
      "display_name": "Python 3"
    }
  },
  "cells": [
    {
      "cell_type": "markdown",
      "metadata": {
        "id": "view-in-github",
        "colab_type": "text"
      },
      "source": [
        "<a href=\"https://colab.research.google.com/github/LaetitiaVerel/Odyssey-Quests/blob/master/Numpy%20%3A%20Introduction.ipynb\" target=\"_parent\"><img src=\"https://colab.research.google.com/assets/colab-badge.svg\" alt=\"Open In Colab\"/></a>"
      ]
    },
    {
      "cell_type": "markdown",
      "metadata": {
        "id": "s6odsFbLpgIh"
      },
      "source": [
        "# Numpy : Introduction\n",
        "\n",
        "**Numpy allows you to manipulate data in the form of an array.**\n",
        "\n",
        "**Perform the missions below with Numpy.**"
      ]
    },
    {
      "cell_type": "code",
      "metadata": {
        "id": "sXzBVR4imVvO",
        "colab": {
          "base_uri": "https://localhost:8080/",
          "height": 34
        },
        "outputId": "e19d2fc8-fac9-4426-ff64-47ee28f7735b"
      },
      "source": [
        "# Mission 1 : Show Numpy's version\n",
        "import numpy as np\n",
        "print(np.__version__)"
      ],
      "execution_count": null,
      "outputs": [
        {
          "output_type": "stream",
          "text": [
            "1.18.2\n"
          ],
          "name": "stdout"
        }
      ]
    },
    {
      "cell_type": "code",
      "metadata": {
        "id": "vQGzQgU-phGc",
        "colab": {
          "base_uri": "https://localhost:8080/",
          "height": 34
        },
        "outputId": "6561ee33-7be8-49b5-859d-6d59a2f219d6"
      },
      "source": [
        "# Mission 2 : Create a Numpy array of length 3, filled with floats worth 0.x, x can take any value\n",
        "import numpy as np\n",
        "a = np.array([0.1, 0.3, 0.8])\n",
        "print(a)\n"
      ],
      "execution_count": null,
      "outputs": [
        {
          "output_type": "stream",
          "text": [
            "[0.1 0.3 0.8]\n"
          ],
          "name": "stdout"
        }
      ]
    },
    {
      "cell_type": "code",
      "metadata": {
        "id": "66-o1bXYqPC_",
        "colab": {
          "base_uri": "https://localhost:8080/",
          "height": 193
        },
        "outputId": "7c7e045e-8849-4d1c-c751-a1773ee44e4c"
      },
      "source": [
        "# Mission 3 : Create a function that with the random.random() method will display 10 random variables strictly greater than 0.25\n",
        "import numpy as np\n",
        "import random\n",
        "for i in range(10):\n",
        "  attempt = 0\n",
        "  while attempt < 0.25:\n",
        "    attempt = random.random()*10 + 0.25\n",
        "  print(attempt)\n"
      ],
      "execution_count": null,
      "outputs": [
        {
          "output_type": "stream",
          "text": [
            "4.1262723625867945\n",
            "6.28352250175195\n",
            "7.101523922600085\n",
            "9.520780114112302\n",
            "4.942741932163177\n",
            "1.3512678608789828\n",
            "6.962934227571262\n",
            "8.161069175164293\n",
            "5.2581761367240984\n",
            "2.738915222223733\n"
          ],
          "name": "stdout"
        }
      ]
    },
    {
      "cell_type": "code",
      "metadata": {
        "id": "hx8Ck-neqRZe"
      },
      "source": [
        "# Mission 4 : What does the np.empty() method do? You don't just have to copy the doc, but explain it in French\n",
        "np.empty() est utilisée pour créer un nouveau tableau."
      ],
      "execution_count": null,
      "outputs": []
    },
    {
      "cell_type": "code",
      "metadata": {
        "id": "q_BJsGjwqTQp",
        "colab": {
          "base_uri": "https://localhost:8080/",
          "height": 34
        },
        "outputId": "e71351bb-afb7-4aff-a03b-10c12c913235"
      },
      "source": [
        "# Mission 5 : Create an array filled with 7 zeros of float type\n",
        "import numpy as np\n",
        "b = np.array([0, 0, 0, 0, 0, 0, 0], float)\n",
        "print(b)"
      ],
      "execution_count": null,
      "outputs": [
        {
          "output_type": "stream",
          "text": [
            "[0. 0. 0. 0. 0. 0. 0.]\n"
          ],
          "name": "stdout"
        }
      ]
    },
    {
      "cell_type": "code",
      "metadata": {
        "id": "KhQZPyHhqUql",
        "colab": {
          "base_uri": "https://localhost:8080/",
          "height": 34
        },
        "outputId": "da873fb3-0c64-47f6-f284-24d2d7686ce9"
      },
      "source": [
        "# Mission 6 : Create an array filled with 10 random digits of type int\n",
        "import numpy as np\n",
        "c = np.random.randint(1, 10, (1, 10))\n",
        "print(c)"
      ],
      "execution_count": null,
      "outputs": [
        {
          "output_type": "stream",
          "text": [
            "[[6 6 4 3 4 1 3 7 1 7]]\n"
          ],
          "name": "stdout"
        }
      ]
    },
    {
      "cell_type": "code",
      "metadata": {
        "id": "v3vqX26BqWTo",
        "colab": {
          "base_uri": "https://localhost:8080/",
          "height": 140
        },
        "outputId": "12df980f-1a63-46fd-dfd8-d0b1a0dce315"
      },
      "source": [
        "# Mission 7 : Create an array that will contain 70 values randomly selected from the numbers: 0, 1, 2, 3, 4, 5, 6, 7.\n",
        "d = np.random.randint(0, 8, (7, 10))\n",
        "print(d)"
      ],
      "execution_count": null,
      "outputs": [
        {
          "output_type": "stream",
          "text": [
            "[[5 7 6 4 4 6 5 1 0 3]\n",
            " [0 3 3 0 2 5 1 3 5 4]\n",
            " [3 4 4 2 2 2 2 6 4 2]\n",
            " [4 6 6 4 1 5 1 2 4 6]\n",
            " [6 5 4 6 6 0 2 7 6 4]\n",
            " [1 4 1 3 3 5 1 6 3 6]\n",
            " [4 1 3 2 6 0 6 2 3 6]]\n"
          ],
          "name": "stdout"
        }
      ]
    },
    {
      "cell_type": "code",
      "metadata": {
        "id": "Hii5gz9BqZf9",
        "colab": {
          "base_uri": "https://localhost:8080/",
          "height": 52
        },
        "outputId": "fedcd208-9897-422b-de91-d7ec97b9de37"
      },
      "source": [
        "# Mission 8 : Uses the slicing operator to access items between position 3 and 6 inclusive of mission 6\n",
        "import numpy as np\n",
        "c = np.random.randint(1, 10, (1, 10))\n",
        "print(c)\n",
        "print(c[0][3:7])"
      ],
      "execution_count": null,
      "outputs": [
        {
          "output_type": "stream",
          "text": [
            "[[1 8 1 6 3 5 7 1 2 1]]\n",
            "[6 3 5 7]\n"
          ],
          "name": "stdout"
        }
      ]
    },
    {
      "cell_type": "code",
      "metadata": {
        "id": "lv-cIYMMqc0s",
        "colab": {
          "base_uri": "https://localhost:8080/",
          "height": 157
        },
        "outputId": "15b510cb-cb0d-4583-bd4e-6bf860315a16"
      },
      "source": [
        "# Mission 9 : Uses a method to return the index of the minimum element of the array of mission 7\n",
        "d = np.random.randint(0, 8, (7, 10))\n",
        "print(d)\n",
        "print(np.amin(d))"
      ],
      "execution_count": null,
      "outputs": [
        {
          "output_type": "stream",
          "text": [
            "[[3 4 1 6 1 0 0 1 3 3]\n",
            " [0 7 4 5 1 1 6 0 7 4]\n",
            " [5 7 7 3 6 2 4 6 0 6]\n",
            " [7 3 4 0 0 6 2 2 3 1]\n",
            " [4 5 5 4 1 5 4 1 2 2]\n",
            " [6 7 2 0 3 2 2 3 6 2]\n",
            " [6 2 5 3 1 3 6 1 1 4]]\n",
            "0\n"
          ],
          "name": "stdout"
        }
      ]
    },
    {
      "cell_type": "code",
      "metadata": {
        "id": "OnXTuji0t46s",
        "colab": {
          "base_uri": "https://localhost:8080/",
          "height": 52
        },
        "outputId": "ea18cef7-7ec4-4b68-ee8b-24e7ce909a22"
      },
      "source": [
        "# Mission 10 : Using a numpy method, returns the indexes of values greater than the median value of the array of mission 6\n",
        "import numpy as np\n",
        "c = np.random.randint(1, 10, (1, 10))\n",
        "print(c)\n",
        "\n",
        "e = np.median(c)\n",
        "print(np.nonzero(c > e))"
      ],
      "execution_count": null,
      "outputs": [
        {
          "output_type": "stream",
          "text": [
            "[[9 9 2 5 2 7 4 6 3 2]]\n",
            "(array([0, 0, 0, 0, 0]), array([0, 1, 3, 5, 7]))\n"
          ],
          "name": "stdout"
        }
      ]
    },
    {
      "cell_type": "code",
      "metadata": {
        "id": "Ljy8t0yvqha5",
        "colab": {
          "base_uri": "https://localhost:8080/",
          "height": 122
        },
        "outputId": "2e658135-f332-4f50-a991-46fe884724c0"
      },
      "source": [
        "# Mission 11: After creating 3 arrays filled with random int's, which you will place in an array\n",
        "# Create a function that will go through the elements of the 3 arrays in turn.\n",
        "# This will give : Element 1 of arrays 1, 2 and 3. Element 2 of array 1, 2 and 3...\n",
        "import numpy as np\n",
        "x = np.random.randint(0, 10,(1, 5))\n",
        "y = np.random.randint(0, 10,(1, 5))\n",
        "z = np.random.randint(0, 10,(1, 5))\n",
        "f = [x, y, z]\n",
        "\n",
        "print(f)\n",
        "\n",
        "def function(f):\n",
        "  for i in np.nditer(f):\n",
        "    print(i)\n",
        "\n",
        "function(f)"
      ],
      "execution_count": null,
      "outputs": [
        {
          "output_type": "stream",
          "text": [
            "[array([[5, 0, 4, 1, 2]]), array([[5, 3, 3, 2, 7]]), array([[6, 0, 2, 9, 7]])]\n",
            "(array(5), array(5), array(6))\n",
            "(array(0), array(3), array(0))\n",
            "(array(4), array(3), array(2))\n",
            "(array(1), array(2), array(9))\n",
            "(array(2), array(7), array(7))\n"
          ],
          "name": "stdout"
        }
      ]
    },
    {
      "cell_type": "code",
      "metadata": {
        "id": "I-Ecqv-Gqigx",
        "colab": {
          "base_uri": "https://localhost:8080/",
          "height": 122
        },
        "outputId": "21d3b3f6-e273-46d3-c978-155b553f35af"
      },
      "source": [
        "# Mission 12: Create an array and fill it with 20 float random values.\n",
        "# Create a function that will browse the array and indicate the smallest and largest value in the array.\n",
        "import numpy as np\n",
        "g = np.random.random(20)\n",
        "print(g)\n",
        "\n",
        "def min_max(g):\n",
        "  print(\"The smallest is :\", g.min())\n",
        "  print(\"The largest is :\", g.max())\n",
        "\n",
        "min_max(g)"
      ],
      "execution_count": null,
      "outputs": [
        {
          "output_type": "stream",
          "text": [
            "[0.14573199 0.67755186 0.64694903 0.13899046 0.21979836 0.34012149\n",
            " 0.11455237 0.362647   0.62415962 0.71113932 0.66955827 0.15361548\n",
            " 0.28587046 0.13270846 0.1387401  0.50212547 0.07343159 0.37046469\n",
            " 0.50132456 0.84204478]\n",
            "The smallest is : 0.07343159419090761\n",
            "The largest is : 0.842044778503912\n"
          ],
          "name": "stdout"
        }
      ]
    },
    {
      "cell_type": "code",
      "metadata": {
        "id": "6Q31D-P0qk14",
        "colab": {
          "base_uri": "https://localhost:8080/",
          "height": 228
        },
        "outputId": "ef5ce2b9-5abb-4dea-ceb5-d730bbe1e7e0"
      },
      "source": [
        "# Mission 13: Create 2 arrays, randomly fill them with 20 int type values between 0 and 10.\n",
        "# Create a function that will run through each array with a while loop.\n",
        "# At each turn of the loop the function will compare the values of the 2 arrays located at the same position.\n",
        "# in order to return the index to which the values of the 2 arrays are equal.\n",
        "# If no value is equal to the same position in the 2 arrays, return the message: \"No value in common\".\n",
        "h = np.random.randint(10, size = (2,20))\n",
        "print(h)\n",
        "\n",
        "def value_in_common(array):\n",
        "  loop = 0\n",
        "  while loop < 10:\n",
        "    if array[0,loop] == array[1,loop]:\n",
        "      print(loop)\n",
        "    else:\n",
        "      print(\"No value in commom\")\n",
        "    loop += 1\n",
        "\n",
        "value_in_common(h)"
      ],
      "execution_count": null,
      "outputs": [
        {
          "output_type": "stream",
          "text": [
            "[[6 5 6 6 3 0 6 0 5 2 0 5 5 1 2 3 3 7 2 4]\n",
            " [4 4 3 1 9 1 3 8 7 2 3 8 9 9 1 9 2 9 1 9]]\n",
            "No value in commom\n",
            "No value in commom\n",
            "No value in commom\n",
            "No value in commom\n",
            "No value in commom\n",
            "No value in commom\n",
            "No value in commom\n",
            "No value in commom\n",
            "No value in commom\n",
            "9\n"
          ],
          "name": "stdout"
        }
      ]
    }
  ]
}